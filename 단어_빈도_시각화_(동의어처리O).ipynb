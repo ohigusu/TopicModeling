{
  "nbformat": 4,
  "nbformat_minor": 0,
  "metadata": {
    "colab": {
      "provenance": [],
      "collapsed_sections": [
        "sSrPB41ZkChq",
        "7y1smDFVmZp5",
        "YyV_xctqtYXI",
        "D-GmzcN8FS5v",
        "Z58SFXzaHble",
        "juGOGPVOHblk",
        "KdYYiWT_JBkr",
        "bBAdl25EJcZd",
        "s5-V4lNjJEDL",
        "0K8DwGC6KNjo",
        "22tveb6HJGWW",
        "E-eVngsxM80s",
        "CSkdS5p_JIBI",
        "yTrBeE1TNCXx",
        "2PPcav8cJJul",
        "7PFdmCS5NOLP",
        "wjf6B6dTJLwB",
        "Zw-_3IjhNMk_",
        "hKdXB7B-JM6p",
        "TQSGZKVRNKx2",
        "xVqTAB8JJOcj",
        "-6fTaB7mNInb",
        "cvNUjt_cJQA_",
        "g1m4XORqNGPM",
        "0TYJKz4YJRxv",
        "O8MFxw5SZwyn"
      ]
    },
    "kernelspec": {
      "name": "python3",
      "display_name": "Python 3"
    },
    "language_info": {
      "name": "python"
    }
  },
  "cells": [
    {
      "cell_type": "code",
      "source": [
        "from google.colab import drive\n",
        "drive.mount('/content/drive/')"
      ],
      "metadata": {
        "id": "H4vOvnqhnRjL"
      },
      "execution_count": null,
      "outputs": []
    },
    {
      "cell_type": "markdown",
      "source": [
        "# 1️⃣사전 정의"
      ],
      "metadata": {
        "id": "ysrC0j6TjXHg"
      }
    },
    {
      "cell_type": "markdown",
      "source": [
        "## 권력구조와 정치형태 관련 단어 사용자 정의 사전\n",
        "명사 분류가 잘 안되는 근본적인 원인은 분류하려는 언어가 북한어이기 때문이다. 특히, 북한에는 권력구조와 정치형태를 나타내는 용어에는 한국과 다른점이 많다. 따라서, 북한정부포털에서 제공하는 권력구조와 정치형태에 대한 설명을 참고하여 사용자 정의 사전 리스트를 작성하겠다.\n",
        "\n",
        "참고한 사이트:https://nkinfo.unikorea.go.kr/nkp/pge/ps/jung.do"
      ],
      "metadata": {
        "id": "oJ5A7FyJjWdr"
      }
    },
    {
      "cell_type": "code",
      "source": [
        "#사전 정의\n",
        "PoliticalTerms = ['사회주의','조선노동당','수령','장군','우리식','우리 식','우리당','우리 당','우리민족','우리 민족','우리 힘','우리힘',\"우리나라\",'우리','로동당','조국','건설경제력', '경제적', '경제제재', '자립경제','국가경제',\n",
        "                      '조직지도부','선전선동부','간부부','경공업부','경제부','과학교육부','국제부','군수공업부','군정지도부','규율조사부','근로단체부','농업부','당역사연구소','조선로동당',\n",
        "                      '문서정리실','문화예술부','민방위부','법무부','재정경리부','총무부','10국','39호실','경제정책실','경제발전','경제사업','사회경제','경제구조','지방경제','경제활성화',\n",
        "                      '최고인민회의','국무위원회','내각','사법검찰기관','중앙재판소', '중앙검찰소', '인민정권','전원회의','령도','조선민주주의인민공화국','조선인민군','수령','리익',\n",
        "                      '혁명사상','로동계급','근로인민대중','핵심부대','전위부대','수령체제','인민대중','근로대중','중앙집권제','상의하달','조직생활','사상생활','조직지도부','선전선동부',\n",
        "                      '유일지배','이념','당무','향도자','최고지도자','전권','조선로동당대회','당 대회','당대회','당 대표자회','당대표자회','최고참모부','참모부'\n",
        "                      '의사결정','노선','정책',\"전략전술\",'통일','정치국','정치노선', '조직노선','조선로동당 위원장동지','화학','전력','교육','건설','나라','６.１５',\n",
        "                      '중앙지도기관','당중앙지도기관','중앙기관','당중앙기관','중앙검사위원회','당 중앙검사위원회','당중앙검사위원회','당중앙위원회','당 중앙위원회','중앙위원회',\n",
        "                      '상무위원','최고수위','위원장','총비서','비서','당대표자회',\"당 대표자회\",'대표자회', '당규약','인민경제발전', '정세', '과업','국방','경제','병진정책','경제건설','월남문제',\n",
        "                      '당 중앙위원장제','당중앙위원장제','중앙위원장제','직제','수령','제1비서직','중앙군사위원회','당중앙군사위원회','당 중앙군사위원회','최고지도기관','대행', '후보위원',\n",
        "                      '내외',\"논의\",'의결','권력기구','안건','확대회의','정무국','비서제','군사노선',\"공화국\",'무력','지휘','군수공업','국방사업','국방력','현대화','조직비서',\n",
        "                      '내각총리','주권기관','헌납운동','조선소년단','헌납','투쟁','계획','국방과학발전','국제정세','국위','국익','북남관계','대미대적','반공화국','대미','핵',\n",
        "                      '미국','북남','대적사업','조선반도','선박공업','국방공업','민방위무력','함선공업','무인항공공업','무인무장장비','무인','정찰위성','우주과학','미싸일','무장장비','대사변',\n",
        "                      '핵무기생산계획','남조선','핵위기사태','안보','무기체계개발계획','군사','인민군대','9.19북남군사분야합의','로골화','유엔군사령부','사회주의강성국가건설','인민군장병','조국통일위업','인민경제'\n",
        "                      '괴뢰패당','괴뢰군부','괴뢰군무력','괴뢰정권','망동','내각부총리','침략전쟁기도','군사분계선지역','농업위원회','대한민국','국가예산','예산','대회','윤석열',\n",
        "                      '조국통일로선','대북','통일','흡수통일','문재인','자유민주주의','민주주의','화성-18형','신형','고체연료','엔진','중거리','탄도미사일','중대과업','당 지방조직','지방조직',\n",
        "                      '집권체제','조선혁명','혁명','당 위원회','상하','위계','여타','기관','사회단체','지배력','행사','도,시,군','성,도,시,군','도,시,군인민회','도 당 위원회', '시 당 위원회', '군 당 위원회', '초급당', '분초급당', '부문당', '당원','최하','기층조직',\n",
        "                      '당세포','관할지역','중앙당','하부','조직체계','시 도 당위원회','도,시','시,군','국가','인민','시 군 당위원회', '초급 당위원회', '당 세포조직','세포조직', '집행위원회','비서처', ' 정 ', ' 군 ',' 도 ',' 시 ',' 성 ',\n",
        "                      '정권기관','입법','집행','인사','직책','보임','겸직' ,'행정','지위,''군사노선', '토의','전반','군대','정치위원','인민군','총정치국','집행부서','외곽단체','사회주의애국청년동맹','조선직업총동맹',\n",
        "                      '조선농업근로자동맹','조선사회주의여성동맹','사상교양','전위대','영도','국무위원회','최고주권기관', '최고인민회의', '내각','중앙검찰소','중앙재판소','사법기관','국무위원장',\n",
        "                      '국무위원회','정령', '총리','부총리', '위원장','임명','해임','최고영도자','총사령관','특사권','국가방위위원회','국방위원회','추대','재추대','입법권','최고주권기관',\n",
        "                      '정기회의', \"임시회의\",'상임위원회','대의원','법령','대내외' ,'제의','제1부위원장', '위원','선출','위원장', '부위원장', '서기장',\"직위자\",'국가예산','심의','승인','조약','비준',\n",
        "                      '폐기권','거수가결','예산위원회', \"법제위원회\", '외교위원회','부문위원회','정책안','법안','휴회','상임위원회', '보충안','심의', '국회','국제의회기구','신임장',\"소환장\",'상무회의',\n",
        "                      '국가관리','국방','집행기관','관리기관','정무원','국가주석','검찰기관','검찰','검찰소','특별검찰소','하급검찰소','상급검찰소','중앙검찰소장','인민재판소','특별재판소','인민참심원',\n",
        "                      '배심원','최고재판기관','중핵','핵무장력 핵시험','핵위협','비핵화','핵무기','핵전쟁','핵무력','열핵무기','핵강국','핵반격','핵억제력','핵타격','핵탄두','조국통일','통일적','평화통일','통일방운',\n",
        "                      '남북통일','자주통일','통일운동','통일대회','통일대진군','남조선','남조선것들','리념','리상','경제부','농업부','최고회의','백두산','해외동포','애국헌신','력사적','력사','전투', '돌파전','지구관측위성','광명성-4','정지위성','운반로켓용','지상분출시험',\n",
        "                      '우주정복','과학연구','노농적위군','2·8비날론연합기업소','전민총돌격전','박근혜','아시아태평양지배전략','제국주의' ,'반동세력','북과 남','국방분야','과학교육','과학기술성과',\n",
        "                      '수소폭탄','수소탄','대륙간 탄도로켓','국방력','핵탄두','7·4공동성명','조국통일3대원칙','6.15공동선언','6.15공동','10.4선언',\"6·15공동선언\",'１０.４선언발표','１０.４선언발표','１０.４','６.１５공동선언', '10·4선언','통일헌장','통일대강','전당초급당위원장대회','초급당조직','아시아태평양지배전략','대아시아지배전략','반공화국전쟁책동',\n",
        "                      '남조선당국','북남당국','남조선호전광','청년동맹','정전협정','평화협정','어머니당','세계평화','로씨야','강성대국건설','령도','영도','어버이','김정은','어버이수령','어버이장군님','직맹', '농근맹', '여맹 조직','선린우호','친선협조관계','친선협조','통일대회합',\n",
        "                      '사대매국','동족대결','군인','사대매국책동','세계평화','평화번영','전성기','중국','미국','외세','미제침략군','백두산영웅청년발전소','청천강계단식발전소','과학기술전당','미래과학자거리','장천남새전문협동농장','사상관철전',\n",
        "                      '당정책옹위전','경제강국건설','협동농장','로농적위군','인공지구위성','반공화국제재','북침전쟁소동','위성과학자주책지구', '김책공업종합대학','연풍과학자휴양소','오중흡7연대 칭호쟁취운동', '근위부대운동','정치사상사업','정치사상강국','애국사업',\n",
        "                      '애국헌신','동포','동지','김일성-김정일주의자','김일성','김정일','조국통일','장병','국방력','군대',' 군 ','조국해방전쟁승리기념관', '은하과학자거리', '문수물놀이장', '마식령스키장',\"전략전술적방침\",\n",
        "                      '６.１２조미공동성명','조미수뇌상봉', '조미','판문점선언','９월평양공동선언','석탄','문명개화기','겨례','남녘','대조선','농기계','알곡고지','농장','과학기술중시기풍','현대과학기술','과학기술','전민과학기술인재화','문화예술','명작','공동선언','풍력','수력','지열','태양열','에네르기','자연에네르기',\n",
        "                      '현대적무장장비','현대과학기술','과학기술위성','전쟁도발책동','사회주의강성국가','천하제일강국','사회주의강국','경제강국','경제건설','실용위성','우주','민족경제','과학화','강성국가','군력','혁명적령군체계','인민군대','조선인민내무군','내무군', '군기','군풍','최정예혁명강군','백두산혁명강군','백두산훈련','전투동원태세','군인','문화후생시설', '공원','유원지',\n",
        "                      '근로단체조직','일꾼','근로인민대중','정치사상','경제관리방법','동족대결정책','애국주의','애국적열의','현신']\n",
        "#중복 제거\n",
        "PoliticalTerms = list(set(PoliticalTerms))\n",
        "print(PoliticalTerms)\n",
        "#긴 단어부터 처리\n",
        "PoliticalTerms.sort(key=lambda x: -len(x))"
      ],
      "metadata": {
        "id": "U0IMcb9ljiXz"
      },
      "execution_count": null,
      "outputs": []
    },
    {
      "cell_type": "markdown",
      "source": [
        "## 불용어 사전\n",
        "아래 사이트에서 구한 불용어 사전을 현재 주어진 데이터의 상태에 맞추어 수정하였다. 이때, 한 글자로 된 단어는 오분류될 가능성이 있으므로 두 글자 이상의 불용어만 사용하겠다.\n",
        "\n",
        "참고한 사이트: https://gist.github.com/spikeekips/40eea22ef4a89f629abd87eed535ac6a#file-stopwords-ko-txt"
      ],
      "metadata": {
        "id": "xtfpiCRMjyEe"
      }
    },
    {
      "cell_type": "code",
      "source": [
        "stopwords = []\n",
        "with open('/content/drive/MyDrive/Project2/stopwords-ko.txt', 'r') as f:\n",
        "    list_file = f.readlines()\n",
        "\n",
        "for word in list_file:\n",
        "    stopword = word.split('\\n')[0]\n",
        "    if len(stopword) > 1:\n",
        "        stopwords.append(stopword)\n",
        "\n",
        "#긴 단어부터 처리\n",
        "stopwords.sort(key=lambda x: -len(x))"
      ],
      "metadata": {
        "id": "zI13PUBJjx4Z"
      },
      "execution_count": null,
      "outputs": []
    },
    {
      "cell_type": "markdown",
      "source": [
        "## 동의어 사전\n",
        "\n",
        "한 기관에 대해 나타내는 용어가 많은 것으로 확인 되었다. 예를 들면, 조선로동당을 의미하는 동의어로는 '당','로동당'이 있었다. 북한 기관에 대해 자세하게는 모르므로 최대한 아는 선에서 동의어 사전을 정의하겠다."
      ],
      "metadata": {
        "id": "8-19Qw9Skb6N"
      }
    },
    {
      "cell_type": "code",
      "source": [
        "#동의어 사전 정의\n",
        "synonym_dict = {\n",
        "    '농촌': ['농촌발전전략','농촌건설강령','농촌','농촌문제해결','농촌건설','농촌마을','농촌발전','농촌생활환경','농촌생활',\"농촌문제\",'농촌경리'],\n",
        "    '농업': ['농업근로자','농업부','농업생산','농업','농업지도일군','밀농사경험','밀농사','농업발전','농업지도','농기계','알곡고지','농장','살림집','협동농장'],\n",
        "    '혁명':['조선혁명','혁명'],\n",
        "    '사회주의':['사회주의',\"공화국\"],\n",
        "    '조선민주주의인민공화국':['조국','조선민주주의인민공화국','국가','나라','조선','당국','조선반도','대조선','우리나라'],\n",
        "    '괴뢰': ['괴뢰패당','괴뢰군부','괴뢰군무력','괴뢰정권','남조선것들','반통일사대매국세력','남조선호전광'],\n",
        "    '대한민국': ['대한민국','남조선','남녘','남조선당국'],\n",
        "    '김정은': ['최고지도자','김정은','총비서','조선로동당 위원장동지'],\n",
        "    '북남': ['북남관계','북남','북과 남','북남당국'],\n",
        "    '민주주의': ['반공화국','자유민주주의','민주주의'],\n",
        "    '미국': ['대미','대미대적','미국','유엔군사령부','외세','미제침략군','６.１２조미공동성명','조미수뇌상봉', '조미','미군'],\n",
        "    '우리': ['우리식', '우리 식','우리당', '우리 당','우리민족','우리 민족','우리힘','우리 힘',\"우리나라\"],\n",
        "    '조선로동당': ['조선로동당', '로동당','당'],\n",
        "    '당중앙위원회': ['당 중앙위원회', '당중앙위원회','중앙위원회'],\n",
        "    '당중앙검사위원회':['당 중앙검사위원회','당중앙검사위원회','중앙검사위원회'],\n",
        "    '당중앙군사위원회':['당 중앙군사위원회','당중앙군사위원회','중앙군사위원회'],\n",
        "    '당중앙위원장제' : ['당 중앙위원장제','당중앙위원장제','중앙위원장제'],\n",
        "    '당대표자회':['당대표자회',\"당 대표자회\",'당 대회','당대회','대회'],\n",
        "    '경제' : ['경제관리방법','인민경제발전','민족경제','경제건설','경제부','경제발전','경제','인민경제','경제강국건설','건설경제력', '경제적', '경제제재', '자립경제','국가경제', '경제발전','경제사업','사회경제','경제구조','지방경제','경제활성화'],\n",
        "    '핵' : ['핵','핵위기사태','중핵','핵무장력 핵시험','핵위협','비핵화','핵무기','핵전쟁','핵무력','핵탄두','열핵무기','핵강국','수소폭탄','대륙간 탄도로켓','수소탄','핵반격','핵억제력','핵타격','핵탄두'],\n",
        "    '통일':['통일','공동선언','조국통일로선','판문점선언','９월평양공동선언','조국통일','통일적','세계평화','평화번영','６.１５','１０.４선언발표','１０.４선언발표','１０.４','６.１５공동선언','6.15공동선언','6.15선언','10.4선언','평화통일','통일방운','평화협정','남북통일','자주통일','통일운동','통일대회','통일대진군','7·4공동성명','조국통일3대원칙', '6·15공동선언', '10·4선언','통일헌장','통일대강'],\n",
        "    '군수':['군수','군수공업'],\n",
        "    '국방':['국방','국방공업','현대적무장장비','병기창','국방력','국방력','군대',' 군 ','인민군','인민군대','군사','장병','전략전술적방침','전략전술','전쟁도발책동','군력','혁명적령군체계','인민군대','조선인민내무군','내무군', '군기','군풍','최정예혁명강군','백두산혁명강군','백두산훈련','전투동원태세','군인'],\n",
        "    '과학':['과학','과학화','과학자','과학자','과학기술','과학교육','과학기술성과','과학연구','과학기술중시기풍','과학기술','전민과학기술인재화','현대과학기술'],\n",
        "    '우주':['실용위성','우주','지구관측위성','위성','광명성-4','정지위성','운반로켓용','지상분출시험','우주정복','과학기술위성','인공지구위성'],\n",
        "    '력사':['력사적','력사'],\n",
        "    '제국주의':['아시아태평양지배전략','반동세력','대아시아지배전략','반공화국전쟁책동','북침전쟁소동','반공화국제재','동족대결','사대매국','사대매국책동'],\n",
        "    '러시아':['로씨야','러시아'],\n",
        "    '김정일':['어버이','김정일','어버이수령','어버이장군님'],\n",
        "    '친선':['친선협조관계','친선협조','친선'],\n",
        "    '애국':['애국사업','애국헌신','애국열','애국미','애국','애국자','애국주의','애국적열의','현신'],\n",
        "    '동지':['동포','동지','겨례'],\n",
        "    '영도':['령도','영도'],\n",
        "    '강국':['사회주의강성국가','천하제일강국','사회주의강국','경제강국','강성국가'],\n",
        "    '정치사상':['정치사상사업','정치사상강국','정치사상'],\n",
        "    '문명':['문명개화기','문화예술','명작','극장','야외극장','출판','문화후생시설', '공원','유원지'],\n",
        "    '에네르기':['풍력','수력','지열','태양열','에네르기','자연에네르기'],\n",
        "    '수산업':['원양어','양어','바다','수산','양식'],\n",
        "    '일꾼':['근로단체조직','일꾼','근로인민대중','로농적위군']\n",
        "}"
      ],
      "metadata": {
        "id": "1t_Uf7mXkgCf"
      },
      "execution_count": null,
      "outputs": []
    },
    {
      "cell_type": "markdown",
      "source": [
        "## 북한 용어사전 활용\n",
        "1) 한 글자로 된 단어는 오분류율을 높이므로 두 글자로 된 단어만 사용하겠다.\n",
        "\n",
        "2) 동사도 포함되어 있으므로 '-다'로 끝나는 단어는 삭제하겠다.\n",
        "\n",
        "3) 문장도 포함되어 있이므로 그 부분은 삭제하겠다.\n",
        "\n",
        "참고 사이트:https://nkinfo.unikorea.go.kr/nkp/word/nkword.do"
      ],
      "metadata": {
        "id": "HAgV8RuKlBTN"
      }
    },
    {
      "cell_type": "code",
      "source": [
        "NorthKoreaTerms = pd.read_csv(\"/content/drive/MyDrive/Project2/북한용어사전.csv\")\n",
        "NorthKoreaTerms = [word for word in NorthKoreaTerms[38:]['용어'] if ' ' not in word]"
      ],
      "metadata": {
        "id": "G03KIeLQlUCJ"
      },
      "execution_count": null,
      "outputs": []
    },
    {
      "cell_type": "code",
      "source": [
        "#2)동사도 포함되어 있으므로 '-다'로 끝나는 단어는 삭제하겠다.\n",
        "#3)한 글자인 단어와 대한이라는 단어는 사용하지 않는다.(대한의 경우 앞서 사전에서 정의한 대한민국이라는 단어와 혼동할 수 있으므로)\n",
        "NKTerms = []\n",
        "for word in NorthKoreaTerms:\n",
        "    if ((word[-1] != '다') | (word != '대한')) & (len(word) != 1):\n",
        "        NKTerms.append(word)\n",
        "\n",
        "#긴 단어부터 처리\n",
        "NKTerms.sort(key=lambda x: -len(x))"
      ],
      "metadata": {
        "id": "0O-wjd5JlErZ"
      },
      "execution_count": null,
      "outputs": []
    },
    {
      "cell_type": "markdown",
      "source": [
        "# 2️⃣필요한 식 정의\n",
        "\n",
        "1) 연도별 텍스트 데이터 불러오는 식\n",
        "\n",
        "2) 사전을 기준으로 불용어(stopwords) 제거하는 식\n",
        "\n",
        "3) 사전을 기준으로 명사 추출하는 식\n",
        "\n",
        "4) 동의어를 매핑하는 식\n",
        "\n",
        "5) text cleaning 식\n",
        ": 한 글자로된 단어, 스페이스 공간을 모두 = ' '로 변경\n",
        "\n",
        "6) 결과 엑셀로 내보내는 식"
      ],
      "metadata": {
        "id": "sSrPB41ZkChq"
      }
    },
    {
      "cell_type": "code",
      "source": [
        "import pandas as pd\n",
        "#1)텍스트 데이터 불러오는 식\n",
        "def read_data(sheet_name,header):\n",
        "    return pd.read_excel(\"/content/drive/MyDrive/Project2/신년사_통합_0812.xlsx\",sheet_name=sheet_name,header=header)\n",
        "\n",
        "#2)불용어 제거 식\n",
        "def remove_stopwords(text,stopwords_list):\n",
        "    remove_stopwords_text = text\n",
        "    for noun in stopwords_list:\n",
        "        if noun in remove_stopwords_text:\n",
        "                remove_stopwords_text = remove_stopwords_text.replace(noun, \"  \")\n",
        "    return remove_stopwords_text\n",
        "\n",
        "\n",
        "#3)사전을 기준으로 명사 추출하는 식\n",
        "from collections import Counter\n",
        "def extract_nouns(text, noun_list):\n",
        "    extracted_nouns = []\n",
        "    remaining_text = text\n",
        "    for noun in noun_list:\n",
        "        if noun in remaining_text:\n",
        "            count = remaining_text.count(noun)\n",
        "            extracted_nouns.append((noun,count))\n",
        "            remaining_text = remaining_text.replace(noun, \" \")\n",
        "    return extracted_nouns, remaining_text\n",
        "\n",
        "#4)동의어를 매핑하는 함수(정의한 사전에서 사용하는 함수(soynlp에서 사용하는 함수X))\n",
        "#동의어 처리\n",
        "def synonym(word, synonym_dict):\n",
        "    for key, synonyms in synonym_dict.items():\n",
        "        if word in synonyms:\n",
        "            return key\n",
        "    return word\n",
        "\n",
        "#synonyms_freq: data안에 동의어 처리를 하고 각각의 단어에 대한 빈도수를 dictionary 형태로 출력\n",
        "def synonyms_freq(data, synonym_dict):\n",
        "    \"\"\"\n",
        "    단어와 빈도 데이터를 동의어 사전을 기반으로 병합\n",
        "    Parameters:\n",
        "        data (dict 또는 list): 단어와 빈도 데이터를 포함한 dict 또는 (단어, 빈도) 튜플의 리스트\n",
        "        synonym_dict (dict): 동의어 사전으로, key는 대표 단어, value는 동의어 리스트\n",
        "    Returns:\n",
        "        dict: 병합된 단어와 빈도수를 포함한 딕셔너리\n",
        "    \"\"\"\n",
        "    #data가 리스트라면 (단어, 빈도) 형식으로 dict로 변환\n",
        "    if isinstance(data, list):\n",
        "        word_frequencies = {}\n",
        "        for sublist in data:\n",
        "            for word, freq in sublist:\n",
        "                word_frequencies[word] = word_frequencies.get(word, 0) + freq\n",
        "    #dict라면 그대로 사용\n",
        "    elif isinstance(data, Counter):\n",
        "        word_frequencies = data.copy()\n",
        "\n",
        "    merged_frequencies = {}\n",
        "    #동의어 사전을 기반으로 빈도 병합\n",
        "    for main_word, synonym_list in synonym_dict.items():\n",
        "        total_count = word_frequencies.get(main_word, 0)\n",
        "\n",
        "        for synonym in synonym_list:\n",
        "            total_count += word_frequencies.get(synonym, 0)\n",
        "            #동의어는 빈도를 합산한 후 제거\n",
        "            if synonym in word_frequencies:\n",
        "                del word_frequencies[synonym]\n",
        "\n",
        "        if total_count > 0:\n",
        "            merged_frequencies[main_word] = total_count\n",
        "\n",
        "    #동의어로 처리되지 않은 단어 추가\n",
        "    for word, count in word_frequencies.items():\n",
        "        if word not in merged_frequencies:\n",
        "            merged_frequencies[word] = count\n",
        "\n",
        "    return merged_frequencies\n",
        "\n",
        "#5)text cleaning\n",
        "def clean_text(data):\n",
        "    remaining_text =[]\n",
        "    for sentence in data:\n",
        "        sentences = ''\n",
        "        for char in sentence.split(' '):\n",
        "            if len(char)>1:\n",
        "                sentences += char + ' '\n",
        "        remaining_text.append(sentences)\n",
        "    return remaining_text\n",
        "\n",
        "#6)결과 엑셀로 내보내는 식\n",
        "#단어-빈도 결과 저장 데이터셋\n",
        "doc_word_freq = {}\n",
        "file_path = '/content/drive/MyDrive/Project2/doc_word_freq.csv'\n",
        "\n",
        "def export_to_csv(doc_word_freq, file_path):\n",
        "    # 모든 단어를 수집\n",
        "    all_words = set()\n",
        "    for freq_dict in doc_word_freq.values():\n",
        "        all_words.update(freq_dict.keys())\n",
        "\n",
        "    all_words = sorted(all_words)\n",
        "\n",
        "    #DataFrame으로 변환\n",
        "    data = []\n",
        "    for doc_name, freq_dict in doc_word_freq.items():\n",
        "        row = [freq_dict.get(word, 0) for word in all_words]\n",
        "        data.append(row)\n",
        "\n",
        "    df = pd.DataFrame(data, index=doc_word_freq.keys(), columns=all_words)\n",
        "    df.to_csv(file_path)"
      ],
      "metadata": {
        "id": "AYc8LueKj6e4"
      },
      "execution_count": null,
      "outputs": []
    },
    {
      "cell_type": "markdown",
      "source": [
        "# 3️⃣단어 토큰화 및 단어 빈도를 기준으로 시각화"
      ],
      "metadata": {
        "id": "u8EdYPA2brFc"
      }
    },
    {
      "cell_type": "markdown",
      "source": [
        "## 📌2024년 신년사"
      ],
      "metadata": {
        "id": "7y1smDFVmZp5"
      }
    },
    {
      "cell_type": "code",
      "source": [
        "df_23end = read_data(0,1) #sheet1:2023.12.31\n",
        "all = df_23end['전문'][0]\n",
        "\n",
        "#특수기호 일차적으로 제거\n",
        "import re\n",
        "all = re.sub(r'[()《》!]', ' ', all)\n",
        "#'\\n\\n'를 기준으로 문장 나누기\n",
        "all = all.split('\\n\\n')\n",
        "#특수기호 이차적으로 ('1. ','2. ','3. ', '4. ' ,'\\n' 등) 삭제\n",
        "for idx,sent in enumerate(all):\n",
        "    if ('1. ' in sent) or ('2. ' in sent) or ('3. ' in sent) or ('4. ' in sent) or ('5. 'in sent) or ('6. 'in sent):\n",
        "        all[idx] = sent[3:]\n",
        "\n",
        "all_23end = []\n",
        "for text in all:\n",
        "    all_23end.append(re.sub(r'[\\n]', ' ', text))"
      ],
      "metadata": {
        "id": "3PqN6-cImgcx"
      },
      "execution_count": null,
      "outputs": []
    },
    {
      "cell_type": "code",
      "source": [
        "from collections import Counter\n",
        "\n",
        "#이름 추출\n",
        "extracted_name = []\n",
        "for sen in all_23end:\n",
        "    if '동지' in sen:\n",
        "        words = sen.split(' ')\n",
        "        for char in words:\n",
        "            if '동지' in char:\n",
        "                split_char = char.split('동지')\n",
        "                if len(split_char) > 1:\n",
        "                    extracted_name.append(split_char[-2][-3:])\n",
        "#이름 빈도 구하기\n",
        "name,texts_without_name  = [],[]\n",
        "#기존 텍스트에서 앞서 추출된 이름 제거\n",
        "for text in all_23end:\n",
        "    extracted_nouns, remaining_text = extract_nouns(text,extracted_name)\n",
        "    if extracted_nouns:\n",
        "      name.append(extracted_nouns) #기존 텍스트에서 extracted_name에서 추출된 이름과 일치하면 name에 저장\n",
        "    texts_without_name.append(remaining_text) #extracted_name에 추출된 이름을 제거한 텍스트\n",
        "\n",
        "word_frequencies_name = synonyms_freq(name,synonym_dict)\n",
        "name_23end = Counter(word_frequencies_name) #마지막에 모든 데이터를 합칠 때, '+'를 사용하기 위해"
      ],
      "metadata": {
        "id": "bo7h5Hqlm4gE"
      },
      "execution_count": null,
      "outputs": []
    },
    {
      "cell_type": "markdown",
      "source": [
        "### 권력구조와 정치형태 관련 단어 사용자 정의 사전을 사용하여 명사 추출"
      ],
      "metadata": {
        "id": "EgPMgwETqb1j"
      }
    },
    {
      "cell_type": "code",
      "source": [
        "#명사 추출\n",
        "extracted_PoliticalTerms,texts_without_user_nouns  = [],[]\n",
        "for text in texts_without_name:\n",
        "    extracted_nouns, remaining_text = extract_nouns(text,PoliticalTerms)\n",
        "    if extracted_nouns:\n",
        "      extracted_PoliticalTerms.append(extracted_nouns)\n",
        "    texts_without_user_nouns.append(remaining_text)\n",
        "#동의어 처리\n",
        "word_frequencies_PoliticalTerms = synonyms_freq(extracted_PoliticalTerms,synonym_dict)\n",
        "\n",
        "PoliticalTerms_23end = Counter(word_frequencies_PoliticalTerms)#마지막에 모든 데이터를 합칠 때, '+'를 사용하기 위해"
      ],
      "metadata": {
        "id": "G6bgK99Iqcaz"
      },
      "execution_count": null,
      "outputs": []
    },
    {
      "cell_type": "markdown",
      "source": [
        "### Stopwords 제거"
      ],
      "metadata": {
        "id": "EnPZgKLg6CEh"
      }
    },
    {
      "cell_type": "code",
      "source": [
        "texts_without_stopwords = [\n",
        "    remove_stopwords(text, stopwords).replace(\"조선로동\", \" \")\n",
        "    for text in texts_without_user_nouns\n",
        "]\n",
        "#' '와 같이 공백 삭제\n",
        "texts_without_stopwords = clean_text(texts_without_stopwords)"
      ],
      "metadata": {
        "id": "PcJ4QlxzscRA"
      },
      "execution_count": null,
      "outputs": []
    },
    {
      "cell_type": "markdown",
      "source": [
        "### soynlp 명사 추출기 (이미 명사로 분류된 단어들은 제외)"
      ],
      "metadata": {
        "id": "NqYnb6D-7MJr"
      }
    },
    {
      "cell_type": "code",
      "source": [
        "from soynlp.noun import LRNounExtractor_v2\n",
        "noun_extractor = LRNounExtractor_v2(verbose=True, extract_compound=True)\n",
        "noun_extractor.train(texts_without_stopwords)\n",
        "soynlp_nouns = noun_extractor.extract()\n",
        "\n",
        "#soynlp로 추출된 명사 중 2글자 이상만 저장\n",
        "extracted_soynlp_words = [word for word in soynlp_nouns if len(word) >= 2]\n",
        "soynlp_23end =Counter(extracted_soynlp_words)\n",
        "\n",
        "#soynlp로 추출된 명사들을 texts_without_stopwords에서 삭제한다.\n",
        "texts_without_soynlp=[]\n",
        "for text in texts_without_stopwords:\n",
        "    remaining_text = remove_stopwords(text,extracted_soynlp_words)\n",
        "    texts_without_soynlp.append(remaining_text)\n",
        "\n",
        "#' '와 같이 공백 삭제\n",
        "texts_without_soynlp = clean_text(texts_without_soynlp)"
      ],
      "metadata": {
        "id": "nPga5OcAsnkP"
      },
      "execution_count": null,
      "outputs": []
    },
    {
      "cell_type": "markdown",
      "source": [
        "### 북한 용어사전을 활용하여 명사 추출"
      ],
      "metadata": {
        "id": "JNoY_aRm7xSe"
      }
    },
    {
      "cell_type": "code",
      "source": [
        "extracted_nouns_NKterms,texts_without_extracted_nouns = [],[]\n",
        "for text in texts_without_soynlp:\n",
        "    extracted_nouns, remaining_text = extract_nouns(text,NKTerms)\n",
        "    if extracted_nouns:\n",
        "      extracted_nouns_NKterms.append(extracted_nouns)\n",
        "    texts_without_extracted_nouns.append(remaining_text)\n",
        "\n",
        "#동의어 처리\n",
        "word_frequencies_NKterms = synonyms_freq(extracted_nouns_NKterms,synonym_dict)\n",
        "NKterms_23end = Counter(word_frequencies_NKterms) # 마지막에 모든 데이터를 합칠 때, '+'를 사용하기 위해\n",
        "\n",
        "#' '와 같이 공백 삭제\n",
        "texts_without_NKterms = clean_text(texts_without_extracted_nouns)"
      ],
      "metadata": {
        "id": "WtaJVGXaszu9"
      },
      "execution_count": null,
      "outputs": []
    },
    {
      "cell_type": "markdown",
      "source": [
        "### Mecab 명사 추출기(이미 명사로 분류된 단어들은 제외)"
      ],
      "metadata": {
        "id": "yn-c0XWd7z7Z"
      }
    },
    {
      "cell_type": "code",
      "source": [
        "from konlpy.tag import Mecab\n",
        "mecab = Mecab()\n",
        "mecab_nouns = []\n",
        "for text in texts_without_extracted_nouns:\n",
        "    mecab_nouns += mecab.nouns(text)\n",
        "\n",
        "mecab_nouns_clean = []\n",
        "for char in mecab_nouns:\n",
        "    if len(char)>1:\n",
        "        mecab_nouns_clean.append(char)\n",
        "\n",
        "mecab_nouns = [synonym(noun, synonym_dict) for noun in mecab_nouns_clean] #동의어 처리\n",
        "\n",
        "#단어 빈도수 계산\n",
        "mecab_23end = Counter(mecab_nouns)\n",
        "mecab_23end\n",
        "\n",
        "# 필요시\n",
        "# texts_without_mecab=[]\n",
        "# for text in texts_without_extracted_nouns:\n",
        "#     remaining_text = remove_stopwords(text,mecab_nouns)\n",
        "#     texts_without_mecab.append(remaining_text)"
      ],
      "metadata": {
        "id": "NsKMwjFUBgAe"
      },
      "execution_count": null,
      "outputs": []
    },
    {
      "cell_type": "markdown",
      "source": [
        "### 모두 합하기"
      ],
      "metadata": {
        "id": "8X0ppxol715x"
      }
    },
    {
      "cell_type": "code",
      "source": [
        "word_all_23end = mecab_23end+soynlp_23end+name_23end+NKterms_23end+PoliticalTerms_23end\n",
        "combined_all_23end = synonyms_freq(word_all_23end, synonym_dict)\n",
        "\n",
        "combined_all_23end"
      ],
      "metadata": {
        "id": "WRGJUhlutF2r"
      },
      "execution_count": null,
      "outputs": []
    },
    {
      "cell_type": "markdown",
      "source": [
        "### 결과 엑셀로 내보내기"
      ],
      "metadata": {
        "id": "zvNO-0wcB830"
      }
    },
    {
      "cell_type": "code",
      "source": [
        "doc_word_freq['23end'] = combined_all_23end"
      ],
      "metadata": {
        "id": "4Lkd_zBbtLXQ"
      },
      "execution_count": null,
      "outputs": []
    },
    {
      "cell_type": "markdown",
      "source": [
        "### 단어 빈도 시각화"
      ],
      "metadata": {
        "id": "YyV_xctqtYXI"
      }
    },
    {
      "cell_type": "code",
      "source": [
        "import matplotlib.font_manager as fm\n",
        "import matplotlib.pyplot as plt\n",
        "\n",
        "font_path = '/Users/kimsuyeon/Desktop/nanum-gothic/NanumGothic.ttf'\n",
        "fontprop = fm.FontProperties(fname=font_path)"
      ],
      "metadata": {
        "id": "RhpwXfB6tzV1"
      },
      "execution_count": null,
      "outputs": []
    },
    {
      "cell_type": "markdown",
      "source": [
        "#### 상위 10개 단어(전문)"
      ],
      "metadata": {
        "id": "7y-C9VkytbZs"
      }
    },
    {
      "cell_type": "code",
      "source": [
        "sorted_word_frequencies = Counter(combined_all_23end).most_common(10)\n",
        "words, frequencies = zip(*sorted_word_frequencies)\n",
        "\n",
        "plt.figure(figsize=(12, 8))\n",
        "plt.bar(words, frequencies, color='skyblue')\n",
        "plt.title(\"상위 10개의 명사\", fontproperties=fontprop)\n",
        "plt.ylabel(\"빈도\", fontproperties=fontprop)\n",
        "plt.xlabel(\"명사\", fontproperties=fontprop)\n",
        "plt.xticks(rotation=45, ha='right', fontproperties=fontprop)\n",
        "plt.tight_layout()\n",
        "plt.show()"
      ],
      "metadata": {
        "id": "J48g2mr5tRPW"
      },
      "execution_count": null,
      "outputs": []
    },
    {
      "cell_type": "markdown",
      "source": [
        "#### 상위 20개 단어(전문)"
      ],
      "metadata": {
        "id": "Joj0nTjntjVI"
      }
    },
    {
      "cell_type": "code",
      "source": [
        "sorted_word_frequencies = Counter(combined_all_23end).most_common(20)\n",
        "words, frequencies = zip(*sorted_word_frequencies)\n",
        "\n",
        "plt.figure(figsize=(12, 8))\n",
        "plt.bar(words, frequencies, color='skyblue')\n",
        "plt.title(\"상위 20개의 명사\", fontproperties=fontprop)\n",
        "plt.ylabel(\"빈도\", fontproperties=fontprop)\n",
        "plt.xlabel(\"명사\", fontproperties=fontprop)\n",
        "plt.xticks(rotation=45, ha='right', fontproperties=fontprop)\n",
        "plt.tight_layout()\n",
        "plt.show()"
      ],
      "metadata": {
        "id": "A1XAVIibtnNu"
      },
      "execution_count": null,
      "outputs": []
    },
    {
      "cell_type": "markdown",
      "source": [
        "#### 상위 30개 단어(전문)"
      ],
      "metadata": {
        "id": "h_oFEvcPtupl"
      }
    },
    {
      "cell_type": "code",
      "source": [
        "sorted_word_frequencies = Counter(combined_all_23end).most_common(30)\n",
        "words, frequencies = zip(*sorted_word_frequencies)\n",
        "\n",
        "plt.figure(figsize=(12, 8))\n",
        "plt.bar(words, frequencies, color='skyblue')\n",
        "plt.title(\"상위 30개의 명사\", fontproperties=fontprop)\n",
        "plt.ylabel(\"빈도\", fontproperties=fontprop)\n",
        "plt.xlabel(\"명사\", fontproperties=fontprop)\n",
        "plt.xticks(rotation=45, ha='right', fontproperties=fontprop)\n",
        "plt.tight_layout()\n",
        "plt.show()"
      ],
      "metadata": {
        "id": "3DsYmXS4ttan"
      },
      "execution_count": null,
      "outputs": []
    },
    {
      "cell_type": "markdown",
      "source": [
        "## 📌2023년 신년사"
      ],
      "metadata": {
        "id": "D-GmzcN8FS5v"
      }
    },
    {
      "cell_type": "code",
      "source": [
        "df_23be = read_data(1,2) #sheet2: 2023.01.01\n",
        "\n",
        "all = df_23be['전문'][0]\n",
        "\n",
        "#특수기호 일차적으로 제거\n",
        "import re\n",
        "all = re.sub(r'[()《》!]', ' ', all)\n",
        "#'\\n\\n'를 기준으로 문장 나누기\n",
        "all = all.split('\\n\\n\\u3000\\u3000')\n",
        "#특수기호 이차적으로 ('1. ','2. ','3. ', '4. ' ,'\\n' 등) 삭제\n",
        "for idx,sent in enumerate(all):\n",
        "    if '1. ' in sent or '2. 'in sent or '3. ' in sent or '4. ' in sent or '5. 'in sent or '6. 'in sent:\n",
        "        all[idx] = sent[3:]\n",
        "#제대로 안 지워진 거 다시 제거\n",
        "all_23be = []\n",
        "for text in all:\n",
        "    all_23be.append(re.sub(r'[\\n\\u3000]', ' ', text))"
      ],
      "metadata": {
        "id": "GrRqMBf4Fchn"
      },
      "execution_count": null,
      "outputs": []
    },
    {
      "cell_type": "code",
      "source": [
        "from collections import Counter\n",
        "\n",
        "#이름\n",
        "extracted_name = []\n",
        "\n",
        "for sen in all_23be:\n",
        "    if '동지' in sen:\n",
        "        words = sen.split(' ')\n",
        "        for char in words:\n",
        "            if '동지' in char:\n",
        "                name = char.split('동지')[0]\n",
        "                extracted_name.append(name[-3:])\n",
        "\n",
        "#이름 빈도 구하기\n",
        "name,texts_without_name  = [],[]\n",
        "#기존 텍스트에서 앞서 추출된 이름 제거\n",
        "for text in all_23be:\n",
        "    extracted_nouns, remaining_text = extract_nouns(text,extracted_name)\n",
        "    if extracted_nouns:\n",
        "      name.append(extracted_nouns) #기존 텍스트에서 extracted_name에서 추출된 이름과 일치하면 name에 저장\n",
        "    texts_without_name.append(remaining_text) #extracted_name에 추출된 이름을 제거한 텍스트\n",
        "\n",
        "word_frequencies_name = synonyms_freq(name,synonym_dict)\n",
        "name_23be = Counter(word_frequencies_name) #마지막에 모든 데이터를 합칠 때, '+'를 사용하기 위해"
      ],
      "metadata": {
        "id": "uZxy-HDlF1kR"
      },
      "execution_count": null,
      "outputs": []
    },
    {
      "cell_type": "markdown",
      "source": [
        "### 권력구조와 정치형태 관련 단어 사용자 정의 사전을 사용하여 명사 추출"
      ],
      "metadata": {
        "id": "xDyecVlzF1kS"
      }
    },
    {
      "cell_type": "code",
      "source": [
        "#명사 추출\n",
        "extracted_PoliticalTerms,texts_without_user_nouns  = [],[]\n",
        "for text in texts_without_name:\n",
        "    extracted_nouns, remaining_text = extract_nouns(text,PoliticalTerms)\n",
        "    if extracted_nouns:\n",
        "      extracted_PoliticalTerms.append(extracted_nouns)\n",
        "    texts_without_user_nouns.append(remaining_text)\n",
        "#동의어 처리\n",
        "word_frequencies_PoliticalTerms = synonyms_freq(extracted_PoliticalTerms,synonym_dict)\n",
        "\n",
        "PoliticalTerms_23be = Counter(word_frequencies_PoliticalTerms)#마지막에 모든 데이터를 합칠 때, '+'를 사용하기 위해"
      ],
      "metadata": {
        "id": "X5CzmYFUF1kS"
      },
      "execution_count": null,
      "outputs": []
    },
    {
      "cell_type": "markdown",
      "source": [
        "### Stopwords 제거"
      ],
      "metadata": {
        "id": "ZxDMgyAoF1kT"
      }
    },
    {
      "cell_type": "code",
      "source": [
        "texts_without_stopwords = [\n",
        "    remove_stopwords(text, stopwords).replace(\"조선로동\", \" \")\n",
        "    for text in texts_without_user_nouns\n",
        "]\n",
        "#' '와 같이 공백 삭제\n",
        "texts_without_stopwords = clean_text(texts_without_stopwords)"
      ],
      "metadata": {
        "id": "TdfUMwnjF1kT"
      },
      "execution_count": null,
      "outputs": []
    },
    {
      "cell_type": "markdown",
      "source": [
        "### soynlp 명사 추출기 (이미 명사로 분류된 단어들은 제외)"
      ],
      "metadata": {
        "id": "QU8wMcd4F1kT"
      }
    },
    {
      "cell_type": "code",
      "source": [
        "from soynlp.noun import LRNounExtractor_v2\n",
        "noun_extractor = LRNounExtractor_v2(verbose=True, extract_compound=True)\n",
        "noun_extractor.train(texts_without_stopwords)\n",
        "soynlp_nouns = noun_extractor.extract()\n",
        "\n",
        "#soynlp로 추출된 명사 중 2글자 이상만 저장\n",
        "extracted_soynlp_words = [word for word in soynlp_nouns if len(word) >= 2]\n",
        "soynlp_23be = Counter(extracted_soynlp_words)\n",
        "\n",
        "#soynlp로 추출된 명사들을 texts_without_stopwords에서 삭제한다.\n",
        "texts_without_soynlp=[]\n",
        "for text in texts_without_stopwords:\n",
        "    remaining_text = remove_stopwords(text,extracted_soynlp_words)\n",
        "    texts_without_soynlp.append(remaining_text)\n",
        "\n",
        "#' '와 같이 공백 삭제\n",
        "texts_without_soynlp = clean_text(texts_without_soynlp)"
      ],
      "metadata": {
        "id": "pCX2ceW4F1kU"
      },
      "execution_count": null,
      "outputs": []
    },
    {
      "cell_type": "markdown",
      "source": [
        "### 북한 용어사전을 활용하여 명사 추출"
      ],
      "metadata": {
        "id": "ZYE8vBDyF1kV"
      }
    },
    {
      "cell_type": "code",
      "source": [
        "extracted_nouns_NKterms,texts_without_extracted_nouns = [],[]\n",
        "for text in texts_without_soynlp:\n",
        "    extracted_nouns, remaining_text = extract_nouns(text,NKTerms)\n",
        "    if extracted_nouns:\n",
        "      extracted_nouns_NKterms.append(extracted_nouns)\n",
        "    texts_without_extracted_nouns.append(remaining_text)\n",
        "\n",
        "#동의어 처리\n",
        "word_frequencies_NKterms = synonyms_freq(extracted_nouns_NKterms,synonym_dict)\n",
        "NKterms_23be = Counter(word_frequencies_NKterms) # 마지막에 모든 데이터를 합칠 때, '+'를 사용하기 위해\n",
        "\n",
        "#' '와 같이 공백 삭제\n",
        "texts_without_NKterms = clean_text(texts_without_extracted_nouns)"
      ],
      "metadata": {
        "id": "vZmvBbz2F1kV"
      },
      "execution_count": null,
      "outputs": []
    },
    {
      "cell_type": "markdown",
      "source": [
        "### Mecab 명사 추출기(이미 명사로 분류된 단어들은 제외)"
      ],
      "metadata": {
        "id": "tiO8RGoyF1kW"
      }
    },
    {
      "cell_type": "code",
      "source": [
        "from konlpy.tag import Mecab\n",
        "mecab = Mecab()\n",
        "mecab_nouns = []\n",
        "for text in texts_without_extracted_nouns:\n",
        "    mecab_nouns += mecab.nouns(text)\n",
        "\n",
        "mecab_nouns_clean = []\n",
        "for char in mecab_nouns:\n",
        "    if len(char)>1:\n",
        "        mecab_nouns_clean.append(char)\n",
        "\n",
        "mecab_nouns = [synonym(noun, synonym_dict) for noun in mecab_nouns_clean] #동의어 처리\n",
        "\n",
        "#단어 빈도수 계산\n",
        "mecab_23be = Counter(mecab_nouns)\n",
        "mecab_23be\n",
        "\n",
        "# 필요시\n",
        "# texts_without_mecab=[]\n",
        "# for text in texts_without_extracted_nouns:\n",
        "#     remaining_text = remove_stopwords(text,mecab_nouns)\n",
        "#     texts_without_mecab.append(remaining_text)"
      ],
      "metadata": {
        "id": "q7fho_5MF1kX"
      },
      "execution_count": null,
      "outputs": []
    },
    {
      "cell_type": "markdown",
      "source": [
        "### 모두 합하기"
      ],
      "metadata": {
        "id": "Uxm6mWKbF1kX"
      }
    },
    {
      "cell_type": "code",
      "source": [
        "word_all_23be = mecab_23be+soynlp_23be+name_23be+NKterms_23be+PoliticalTerms_23be\n",
        "combined_all_23be = synonyms_freq(word_all_23be, synonym_dict)\n",
        "\n",
        "combined_all_23be"
      ],
      "metadata": {
        "id": "PzhZTVm3F1kX"
      },
      "execution_count": null,
      "outputs": []
    },
    {
      "cell_type": "markdown",
      "source": [
        "### 결과 엑셀로 내보내기"
      ],
      "metadata": {
        "id": "o_1IAoOjF1kX"
      }
    },
    {
      "cell_type": "code",
      "source": [
        "doc_word_freq['23be'] = combined_all_23be"
      ],
      "metadata": {
        "id": "xb_LCVN7F1kY"
      },
      "execution_count": null,
      "outputs": []
    },
    {
      "cell_type": "markdown",
      "source": [
        "### 단어 빈도 시각화"
      ],
      "metadata": {
        "id": "WXad4mRwF1kY"
      }
    },
    {
      "cell_type": "code",
      "source": [
        "import matplotlib.font_manager as fm\n",
        "import matplotlib.pyplot as plt\n",
        "\n",
        "font_path = '/Users/kimsuyeon/Desktop/nanum-gothic/NanumGothic.ttf'\n",
        "fontprop = fm.FontProperties(fname=font_path)"
      ],
      "metadata": {
        "id": "s2EFRh0CF1kY"
      },
      "execution_count": null,
      "outputs": []
    },
    {
      "cell_type": "markdown",
      "source": [
        "#### 상위 10개 단어(전문)"
      ],
      "metadata": {
        "id": "2_2cx1hrF1kZ"
      }
    },
    {
      "cell_type": "code",
      "source": [
        "sorted_word_frequencies = Counter(combined_all_23be).most_common(10)\n",
        "words, frequencies = zip(*sorted_word_frequencies)\n",
        "\n",
        "plt.figure(figsize=(12, 8))\n",
        "plt.bar(words, frequencies, color='skyblue')\n",
        "plt.title(\"상위 10개의 명사\", fontproperties=fontprop)\n",
        "plt.ylabel(\"빈도\", fontproperties=fontprop)\n",
        "plt.xlabel(\"명사\", fontproperties=fontprop)\n",
        "plt.xticks(rotation=45, ha='right', fontproperties=fontprop)\n",
        "plt.tight_layout()\n",
        "plt.show()"
      ],
      "metadata": {
        "id": "pTKIKz9iF1kZ"
      },
      "execution_count": null,
      "outputs": []
    },
    {
      "cell_type": "markdown",
      "source": [
        "#### 상위 20개 단어(전문)"
      ],
      "metadata": {
        "id": "yk_ekaOFF1kZ"
      }
    },
    {
      "cell_type": "code",
      "source": [
        "sorted_word_frequencies = Counter(combined_all_23be).most_common(20)\n",
        "words, frequencies = zip(*sorted_word_frequencies)\n",
        "\n",
        "plt.figure(figsize=(12, 8))\n",
        "plt.bar(words, frequencies, color='skyblue')\n",
        "plt.title(\"상위 20개의 명사\", fontproperties=fontprop)\n",
        "plt.ylabel(\"빈도\", fontproperties=fontprop)\n",
        "plt.xlabel(\"명사\", fontproperties=fontprop)\n",
        "plt.xticks(rotation=45, ha='right', fontproperties=fontprop)\n",
        "plt.tight_layout()\n",
        "plt.show()"
      ],
      "metadata": {
        "id": "XHmXCIrXF1ka"
      },
      "execution_count": null,
      "outputs": []
    },
    {
      "cell_type": "markdown",
      "source": [
        "#### 상위 30개 단어(전문)"
      ],
      "metadata": {
        "id": "s3ruAaSJF1ka"
      }
    },
    {
      "cell_type": "code",
      "source": [
        "sorted_word_frequencies = Counter(combined_all_23be).most_common(30)\n",
        "words, frequencies = zip(*sorted_word_frequencies)\n",
        "\n",
        "plt.figure(figsize=(12, 8))\n",
        "plt.bar(words, frequencies, color='skyblue')\n",
        "plt.title(\"상위 30개의 명사\", fontproperties=fontprop)\n",
        "plt.ylabel(\"빈도\", fontproperties=fontprop)\n",
        "plt.xlabel(\"명사\", fontproperties=fontprop)\n",
        "plt.xticks(rotation=45, ha='right', fontproperties=fontprop)\n",
        "plt.tight_layout()\n",
        "plt.show()"
      ],
      "metadata": {
        "id": "IP9h07vSF1ka"
      },
      "execution_count": null,
      "outputs": []
    },
    {
      "cell_type": "markdown",
      "source": [
        "## 📌2022년 신년사"
      ],
      "metadata": {
        "id": "Z58SFXzaHble"
      }
    },
    {
      "cell_type": "code",
      "source": [
        "df_22be = read_data(2,3) #sheet3: 2022.01.01\n",
        "\n",
        "all = df_22be['전문'][0]\n",
        "\n",
        "#특수기호 일차적으로 제거\n",
        "import re\n",
        "all = re.sub(r'[()《》!]', ' ', all)\n",
        "#'\\n\\n'를 기준으로 문장 나누기\n",
        "all = all.split('\\n\\n')\n",
        "#특수기호 이차적으로 ('1. ','2. ','3. ', '4. ' ,'\\n' 등) 삭제\n",
        "for idx,sent in enumerate(all):\n",
        "    if ('1. ' in sent) or ('2. ' in sent) or ('3. ' in sent) or ('4. ' in sent) or ('5. 'in sent) or ('6. 'in sent):\n",
        "        all[idx] = sent[3:]\n",
        "#제대로 안 지워진 거 다시 제거\n",
        "all_22be = []\n",
        "for text in all:\n",
        "    all_22be.append(re.sub(r'[\\n]', ' ', text))"
      ],
      "metadata": {
        "id": "5hjYwyr8Hblf"
      },
      "execution_count": null,
      "outputs": []
    },
    {
      "cell_type": "code",
      "source": [
        "from collections import Counter\n",
        "\n",
        "#이름\n",
        "extracted_name = []\n",
        "\n",
        "for sen in all_22be:\n",
        "    if '동지' in sen:\n",
        "        words = sen.split(' ')\n",
        "        for char in words:\n",
        "            if '동지' in char:\n",
        "                name = char.split('동지')[0]\n",
        "                extracted_name.append(name[-3:])\n",
        "\n",
        "#이름 빈도 구하기\n",
        "name,texts_without_name  = [],[]\n",
        "#기존 텍스트에서 앞서 추출된 이름 제거\n",
        "for text in all_22be:\n",
        "    extracted_nouns, remaining_text = extract_nouns(text,extracted_name)\n",
        "    if extracted_nouns:\n",
        "      name.append(extracted_nouns) #기존 텍스트에서 extracted_name에서 추출된 이름과 일치하면 name에 저장\n",
        "    texts_without_name.append(remaining_text) #extracted_name에 추출된 이름을 제거한 텍스트\n",
        "\n",
        "word_frequencies_name = synonyms_freq(name,synonym_dict)\n",
        "name_22be = Counter(word_frequencies_name) #마지막에 모든 데이터를 합칠 때, '+'를 사용하기 위해"
      ],
      "metadata": {
        "id": "zL5SclwvHblg"
      },
      "execution_count": null,
      "outputs": []
    },
    {
      "cell_type": "markdown",
      "source": [
        "### 권력구조와 정치형태 관련 단어 사용자 정의 사전을 사용하여 명사 추출"
      ],
      "metadata": {
        "id": "7YD30MSWHblg"
      }
    },
    {
      "cell_type": "code",
      "source": [
        "#명사 추출\n",
        "extracted_PoliticalTerms,texts_without_user_nouns  = [],[]\n",
        "for text in texts_without_name:\n",
        "    extracted_nouns, remaining_text = extract_nouns(text,PoliticalTerms)\n",
        "    if extracted_nouns:\n",
        "      extracted_PoliticalTerms.append(extracted_nouns)\n",
        "    texts_without_user_nouns.append(remaining_text)\n",
        "#동의어 처리\n",
        "word_frequencies_PoliticalTerms = synonyms_freq(extracted_PoliticalTerms,synonym_dict)\n",
        "\n",
        "PoliticalTerms_22be = Counter(word_frequencies_PoliticalTerms)#마지막에 모든 데이터를 합칠 때, '+'를 사용하기 위해"
      ],
      "metadata": {
        "id": "yBLCl71DHblg"
      },
      "execution_count": null,
      "outputs": []
    },
    {
      "cell_type": "markdown",
      "source": [
        "### Stopwords 제거"
      ],
      "metadata": {
        "id": "gABu1rCRHblg"
      }
    },
    {
      "cell_type": "code",
      "source": [
        "texts_without_stopwords = [\n",
        "    remove_stopwords(text, stopwords).replace(\"조선로동\", \" \")\n",
        "    for text in texts_without_user_nouns\n",
        "]\n",
        "#' '와 같이 공백 삭제\n",
        "texts_without_stopwords = clean_text(texts_without_stopwords)"
      ],
      "metadata": {
        "id": "WI6cHASQHblh"
      },
      "execution_count": null,
      "outputs": []
    },
    {
      "cell_type": "markdown",
      "source": [
        "### soynlp 명사 추출기 (이미 명사로 분류된 단어들은 제외)"
      ],
      "metadata": {
        "id": "R6aNdYZ-Hblh"
      }
    },
    {
      "cell_type": "code",
      "source": [
        "from soynlp.noun import LRNounExtractor_v2\n",
        "noun_extractor = LRNounExtractor_v2(verbose=True, extract_compound=True)\n",
        "noun_extractor.train(texts_without_stopwords)\n",
        "soynlp_nouns = noun_extractor.extract()\n",
        "\n",
        "#soynlp로 추출된 명사 중 2글자 이상만 저장\n",
        "extracted_soynlp_words = [word for word in soynlp_nouns if len(word) >= 2]\n",
        "soynlp_22be = Counter(extracted_soynlp_words)\n",
        "\n",
        "#soynlp로 추출된 명사들을 texts_without_stopwords에서 삭제한다.\n",
        "texts_without_soynlp=[]\n",
        "for text in texts_without_stopwords:\n",
        "    remaining_text = remove_stopwords(text,extracted_soynlp_words)\n",
        "    texts_without_soynlp.append(remaining_text)\n",
        "\n",
        "#' '와 같이 공백 삭제\n",
        "texts_without_soynlp = clean_text(texts_without_soynlp)"
      ],
      "metadata": {
        "id": "Q2XnDyMxHblh"
      },
      "execution_count": null,
      "outputs": []
    },
    {
      "cell_type": "markdown",
      "source": [
        "### 북한 용어사전을 활용하여 명사 추출"
      ],
      "metadata": {
        "id": "OVVuUpKCHbli"
      }
    },
    {
      "cell_type": "code",
      "source": [
        "extracted_nouns_NKterms,texts_without_extracted_nouns = [],[]\n",
        "for text in texts_without_soynlp:\n",
        "    extracted_nouns, remaining_text = extract_nouns(text,NKTerms)\n",
        "    if extracted_nouns:\n",
        "      extracted_nouns_NKterms.append(extracted_nouns)\n",
        "    texts_without_extracted_nouns.append(remaining_text)\n",
        "\n",
        "#동의어 처리\n",
        "word_frequencies_NKterms = synonyms_freq(extracted_nouns_NKterms,synonym_dict)\n",
        "NKterms_22be = Counter(word_frequencies_NKterms) # 마지막에 모든 데이터를 합칠 때, '+'를 사용하기 위해\n",
        "\n",
        "#' '와 같이 공백 삭제\n",
        "texts_without_NKterms = clean_text(texts_without_extracted_nouns)"
      ],
      "metadata": {
        "id": "5HKraiTFHbli"
      },
      "execution_count": null,
      "outputs": []
    },
    {
      "cell_type": "markdown",
      "source": [
        "### Mecab 명사 추출기(이미 명사로 분류된 단어들은 제외)"
      ],
      "metadata": {
        "id": "qoEKyabjHblj"
      }
    },
    {
      "cell_type": "code",
      "source": [
        "from konlpy.tag import Mecab\n",
        "mecab = Mecab()\n",
        "mecab_nouns = []\n",
        "for text in texts_without_extracted_nouns:\n",
        "    mecab_nouns += mecab.nouns(text)\n",
        "\n",
        "mecab_nouns_clean = []\n",
        "for char in mecab_nouns:\n",
        "    if len(char)>1:\n",
        "        mecab_nouns_clean.append(char)\n",
        "\n",
        "mecab_nouns = [synonym(noun, synonym_dict) for noun in mecab_nouns_clean] #동의어 처리\n",
        "\n",
        "#단어 빈도수 계산\n",
        "mecab_22be = Counter(mecab_nouns)\n",
        "mecab_22be\n",
        "\n",
        "# 필요시\n",
        "# texts_without_mecab=[]\n",
        "# for text in texts_without_extracted_nouns:\n",
        "#     remaining_text = remove_stopwords(text,mecab_nouns)\n",
        "#     texts_without_mecab.append(remaining_text)"
      ],
      "metadata": {
        "id": "Xb9y0CWTHblj"
      },
      "execution_count": null,
      "outputs": []
    },
    {
      "cell_type": "markdown",
      "source": [
        "### 모두 합하기"
      ],
      "metadata": {
        "id": "rMgCX_yZHblj"
      }
    },
    {
      "cell_type": "code",
      "source": [
        "word_all_22be = mecab_22be+soynlp_22be+name_22be+NKterms_22be+PoliticalTerms_22be\n",
        "combined_all_22be = synonyms_freq(word_all_22be, synonym_dict)\n",
        "\n",
        "combined_all_22be"
      ],
      "metadata": {
        "id": "3a9BxjhKHblj"
      },
      "execution_count": null,
      "outputs": []
    },
    {
      "cell_type": "markdown",
      "source": [
        "### 결과 엑셀로 내보내기"
      ],
      "metadata": {
        "id": "zCctOx38Hblk"
      }
    },
    {
      "cell_type": "code",
      "source": [
        "doc_word_freq['22be'] = combined_all_22be"
      ],
      "metadata": {
        "id": "_2q97m_eHblk"
      },
      "execution_count": null,
      "outputs": []
    },
    {
      "cell_type": "markdown",
      "source": [
        "### 단어 빈도 시각화"
      ],
      "metadata": {
        "id": "juGOGPVOHblk"
      }
    },
    {
      "cell_type": "code",
      "source": [
        "import matplotlib.font_manager as fm\n",
        "import matplotlib.pyplot as plt\n",
        "\n",
        "font_path = '/Users/kimsuyeon/Desktop/nanum-gothic/NanumGothic.ttf'\n",
        "fontprop = fm.FontProperties(fname=font_path)"
      ],
      "metadata": {
        "id": "EegAVFIMHblk"
      },
      "execution_count": null,
      "outputs": []
    },
    {
      "cell_type": "markdown",
      "source": [
        "#### 상위 10개 단어(전문)"
      ],
      "metadata": {
        "id": "rlsBwRvbHblk"
      }
    },
    {
      "cell_type": "code",
      "source": [
        "sorted_word_frequencies = Counter(combined_all_22be).most_common(10)\n",
        "words, frequencies = zip(*sorted_word_frequencies)\n",
        "\n",
        "plt.figure(figsize=(12, 8))\n",
        "plt.bar(words, frequencies, color='skyblue')\n",
        "plt.title(\"상위 10개의 명사\", fontproperties=fontprop)\n",
        "plt.ylabel(\"빈도\", fontproperties=fontprop)\n",
        "plt.xlabel(\"명사\", fontproperties=fontprop)\n",
        "plt.xticks(rotation=45, ha='right', fontproperties=fontprop)\n",
        "plt.tight_layout()\n",
        "plt.show()"
      ],
      "metadata": {
        "id": "fqBowy4CHbll"
      },
      "execution_count": null,
      "outputs": []
    },
    {
      "cell_type": "markdown",
      "source": [
        "#### 상위 20개 단어(전문)"
      ],
      "metadata": {
        "id": "SrBcH76DHbll"
      }
    },
    {
      "cell_type": "code",
      "source": [
        "sorted_word_frequencies = Counter(combined_all_22be).most_common(20)\n",
        "words, frequencies = zip(*sorted_word_frequencies)\n",
        "\n",
        "plt.figure(figsize=(12, 8))\n",
        "plt.bar(words, frequencies, color='skyblue')\n",
        "plt.title(\"상위 20개의 명사\", fontproperties=fontprop)\n",
        "plt.ylabel(\"빈도\", fontproperties=fontprop)\n",
        "plt.xlabel(\"명사\", fontproperties=fontprop)\n",
        "plt.xticks(rotation=45, ha='right', fontproperties=fontprop)\n",
        "plt.tight_layout()\n",
        "plt.show()"
      ],
      "metadata": {
        "id": "LEIzlCrbHbll"
      },
      "execution_count": null,
      "outputs": []
    },
    {
      "cell_type": "markdown",
      "source": [
        "#### 상위 30개 단어(전문)"
      ],
      "metadata": {
        "id": "vHj5h6G5Hbll"
      }
    },
    {
      "cell_type": "code",
      "source": [
        "sorted_word_frequencies = Counter(combined_all_22be).most_common(30)\n",
        "words, frequencies = zip(*sorted_word_frequencies)\n",
        "\n",
        "plt.figure(figsize=(12, 8))\n",
        "plt.bar(words, frequencies, color='skyblue')\n",
        "plt.title(\"상위 30개의 명사\", fontproperties=fontprop)\n",
        "plt.ylabel(\"빈도\", fontproperties=fontprop)\n",
        "plt.xlabel(\"명사\", fontproperties=fontprop)\n",
        "plt.xticks(rotation=45, ha='right', fontproperties=fontprop)\n",
        "plt.tight_layout()\n",
        "plt.show()"
      ],
      "metadata": {
        "id": "ABA31ixKHblm"
      },
      "execution_count": null,
      "outputs": []
    },
    {
      "cell_type": "markdown",
      "source": [
        "## 📌2021년 신년사"
      ],
      "metadata": {
        "id": "KdYYiWT_JBkr"
      }
    },
    {
      "cell_type": "code",
      "source": [
        "df_21be = read_data(3,3) #sheet4: 2021.01.01\n",
        "\n",
        "all = df_21be['전문'][0]\n",
        "\n",
        "#특수기호 일차적으로 제거\n",
        "import re\n",
        "all = re.sub(r'[()《》!]', ' ', all)\n",
        "#'\\n\\n'를 기준으로 문장 나누기\n",
        "all = all.split('\\n\\n')\n",
        "#특수기호 이차적으로 ('1. ','2. ','3. ', '4. ' ,'\\n' 등) 삭제\n",
        "for idx,sent in enumerate(all):\n",
        "    if ('1. ' in sent) or ('2. ' in sent) or ('3. ' in sent) or ('4. ' in sent) or ('5. 'in sent) or ('6. 'in sent):\n",
        "        all[idx] = sent[3:]\n",
        "#제대로 안 지워진 거 다시 제거\n",
        "all_21be = []\n",
        "for text in all:\n",
        "    all_21be.append(re.sub(r'[\\n]', ' ', text))"
      ],
      "metadata": {
        "id": "iIgLcdhcJcZK"
      },
      "execution_count": null,
      "outputs": []
    },
    {
      "cell_type": "code",
      "source": [
        "from collections import Counter\n",
        "\n",
        "#이름\n",
        "extracted_name = []\n",
        "\n",
        "for sen in all_21be:\n",
        "    if '동지' in sen:\n",
        "        words = sen.split(' ')\n",
        "        for char in words:\n",
        "            if '동지' in char:\n",
        "                name = char.split('동지')[0]\n",
        "                extracted_name.append(name[-3:])\n",
        "\n",
        "#이름 빈도 구하기\n",
        "name,texts_without_name  = [],[]\n",
        "#기존 텍스트에서 앞서 추출된 이름 제거\n",
        "for text in all_21be:\n",
        "    extracted_nouns, remaining_text = extract_nouns(text,extracted_name)\n",
        "    if extracted_nouns:\n",
        "      name.append(extracted_nouns) #기존 텍스트에서 extracted_name에서 추출된 이름과 일치하면 name에 저장\n",
        "    texts_without_name.append(remaining_text) #extracted_name에 추출된 이름을 제거한 텍스트\n",
        "\n",
        "word_frequencies_name = synonyms_freq(name,synonym_dict)\n",
        "name_21be = Counter(word_frequencies_name) #마지막에 모든 데이터를 합칠 때, '+'를 사용하기 위해"
      ],
      "metadata": {
        "id": "F681wS4vJcZZ"
      },
      "execution_count": null,
      "outputs": []
    },
    {
      "cell_type": "markdown",
      "source": [
        "### 권력구조와 정치형태 관련 단어 사용자 정의 사전을 사용하여 명사 추출"
      ],
      "metadata": {
        "id": "_gqO7_ytJcZa"
      }
    },
    {
      "cell_type": "code",
      "source": [
        "#명사 추출\n",
        "extracted_PoliticalTerms,texts_without_user_nouns  = [],[]\n",
        "for text in texts_without_name:\n",
        "    extracted_nouns, remaining_text = extract_nouns(text,PoliticalTerms)\n",
        "    if extracted_nouns:\n",
        "      extracted_PoliticalTerms.append(extracted_nouns)\n",
        "    texts_without_user_nouns.append(remaining_text)\n",
        "#동의어 처리\n",
        "word_frequencies_PoliticalTerms = synonyms_freq(extracted_PoliticalTerms,synonym_dict)\n",
        "\n",
        "PoliticalTerms_21be = Counter(word_frequencies_PoliticalTerms)#마지막에 모든 데이터를 합칠 때, '+'를 사용하기 위해"
      ],
      "metadata": {
        "id": "svJ5F1BTJcZa"
      },
      "execution_count": null,
      "outputs": []
    },
    {
      "cell_type": "markdown",
      "source": [
        "### Stopwords 제거"
      ],
      "metadata": {
        "id": "XFs8bRrRJcZa"
      }
    },
    {
      "cell_type": "code",
      "source": [
        "texts_without_stopwords = [\n",
        "    remove_stopwords(text, stopwords).replace(\"조선로동\", \" \")\n",
        "    for text in texts_without_user_nouns\n",
        "]\n",
        "#' '와 같이 공백 삭제\n",
        "texts_without_stopwords = clean_text(texts_without_stopwords)"
      ],
      "metadata": {
        "id": "qdgLcW9YJcZa"
      },
      "execution_count": null,
      "outputs": []
    },
    {
      "cell_type": "markdown",
      "source": [
        "### soynlp 명사 추출기 (이미 명사로 분류된 단어들은 제외)"
      ],
      "metadata": {
        "id": "YF7ZEOIKJcZb"
      }
    },
    {
      "cell_type": "code",
      "source": [
        "from soynlp.noun import LRNounExtractor_v2\n",
        "noun_extractor = LRNounExtractor_v2(verbose=True, extract_compound=True)\n",
        "noun_extractor.train(texts_without_stopwords)\n",
        "soynlp_nouns = noun_extractor.extract()\n",
        "\n",
        "#soynlp로 추출된 명사 중 2글자 이상만 저장\n",
        "extracted_soynlp_words = [word for word in soynlp_nouns if len(word) >= 2]\n",
        "soynlp_21be = Counter(extracted_soynlp_words)\n",
        "\n",
        "#soynlp로 추출된 명사들을 texts_without_stopwords에서 삭제한다.\n",
        "texts_without_soynlp=[]\n",
        "for text in texts_without_stopwords:\n",
        "    remaining_text = remove_stopwords(text,extracted_soynlp_words)\n",
        "    texts_without_soynlp.append(remaining_text)\n",
        "\n",
        "#' '와 같이 공백 삭제\n",
        "texts_without_soynlp = clean_text(texts_without_soynlp)"
      ],
      "metadata": {
        "id": "UoqqkKlAJcZb"
      },
      "execution_count": null,
      "outputs": []
    },
    {
      "cell_type": "markdown",
      "source": [
        "### 북한 용어사전을 활용하여 명사 추출"
      ],
      "metadata": {
        "id": "EwXXlCWpJcZc"
      }
    },
    {
      "cell_type": "code",
      "source": [
        "extracted_nouns_NKterms,texts_without_extracted_nouns = [],[]\n",
        "for text in texts_without_soynlp:\n",
        "    extracted_nouns, remaining_text = extract_nouns(text,NKTerms)\n",
        "    if extracted_nouns:\n",
        "      extracted_nouns_NKterms.append(extracted_nouns)\n",
        "    texts_without_extracted_nouns.append(remaining_text)\n",
        "\n",
        "#동의어 처리\n",
        "word_frequencies_NKterms = synonyms_freq(extracted_nouns_NKterms,synonym_dict)\n",
        "NKterms_21be = Counter(word_frequencies_NKterms) # 마지막에 모든 데이터를 합칠 때, '+'를 사용하기 위해\n",
        "\n",
        "#' '와 같이 공백 삭제\n",
        "texts_without_NKterms = clean_text(texts_without_extracted_nouns)"
      ],
      "metadata": {
        "id": "cEDNoExMJcZc"
      },
      "execution_count": null,
      "outputs": []
    },
    {
      "cell_type": "markdown",
      "source": [
        "### Mecab 명사 추출기(이미 명사로 분류된 단어들은 제외)"
      ],
      "metadata": {
        "id": "PU_LDqiGJcZc"
      }
    },
    {
      "cell_type": "code",
      "source": [
        "from konlpy.tag import Mecab\n",
        "mecab = Mecab()\n",
        "mecab_nouns = []\n",
        "for text in texts_without_extracted_nouns:\n",
        "    mecab_nouns += mecab.nouns(text)\n",
        "\n",
        "mecab_nouns_clean = []\n",
        "for char in mecab_nouns:\n",
        "    if len(char)>1:\n",
        "        mecab_nouns_clean.append(char)\n",
        "\n",
        "mecab_nouns = [synonym(noun, synonym_dict) for noun in mecab_nouns_clean] #동의어 처리\n",
        "\n",
        "#단어 빈도수 계산\n",
        "mecab_21be = Counter(mecab_nouns)\n",
        "mecab_21be\n",
        "\n",
        "# 필요시\n",
        "# texts_without_mecab=[]\n",
        "# for text in texts_without_extracted_nouns:\n",
        "#     remaining_text = remove_stopwords(text,mecab_nouns)\n",
        "#     texts_without_mecab.append(remaining_text)"
      ],
      "metadata": {
        "id": "9FgxIYdAJcZc"
      },
      "execution_count": null,
      "outputs": []
    },
    {
      "cell_type": "markdown",
      "source": [
        "### 모두 합하기"
      ],
      "metadata": {
        "id": "yzeN_4T_JcZd"
      }
    },
    {
      "cell_type": "code",
      "source": [
        "word_all_21be = mecab_21be+soynlp_21be+name_21be+NKterms_21be+PoliticalTerms_21be\n",
        "combined_all_21be = synonyms_freq(word_all_21be, synonym_dict)\n",
        "\n",
        "combined_all_21be"
      ],
      "metadata": {
        "id": "i0cLUmRhJcZd"
      },
      "execution_count": null,
      "outputs": []
    },
    {
      "cell_type": "markdown",
      "source": [
        "### 결과 엑셀로 내보내기"
      ],
      "metadata": {
        "id": "rj8dQLfBJcZd"
      }
    },
    {
      "cell_type": "code",
      "source": [
        "doc_word_freq['21be'] = combined_all_21be"
      ],
      "metadata": {
        "id": "AAbkkJoZJcZd"
      },
      "execution_count": null,
      "outputs": []
    },
    {
      "cell_type": "markdown",
      "source": [
        "### 단어 빈도 시각화"
      ],
      "metadata": {
        "id": "bBAdl25EJcZd"
      }
    },
    {
      "cell_type": "code",
      "source": [
        "import matplotlib.font_manager as fm\n",
        "import matplotlib.pyplot as plt\n",
        "\n",
        "font_path = '/Users/kimsuyeon/Desktop/nanum-gothic/NanumGothic.ttf'\n",
        "fontprop = fm.FontProperties(fname=font_path)"
      ],
      "metadata": {
        "id": "VTP-xwcpJcZd"
      },
      "execution_count": null,
      "outputs": []
    },
    {
      "cell_type": "markdown",
      "source": [
        "#### 상위 10개 단어(전문)"
      ],
      "metadata": {
        "id": "-MbueJrQJcZe"
      }
    },
    {
      "cell_type": "code",
      "source": [
        "sorted_word_frequencies = Counter(combined_all_21be).most_common(10)\n",
        "words, frequencies = zip(*sorted_word_frequencies)\n",
        "\n",
        "plt.figure(figsize=(12, 8))\n",
        "plt.bar(words, frequencies, color='skyblue')\n",
        "plt.title(\"상위 10개의 명사\", fontproperties=fontprop)\n",
        "plt.ylabel(\"빈도\", fontproperties=fontprop)\n",
        "plt.xlabel(\"명사\", fontproperties=fontprop)\n",
        "plt.xticks(rotation=45, ha='right', fontproperties=fontprop)\n",
        "plt.tight_layout()\n",
        "plt.show()"
      ],
      "metadata": {
        "id": "NaQYkD7dJcZe"
      },
      "execution_count": null,
      "outputs": []
    },
    {
      "cell_type": "markdown",
      "source": [
        "#### 상위 20개 단어(전문)"
      ],
      "metadata": {
        "id": "GqFSX-IVJcZe"
      }
    },
    {
      "cell_type": "code",
      "source": [
        "sorted_word_frequencies = Counter(combined_all_21be).most_common(20)\n",
        "words, frequencies = zip(*sorted_word_frequencies)\n",
        "\n",
        "plt.figure(figsize=(12, 8))\n",
        "plt.bar(words, frequencies, color='skyblue')\n",
        "plt.title(\"상위 20개의 명사\", fontproperties=fontprop)\n",
        "plt.ylabel(\"빈도\", fontproperties=fontprop)\n",
        "plt.xlabel(\"명사\", fontproperties=fontprop)\n",
        "plt.xticks(rotation=45, ha='right', fontproperties=fontprop)\n",
        "plt.tight_layout()\n",
        "plt.show()"
      ],
      "metadata": {
        "id": "Q7hqLrB1JcZe"
      },
      "execution_count": null,
      "outputs": []
    },
    {
      "cell_type": "markdown",
      "source": [
        "#### 상위 30개 단어(전문)"
      ],
      "metadata": {
        "id": "21cKhCxVJcZe"
      }
    },
    {
      "cell_type": "code",
      "source": [
        "sorted_word_frequencies = Counter(combined_all_21be).most_common(30)\n",
        "words, frequencies = zip(*sorted_word_frequencies)\n",
        "\n",
        "plt.figure(figsize=(12, 8))\n",
        "plt.bar(words, frequencies, color='skyblue')\n",
        "plt.title(\"상위 30개의 명사\", fontproperties=fontprop)\n",
        "plt.ylabel(\"빈도\", fontproperties=fontprop)\n",
        "plt.xlabel(\"명사\", fontproperties=fontprop)\n",
        "plt.xticks(rotation=45, ha='right', fontproperties=fontprop)\n",
        "plt.tight_layout()\n",
        "plt.show()"
      ],
      "metadata": {
        "id": "L_wRZgnhJcZe"
      },
      "execution_count": null,
      "outputs": []
    },
    {
      "cell_type": "markdown",
      "source": [
        "## 📌2020년 신년사"
      ],
      "metadata": {
        "id": "s5-V4lNjJEDL"
      }
    },
    {
      "cell_type": "code",
      "source": [
        "df_20be = read_data(4,2)\n",
        "\n",
        "all = df_20be['전문'][0]\n",
        "\n",
        "#특수기호 일차적으로 제거\n",
        "import re\n",
        "all = re.sub(r'[()《》!]', ' ', all)\n",
        "#'\\n\\n'를 기준으로 문장 나누기\n",
        "all = all.split('\\n\\n')\n",
        "#특수기호 이차적으로 ('1. ','2. ','3. ', '4. ' ,'\\n' 등) 삭제\n",
        "for idx,sent in enumerate(all):\n",
        "    if ('1. ' in sent) or ('2. ' in sent) or ('3. ' in sent) or ('4. ' in sent) or ('5. 'in sent) or ('6. 'in sent):\n",
        "        all[idx] = sent[3:]\n",
        "#제대로 안 지워진 거 다시 제거\n",
        "all_20be = []\n",
        "for text in all:\n",
        "    all_20be.append(re.sub(r'[\\n]', ' ', text))"
      ],
      "metadata": {
        "id": "sG9j2KFKKNjY"
      },
      "execution_count": null,
      "outputs": []
    },
    {
      "cell_type": "code",
      "source": [
        "from collections import Counter\n",
        "\n",
        "#이름\n",
        "extracted_name = []\n",
        "for sen in all_20be:\n",
        "    if '동지' in sen :\n",
        "        word = sen.split(' ')\n",
        "        for idx,char in enumerate(word):\n",
        "            if '동지' in char:\n",
        "                name = char.split('동지')\n",
        "                if name[0] == '':\n",
        "                    extracted_name.append(word[idx-1])\n",
        "                elif name[0] != '위원장':\n",
        "                    extracted_name.append(name[0])\n",
        "\n",
        "#이름 빈도 구하기\n",
        "name,texts_without_name  = [],[]\n",
        "#기존 텍스트에서 앞서 추출된 이름 제거\n",
        "for text in all_20be:\n",
        "    extracted_nouns, remaining_text = extract_nouns(text,extracted_name)\n",
        "    if extracted_nouns:\n",
        "      name.append(extracted_nouns) #기존 텍스트에서 extracted_name에서 추출된 이름과 일치하면 name에 저장\n",
        "    texts_without_name.append(remaining_text) #extracted_name에 추출된 이름을 제거한 텍스트\n",
        "\n",
        "word_frequencies_name = synonyms_freq(name,synonym_dict)\n",
        "name_20be = Counter(word_frequencies_name) #마지막에 모든 데이터를 합칠 때, '+'를 사용하기 위해"
      ],
      "metadata": {
        "id": "HzJVaOssKNjm"
      },
      "execution_count": null,
      "outputs": []
    },
    {
      "cell_type": "markdown",
      "source": [
        "### 권력구조와 정치형태 관련 단어 사용자 정의 사전을 사용하여 명사 추출"
      ],
      "metadata": {
        "id": "LAro0AysKNjm"
      }
    },
    {
      "cell_type": "code",
      "source": [
        "#명사 추출\n",
        "extracted_PoliticalTerms,texts_without_user_nouns  = [],[]\n",
        "for text in texts_without_name:\n",
        "    extracted_nouns, remaining_text = extract_nouns(text,PoliticalTerms)\n",
        "    if extracted_nouns:\n",
        "      extracted_PoliticalTerms.append(extracted_nouns)\n",
        "    texts_without_user_nouns.append(remaining_text)\n",
        "#동의어 처리\n",
        "word_frequencies_PoliticalTerms = synonyms_freq(extracted_PoliticalTerms,synonym_dict)\n",
        "\n",
        "PoliticalTerms_20be = Counter(word_frequencies_PoliticalTerms)#마지막에 모든 데이터를 합칠 때, '+'를 사용하기 위해"
      ],
      "metadata": {
        "id": "c2R1Yt80KNjm"
      },
      "execution_count": null,
      "outputs": []
    },
    {
      "cell_type": "markdown",
      "source": [
        "### Stopwords 제거"
      ],
      "metadata": {
        "id": "u01v1NMgKNjm"
      }
    },
    {
      "cell_type": "code",
      "source": [
        "texts_without_stopwords = [\n",
        "    remove_stopwords(text, stopwords).replace(\"조선로동\", \" \")\n",
        "    for text in texts_without_user_nouns\n",
        "]\n",
        "#' '와 같이 공백 삭제\n",
        "texts_without_stopwords = clean_text(texts_without_stopwords)"
      ],
      "metadata": {
        "id": "0lCLrH-pKNjm"
      },
      "execution_count": null,
      "outputs": []
    },
    {
      "cell_type": "markdown",
      "source": [
        "### soynlp 명사 추출기 (이미 명사로 분류된 단어들은 제외)"
      ],
      "metadata": {
        "id": "FiVA_0NxKNjm"
      }
    },
    {
      "cell_type": "code",
      "source": [
        "from soynlp.noun import LRNounExtractor_v2\n",
        "noun_extractor = LRNounExtractor_v2(verbose=True, extract_compound=True)\n",
        "noun_extractor.train(texts_without_stopwords)\n",
        "soynlp_nouns = noun_extractor.extract()\n",
        "\n",
        "#soynlp로 추출된 명사 중 2글자 이상만 저장\n",
        "extracted_soynlp_words = [word for word in soynlp_nouns if len(word) >= 2]\n",
        "soynlp_20be = Counter(extracted_soynlp_words)\n",
        "\n",
        "#soynlp로 추출된 명사들을 texts_without_stopwords에서 삭제한다.\n",
        "texts_without_soynlp=[]\n",
        "for text in texts_without_stopwords:\n",
        "    remaining_text = remove_stopwords(text,extracted_soynlp_words)\n",
        "    texts_without_soynlp.append(remaining_text)\n",
        "\n",
        "#' '와 같이 공백 삭제\n",
        "texts_without_soynlp = clean_text(texts_without_soynlp)"
      ],
      "metadata": {
        "id": "9z1UUzCgKNjn"
      },
      "execution_count": null,
      "outputs": []
    },
    {
      "cell_type": "markdown",
      "source": [
        "### 북한 용어사전을 활용하여 명사 추출"
      ],
      "metadata": {
        "id": "2ArVYL36KNjn"
      }
    },
    {
      "cell_type": "code",
      "source": [
        "extracted_nouns_NKterms,texts_without_extracted_nouns = [],[]\n",
        "for text in texts_without_soynlp:\n",
        "    extracted_nouns, remaining_text = extract_nouns(text,NKTerms)\n",
        "    if extracted_nouns:\n",
        "      extracted_nouns_NKterms.append(extracted_nouns)\n",
        "    texts_without_extracted_nouns.append(remaining_text)\n",
        "\n",
        "#동의어 처리\n",
        "word_frequencies_NKterms = synonyms_freq(extracted_nouns_NKterms,synonym_dict)\n",
        "NKterms_20be = Counter(word_frequencies_NKterms) # 마지막에 모든 데이터를 합칠 때, '+'를 사용하기 위해\n",
        "\n",
        "#' '와 같이 공백 삭제\n",
        "texts_without_NKterms = clean_text(texts_without_extracted_nouns)"
      ],
      "metadata": {
        "id": "Z36_EuslKNjn"
      },
      "execution_count": null,
      "outputs": []
    },
    {
      "cell_type": "markdown",
      "source": [
        "### Mecab 명사 추출기(이미 명사로 분류된 단어들은 제외)"
      ],
      "metadata": {
        "id": "qTay7KfUKNjo"
      }
    },
    {
      "cell_type": "code",
      "source": [
        "from konlpy.tag import Mecab\n",
        "mecab = Mecab()\n",
        "mecab_nouns = []\n",
        "for text in texts_without_extracted_nouns:\n",
        "    mecab_nouns += mecab.nouns(text)\n",
        "\n",
        "mecab_nouns_clean = []\n",
        "for char in mecab_nouns:\n",
        "    if len(char)>1:\n",
        "        mecab_nouns_clean.append(char)\n",
        "\n",
        "mecab_nouns = [synonym(noun, synonym_dict) for noun in mecab_nouns_clean] #동의어 처리\n",
        "\n",
        "#단어 빈도수 계산\n",
        "mecab_20be = Counter(mecab_nouns)\n",
        "mecab_20be\n",
        "\n",
        "# 필요시\n",
        "# texts_without_mecab=[]\n",
        "# for text in texts_without_extracted_nouns:\n",
        "#     remaining_text = remove_stopwords(text,mecab_nouns)\n",
        "#     texts_without_mecab.append(remaining_text)"
      ],
      "metadata": {
        "id": "hI5Fb0utKNjo"
      },
      "execution_count": null,
      "outputs": []
    },
    {
      "cell_type": "markdown",
      "source": [
        "### 모두 합하기"
      ],
      "metadata": {
        "id": "9rwmcdY-KNjo"
      }
    },
    {
      "cell_type": "code",
      "source": [
        "word_all_20be = mecab_20be+soynlp_20be+name_20be+NKterms_20be+PoliticalTerms_20be\n",
        "combined_all_20be = synonyms_freq(word_all_20be, synonym_dict)\n",
        "\n",
        "combined_all_20be"
      ],
      "metadata": {
        "id": "6FqKwNW9KNjo"
      },
      "execution_count": null,
      "outputs": []
    },
    {
      "cell_type": "markdown",
      "source": [
        "### 결과 엑셀로 내보내기"
      ],
      "metadata": {
        "id": "1vMBiCuyKNjo"
      }
    },
    {
      "cell_type": "code",
      "source": [
        "doc_word_freq['20be'] = combined_all_20be"
      ],
      "metadata": {
        "id": "dG_JTF9GKNjo"
      },
      "execution_count": null,
      "outputs": []
    },
    {
      "cell_type": "markdown",
      "source": [
        "### 단어 빈도 시각화"
      ],
      "metadata": {
        "id": "0K8DwGC6KNjo"
      }
    },
    {
      "cell_type": "code",
      "source": [
        "import matplotlib.font_manager as fm\n",
        "import matplotlib.pyplot as plt\n",
        "\n",
        "font_path = '/Users/kimsuyeon/Desktop/nanum-gothic/NanumGothic.ttf'\n",
        "fontprop = fm.FontProperties(fname=font_path)"
      ],
      "metadata": {
        "id": "Lqoe5NGvKNjp"
      },
      "execution_count": null,
      "outputs": []
    },
    {
      "cell_type": "markdown",
      "source": [
        "#### 상위 10개 단어(전문)"
      ],
      "metadata": {
        "id": "cPhZxxREKNjp"
      }
    },
    {
      "cell_type": "code",
      "source": [
        "sorted_word_frequencies = Counter(combined_all_20be).most_common(10)\n",
        "words, frequencies = zip(*sorted_word_frequencies)\n",
        "\n",
        "plt.figure(figsize=(12, 8))\n",
        "plt.bar(words, frequencies, color='skyblue')\n",
        "plt.title(\"상위 10개의 명사\", fontproperties=fontprop)\n",
        "plt.ylabel(\"빈도\", fontproperties=fontprop)\n",
        "plt.xlabel(\"명사\", fontproperties=fontprop)\n",
        "plt.xticks(rotation=45, ha='right', fontproperties=fontprop)\n",
        "plt.tight_layout()\n",
        "plt.show()"
      ],
      "metadata": {
        "id": "hxoFUfMqKNjp"
      },
      "execution_count": null,
      "outputs": []
    },
    {
      "cell_type": "markdown",
      "source": [
        "#### 상위 20개 단어(전문)"
      ],
      "metadata": {
        "id": "Y3k8Ul5YKNjp"
      }
    },
    {
      "cell_type": "code",
      "source": [
        "sorted_word_frequencies = Counter(combined_all_20be).most_common(20)\n",
        "words, frequencies = zip(*sorted_word_frequencies)\n",
        "\n",
        "plt.figure(figsize=(12, 8))\n",
        "plt.bar(words, frequencies, color='skyblue')\n",
        "plt.title(\"상위 20개의 명사\", fontproperties=fontprop)\n",
        "plt.ylabel(\"빈도\", fontproperties=fontprop)\n",
        "plt.xlabel(\"명사\", fontproperties=fontprop)\n",
        "plt.xticks(rotation=45, ha='right', fontproperties=fontprop)\n",
        "plt.tight_layout()\n",
        "plt.show()"
      ],
      "metadata": {
        "id": "bPXMjJUhKNjp"
      },
      "execution_count": null,
      "outputs": []
    },
    {
      "cell_type": "markdown",
      "source": [
        "#### 상위 30개 단어(전문)"
      ],
      "metadata": {
        "id": "OtdhFgA9KNjq"
      }
    },
    {
      "cell_type": "code",
      "source": [
        "sorted_word_frequencies = Counter(combined_all_20be).most_common(30)\n",
        "words, frequencies = zip(*sorted_word_frequencies)\n",
        "\n",
        "plt.figure(figsize=(12, 8))\n",
        "plt.bar(words, frequencies, color='skyblue')\n",
        "plt.title(\"상위 30개의 명사\", fontproperties=fontprop)\n",
        "plt.ylabel(\"빈도\", fontproperties=fontprop)\n",
        "plt.xlabel(\"명사\", fontproperties=fontprop)\n",
        "plt.xticks(rotation=45, ha='right', fontproperties=fontprop)\n",
        "plt.tight_layout()\n",
        "plt.show()"
      ],
      "metadata": {
        "id": "SM8Y15vHKNjq"
      },
      "execution_count": null,
      "outputs": []
    },
    {
      "cell_type": "markdown",
      "source": [
        "## 📌2019년 신년사"
      ],
      "metadata": {
        "id": "22tveb6HJGWW"
      }
    },
    {
      "cell_type": "code",
      "source": [
        "df_19be = read_data(5,3)\n",
        "\n",
        "all = df_19be['전문'][0]\n",
        "\n",
        "#특수기호 일차적으로 제거\n",
        "import re\n",
        "all = re.sub(r'[()《》!]', ' ', all)\n",
        "#'\\n\\n'를 기준으로 문장 나누기\n",
        "all = all.split('\\n\\n')\n",
        "#특수기호 이차적으로 ('1. ','2. ','3. ', '4. ' ,'\\n' 등) 삭제\n",
        "for idx,sent in enumerate(all):\n",
        "    if ('1. ' in sent) or ('2. ' in sent) or ('3. ' in sent) or ('4. ' in sent) or ('5. 'in sent) or ('6. 'in sent):\n",
        "        all[idx] = sent[3:]\n",
        "#제대로 안 지워진 거 다시 제거\n",
        "all_19be = []\n",
        "for text in all:\n",
        "    all_19be.append(re.sub(r'[\\n]', ' ', text))\n",
        "all_19be = all_19be[:-1]"
      ],
      "metadata": {
        "id": "lYqrSQ9fM80c"
      },
      "execution_count": null,
      "outputs": []
    },
    {
      "cell_type": "code",
      "source": [
        "# 전문에 이름 없다.\n",
        "# from collections import Counter\n",
        "\n",
        "# #이름\n",
        "# extracted_name = []\n",
        "# for sen in all_19be:\n",
        "#     if '동지' in sen :\n",
        "#         word = sen.split(' ')\n",
        "#         for idx,char in enumerate(word):\n",
        "#             if '동지' in char:\n",
        "#                 name = char.split('동지')\n",
        "#                 if name[0] == '':\n",
        "#                     extracted_name.append(word[idx-1])\n",
        "#                 elif name[0] != '위원장':\n",
        "#                     extracted_name.append(name[0])\n",
        "\n",
        "# #이름 빈도 구하기\n",
        "# name,texts_without_name  = [],[]\n",
        "# #기존 텍스트에서 앞서 추출된 이름 제거\n",
        "# for text in all_19be:\n",
        "#     extracted_nouns, remaining_text = extract_nouns(text,extracted_name)\n",
        "#     if extracted_nouns:\n",
        "#       name.append(extracted_nouns) #기존 텍스트에서 extracted_name에서 추출된 이름과 일치하면 name에 저장\n",
        "#     texts_without_name.append(remaining_text) #extracted_name에 추출된 이름을 제거한 텍스트\n",
        "\n",
        "# word_frequencies_name = synonyms_freq(name,synonym_dict)\n",
        "# name_19be = Counter(word_frequencies_name) #마지막에 모든 데이터를 합칠 때, '+'를 사용하기 위해"
      ],
      "metadata": {
        "id": "-gazII3lM80o"
      },
      "execution_count": null,
      "outputs": []
    },
    {
      "cell_type": "markdown",
      "source": [
        "### 권력구조와 정치형태 관련 단어 사용자 정의 사전을 사용하여 명사 추출"
      ],
      "metadata": {
        "id": "fVF1vFYjM80p"
      }
    },
    {
      "cell_type": "code",
      "source": [
        "#명사 추출\n",
        "extracted_PoliticalTerms,texts_without_user_nouns  = [],[]\n",
        "for text in all_19be:\n",
        "    extracted_nouns, remaining_text = extract_nouns(text,PoliticalTerms)\n",
        "    if extracted_nouns:\n",
        "      extracted_PoliticalTerms.append(extracted_nouns)\n",
        "    texts_without_user_nouns.append(remaining_text)\n",
        "#동의어 처리\n",
        "word_frequencies_PoliticalTerms = synonyms_freq(extracted_PoliticalTerms,synonym_dict)\n",
        "\n",
        "PoliticalTerms_19be = Counter(word_frequencies_PoliticalTerms)#마지막에 모든 데이터를 합칠 때, '+'를 사용하기 위해"
      ],
      "metadata": {
        "id": "PNDzHn_2M80p"
      },
      "execution_count": null,
      "outputs": []
    },
    {
      "cell_type": "markdown",
      "source": [
        "### Stopwords 제거"
      ],
      "metadata": {
        "id": "pPQZlmH_M80p"
      }
    },
    {
      "cell_type": "code",
      "source": [
        "texts_without_stopwords = [\n",
        "    remove_stopwords(text, stopwords).replace(\"조선로동\", \" \")\n",
        "    for text in texts_without_user_nouns\n",
        "]\n",
        "#' '와 같이 공백 삭제\n",
        "texts_without_stopwords = clean_text(texts_without_stopwords)"
      ],
      "metadata": {
        "id": "kI5ZJARDM80p"
      },
      "execution_count": null,
      "outputs": []
    },
    {
      "cell_type": "markdown",
      "source": [
        "### soynlp 명사 추출기 (이미 명사로 분류된 단어들은 제외)"
      ],
      "metadata": {
        "id": "ViwprXmxM80q"
      }
    },
    {
      "cell_type": "code",
      "source": [
        "from soynlp.noun import LRNounExtractor_v2\n",
        "noun_extractor = LRNounExtractor_v2(verbose=True, extract_compound=True)\n",
        "noun_extractor.train(texts_without_stopwords)\n",
        "soynlp_nouns = noun_extractor.extract()\n",
        "\n",
        "#soynlp로 추출된 명사 중 2글자 이상만 저장\n",
        "extracted_soynlp_words = [word for word in soynlp_nouns if len(word) >= 2]\n",
        "soynlp_19be = Counter(extracted_soynlp_words)\n",
        "\n",
        "#soynlp로 추출된 명사들을 texts_without_stopwords에서 삭제한다.\n",
        "texts_without_soynlp=[]\n",
        "for text in texts_without_stopwords:\n",
        "    remaining_text = remove_stopwords(text,extracted_soynlp_words)\n",
        "    texts_without_soynlp.append(remaining_text)\n",
        "\n",
        "#' '와 같이 공백 삭제\n",
        "texts_without_soynlp = clean_text(texts_without_soynlp)"
      ],
      "metadata": {
        "id": "cw7h50CjM80q"
      },
      "execution_count": null,
      "outputs": []
    },
    {
      "cell_type": "markdown",
      "source": [
        "### 북한 용어사전을 활용하여 명사 추출"
      ],
      "metadata": {
        "id": "iJ5LDHDsM80q"
      }
    },
    {
      "cell_type": "code",
      "source": [
        "extracted_nouns_NKterms,texts_without_extracted_nouns = [],[]\n",
        "for text in texts_without_soynlp:\n",
        "    extracted_nouns, remaining_text = extract_nouns(text,NKTerms)\n",
        "    if extracted_nouns:\n",
        "      extracted_nouns_NKterms.append(extracted_nouns)\n",
        "    texts_without_extracted_nouns.append(remaining_text)\n",
        "\n",
        "#동의어 처리\n",
        "word_frequencies_NKterms = synonyms_freq(extracted_nouns_NKterms,synonym_dict)\n",
        "NKterms_19be = Counter(word_frequencies_NKterms) #마지막에 모든 데이터를 합칠 때, '+'를 사용하기 위해\n",
        "\n",
        "#' '와 같이 공백 삭제\n",
        "texts_without_NKterms = clean_text(texts_without_extracted_nouns)"
      ],
      "metadata": {
        "id": "LFD2YkYxM80r"
      },
      "execution_count": null,
      "outputs": []
    },
    {
      "cell_type": "markdown",
      "source": [
        "### Mecab 명사 추출기(이미 명사로 분류된 단어들은 제외)"
      ],
      "metadata": {
        "id": "5jh0NYkJM80r"
      }
    },
    {
      "cell_type": "code",
      "source": [
        "from konlpy.tag import Mecab\n",
        "mecab = Mecab()\n",
        "mecab_nouns = []\n",
        "for text in texts_without_extracted_nouns:\n",
        "    mecab_nouns += mecab.nouns(text)\n",
        "\n",
        "mecab_nouns_clean = []\n",
        "for char in mecab_nouns:\n",
        "    if len(char)>1:\n",
        "        mecab_nouns_clean.append(char)\n",
        "\n",
        "mecab_nouns = [synonym(noun, synonym_dict) for noun in mecab_nouns_clean] #동의어 처리\n",
        "\n",
        "#단어 빈도수 계산\n",
        "mecab_19be = Counter(mecab_nouns)\n",
        "mecab_19be\n",
        "\n",
        "# 필요시\n",
        "# texts_without_mecab=[]\n",
        "# for text in texts_without_extracted_nouns:\n",
        "#     remaining_text = remove_stopwords(text,mecab_nouns)\n",
        "#     texts_without_mecab.append(remaining_text)"
      ],
      "metadata": {
        "id": "kAqyjCfUM80r"
      },
      "execution_count": null,
      "outputs": []
    },
    {
      "cell_type": "markdown",
      "source": [
        "### 모두 합하기"
      ],
      "metadata": {
        "id": "qmBSlw9bM80r"
      }
    },
    {
      "cell_type": "code",
      "source": [
        "word_all_19be = mecab_19be+soynlp_19be+NKterms_19be+PoliticalTerms_19be\n",
        "combined_all_19be = synonyms_freq(word_all_19be, synonym_dict)\n",
        "\n",
        "combined_all_19be"
      ],
      "metadata": {
        "id": "8j8nUCOmM80s"
      },
      "execution_count": null,
      "outputs": []
    },
    {
      "cell_type": "markdown",
      "source": [
        "### 결과 엑셀로 내보내기"
      ],
      "metadata": {
        "id": "raDAYHtsM80s"
      }
    },
    {
      "cell_type": "code",
      "source": [
        "doc_word_freq['19be'] = combined_all_19be"
      ],
      "metadata": {
        "id": "216ebUUgM80s"
      },
      "execution_count": null,
      "outputs": []
    },
    {
      "cell_type": "markdown",
      "source": [
        "### 단어 빈도 시각화"
      ],
      "metadata": {
        "id": "E-eVngsxM80s"
      }
    },
    {
      "cell_type": "code",
      "source": [
        "import matplotlib.font_manager as fm\n",
        "import matplotlib.pyplot as plt\n",
        "\n",
        "font_path = '/Users/kimsuyeon/Desktop/nanum-gothic/NanumGothic.ttf'\n",
        "fontprop = fm.FontProperties(fname=font_path)"
      ],
      "metadata": {
        "id": "ZhKqiNleM80s"
      },
      "execution_count": null,
      "outputs": []
    },
    {
      "cell_type": "markdown",
      "source": [
        "#### 상위 10개 단어(전문)"
      ],
      "metadata": {
        "id": "C9II_w4aM80t"
      }
    },
    {
      "cell_type": "code",
      "source": [
        "sorted_word_frequencies = Counter(combined_all_19be).most_common(10)\n",
        "words, frequencies = zip(*sorted_word_frequencies)\n",
        "\n",
        "plt.figure(figsize=(12, 8))\n",
        "plt.bar(words, frequencies, color='skyblue')\n",
        "plt.title(\"상위 10개의 명사\", fontproperties=fontprop)\n",
        "plt.ylabel(\"빈도\", fontproperties=fontprop)\n",
        "plt.xlabel(\"명사\", fontproperties=fontprop)\n",
        "plt.xticks(rotation=45, ha='right', fontproperties=fontprop)\n",
        "plt.tight_layout()\n",
        "plt.show()"
      ],
      "metadata": {
        "id": "ubnDMMI4M80t"
      },
      "execution_count": null,
      "outputs": []
    },
    {
      "cell_type": "markdown",
      "source": [
        "#### 상위 20개 단어(전문)"
      ],
      "metadata": {
        "id": "59InN9_WM80t"
      }
    },
    {
      "cell_type": "code",
      "source": [
        "sorted_word_frequencies = Counter(combined_all_19be).most_common(20)\n",
        "words, frequencies = zip(*sorted_word_frequencies)\n",
        "\n",
        "plt.figure(figsize=(12, 8))\n",
        "plt.bar(words, frequencies, color='skyblue')\n",
        "plt.title(\"상위 20개의 명사\", fontproperties=fontprop)\n",
        "plt.ylabel(\"빈도\", fontproperties=fontprop)\n",
        "plt.xlabel(\"명사\", fontproperties=fontprop)\n",
        "plt.xticks(rotation=45, ha='right', fontproperties=fontprop)\n",
        "plt.tight_layout()\n",
        "plt.show()"
      ],
      "metadata": {
        "id": "iQdAxaWdM80t"
      },
      "execution_count": null,
      "outputs": []
    },
    {
      "cell_type": "markdown",
      "source": [
        "#### 상위 30개 단어(전문)"
      ],
      "metadata": {
        "id": "dNKb9CQgM80t"
      }
    },
    {
      "cell_type": "code",
      "source": [
        "sorted_word_frequencies = Counter(combined_all_19be).most_common(30)\n",
        "words, frequencies = zip(*sorted_word_frequencies)\n",
        "\n",
        "plt.figure(figsize=(12, 8))\n",
        "plt.bar(words, frequencies, color='skyblue')\n",
        "plt.title(\"상위 30개의 명사\", fontproperties=fontprop)\n",
        "plt.ylabel(\"빈도\", fontproperties=fontprop)\n",
        "plt.xlabel(\"명사\", fontproperties=fontprop)\n",
        "plt.xticks(rotation=45, ha='right', fontproperties=fontprop)\n",
        "plt.tight_layout()\n",
        "plt.show()"
      ],
      "metadata": {
        "id": "H4jlFsoYM80t"
      },
      "execution_count": null,
      "outputs": []
    },
    {
      "cell_type": "markdown",
      "source": [
        "## 📌2018년 신년사"
      ],
      "metadata": {
        "id": "CSkdS5p_JIBI"
      }
    },
    {
      "cell_type": "code",
      "source": [
        "df_18be = read_data(6,3)\n",
        "\n",
        "all = df_18be['전문'][0]\n",
        "\n",
        "#특수기호 일차적으로 제거\n",
        "import re\n",
        "all = re.sub(r'[()《》!]', ' ', all)\n",
        "#'\\n\\n'를 기준으로 문장 나누기\n",
        "all = all.split('\\n\\n')\n",
        "#특수기호 이차적으로 ('1. ','2. ','3. ', '4. ' ,'\\n' 등) 삭제\n",
        "for idx,sent in enumerate(all):\n",
        "    if ('1. ' in sent) or ('2. ' in sent) or ('3. ' in sent) or ('4. ' in sent) or ('5. 'in sent) or ('6. 'in sent):\n",
        "        all[idx] = sent[3:]\n",
        "#제대로 안 지워진 거 다시 제거\n",
        "all_18be = []\n",
        "for text in all:\n",
        "    all_18be.append(re.sub(r'[\\n]', ' ', text))\n",
        "all_18be = all_18be[1:]\n",
        "all_18be[-1] = all_18be[-1][:60]"
      ],
      "metadata": {
        "id": "k9NCsSV0NCXr"
      },
      "execution_count": null,
      "outputs": []
    },
    {
      "cell_type": "code",
      "source": [
        "#전문에 이름 없다.\n",
        "# from collections import Counter\n",
        "\n",
        "# #이름\n",
        "# extracted_name = []\n",
        "# for sen in all_18be:\n",
        "#     if '동지' in sen :\n",
        "#         word = sen.split(' ')\n",
        "#         for idx,char in enumerate(word):\n",
        "#             if '동지' in char:\n",
        "#                 name = char.split('동지')\n",
        "#                 if name[0] == '':\n",
        "#                     extracted_name.append(word[idx-1])\n",
        "#                 elif name[0] != '위원장':\n",
        "#                     extracted_name.append(name[0])\n",
        "\n",
        "# #이름 빈도 구하기\n",
        "# name,texts_without_name  = [],[]\n",
        "# #기존 텍스트에서 앞서 추출된 이름 제거\n",
        "# for text in all_18be:\n",
        "#     extracted_nouns, remaining_text = extract_nouns(text,extracted_name)\n",
        "#     if extracted_nouns:\n",
        "#       name.append(extracted_nouns) #기존 텍스트에서 extracted_name에서 추출된 이름과 일치하면 name에 저장\n",
        "#     texts_without_name.append(remaining_text) #extracted_name에 추출된 이름을 제거한 텍스트\n",
        "\n",
        "# word_frequencies_name = synonyms_freq(name,synonym_dict)\n",
        "# name_18be = Counter(word_frequencies_name) #마지막에 모든 데이터를 합칠 때, '+'를 사용하기 위해"
      ],
      "metadata": {
        "id": "XJnkR24nNCXs"
      },
      "execution_count": null,
      "outputs": []
    },
    {
      "cell_type": "markdown",
      "source": [
        "### 권력구조와 정치형태 관련 단어 사용자 정의 사전을 사용하여 명사 추출"
      ],
      "metadata": {
        "id": "pmhAMB7BNCXt"
      }
    },
    {
      "cell_type": "code",
      "source": [
        "#명사 추출\n",
        "extracted_PoliticalTerms,texts_without_user_nouns  = [],[]\n",
        "for text in all_18be:\n",
        "    extracted_nouns, remaining_text = extract_nouns(text,PoliticalTerms)\n",
        "    if extracted_nouns:\n",
        "      extracted_PoliticalTerms.append(extracted_nouns)\n",
        "    texts_without_user_nouns.append(remaining_text)\n",
        "#동의어 처리\n",
        "word_frequencies_PoliticalTerms = synonyms_freq(extracted_PoliticalTerms,synonym_dict)\n",
        "\n",
        "PoliticalTerms_18be = Counter(word_frequencies_PoliticalTerms)#마지막에 모든 데이터를 합칠 때, '+'를 사용하기 위해"
      ],
      "metadata": {
        "id": "VlOMlCHKNCXt"
      },
      "execution_count": null,
      "outputs": []
    },
    {
      "cell_type": "markdown",
      "source": [
        "### Stopwords 제거"
      ],
      "metadata": {
        "id": "tjhkbeb2NCXt"
      }
    },
    {
      "cell_type": "code",
      "source": [
        "texts_without_stopwords = [\n",
        "    remove_stopwords(text, stopwords).replace(\"조선로동\", \" \")\n",
        "    for text in texts_without_user_nouns\n",
        "]\n",
        "#' '와 같이 공백 삭제\n",
        "texts_without_stopwords = clean_text(texts_without_stopwords)"
      ],
      "metadata": {
        "id": "gR8HlipyNCXt"
      },
      "execution_count": null,
      "outputs": []
    },
    {
      "cell_type": "markdown",
      "source": [
        "### soynlp 명사 추출기 (이미 명사로 분류된 단어들은 제외)"
      ],
      "metadata": {
        "id": "DMTEeGosNCXu"
      }
    },
    {
      "cell_type": "code",
      "source": [
        "from soynlp.noun import LRNounExtractor_v2\n",
        "noun_extractor = LRNounExtractor_v2(verbose=True, extract_compound=True)\n",
        "noun_extractor.train(texts_without_stopwords)\n",
        "soynlp_nouns = noun_extractor.extract()\n",
        "\n",
        "#soynlp로 추출된 명사 중 2글자 이상만 저장\n",
        "extracted_soynlp_words = [word for word in soynlp_nouns if len(word) >= 2]\n",
        "soynlp_18be = Counter(extracted_soynlp_words)\n",
        "\n",
        "#soynlp로 추출된 명사들을 texts_without_stopwords에서 삭제한다.\n",
        "texts_without_soynlp=[]\n",
        "for text in texts_without_stopwords:\n",
        "    remaining_text = remove_stopwords(text,extracted_soynlp_words)\n",
        "    texts_without_soynlp.append(remaining_text)\n",
        "\n",
        "#' '와 같이 공백 삭제\n",
        "texts_without_soynlp = clean_text(texts_without_soynlp)"
      ],
      "metadata": {
        "id": "WQe3JgVlNCXu"
      },
      "execution_count": null,
      "outputs": []
    },
    {
      "cell_type": "markdown",
      "source": [
        "### 북한 용어사전을 활용하여 명사 추출"
      ],
      "metadata": {
        "id": "azMyo3QENCXv"
      }
    },
    {
      "cell_type": "code",
      "source": [
        "extracted_nouns_NKterms,texts_without_extracted_nouns = [],[]\n",
        "for text in texts_without_soynlp:\n",
        "    extracted_nouns, remaining_text = extract_nouns(text,NKTerms)\n",
        "    if extracted_nouns:\n",
        "      extracted_nouns_NKterms.append(extracted_nouns)\n",
        "    texts_without_extracted_nouns.append(remaining_text)\n",
        "\n",
        "#동의어 처리\n",
        "word_frequencies_NKterms = synonyms_freq(extracted_nouns_NKterms,synonym_dict)\n",
        "NKterms_18be = Counter(word_frequencies_NKterms) # 마지막에 모든 데이터를 합칠 때, '+'를 사용하기 위해\n",
        "\n",
        "#' '와 같이 공백 삭제\n",
        "texts_without_NKterms = clean_text(texts_without_extracted_nouns)"
      ],
      "metadata": {
        "id": "ZUbVfzm1NCXv"
      },
      "execution_count": null,
      "outputs": []
    },
    {
      "cell_type": "markdown",
      "source": [
        "### Mecab 명사 추출기(이미 명사로 분류된 단어들은 제외)"
      ],
      "metadata": {
        "id": "QU0MYxjeNCXw"
      }
    },
    {
      "cell_type": "code",
      "source": [
        "from konlpy.tag import Mecab\n",
        "mecab = Mecab()\n",
        "mecab_nouns = []\n",
        "for text in texts_without_extracted_nouns:\n",
        "    mecab_nouns += mecab.nouns(text)\n",
        "\n",
        "mecab_nouns_clean = []\n",
        "for char in mecab_nouns:\n",
        "    if len(char)>1:\n",
        "        mecab_nouns_clean.append(char)\n",
        "\n",
        "mecab_nouns = [synonym(noun, synonym_dict) for noun in mecab_nouns_clean] #동의어 처리\n",
        "\n",
        "#단어 빈도수 계산\n",
        "mecab_18be = Counter(mecab_nouns)\n",
        "mecab_18be\n",
        "\n",
        "# 필요시\n",
        "# texts_without_mecab=[]\n",
        "# for text in texts_without_extracted_nouns:\n",
        "#     remaining_text = remove_stopwords(text,mecab_nouns)\n",
        "#     texts_without_mecab.append(remaining_text)"
      ],
      "metadata": {
        "id": "JCWj2CE7NCXw"
      },
      "execution_count": null,
      "outputs": []
    },
    {
      "cell_type": "markdown",
      "source": [
        "### 모두 합하기"
      ],
      "metadata": {
        "id": "RDPtrpBcNCXw"
      }
    },
    {
      "cell_type": "code",
      "source": [
        "word_all_18be = mecab_18be+soynlp_18be+NKterms_18be+PoliticalTerms_18be\n",
        "combined_all_18be = synonyms_freq(word_all_18be, synonym_dict)\n",
        "\n",
        "combined_all_18be"
      ],
      "metadata": {
        "id": "zbdOj7gZNCXw"
      },
      "execution_count": null,
      "outputs": []
    },
    {
      "cell_type": "markdown",
      "source": [
        "### 결과 엑셀로 내보내기"
      ],
      "metadata": {
        "id": "hAbWEWiUNCXx"
      }
    },
    {
      "cell_type": "code",
      "source": [
        "doc_word_freq['18be'] = combined_all_18be"
      ],
      "metadata": {
        "id": "lOlGmu9zNCXx"
      },
      "execution_count": null,
      "outputs": []
    },
    {
      "cell_type": "markdown",
      "source": [
        "### 단어 빈도 시각화"
      ],
      "metadata": {
        "id": "yTrBeE1TNCXx"
      }
    },
    {
      "cell_type": "code",
      "source": [
        "import matplotlib.font_manager as fm\n",
        "import matplotlib.pyplot as plt\n",
        "\n",
        "font_path = '/Users/kimsuyeon/Desktop/nanum-gothic/NanumGothic.ttf'\n",
        "fontprop = fm.FontProperties(fname=font_path)"
      ],
      "metadata": {
        "id": "4iUJ8A6zNCXx"
      },
      "execution_count": null,
      "outputs": []
    },
    {
      "cell_type": "markdown",
      "source": [
        "#### 상위 10개 단어(전문)"
      ],
      "metadata": {
        "id": "NkR0ImEgNCXx"
      }
    },
    {
      "cell_type": "code",
      "source": [
        "sorted_word_frequencies = Counter(combined_all_18be).most_common(10)\n",
        "words, frequencies = zip(*sorted_word_frequencies)\n",
        "\n",
        "plt.figure(figsize=(12, 8))\n",
        "plt.bar(words, frequencies, color='skyblue')\n",
        "plt.title(\"상위 10개의 명사\", fontproperties=fontprop)\n",
        "plt.ylabel(\"빈도\", fontproperties=fontprop)\n",
        "plt.xlabel(\"명사\", fontproperties=fontprop)\n",
        "plt.xticks(rotation=45, ha='right', fontproperties=fontprop)\n",
        "plt.tight_layout()\n",
        "plt.show()"
      ],
      "metadata": {
        "id": "U3q_RAtHNCXx"
      },
      "execution_count": null,
      "outputs": []
    },
    {
      "cell_type": "markdown",
      "source": [
        "#### 상위 20개 단어(전문)"
      ],
      "metadata": {
        "id": "RCBfHBwrNCXy"
      }
    },
    {
      "cell_type": "code",
      "source": [
        "sorted_word_frequencies = Counter(combined_all_18be).most_common(20)\n",
        "words, frequencies = zip(*sorted_word_frequencies)\n",
        "\n",
        "plt.figure(figsize=(12, 8))\n",
        "plt.bar(words, frequencies, color='skyblue')\n",
        "plt.title(\"상위 20개의 명사\", fontproperties=fontprop)\n",
        "plt.ylabel(\"빈도\", fontproperties=fontprop)\n",
        "plt.xlabel(\"명사\", fontproperties=fontprop)\n",
        "plt.xticks(rotation=45, ha='right', fontproperties=fontprop)\n",
        "plt.tight_layout()\n",
        "plt.show()"
      ],
      "metadata": {
        "id": "3mUm6kv2NCXy"
      },
      "execution_count": null,
      "outputs": []
    },
    {
      "cell_type": "markdown",
      "source": [
        "#### 상위 30개 단어(전문)"
      ],
      "metadata": {
        "id": "epWQ5PLiNCXy"
      }
    },
    {
      "cell_type": "code",
      "source": [
        "sorted_word_frequencies = Counter(combined_all_18be).most_common(30)\n",
        "words, frequencies = zip(*sorted_word_frequencies)\n",
        "\n",
        "plt.figure(figsize=(12, 8))\n",
        "plt.bar(words, frequencies, color='skyblue')\n",
        "plt.title(\"상위 30개의 명사\", fontproperties=fontprop)\n",
        "plt.ylabel(\"빈도\", fontproperties=fontprop)\n",
        "plt.xlabel(\"명사\", fontproperties=fontprop)\n",
        "plt.xticks(rotation=45, ha='right', fontproperties=fontprop)\n",
        "plt.tight_layout()\n",
        "plt.show()"
      ],
      "metadata": {
        "id": "hC3QYoLANCXy"
      },
      "execution_count": null,
      "outputs": []
    },
    {
      "cell_type": "markdown",
      "source": [
        "## 📌2017년 신년사"
      ],
      "metadata": {
        "id": "2PPcav8cJJul"
      }
    },
    {
      "cell_type": "code",
      "source": [
        "df_17be = read_data(7,3)\n",
        "all = df_17be['전문'][0]\n",
        "\n",
        "#특수기호 일차적으로 제거\n",
        "import re\n",
        "all = re.sub(r'[()《》!]', ' ', all)\n",
        "#'\\n\\n'를 기준으로 문장 나누기\n",
        "all = all.split('\\n\\n')\n",
        "#특수기호 이차적으로 ('1. ','2. ','3. ', '4. ' ,'\\n' 등) 삭제\n",
        "for idx,sent in enumerate(all):\n",
        "    if ('1. ' in sent) or ('2. ' in sent) or ('3. ' in sent) or ('4. ' in sent) or ('5. 'in sent) or ('6. 'in sent):\n",
        "        all[idx] = sent[3:]\n",
        "#제대로 안 지워진 거 다시 제거\n",
        "all_17be = []\n",
        "for text in all:\n",
        "    all_17be.append(re.sub(r'[\\n]', ' ', text))"
      ],
      "metadata": {
        "id": "XFd854PRNOLN"
      },
      "execution_count": null,
      "outputs": []
    },
    {
      "cell_type": "code",
      "source": [
        "#전문에 이름 없다.\n",
        "# from collections import Counter\n",
        "\n",
        "# #이름\n",
        "# extracted_name = []\n",
        "# for sen in all_17be:\n",
        "#     if '동지' in sen :\n",
        "#         word = sen.split(' ')\n",
        "#         for idx,char in enumerate(word):\n",
        "#             if '동지' in char:\n",
        "#                 name = char.split('동지')\n",
        "#                 if name[0] == '':\n",
        "#                     extracted_name.append(word[idx-1])\n",
        "#                 elif name[0] != '위원장':\n",
        "#                     extracted_name.append(name[0])\n",
        "\n",
        "# #이름 빈도 구하기\n",
        "# name,texts_without_name  = [],[]\n",
        "# #기존 텍스트에서 앞서 추출된 이름 제거\n",
        "# for text in all_17be:\n",
        "#     extracted_nouns, remaining_text = extract_nouns(text,extracted_name)\n",
        "#     if extracted_nouns:\n",
        "#       name.append(extracted_nouns) #기존 텍스트에서 extracted_name에서 추출된 이름과 일치하면 name에 저장\n",
        "#     texts_without_name.append(remaining_text) #extracted_name에 추출된 이름을 제거한 텍스트\n",
        "\n",
        "# word_frequencies_name = synonyms_freq(name,synonym_dict)\n",
        "# name_17be = Counter(word_frequencies_name) #마지막에 모든 데이터를 합칠 때, '+'를 사용하기 위해"
      ],
      "metadata": {
        "id": "5nG4baiqNOLN"
      },
      "execution_count": null,
      "outputs": []
    },
    {
      "cell_type": "markdown",
      "source": [
        "### 권력구조와 정치형태 관련 단어 사용자 정의 사전을 사용하여 명사 추출"
      ],
      "metadata": {
        "id": "UZAPxsK9NOLN"
      }
    },
    {
      "cell_type": "code",
      "source": [
        "#명사 추출\n",
        "extracted_PoliticalTerms,texts_without_user_nouns  = [],[]\n",
        "for text in all_17be:\n",
        "    extracted_nouns, remaining_text = extract_nouns(text,PoliticalTerms)\n",
        "    if extracted_nouns:\n",
        "      extracted_PoliticalTerms.append(extracted_nouns)\n",
        "    texts_without_user_nouns.append(remaining_text)\n",
        "#동의어 처리\n",
        "word_frequencies_PoliticalTerms = synonyms_freq(extracted_PoliticalTerms,synonym_dict)\n",
        "\n",
        "PoliticalTerms_17be = Counter(word_frequencies_PoliticalTerms)#마지막에 모든 데이터를 합칠 때, '+'를 사용하기 위해"
      ],
      "metadata": {
        "id": "f1a5MvJ4NOLO"
      },
      "execution_count": null,
      "outputs": []
    },
    {
      "cell_type": "markdown",
      "source": [
        "### Stopwords 제거"
      ],
      "metadata": {
        "id": "Kec6OZCWNOLO"
      }
    },
    {
      "cell_type": "code",
      "source": [
        "texts_without_stopwords = [\n",
        "    remove_stopwords(text, stopwords).replace(\"조선로동\", \" \")\n",
        "    for text in texts_without_user_nouns\n",
        "]\n",
        "#' '와 같이 공백 삭제\n",
        "texts_without_stopwords = clean_text(texts_without_stopwords)"
      ],
      "metadata": {
        "id": "vazu2cpKNOLO"
      },
      "execution_count": null,
      "outputs": []
    },
    {
      "cell_type": "markdown",
      "source": [
        "### soynlp 명사 추출기 (이미 명사로 분류된 단어들은 제외)"
      ],
      "metadata": {
        "id": "SjOwTLhnNOLO"
      }
    },
    {
      "cell_type": "code",
      "source": [
        "from soynlp.noun import LRNounExtractor_v2\n",
        "noun_extractor = LRNounExtractor_v2(verbose=True, extract_compound=True)\n",
        "noun_extractor.train(texts_without_stopwords)\n",
        "soynlp_nouns = noun_extractor.extract()\n",
        "\n",
        "#soynlp로 추출된 명사 중 2글자 이상만 저장\n",
        "extracted_soynlp_words = [word for word in soynlp_nouns if len(word) >= 2]\n",
        "soynlp_17be = Counter(extracted_soynlp_words)\n",
        "\n",
        "#soynlp로 추출된 명사들을 texts_without_stopwords에서 삭제한다.\n",
        "texts_without_soynlp=[]\n",
        "for text in texts_without_stopwords:\n",
        "    remaining_text = remove_stopwords(text,extracted_soynlp_words)\n",
        "    texts_without_soynlp.append(remaining_text)\n",
        "\n",
        "#' '와 같이 공백 삭제\n",
        "texts_without_soynlp = clean_text(texts_without_soynlp)"
      ],
      "metadata": {
        "id": "uRVa4rmxNOLO"
      },
      "execution_count": null,
      "outputs": []
    },
    {
      "cell_type": "markdown",
      "source": [
        "### 북한 용어사전을 활용하여 명사 추출"
      ],
      "metadata": {
        "id": "6v82QA13NOLO"
      }
    },
    {
      "cell_type": "code",
      "source": [
        "extracted_nouns_NKterms,texts_without_extracted_nouns = [],[]\n",
        "for text in texts_without_soynlp:\n",
        "    extracted_nouns, remaining_text = extract_nouns(text,NKTerms)\n",
        "    if extracted_nouns:\n",
        "      extracted_nouns_NKterms.append(extracted_nouns)\n",
        "    texts_without_extracted_nouns.append(remaining_text)\n",
        "\n",
        "#동의어 처리\n",
        "word_frequencies_NKterms = synonyms_freq(extracted_nouns_NKterms,synonym_dict)\n",
        "NKterms_17be = Counter(word_frequencies_NKterms) # 마지막에 모든 데이터를 합칠 때, '+'를 사용하기 위해\n",
        "\n",
        "#' '와 같이 공백 삭제\n",
        "texts_without_NKterms = clean_text(texts_without_extracted_nouns)"
      ],
      "metadata": {
        "id": "q7BxfvX6NOLP"
      },
      "execution_count": null,
      "outputs": []
    },
    {
      "cell_type": "markdown",
      "source": [
        "### Mecab 명사 추출기(이미 명사로 분류된 단어들은 제외)"
      ],
      "metadata": {
        "id": "3N_aSo-fNOLP"
      }
    },
    {
      "cell_type": "code",
      "source": [
        "from konlpy.tag import Mecab\n",
        "mecab = Mecab()\n",
        "mecab_nouns = []\n",
        "for text in texts_without_extracted_nouns:\n",
        "    mecab_nouns += mecab.nouns(text)\n",
        "\n",
        "mecab_nouns_clean = []\n",
        "for char in mecab_nouns:\n",
        "    if len(char)>1:\n",
        "        mecab_nouns_clean.append(char)\n",
        "\n",
        "mecab_nouns = [synonym(noun, synonym_dict) for noun in mecab_nouns_clean] #동의어 처리\n",
        "\n",
        "#단어 빈도수 계산\n",
        "mecab_17be = Counter(mecab_nouns)\n",
        "mecab_17be\n",
        "\n",
        "# 필요시\n",
        "# texts_without_mecab=[]\n",
        "# for text in texts_without_extracted_nouns:\n",
        "#     remaining_text = remove_stopwords(text,mecab_nouns)\n",
        "#     texts_without_mecab.append(remaining_text)"
      ],
      "metadata": {
        "id": "VF0I7brMNOLP"
      },
      "execution_count": null,
      "outputs": []
    },
    {
      "cell_type": "markdown",
      "source": [
        "### 모두 합하기"
      ],
      "metadata": {
        "id": "hGaqz7gHNOLP"
      }
    },
    {
      "cell_type": "code",
      "source": [
        "word_all_17be = mecab_17be+soynlp_17be+NKterms_17be+PoliticalTerms_17be\n",
        "combined_all_17be = synonyms_freq(word_all_17be, synonym_dict)\n",
        "\n",
        "combined_all_17be"
      ],
      "metadata": {
        "id": "pkusM_6QNOLP"
      },
      "execution_count": null,
      "outputs": []
    },
    {
      "cell_type": "markdown",
      "source": [
        "### 결과 엑셀로 내보내기"
      ],
      "metadata": {
        "id": "Vg6RBTxXNOLP"
      }
    },
    {
      "cell_type": "code",
      "source": [
        "doc_word_freq['17be'] = combined_all_17be"
      ],
      "metadata": {
        "id": "M8JBnTlwNOLP"
      },
      "execution_count": null,
      "outputs": []
    },
    {
      "cell_type": "markdown",
      "source": [
        "### 단어 빈도 시각화"
      ],
      "metadata": {
        "id": "7PFdmCS5NOLP"
      }
    },
    {
      "cell_type": "code",
      "source": [
        "import matplotlib.font_manager as fm\n",
        "import matplotlib.pyplot as plt\n",
        "\n",
        "font_path = '/Users/kimsuyeon/Desktop/nanum-gothic/NanumGothic.ttf'\n",
        "fontprop = fm.FontProperties(fname=font_path)"
      ],
      "metadata": {
        "id": "-4Ot7VMkNOLQ"
      },
      "execution_count": null,
      "outputs": []
    },
    {
      "cell_type": "markdown",
      "source": [
        "#### 상위 10개 단어(전문)"
      ],
      "metadata": {
        "id": "s6q0I-c-NOLQ"
      }
    },
    {
      "cell_type": "code",
      "source": [
        "sorted_word_frequencies = Counter(combined_all_17be).most_common(10)\n",
        "words, frequencies = zip(*sorted_word_frequencies)\n",
        "\n",
        "plt.figure(figsize=(12, 8))\n",
        "plt.bar(words, frequencies, color='skyblue')\n",
        "plt.title(\"상위 10개의 명사\", fontproperties=fontprop)\n",
        "plt.ylabel(\"빈도\", fontproperties=fontprop)\n",
        "plt.xlabel(\"명사\", fontproperties=fontprop)\n",
        "plt.xticks(rotation=45, ha='right', fontproperties=fontprop)\n",
        "plt.tight_layout()\n",
        "plt.show()"
      ],
      "metadata": {
        "id": "lS0qEncVNOLQ"
      },
      "execution_count": null,
      "outputs": []
    },
    {
      "cell_type": "markdown",
      "source": [
        "#### 상위 20개 단어(전문)"
      ],
      "metadata": {
        "id": "UAyg6tMBNOLQ"
      }
    },
    {
      "cell_type": "code",
      "source": [
        "sorted_word_frequencies = Counter(combined_all_17be).most_common(20)\n",
        "words, frequencies = zip(*sorted_word_frequencies)\n",
        "\n",
        "plt.figure(figsize=(12, 8))\n",
        "plt.bar(words, frequencies, color='skyblue')\n",
        "plt.title(\"상위 20개의 명사\", fontproperties=fontprop)\n",
        "plt.ylabel(\"빈도\", fontproperties=fontprop)\n",
        "plt.xlabel(\"명사\", fontproperties=fontprop)\n",
        "plt.xticks(rotation=45, ha='right', fontproperties=fontprop)\n",
        "plt.tight_layout()\n",
        "plt.show()"
      ],
      "metadata": {
        "id": "ISFIkHeVNOLQ"
      },
      "execution_count": null,
      "outputs": []
    },
    {
      "cell_type": "markdown",
      "source": [
        "#### 상위 30개 단어(전문)"
      ],
      "metadata": {
        "id": "oDhB2ul2NOLQ"
      }
    },
    {
      "cell_type": "code",
      "source": [
        "sorted_word_frequencies = Counter(combined_all_17be).most_common(30)\n",
        "words, frequencies = zip(*sorted_word_frequencies)\n",
        "\n",
        "plt.figure(figsize=(12, 8))\n",
        "plt.bar(words, frequencies, color='skyblue')\n",
        "plt.title(\"상위 30개의 명사\", fontproperties=fontprop)\n",
        "plt.ylabel(\"빈도\", fontproperties=fontprop)\n",
        "plt.xlabel(\"명사\", fontproperties=fontprop)\n",
        "plt.xticks(rotation=45, ha='right', fontproperties=fontprop)\n",
        "plt.tight_layout()\n",
        "plt.show()"
      ],
      "metadata": {
        "id": "Oer1DOyQNOLQ"
      },
      "execution_count": null,
      "outputs": []
    },
    {
      "cell_type": "markdown",
      "source": [
        "## 📌2016년 신년사"
      ],
      "metadata": {
        "id": "wjf6B6dTJLwB"
      }
    },
    {
      "cell_type": "code",
      "source": [
        "df_16be = read_data(8,3)\n",
        "\n",
        "all = df_16be['전문'][0]\n",
        "\n",
        "#특수기호 일차적으로 제거\n",
        "import re\n",
        "all = re.sub(r'[()《》!]', ' ', all)\n",
        "#'\\n\\n'를 기준으로 문장 나누기\n",
        "all = all.split('\\n\\n')\n",
        "#특수기호 이차적으로 ('1. ','2. ','3. ', '4. ' ,'\\n' 등) 삭제\n",
        "for idx,sent in enumerate(all):\n",
        "    if ('1. ' in sent) or ('2. ' in sent) or ('3. ' in sent) or ('4. ' in sent) or ('5. 'in sent) or ('6. 'in sent):\n",
        "        all[idx] = sent[3:]\n",
        "#제대로 안 지워진 거 다시 제거\n",
        "all_16be = []\n",
        "for text in all:\n",
        "    all_16be.append(re.sub(r'[\\n]', ' ', text))"
      ],
      "metadata": {
        "id": "Miv3XqMYNMkv"
      },
      "execution_count": null,
      "outputs": []
    },
    {
      "cell_type": "code",
      "source": [
        "# 전문에 이름 없다.\n",
        "# from collections import Counter\n",
        "\n",
        "# #이름\n",
        "# extracted_name = []\n",
        "# for sen in all_16be:\n",
        "#     if '동지' in sen :\n",
        "#         word = sen.split(' ')\n",
        "#         for idx,char in enumerate(word):\n",
        "#             if '동지' in char:\n",
        "#                 name = char.split('동지')\n",
        "#                 if name[0] == '':\n",
        "#                     extracted_name.append(word[idx-1])\n",
        "#                 elif name[0] != '위원장':\n",
        "#                     extracted_name.append(name[0])\n",
        "\n",
        "# #이름 빈도 구하기\n",
        "# name,texts_without_name  = [],[]\n",
        "# #기존 텍스트에서 앞서 추출된 이름 제거\n",
        "# for text in all_16be:\n",
        "#     extracted_nouns, remaining_text = extract_nouns(text,extracted_name)\n",
        "#     if extracted_nouns:\n",
        "#       name.append(extracted_nouns) #기존 텍스트에서 extracted_name에서 추출된 이름과 일치하면 name에 저장\n",
        "#     texts_without_name.append(remaining_text) #extracted_name에 추출된 이름을 제거한 텍스트\n",
        "\n",
        "# word_frequencies_name = synonyms_freq(name,synonym_dict)\n",
        "# name_16be = Counter(word_frequencies_name) #마지막에 모든 데이터를 합칠 때, '+'를 사용하기 위해"
      ],
      "metadata": {
        "id": "Ju5zdLrINMk8"
      },
      "execution_count": null,
      "outputs": []
    },
    {
      "cell_type": "markdown",
      "source": [
        "### 권력구조와 정치형태 관련 단어 사용자 정의 사전을 사용하여 명사 추출"
      ],
      "metadata": {
        "id": "TjzO2h84NMk8"
      }
    },
    {
      "cell_type": "code",
      "source": [
        "#명사 추출\n",
        "extracted_PoliticalTerms,texts_without_user_nouns  = [],[]\n",
        "for text in all_16be:\n",
        "    extracted_nouns, remaining_text = extract_nouns(text,PoliticalTerms)\n",
        "    if extracted_nouns:\n",
        "      extracted_PoliticalTerms.append(extracted_nouns)\n",
        "    texts_without_user_nouns.append(remaining_text)\n",
        "#동의어 처리\n",
        "word_frequencies_PoliticalTerms = synonyms_freq(extracted_PoliticalTerms,synonym_dict)\n",
        "\n",
        "PoliticalTerms_16be = Counter(word_frequencies_PoliticalTerms)#마지막에 모든 데이터를 합칠 때, '+'를 사용하기 위해"
      ],
      "metadata": {
        "id": "rxa-cJ91NMk8"
      },
      "execution_count": null,
      "outputs": []
    },
    {
      "cell_type": "markdown",
      "source": [
        "### Stopwords 제거"
      ],
      "metadata": {
        "id": "WMtQ27NMNMk8"
      }
    },
    {
      "cell_type": "code",
      "source": [
        "texts_without_stopwords = [\n",
        "    remove_stopwords(text, stopwords).replace(\"조선로동\", \" \")\n",
        "    for text in texts_without_user_nouns\n",
        "]\n",
        "#' '와 같이 공백 삭제\n",
        "texts_without_stopwords = clean_text(texts_without_stopwords)"
      ],
      "metadata": {
        "id": "fjfjznAMNMk9"
      },
      "execution_count": null,
      "outputs": []
    },
    {
      "cell_type": "markdown",
      "source": [
        "### soynlp 명사 추출기 (이미 명사로 분류된 단어들은 제외)"
      ],
      "metadata": {
        "id": "f-AUBZEGNMk9"
      }
    },
    {
      "cell_type": "code",
      "source": [
        "from soynlp.noun import LRNounExtractor_v2\n",
        "noun_extractor = LRNounExtractor_v2(verbose=True, extract_compound=True)\n",
        "noun_extractor.train(texts_without_stopwords)\n",
        "soynlp_nouns = noun_extractor.extract()\n",
        "\n",
        "#soynlp로 추출된 명사 중 2글자 이상만 저장\n",
        "extracted_soynlp_words = [word for word in soynlp_nouns if len(word) >= 2]\n",
        "soynlp_16be = Counter(extracted_soynlp_words)\n",
        "\n",
        "#soynlp로 추출된 명사들을 texts_without_stopwords에서 삭제한다.\n",
        "texts_without_soynlp=[]\n",
        "for text in texts_without_stopwords:\n",
        "    remaining_text = remove_stopwords(text,extracted_soynlp_words)\n",
        "    texts_without_soynlp.append(remaining_text)\n",
        "\n",
        "#' '와 같이 공백 삭제\n",
        "texts_without_soynlp = clean_text(texts_without_soynlp)"
      ],
      "metadata": {
        "id": "q9lg1_2WNMk9"
      },
      "execution_count": null,
      "outputs": []
    },
    {
      "cell_type": "markdown",
      "source": [
        "### 북한 용어사전을 활용하여 명사 추출"
      ],
      "metadata": {
        "id": "zX5k-7HWNMk9"
      }
    },
    {
      "cell_type": "code",
      "source": [
        "extracted_nouns_NKterms,texts_without_extracted_nouns = [],[]\n",
        "for text in texts_without_soynlp:\n",
        "    extracted_nouns, remaining_text = extract_nouns(text,NKTerms)\n",
        "    if extracted_nouns:\n",
        "      extracted_nouns_NKterms.append(extracted_nouns)\n",
        "    texts_without_extracted_nouns.append(remaining_text)\n",
        "\n",
        "#동의어 처리\n",
        "word_frequencies_NKterms = synonyms_freq(extracted_nouns_NKterms,synonym_dict)\n",
        "NKterms_16be = Counter(word_frequencies_NKterms) # 마지막에 모든 데이터를 합칠 때, '+'를 사용하기 위해\n",
        "\n",
        "#' '와 같이 공백 삭제\n",
        "texts_without_NKterms = clean_text(texts_without_extracted_nouns)"
      ],
      "metadata": {
        "id": "n23d2TiCNMk9"
      },
      "execution_count": null,
      "outputs": []
    },
    {
      "cell_type": "markdown",
      "source": [
        "### Mecab 명사 추출기(이미 명사로 분류된 단어들은 제외)"
      ],
      "metadata": {
        "id": "TQ9ls1BQNMk-"
      }
    },
    {
      "cell_type": "code",
      "source": [
        "from konlpy.tag import Mecab\n",
        "mecab = Mecab()\n",
        "mecab_nouns = []\n",
        "for text in texts_without_extracted_nouns:\n",
        "    mecab_nouns += mecab.nouns(text)\n",
        "\n",
        "mecab_nouns_clean = []\n",
        "for char in mecab_nouns:\n",
        "    if len(char)>1:\n",
        "        mecab_nouns_clean.append(char)\n",
        "\n",
        "mecab_nouns = [synonym(noun, synonym_dict) for noun in mecab_nouns_clean] #동의어 처리\n",
        "\n",
        "#단어 빈도수 계산\n",
        "mecab_16be = Counter(mecab_nouns)\n",
        "mecab_16be\n",
        "\n",
        "# 필요시\n",
        "# texts_without_mecab=[]\n",
        "# for text in texts_without_extracted_nouns:\n",
        "#     remaining_text = remove_stopwords(text,mecab_nouns)\n",
        "#     texts_without_mecab.append(remaining_text)"
      ],
      "metadata": {
        "id": "Jc4AE65ONMk-"
      },
      "execution_count": null,
      "outputs": []
    },
    {
      "cell_type": "markdown",
      "source": [
        "### 모두 합하기"
      ],
      "metadata": {
        "id": "sQk4lTDVNMk-"
      }
    },
    {
      "cell_type": "code",
      "source": [
        "word_all_16be = mecab_16be+soynlp_16be+NKterms_16be+PoliticalTerms_16be\n",
        "combined_all_16be = synonyms_freq(word_all_16be, synonym_dict)\n",
        "\n",
        "combined_all_16be"
      ],
      "metadata": {
        "id": "ajU76TIZNMk-"
      },
      "execution_count": null,
      "outputs": []
    },
    {
      "cell_type": "markdown",
      "source": [
        "### 결과 엑셀로 내보내기"
      ],
      "metadata": {
        "id": "XZQVa_bHNMk-"
      }
    },
    {
      "cell_type": "code",
      "source": [
        "doc_word_freq['16be'] = combined_all_16be"
      ],
      "metadata": {
        "id": "sv7Gkns3NMk-"
      },
      "execution_count": null,
      "outputs": []
    },
    {
      "cell_type": "markdown",
      "source": [
        "### 단어 빈도 시각화"
      ],
      "metadata": {
        "id": "Zw-_3IjhNMk_"
      }
    },
    {
      "cell_type": "code",
      "source": [
        "import matplotlib.font_manager as fm\n",
        "import matplotlib.pyplot as plt\n",
        "\n",
        "font_path = '/Users/kimsuyeon/Desktop/nanum-gothic/NanumGothic.ttf'\n",
        "fontprop = fm.FontProperties(fname=font_path)"
      ],
      "metadata": {
        "id": "Ri1tmJJ4NMk_"
      },
      "execution_count": null,
      "outputs": []
    },
    {
      "cell_type": "markdown",
      "source": [
        "#### 상위 10개 단어(전문)"
      ],
      "metadata": {
        "id": "1wNh9Jv9NMk_"
      }
    },
    {
      "cell_type": "code",
      "source": [
        "sorted_word_frequencies = Counter(combined_all_16be).most_common(10)\n",
        "words, frequencies = zip(*sorted_word_frequencies)\n",
        "\n",
        "plt.figure(figsize=(12, 8))\n",
        "plt.bar(words, frequencies, color='skyblue')\n",
        "plt.title(\"상위 10개의 명사\", fontproperties=fontprop)\n",
        "plt.ylabel(\"빈도\", fontproperties=fontprop)\n",
        "plt.xlabel(\"명사\", fontproperties=fontprop)\n",
        "plt.xticks(rotation=45, ha='right', fontproperties=fontprop)\n",
        "plt.tight_layout()\n",
        "plt.show()"
      ],
      "metadata": {
        "id": "LDIye0EdNMk_"
      },
      "execution_count": null,
      "outputs": []
    },
    {
      "cell_type": "markdown",
      "source": [
        "#### 상위 20개 단어(전문)"
      ],
      "metadata": {
        "id": "vve8JzyFNMk_"
      }
    },
    {
      "cell_type": "code",
      "source": [
        "sorted_word_frequencies = Counter(combined_all_16be).most_common(20)\n",
        "words, frequencies = zip(*sorted_word_frequencies)\n",
        "\n",
        "plt.figure(figsize=(12, 8))\n",
        "plt.bar(words, frequencies, color='skyblue')\n",
        "plt.title(\"상위 20개의 명사\", fontproperties=fontprop)\n",
        "plt.ylabel(\"빈도\", fontproperties=fontprop)\n",
        "plt.xlabel(\"명사\", fontproperties=fontprop)\n",
        "plt.xticks(rotation=45, ha='right', fontproperties=fontprop)\n",
        "plt.tight_layout()\n",
        "plt.show()"
      ],
      "metadata": {
        "id": "OPAiVlUHNMk_"
      },
      "execution_count": null,
      "outputs": []
    },
    {
      "cell_type": "markdown",
      "source": [
        "#### 상위 30개 단어(전문)"
      ],
      "metadata": {
        "id": "L9s4eDZ3NMlA"
      }
    },
    {
      "cell_type": "code",
      "source": [
        "sorted_word_frequencies = Counter(combined_all_16be).most_common(30)\n",
        "words, frequencies = zip(*sorted_word_frequencies)\n",
        "\n",
        "plt.figure(figsize=(12, 8))\n",
        "plt.bar(words, frequencies, color='skyblue')\n",
        "plt.title(\"상위 30개의 명사\", fontproperties=fontprop)\n",
        "plt.ylabel(\"빈도\", fontproperties=fontprop)\n",
        "plt.xlabel(\"명사\", fontproperties=fontprop)\n",
        "plt.xticks(rotation=45, ha='right', fontproperties=fontprop)\n",
        "plt.tight_layout()\n",
        "plt.show()"
      ],
      "metadata": {
        "id": "G9w_j_RQNMlA"
      },
      "execution_count": null,
      "outputs": []
    },
    {
      "cell_type": "markdown",
      "source": [
        "## 📌2015년 신년사"
      ],
      "metadata": {
        "id": "hKdXB7B-JM6p"
      }
    },
    {
      "cell_type": "code",
      "source": [
        "df_15be = read_data(9,3)\n",
        "\n",
        "all = df_15be['전문'][0]\n",
        "\n",
        "#특수기호 일차적으로 제거\n",
        "import re\n",
        "all = re.sub(r'[()《》!]', ' ', all)\n",
        "#'\\n\\n'를 기준으로 문장 나누기\n",
        "all = all.split('\\n\\n')\n",
        "#특수기호 이차적으로 ('1. ','2. ','3. ', '4. ' ,'\\n' 등) 삭제\n",
        "for idx,sent in enumerate(all):\n",
        "    if ('1. ' in sent) or ('2. ' in sent) or ('3. ' in sent) or ('4. ' in sent) or ('5. 'in sent) or ('6. 'in sent):\n",
        "        all[idx] = sent[3:]\n",
        "#제대로 안 지워진 거 다시 제거\n",
        "all_15be = []\n",
        "for text in all:\n",
        "    all_15be.append(re.sub(r'[\\n]', ' ', text))\n",
        "all_15be = all_15be[2:]\n",
        "all_15be = all_15be[:-1]"
      ],
      "metadata": {
        "id": "eK-IpVQKNKxy"
      },
      "execution_count": null,
      "outputs": []
    },
    {
      "cell_type": "code",
      "source": [
        "#전문에 이름 언급 없다.\n",
        "# from collections import Counter\n",
        "\n",
        "# #이름\n",
        "# extracted_name = []\n",
        "# for sen in all_15be:\n",
        "#     if '동지' in sen :\n",
        "#         word = sen.split(' ')\n",
        "#         for idx,char in enumerate(word):\n",
        "#             if '동지' in char:\n",
        "#                 name = char.split('동지')\n",
        "#                 if name[0] == '':\n",
        "#                     extracted_name.append(word[idx-1])\n",
        "#                 elif name[0] != '위원장':\n",
        "#                     extracted_name.append(name[0])\n",
        "\n",
        "# #이름 빈도 구하기\n",
        "# name,texts_without_name  = [],[]\n",
        "# #기존 텍스트에서 앞서 추출된 이름 제거\n",
        "# for text in all_15be:\n",
        "#     extracted_nouns, remaining_text = extract_nouns(text,extracted_name)\n",
        "#     if extracted_nouns:\n",
        "#       name.append(extracted_nouns) #기존 텍스트에서 extracted_name에서 추출된 이름과 일치하면 name에 저장\n",
        "#     texts_without_name.append(remaining_text) #extracted_name에 추출된 이름을 제거한 텍스트\n",
        "\n",
        "# word_frequencies_name = synonyms_freq(name,synonym_dict)\n",
        "# name_15be = Counter(word_frequencies_name) #마지막에 모든 데이터를 합칠 때, '+'를 사용하기 위해"
      ],
      "metadata": {
        "id": "MxwOSd3mNKxy"
      },
      "execution_count": null,
      "outputs": []
    },
    {
      "cell_type": "markdown",
      "source": [
        "### 권력구조와 정치형태 관련 단어 사용자 정의 사전을 사용하여 명사 추출"
      ],
      "metadata": {
        "id": "hB-Em_9ENKxz"
      }
    },
    {
      "cell_type": "code",
      "source": [
        "#명사 추출\n",
        "extracted_PoliticalTerms,texts_without_user_nouns  = [],[]\n",
        "for text in all_15be:\n",
        "    extracted_nouns, remaining_text = extract_nouns(text,PoliticalTerms)\n",
        "    if extracted_nouns:\n",
        "      extracted_PoliticalTerms.append(extracted_nouns)\n",
        "    texts_without_user_nouns.append(remaining_text)\n",
        "#동의어 처리\n",
        "word_frequencies_PoliticalTerms = synonyms_freq(extracted_PoliticalTerms,synonym_dict)\n",
        "\n",
        "PoliticalTerms_15be = Counter(word_frequencies_PoliticalTerms)#마지막에 모든 데이터를 합칠 때, '+'를 사용하기 위해"
      ],
      "metadata": {
        "id": "jkuDL1hjNKxz"
      },
      "execution_count": null,
      "outputs": []
    },
    {
      "cell_type": "markdown",
      "source": [
        "### Stopwords 제거"
      ],
      "metadata": {
        "id": "b8jqhjfBNKxz"
      }
    },
    {
      "cell_type": "code",
      "source": [
        "texts_without_stopwords = [\n",
        "    remove_stopwords(text, stopwords).replace(\"조선로동\", \" \")\n",
        "    for text in texts_without_user_nouns\n",
        "]\n",
        "#' '와 같이 공백 삭제\n",
        "texts_without_stopwords = clean_text(texts_without_stopwords)"
      ],
      "metadata": {
        "id": "9xjKgH7oNKxz"
      },
      "execution_count": null,
      "outputs": []
    },
    {
      "cell_type": "markdown",
      "source": [
        "### soynlp 명사 추출기 (이미 명사로 분류된 단어들은 제외)"
      ],
      "metadata": {
        "id": "tv-whWJvNKxz"
      }
    },
    {
      "cell_type": "code",
      "source": [
        "from soynlp.noun import LRNounExtractor_v2\n",
        "noun_extractor = LRNounExtractor_v2(verbose=True, extract_compound=True)\n",
        "noun_extractor.train(texts_without_stopwords)\n",
        "soynlp_nouns = noun_extractor.extract()\n",
        "\n",
        "#soynlp로 추출된 명사 중 2글자 이상만 저장\n",
        "extracted_soynlp_words = [word for word in soynlp_nouns if len(word) >= 2]\n",
        "soynlp_15be = Counter(extracted_soynlp_words)\n",
        "\n",
        "#soynlp로 추출된 명사들을 texts_without_stopwords에서 삭제한다.\n",
        "texts_without_soynlp=[]\n",
        "for text in texts_without_stopwords:\n",
        "    remaining_text = remove_stopwords(text,extracted_soynlp_words)\n",
        "    texts_without_soynlp.append(remaining_text)\n",
        "\n",
        "#' '와 같이 공백 삭제\n",
        "texts_without_soynlp = clean_text(texts_without_soynlp)"
      ],
      "metadata": {
        "id": "lF-GDXwbNKx0"
      },
      "execution_count": null,
      "outputs": []
    },
    {
      "cell_type": "markdown",
      "source": [
        "### 북한 용어사전을 활용하여 명사 추출"
      ],
      "metadata": {
        "id": "uIB9V8ZsNKx0"
      }
    },
    {
      "cell_type": "code",
      "source": [
        "extracted_nouns_NKterms,texts_without_extracted_nouns = [],[]\n",
        "for text in texts_without_soynlp:\n",
        "    extracted_nouns, remaining_text = extract_nouns(text,NKTerms)\n",
        "    if extracted_nouns:\n",
        "      extracted_nouns_NKterms.append(extracted_nouns)\n",
        "    texts_without_extracted_nouns.append(remaining_text)\n",
        "\n",
        "#동의어 처리\n",
        "word_frequencies_NKterms = synonyms_freq(extracted_nouns_NKterms,synonym_dict)\n",
        "NKterms_15be = Counter(word_frequencies_NKterms) # 마지막에 모든 데이터를 합칠 때, '+'를 사용하기 위해\n",
        "\n",
        "#' '와 같이 공백 삭제\n",
        "texts_without_NKterms = clean_text(texts_without_extracted_nouns)"
      ],
      "metadata": {
        "id": "jsQ75MKVNKx0"
      },
      "execution_count": null,
      "outputs": []
    },
    {
      "cell_type": "markdown",
      "source": [
        "### Mecab 명사 추출기(이미 명사로 분류된 단어들은 제외)"
      ],
      "metadata": {
        "id": "vOfatEjRNKx0"
      }
    },
    {
      "cell_type": "code",
      "source": [
        "from konlpy.tag import Mecab\n",
        "mecab = Mecab()\n",
        "mecab_nouns = []\n",
        "for text in texts_without_extracted_nouns:\n",
        "    mecab_nouns += mecab.nouns(text)\n",
        "\n",
        "mecab_nouns_clean = []\n",
        "for char in mecab_nouns:\n",
        "    if len(char)>1:\n",
        "        mecab_nouns_clean.append(char)\n",
        "\n",
        "mecab_nouns = [synonym(noun, synonym_dict) for noun in mecab_nouns_clean] #동의어 처리\n",
        "\n",
        "#단어 빈도수 계산\n",
        "mecab_15be = Counter(mecab_nouns)\n",
        "mecab_15be\n",
        "\n",
        "# 필요시\n",
        "# texts_without_mecab=[]\n",
        "# for text in texts_without_extracted_nouns:\n",
        "#     remaining_text = remove_stopwords(text,mecab_nouns)\n",
        "#     texts_without_mecab.append(remaining_text)"
      ],
      "metadata": {
        "id": "a055JmQdNKx1"
      },
      "execution_count": null,
      "outputs": []
    },
    {
      "cell_type": "markdown",
      "source": [
        "### 모두 합하기"
      ],
      "metadata": {
        "id": "2ywZH9AVNKx1"
      }
    },
    {
      "cell_type": "code",
      "source": [
        "word_all_15be = mecab_15be+soynlp_15be+NKterms_15be+PoliticalTerms_15be\n",
        "combined_all_15be = synonyms_freq(word_all_15be, synonym_dict)\n",
        "\n",
        "combined_all_15be"
      ],
      "metadata": {
        "id": "_qfTmPQuNKx1"
      },
      "execution_count": null,
      "outputs": []
    },
    {
      "cell_type": "markdown",
      "source": [
        "### 결과 엑셀로 내보내기"
      ],
      "metadata": {
        "id": "DnacrkHeNKx1"
      }
    },
    {
      "cell_type": "code",
      "source": [
        "doc_word_freq['15be'] = combined_all_15be"
      ],
      "metadata": {
        "id": "uHiop5M-NKx2"
      },
      "execution_count": null,
      "outputs": []
    },
    {
      "cell_type": "markdown",
      "source": [
        "### 단어 빈도 시각화"
      ],
      "metadata": {
        "id": "TQSGZKVRNKx2"
      }
    },
    {
      "cell_type": "code",
      "source": [
        "import matplotlib.font_manager as fm\n",
        "import matplotlib.pyplot as plt\n",
        "\n",
        "font_path = '/Users/kimsuyeon/Desktop/nanum-gothic/NanumGothic.ttf'\n",
        "fontprop = fm.FontProperties(fname=font_path)"
      ],
      "metadata": {
        "id": "AbipL2AtNKx2"
      },
      "execution_count": null,
      "outputs": []
    },
    {
      "cell_type": "markdown",
      "source": [
        "#### 상위 10개 단어(전문)"
      ],
      "metadata": {
        "id": "vsKmwR7TNKx2"
      }
    },
    {
      "cell_type": "code",
      "source": [
        "sorted_word_frequencies = Counter(combined_all_15be).most_common(10)\n",
        "words, frequencies = zip(*sorted_word_frequencies)\n",
        "\n",
        "plt.figure(figsize=(12, 8))\n",
        "plt.bar(words, frequencies, color='skyblue')\n",
        "plt.title(\"상위 10개의 명사\", fontproperties=fontprop)\n",
        "plt.ylabel(\"빈도\", fontproperties=fontprop)\n",
        "plt.xlabel(\"명사\", fontproperties=fontprop)\n",
        "plt.xticks(rotation=45, ha='right', fontproperties=fontprop)\n",
        "plt.tight_layout()\n",
        "plt.show()"
      ],
      "metadata": {
        "id": "2MlQIVPMNKx2"
      },
      "execution_count": null,
      "outputs": []
    },
    {
      "cell_type": "markdown",
      "source": [
        "#### 상위 20개 단어(전문)"
      ],
      "metadata": {
        "id": "bus9GfSGNKx2"
      }
    },
    {
      "cell_type": "code",
      "source": [
        "sorted_word_frequencies = Counter(combined_all_15be).most_common(20)\n",
        "words, frequencies = zip(*sorted_word_frequencies)\n",
        "\n",
        "plt.figure(figsize=(12, 8))\n",
        "plt.bar(words, frequencies, color='skyblue')\n",
        "plt.title(\"상위 20개의 명사\", fontproperties=fontprop)\n",
        "plt.ylabel(\"빈도\", fontproperties=fontprop)\n",
        "plt.xlabel(\"명사\", fontproperties=fontprop)\n",
        "plt.xticks(rotation=45, ha='right', fontproperties=fontprop)\n",
        "plt.tight_layout()\n",
        "plt.show()"
      ],
      "metadata": {
        "id": "oZqJERtLNKx3"
      },
      "execution_count": null,
      "outputs": []
    },
    {
      "cell_type": "markdown",
      "source": [
        "#### 상위 30개 단어(전문)"
      ],
      "metadata": {
        "id": "QzbL8Rn4NKx3"
      }
    },
    {
      "cell_type": "code",
      "source": [
        "sorted_word_frequencies = Counter(combined_all_15be).most_common(30)\n",
        "words, frequencies = zip(*sorted_word_frequencies)\n",
        "\n",
        "plt.figure(figsize=(12, 8))\n",
        "plt.bar(words, frequencies, color='skyblue')\n",
        "plt.title(\"상위 30개의 명사\", fontproperties=fontprop)\n",
        "plt.ylabel(\"빈도\", fontproperties=fontprop)\n",
        "plt.xlabel(\"명사\", fontproperties=fontprop)\n",
        "plt.xticks(rotation=45, ha='right', fontproperties=fontprop)\n",
        "plt.tight_layout()\n",
        "plt.show()"
      ],
      "metadata": {
        "id": "ZCMxcvyJNKx3"
      },
      "execution_count": null,
      "outputs": []
    },
    {
      "cell_type": "markdown",
      "source": [
        "## 📌2014년 신년사"
      ],
      "metadata": {
        "id": "xVqTAB8JJOcj"
      }
    },
    {
      "cell_type": "code",
      "source": [
        "df_14be = read_data(10,2)\n",
        "\n",
        "all = df_14be['전문'][0]\n",
        "\n",
        "#특수기호 일차적으로 제거\n",
        "import re\n",
        "all = re.sub(r'[()《》!]', ' ', all)\n",
        "#'\\n\\n'를 기준으로 문장 나누기\n",
        "all = all.split('\\n\\n')\n",
        "#특수기호 이차적으로 ('1. ','2. ','3. ', '4. ' ,'\\n' 등) 삭제\n",
        "for idx,sent in enumerate(all):\n",
        "    if ('1. ' in sent) or ('2. ' in sent) or ('3. ' in sent) or ('4. ' in sent) or ('5. 'in sent) or ('6. 'in sent):\n",
        "        all[idx] = sent[3:]\n",
        "#제대로 안 지워진 거 다시 제거\n",
        "all_14be = []\n",
        "for text in all:\n",
        "    all_14be.append(re.sub(r'[\\n]', ' ', text))\n",
        "all_14be[0] = all_14be[0].split(\".\")[2]\n",
        "all_14be = all_14be[:-1]"
      ],
      "metadata": {
        "id": "AeJ7M0IcNInN"
      },
      "execution_count": null,
      "outputs": []
    },
    {
      "cell_type": "code",
      "source": [
        "# from collections import Counter\n",
        "\n",
        "# #이름\n",
        "# extracted_name = []\n",
        "# for sen in all_14be:\n",
        "#     if '동지' in sen :\n",
        "#         word = sen.split(' ')\n",
        "#         for idx,char in enumerate(word):\n",
        "#             if '동지' in char:\n",
        "#                 name = char.split('동지')\n",
        "#                 if name[0] == '':\n",
        "#                     extracted_name.append(word[idx-1])\n",
        "#                 elif name[0] != '위원장':\n",
        "#                     extracted_name.append(name[0])\n",
        "\n",
        "# #이름 빈도 구하기\n",
        "# name,texts_without_name  = [],[]\n",
        "# #기존 텍스트에서 앞서 추출된 이름 제거\n",
        "# for text in all_14be:\n",
        "#     extracted_nouns, remaining_text = extract_nouns(text,extracted_name)\n",
        "#     if extracted_nouns:\n",
        "#       name.append(extracted_nouns) #기존 텍스트에서 extracted_name에서 추출된 이름과 일치하면 name에 저장\n",
        "#     texts_without_name.append(remaining_text) #extracted_name에 추출된 이름을 제거한 텍스트\n",
        "\n",
        "# word_frequencies_name = synonyms_freq(name,synonym_dict)\n",
        "# name_14be = Counter(word_frequencies_name) #마지막에 모든 데이터를 합칠 때, '+'를 사용하기 위해"
      ],
      "metadata": {
        "id": "y4q2fH2TNInY"
      },
      "execution_count": null,
      "outputs": []
    },
    {
      "cell_type": "markdown",
      "source": [
        "### 권력구조와 정치형태 관련 단어 사용자 정의 사전을 사용하여 명사 추출"
      ],
      "metadata": {
        "id": "HK_hPV4XNInY"
      }
    },
    {
      "cell_type": "code",
      "source": [
        "#명사 추출\n",
        "extracted_PoliticalTerms,texts_without_user_nouns  = [],[]\n",
        "for text in all_14be:\n",
        "    extracted_nouns, remaining_text = extract_nouns(text,PoliticalTerms)\n",
        "    if extracted_nouns:\n",
        "      extracted_PoliticalTerms.append(extracted_nouns)\n",
        "    texts_without_user_nouns.append(remaining_text)\n",
        "#동의어 처리\n",
        "word_frequencies_PoliticalTerms = synonyms_freq(extracted_PoliticalTerms,synonym_dict)\n",
        "\n",
        "PoliticalTerms_14be = Counter(word_frequencies_PoliticalTerms)#마지막에 모든 데이터를 합칠 때, '+'를 사용하기 위해"
      ],
      "metadata": {
        "id": "qb8wiyuGNInZ"
      },
      "execution_count": null,
      "outputs": []
    },
    {
      "cell_type": "markdown",
      "source": [
        "### Stopwords 제거"
      ],
      "metadata": {
        "id": "aAQpSMbANInZ"
      }
    },
    {
      "cell_type": "code",
      "source": [
        "texts_without_stopwords = [\n",
        "    remove_stopwords(text, stopwords).replace(\"조선로동\", \" \")\n",
        "    for text in texts_without_user_nouns\n",
        "]\n",
        "#' '와 같이 공백 삭제\n",
        "texts_without_stopwords = clean_text(texts_without_stopwords)"
      ],
      "metadata": {
        "id": "b2JaJECINInZ"
      },
      "execution_count": null,
      "outputs": []
    },
    {
      "cell_type": "markdown",
      "source": [
        "### soynlp 명사 추출기 (이미 명사로 분류된 단어들은 제외)"
      ],
      "metadata": {
        "id": "jIQlcwAWNInZ"
      }
    },
    {
      "cell_type": "code",
      "source": [
        "from soynlp.noun import LRNounExtractor_v2\n",
        "noun_extractor = LRNounExtractor_v2(verbose=True, extract_compound=True)\n",
        "noun_extractor.train(texts_without_stopwords)\n",
        "soynlp_nouns = noun_extractor.extract()\n",
        "\n",
        "#soynlp로 추출된 명사 중 2글자 이상만 저장\n",
        "extracted_soynlp_words = [word for word in soynlp_nouns if len(word) >= 2]\n",
        "soynlp_14be = Counter(extracted_soynlp_words)\n",
        "\n",
        "#soynlp로 추출된 명사들을 texts_without_stopwords에서 삭제한다.\n",
        "texts_without_soynlp=[]\n",
        "for text in texts_without_stopwords:\n",
        "    remaining_text = remove_stopwords(text,extracted_soynlp_words)\n",
        "    texts_without_soynlp.append(remaining_text)\n",
        "\n",
        "#' '와 같이 공백 삭제\n",
        "texts_without_soynlp = clean_text(texts_without_soynlp)"
      ],
      "metadata": {
        "id": "v8OhcwxtNInZ"
      },
      "execution_count": null,
      "outputs": []
    },
    {
      "cell_type": "markdown",
      "source": [
        "### 북한 용어사전을 활용하여 명사 추출"
      ],
      "metadata": {
        "id": "aQH-oCDhNIna"
      }
    },
    {
      "cell_type": "code",
      "source": [
        "extracted_nouns_NKterms,texts_without_extracted_nouns = [],[]\n",
        "for text in texts_without_soynlp:\n",
        "    extracted_nouns, remaining_text = extract_nouns(text,NKTerms)\n",
        "    if extracted_nouns:\n",
        "      extracted_nouns_NKterms.append(extracted_nouns)\n",
        "    texts_without_extracted_nouns.append(remaining_text)\n",
        "\n",
        "#동의어 처리\n",
        "word_frequencies_NKterms = synonyms_freq(extracted_nouns_NKterms,synonym_dict)\n",
        "NKterms_14be = Counter(word_frequencies_NKterms) # 마지막에 모든 데이터를 합칠 때, '+'를 사용하기 위해\n",
        "\n",
        "#' '와 같이 공백 삭제\n",
        "texts_without_NKterms = clean_text(texts_without_extracted_nouns)"
      ],
      "metadata": {
        "id": "B-31J1MeNIna"
      },
      "execution_count": null,
      "outputs": []
    },
    {
      "cell_type": "markdown",
      "source": [
        "### Mecab 명사 추출기(이미 명사로 분류된 단어들은 제외)"
      ],
      "metadata": {
        "id": "ePV0uIMGNIna"
      }
    },
    {
      "cell_type": "code",
      "source": [
        "from konlpy.tag import Mecab\n",
        "mecab = Mecab()\n",
        "mecab_nouns = []\n",
        "for text in texts_without_extracted_nouns:\n",
        "    mecab_nouns += mecab.nouns(text)\n",
        "\n",
        "mecab_nouns_clean = []\n",
        "for char in mecab_nouns:\n",
        "    if len(char)>1:\n",
        "        mecab_nouns_clean.append(char)\n",
        "\n",
        "mecab_nouns = [synonym(noun, synonym_dict) for noun in mecab_nouns_clean] #동의어 처리\n",
        "\n",
        "#단어 빈도수 계산\n",
        "mecab_14be = Counter(mecab_nouns)\n",
        "mecab_14be\n",
        "\n",
        "# 필요시\n",
        "# texts_without_mecab=[]\n",
        "# for text in texts_without_extracted_nouns:\n",
        "#     remaining_text = remove_stopwords(text,mecab_nouns)\n",
        "#     texts_without_mecab.append(remaining_text)"
      ],
      "metadata": {
        "id": "J7tY-XlBNIna"
      },
      "execution_count": null,
      "outputs": []
    },
    {
      "cell_type": "markdown",
      "source": [
        "### 모두 합하기"
      ],
      "metadata": {
        "id": "biryHpFuNIna"
      }
    },
    {
      "cell_type": "code",
      "source": [
        "word_all_14be = mecab_14be+soynlp_14be+NKterms_14be+PoliticalTerms_14be\n",
        "combined_all_14be = synonyms_freq(word_all_14be, synonym_dict)\n",
        "\n",
        "combined_all_14be"
      ],
      "metadata": {
        "id": "NVY_O3jYNInb"
      },
      "execution_count": null,
      "outputs": []
    },
    {
      "cell_type": "markdown",
      "source": [
        "### 결과 엑셀로 내보내기"
      ],
      "metadata": {
        "id": "XFcXsOUvNInb"
      }
    },
    {
      "cell_type": "code",
      "source": [
        "doc_word_freq['14be'] = combined_all_14be"
      ],
      "metadata": {
        "id": "kRjxh4X2NInb"
      },
      "execution_count": null,
      "outputs": []
    },
    {
      "cell_type": "markdown",
      "source": [
        "### 단어 빈도 시각화"
      ],
      "metadata": {
        "id": "-6fTaB7mNInb"
      }
    },
    {
      "cell_type": "code",
      "source": [
        "import matplotlib.font_manager as fm\n",
        "import matplotlib.pyplot as plt\n",
        "\n",
        "font_path = '/Users/kimsuyeon/Desktop/nanum-gothic/NanumGothic.ttf'\n",
        "fontprop = fm.FontProperties(fname=font_path)"
      ],
      "metadata": {
        "id": "zc7Ol5YpNInb"
      },
      "execution_count": null,
      "outputs": []
    },
    {
      "cell_type": "markdown",
      "source": [
        "#### 상위 10개 단어(전문)"
      ],
      "metadata": {
        "id": "Zaeq3qi-NInb"
      }
    },
    {
      "cell_type": "code",
      "source": [
        "sorted_word_frequencies = Counter(combined_all_14be).most_common(10)\n",
        "words, frequencies = zip(*sorted_word_frequencies)\n",
        "\n",
        "plt.figure(figsize=(12, 8))\n",
        "plt.bar(words, frequencies, color='skyblue')\n",
        "plt.title(\"상위 10개의 명사\", fontproperties=fontprop)\n",
        "plt.ylabel(\"빈도\", fontproperties=fontprop)\n",
        "plt.xlabel(\"명사\", fontproperties=fontprop)\n",
        "plt.xticks(rotation=45, ha='right', fontproperties=fontprop)\n",
        "plt.tight_layout()\n",
        "plt.show()"
      ],
      "metadata": {
        "id": "55gsTE_dNInb"
      },
      "execution_count": null,
      "outputs": []
    },
    {
      "cell_type": "markdown",
      "source": [
        "#### 상위 20개 단어(전문)"
      ],
      "metadata": {
        "id": "UtcaOvm8NInb"
      }
    },
    {
      "cell_type": "code",
      "source": [
        "sorted_word_frequencies = Counter(combined_all_14be).most_common(20)\n",
        "words, frequencies = zip(*sorted_word_frequencies)\n",
        "\n",
        "plt.figure(figsize=(12, 8))\n",
        "plt.bar(words, frequencies, color='skyblue')\n",
        "plt.title(\"상위 20개의 명사\", fontproperties=fontprop)\n",
        "plt.ylabel(\"빈도\", fontproperties=fontprop)\n",
        "plt.xlabel(\"명사\", fontproperties=fontprop)\n",
        "plt.xticks(rotation=45, ha='right', fontproperties=fontprop)\n",
        "plt.tight_layout()\n",
        "plt.show()"
      ],
      "metadata": {
        "id": "P42ocOVENInc"
      },
      "execution_count": null,
      "outputs": []
    },
    {
      "cell_type": "markdown",
      "source": [
        "#### 상위 30개 단어(전문)"
      ],
      "metadata": {
        "id": "we8fwgnDNInc"
      }
    },
    {
      "cell_type": "code",
      "source": [
        "sorted_word_frequencies = Counter(combined_all_14be).most_common(30)\n",
        "words, frequencies = zip(*sorted_word_frequencies)\n",
        "\n",
        "plt.figure(figsize=(12, 8))\n",
        "plt.bar(words, frequencies, color='skyblue')\n",
        "plt.title(\"상위 30개의 명사\", fontproperties=fontprop)\n",
        "plt.ylabel(\"빈도\", fontproperties=fontprop)\n",
        "plt.xlabel(\"명사\", fontproperties=fontprop)\n",
        "plt.xticks(rotation=45, ha='right', fontproperties=fontprop)\n",
        "plt.tight_layout()\n",
        "plt.show()"
      ],
      "metadata": {
        "id": "FvdL5rsvNInc"
      },
      "execution_count": null,
      "outputs": []
    },
    {
      "cell_type": "markdown",
      "source": [
        "## 📌2013년 신년사"
      ],
      "metadata": {
        "id": "cvNUjt_cJQA_"
      }
    },
    {
      "cell_type": "code",
      "source": [
        "df_13be = read_data(11,3)\n",
        "\n",
        "all = df_13be['전문'][0]\n",
        "\n",
        "#특수기호 일차적으로 제거\n",
        "import re\n",
        "all = re.sub(r'[()《》!]', ' ', all)\n",
        "#'\\n\\n'를 기준으로 문장 나누기\n",
        "all = all.split('\\n\\n')\n",
        "#특수기호 이차적으로 ('1. ','2. ','3. ', '4. ' ,'\\n' 등) 삭제\n",
        "for idx,sent in enumerate(all):\n",
        "    if ('1. ' in sent) or ('2. ' in sent) or ('3. ' in sent) or ('4. ' in sent) or ('5. 'in sent) or ('6. 'in sent):\n",
        "        all[idx] = sent[3:]\n",
        "#제대로 안 지워진 거 다시 제거\n",
        "all_13be = []\n",
        "for text in all:\n",
        "    all_13be.append(re.sub(r'[\\n]', ' ', text))"
      ],
      "metadata": {
        "id": "kqvPis-1NGO4"
      },
      "execution_count": null,
      "outputs": []
    },
    {
      "cell_type": "code",
      "source": [
        "# from collections import Counter\n",
        "\n",
        "# #이름\n",
        "# extracted_name = []\n",
        "# for sen in all_13be:\n",
        "#     if '동지' in sen :\n",
        "#         word = sen.split(' ')\n",
        "#         for idx,char in enumerate(word):\n",
        "#             if '동지' in char:\n",
        "#                 name = char.split('동지')\n",
        "#                 if name[0] == '':\n",
        "#                     extracted_name.append(word[idx-1])\n",
        "#                 elif name[0] != '위원장':\n",
        "#                     extracted_name.append(name[0])\n",
        "\n",
        "# #이름 빈도 구하기\n",
        "# name,texts_without_name  = [],[]\n",
        "# #기존 텍스트에서 앞서 추출된 이름 제거\n",
        "# for text in all_13be:\n",
        "#     extracted_nouns, remaining_text = extract_nouns(text,extracted_name)\n",
        "#     if extracted_nouns:\n",
        "#       name.append(extracted_nouns) #기존 텍스트에서 extracted_name에서 추출된 이름과 일치하면 name에 저장\n",
        "#     texts_without_name.append(remaining_text) #extracted_name에 추출된 이름을 제거한 텍스트\n",
        "\n",
        "# word_frequencies_name = synonyms_freq(name,synonym_dict)\n",
        "# name_13be = Counter(word_frequencies_name) #마지막에 모든 데이터를 합칠 때, '+'를 사용하기 위해"
      ],
      "metadata": {
        "id": "FLx657ExNGPI"
      },
      "execution_count": null,
      "outputs": []
    },
    {
      "cell_type": "markdown",
      "source": [
        "### 권력구조와 정치형태 관련 단어 사용자 정의 사전을 사용하여 명사 추출"
      ],
      "metadata": {
        "id": "-jegm7dJNGPI"
      }
    },
    {
      "cell_type": "code",
      "source": [
        "#명사 추출\n",
        "extracted_PoliticalTerms,texts_without_user_nouns  = [],[]\n",
        "for text in all_13be:\n",
        "    extracted_nouns, remaining_text = extract_nouns(text,PoliticalTerms)\n",
        "    if extracted_nouns:\n",
        "      extracted_PoliticalTerms.append(extracted_nouns)\n",
        "    texts_without_user_nouns.append(remaining_text)\n",
        "#동의어 처리\n",
        "word_frequencies_PoliticalTerms = synonyms_freq(extracted_PoliticalTerms,synonym_dict)\n",
        "\n",
        "PoliticalTerms_13be = Counter(word_frequencies_PoliticalTerms)#마지막에 모든 데이터를 합칠 때, '+'를 사용하기 위해"
      ],
      "metadata": {
        "id": "Qv81aYQ-NGPJ"
      },
      "execution_count": null,
      "outputs": []
    },
    {
      "cell_type": "markdown",
      "source": [
        "### Stopwords 제거"
      ],
      "metadata": {
        "id": "iyM7crpmNGPJ"
      }
    },
    {
      "cell_type": "code",
      "source": [
        "texts_without_stopwords = [\n",
        "    remove_stopwords(text, stopwords).replace(\"조선로동\", \" \")\n",
        "    for text in texts_without_user_nouns\n",
        "]\n",
        "#' '와 같이 공백 삭제\n",
        "texts_without_stopwords = clean_text(texts_without_stopwords)"
      ],
      "metadata": {
        "id": "Oj52IF2gNGPJ"
      },
      "execution_count": null,
      "outputs": []
    },
    {
      "cell_type": "markdown",
      "source": [
        "### soynlp 명사 추출기 (이미 명사로 분류된 단어들은 제외)"
      ],
      "metadata": {
        "id": "VPEFpuluNGPJ"
      }
    },
    {
      "cell_type": "code",
      "source": [
        "from soynlp.noun import LRNounExtractor_v2\n",
        "noun_extractor = LRNounExtractor_v2(verbose=True, extract_compound=True)\n",
        "noun_extractor.train(texts_without_stopwords)\n",
        "soynlp_nouns = noun_extractor.extract()\n",
        "\n",
        "#soynlp로 추출된 명사 중 2글자 이상만 저장\n",
        "extracted_soynlp_words = [word for word in soynlp_nouns if len(word) >= 2]\n",
        "soynlp_13be = Counter(extracted_soynlp_words)\n",
        "\n",
        "#soynlp로 추출된 명사들을 texts_without_stopwords에서 삭제한다.\n",
        "texts_without_soynlp=[]\n",
        "for text in texts_without_stopwords:\n",
        "    remaining_text = remove_stopwords(text,extracted_soynlp_words)\n",
        "    texts_without_soynlp.append(remaining_text)\n",
        "\n",
        "#' '와 같이 공백 삭제\n",
        "texts_without_soynlp = clean_text(texts_without_soynlp)"
      ],
      "metadata": {
        "id": "ZlV7XoVINGPJ"
      },
      "execution_count": null,
      "outputs": []
    },
    {
      "cell_type": "markdown",
      "source": [
        "### 북한 용어사전을 활용하여 명사 추출"
      ],
      "metadata": {
        "id": "YMXD5tdkNGPK"
      }
    },
    {
      "cell_type": "code",
      "source": [
        "extracted_nouns_NKterms,texts_without_extracted_nouns = [],[]\n",
        "for text in texts_without_soynlp:\n",
        "    extracted_nouns, remaining_text = extract_nouns(text,NKTerms)\n",
        "    if extracted_nouns:\n",
        "      extracted_nouns_NKterms.append(extracted_nouns)\n",
        "    texts_without_extracted_nouns.append(remaining_text)\n",
        "\n",
        "#동의어 처리\n",
        "word_frequencies_NKterms = synonyms_freq(extracted_nouns_NKterms,synonym_dict)\n",
        "NKterms_13be = Counter(word_frequencies_NKterms) # 마지막에 모든 데이터를 합칠 때, '+'를 사용하기 위해\n",
        "\n",
        "#' '와 같이 공백 삭제\n",
        "texts_without_NKterms = clean_text(texts_without_extracted_nouns)"
      ],
      "metadata": {
        "id": "CIkRH71CNGPK"
      },
      "execution_count": null,
      "outputs": []
    },
    {
      "cell_type": "markdown",
      "source": [
        "### Mecab 명사 추출기(이미 명사로 분류된 단어들은 제외)"
      ],
      "metadata": {
        "id": "9AkmBHV2NGPK"
      }
    },
    {
      "cell_type": "code",
      "source": [
        "from konlpy.tag import Mecab\n",
        "mecab = Mecab()\n",
        "mecab_nouns = []\n",
        "for text in texts_without_extracted_nouns:\n",
        "    mecab_nouns += mecab.nouns(text)\n",
        "\n",
        "mecab_nouns_clean = []\n",
        "for char in mecab_nouns:\n",
        "    if len(char)>1:\n",
        "        mecab_nouns_clean.append(char)\n",
        "\n",
        "mecab_nouns = [synonym(noun, synonym_dict) for noun in mecab_nouns_clean] #동의어 처리\n",
        "\n",
        "#단어 빈도수 계산\n",
        "mecab_13be = Counter(mecab_nouns)\n",
        "mecab_13be\n",
        "\n",
        "# 필요시\n",
        "# texts_without_mecab=[]\n",
        "# for text in texts_without_extracted_nouns:\n",
        "#     remaining_text = remove_stopwords(text,mecab_nouns)\n",
        "#     texts_without_mecab.append(remaining_text)"
      ],
      "metadata": {
        "id": "lh0GWidJNGPL"
      },
      "execution_count": null,
      "outputs": []
    },
    {
      "cell_type": "markdown",
      "source": [
        "### 모두 합하기"
      ],
      "metadata": {
        "id": "oPJ22egZNGPL"
      }
    },
    {
      "cell_type": "code",
      "source": [
        "word_all_13be = mecab_13be+soynlp_13be+NKterms_13be+PoliticalTerms_13be\n",
        "combined_all_13be = synonyms_freq(word_all_13be, synonym_dict)\n",
        "\n",
        "combined_all_13be"
      ],
      "metadata": {
        "id": "NdBZ1RhRNGPL"
      },
      "execution_count": null,
      "outputs": []
    },
    {
      "cell_type": "markdown",
      "source": [
        "### 결과 엑셀로 내보내기"
      ],
      "metadata": {
        "id": "NwAh8iTDNGPL"
      }
    },
    {
      "cell_type": "code",
      "source": [
        "doc_word_freq['13be'] = combined_all_13be"
      ],
      "metadata": {
        "id": "X-Lk5lkfNGPM"
      },
      "execution_count": null,
      "outputs": []
    },
    {
      "cell_type": "markdown",
      "source": [
        "### 단어 빈도 시각화"
      ],
      "metadata": {
        "id": "g1m4XORqNGPM"
      }
    },
    {
      "cell_type": "code",
      "source": [
        "import matplotlib.font_manager as fm\n",
        "import matplotlib.pyplot as plt\n",
        "\n",
        "font_path = '/Users/kimsuyeon/Desktop/nanum-gothic/NanumGothic.ttf'\n",
        "fontprop = fm.FontProperties(fname=font_path)"
      ],
      "metadata": {
        "id": "QF7JUkqsNGPM"
      },
      "execution_count": null,
      "outputs": []
    },
    {
      "cell_type": "markdown",
      "source": [
        "#### 상위 10개 단어(전문)"
      ],
      "metadata": {
        "id": "wL-L8UONNGPM"
      }
    },
    {
      "cell_type": "code",
      "source": [
        "sorted_word_frequencies = Counter(combined_all_13be).most_common(10)\n",
        "words, frequencies = zip(*sorted_word_frequencies)\n",
        "\n",
        "plt.figure(figsize=(12, 8))\n",
        "plt.bar(words, frequencies, color='skyblue')\n",
        "plt.title(\"상위 10개의 명사\", fontproperties=fontprop)\n",
        "plt.ylabel(\"빈도\", fontproperties=fontprop)\n",
        "plt.xlabel(\"명사\", fontproperties=fontprop)\n",
        "plt.xticks(rotation=45, ha='right', fontproperties=fontprop)\n",
        "plt.tight_layout()\n",
        "plt.show()"
      ],
      "metadata": {
        "id": "ueVMRYicNGPM"
      },
      "execution_count": null,
      "outputs": []
    },
    {
      "cell_type": "markdown",
      "source": [
        "#### 상위 20개 단어(전문)"
      ],
      "metadata": {
        "id": "V0taFNtbNGPN"
      }
    },
    {
      "cell_type": "code",
      "source": [
        "sorted_word_frequencies = Counter(combined_all_13be).most_common(20)\n",
        "words, frequencies = zip(*sorted_word_frequencies)\n",
        "\n",
        "plt.figure(figsize=(12, 8))\n",
        "plt.bar(words, frequencies, color='skyblue')\n",
        "plt.title(\"상위 20개의 명사\", fontproperties=fontprop)\n",
        "plt.ylabel(\"빈도\", fontproperties=fontprop)\n",
        "plt.xlabel(\"명사\", fontproperties=fontprop)\n",
        "plt.xticks(rotation=45, ha='right', fontproperties=fontprop)\n",
        "plt.tight_layout()\n",
        "plt.show()"
      ],
      "metadata": {
        "id": "2r1pB1cLNGPN"
      },
      "execution_count": null,
      "outputs": []
    },
    {
      "cell_type": "markdown",
      "source": [
        "#### 상위 30개 단어(전문)"
      ],
      "metadata": {
        "id": "pj5gf40VNGPN"
      }
    },
    {
      "cell_type": "code",
      "source": [
        "sorted_word_frequencies = Counter(combined_all_13be).most_common(30)\n",
        "words, frequencies = zip(*sorted_word_frequencies)\n",
        "\n",
        "plt.figure(figsize=(12, 8))\n",
        "plt.bar(words, frequencies, color='skyblue')\n",
        "plt.title(\"상위 30개의 명사\", fontproperties=fontprop)\n",
        "plt.ylabel(\"빈도\", fontproperties=fontprop)\n",
        "plt.xlabel(\"명사\", fontproperties=fontprop)\n",
        "plt.xticks(rotation=45, ha='right', fontproperties=fontprop)\n",
        "plt.tight_layout()\n",
        "plt.show()"
      ],
      "metadata": {
        "id": "SP_f25AkNGPN"
      },
      "execution_count": null,
      "outputs": []
    },
    {
      "cell_type": "markdown",
      "source": [
        "## 📌2012년 신년사"
      ],
      "metadata": {
        "id": "0TYJKz4YJRxv"
      }
    },
    {
      "cell_type": "code",
      "source": [
        "df_12be = read_data(12,3)\n",
        "\n",
        "all = df_12be['전문'][0]\n",
        "\n",
        "#특수기호 일차적으로 제거\n",
        "import re\n",
        "all = re.sub(r'[()《》!]', ' ', all)\n",
        "#'\\n\\n'를 기준으로 문장 나누기\n",
        "all = all.split('\\n\\n')\n",
        "#특수기호 이차적으로 ('1. ','2. ','3. ', '4. ' ,'\\n' 등) 삭제\n",
        "for idx,sent in enumerate(all):\n",
        "    if ('1. ' in sent) or ('2. ' in sent) or ('3. ' in sent) or ('4. ' in sent) or ('5. 'in sent) or ('6. 'in sent):\n",
        "        all[idx] = sent[3:]\n",
        "#제대로 안 지워진 거 다시 제거\n",
        "all_12be = []\n",
        "for text in all:\n",
        "    all_12be.append(re.sub(r'[\\n]', ' ', text))"
      ],
      "metadata": {
        "id": "qkN-dmTgNDRU"
      },
      "execution_count": null,
      "outputs": []
    },
    {
      "cell_type": "code",
      "source": [
        "# from collections import Counter\n",
        "\n",
        "# #이름\n",
        "# extracted_name = []\n",
        "# for sen in all_12be:\n",
        "#     if '동지' in sen :\n",
        "#         word = sen.split(' ')\n",
        "#         for idx,char in enumerate(word):\n",
        "#             if '동지' in char:\n",
        "#                 name = char.split('동지')\n",
        "#                 if name[0] == '':\n",
        "#                     extracted_name.append(word[idx-1])\n",
        "#                 elif name[0] != '위원장':\n",
        "#                     extracted_name.append(name[0])\n",
        "\n",
        "# #이름 빈도 구하기\n",
        "# name,texts_without_name  = [],[]\n",
        "# #기존 텍스트에서 앞서 추출된 이름 제거\n",
        "# for text in all_12be:\n",
        "#     extracted_nouns, remaining_text = extract_nouns(text,extracted_name)\n",
        "#     if extracted_nouns:\n",
        "#       name.append(extracted_nouns) #기존 텍스트에서 extracted_name에서 추출된 이름과 일치하면 name에 저장\n",
        "#     texts_without_name.append(remaining_text) #extracted_name에 추출된 이름을 제거한 텍스트\n",
        "\n",
        "# word_frequencies_name = synonyms_freq(name,synonym_dict)\n",
        "# name_12be = Counter(word_frequencies_name) #마지막에 모든 데이터를 합칠 때, '+'를 사용하기 위해"
      ],
      "metadata": {
        "id": "Nixtnz7LNDRV"
      },
      "execution_count": null,
      "outputs": []
    },
    {
      "cell_type": "markdown",
      "source": [
        "### 권력구조와 정치형태 관련 단어 사용자 정의 사전을 사용하여 명사 추출"
      ],
      "metadata": {
        "id": "lHqu_erqNDRV"
      }
    },
    {
      "cell_type": "code",
      "source": [
        "#명사 추출\n",
        "extracted_PoliticalTerms,texts_without_user_nouns  = [],[]\n",
        "for text in all_12be:\n",
        "    extracted_nouns, remaining_text = extract_nouns(text,PoliticalTerms)\n",
        "    if extracted_nouns:\n",
        "      extracted_PoliticalTerms.append(extracted_nouns)\n",
        "    texts_without_user_nouns.append(remaining_text)\n",
        "#동의어 처리\n",
        "word_frequencies_PoliticalTerms = synonyms_freq(extracted_PoliticalTerms,synonym_dict)\n",
        "\n",
        "PoliticalTerms_12be = Counter(word_frequencies_PoliticalTerms)#마지막에 모든 데이터를 합칠 때, '+'를 사용하기 위해"
      ],
      "metadata": {
        "id": "cjN2lc7LNDRV"
      },
      "execution_count": null,
      "outputs": []
    },
    {
      "cell_type": "markdown",
      "source": [
        "### Stopwords 제거"
      ],
      "metadata": {
        "id": "D6DZU8SZNDRV"
      }
    },
    {
      "cell_type": "code",
      "source": [
        "texts_without_stopwords = [\n",
        "    remove_stopwords(text, stopwords).replace(\"조선로동\", \" \")\n",
        "    for text in texts_without_user_nouns\n",
        "]\n",
        "#' '와 같이 공백 삭제\n",
        "texts_without_stopwords = clean_text(texts_without_stopwords)"
      ],
      "metadata": {
        "id": "Jymzkh9SNDRV"
      },
      "execution_count": null,
      "outputs": []
    },
    {
      "cell_type": "markdown",
      "source": [
        "### soynlp 명사 추출기 (이미 명사로 분류된 단어들은 제외)"
      ],
      "metadata": {
        "id": "IqqaxrXxNDRW"
      }
    },
    {
      "cell_type": "code",
      "source": [
        "from soynlp.noun import LRNounExtractor_v2\n",
        "noun_extractor = LRNounExtractor_v2(verbose=True, extract_compound=True)\n",
        "noun_extractor.train(texts_without_stopwords)\n",
        "soynlp_nouns = noun_extractor.extract()\n",
        "\n",
        "#soynlp로 추출된 명사 중 2글자 이상만 저장\n",
        "extracted_soynlp_words = [word for word in soynlp_nouns if len(word) >= 2]\n",
        "soynlp_12be = Counter(extracted_soynlp_words)\n",
        "\n",
        "#soynlp로 추출된 명사들을 texts_without_stopwords에서 삭제한다.\n",
        "texts_without_soynlp=[]\n",
        "for text in texts_without_stopwords:\n",
        "    remaining_text = remove_stopwords(text,extracted_soynlp_words)\n",
        "    texts_without_soynlp.append(remaining_text)\n",
        "\n",
        "#' '와 같이 공백 삭제\n",
        "texts_without_soynlp = clean_text(texts_without_soynlp)"
      ],
      "metadata": {
        "id": "qTLmQf8tNDRW"
      },
      "execution_count": null,
      "outputs": []
    },
    {
      "cell_type": "markdown",
      "source": [
        "### 북한 용어사전을 활용하여 명사 추출"
      ],
      "metadata": {
        "id": "8GDgX8r0NDRW"
      }
    },
    {
      "cell_type": "code",
      "source": [
        "extracted_nouns_NKterms,texts_without_extracted_nouns = [],[]\n",
        "for text in texts_without_soynlp:\n",
        "    extracted_nouns, remaining_text = extract_nouns(text,NKTerms)\n",
        "    if extracted_nouns:\n",
        "      extracted_nouns_NKterms.append(extracted_nouns)\n",
        "    texts_without_extracted_nouns.append(remaining_text)\n",
        "\n",
        "#동의어 처리\n",
        "word_frequencies_NKterms = synonyms_freq(extracted_nouns_NKterms,synonym_dict)\n",
        "NKterms_12be = Counter(word_frequencies_NKterms) # 마지막에 모든 데이터를 합칠 때, '+'를 사용하기 위해\n",
        "\n",
        "#' '와 같이 공백 삭제\n",
        "texts_without_NKterms = clean_text(texts_without_extracted_nouns)"
      ],
      "metadata": {
        "id": "ee9wuVy9NDRW"
      },
      "execution_count": null,
      "outputs": []
    },
    {
      "cell_type": "markdown",
      "source": [
        "### Mecab 명사 추출기(이미 명사로 분류된 단어들은 제외)"
      ],
      "metadata": {
        "id": "noHVX-NpNDRX"
      }
    },
    {
      "cell_type": "code",
      "source": [
        "from konlpy.tag import Mecab\n",
        "mecab = Mecab()\n",
        "mecab_nouns = []\n",
        "for text in texts_without_extracted_nouns:\n",
        "    mecab_nouns += mecab.nouns(text)\n",
        "\n",
        "mecab_nouns_clean = []\n",
        "for char in mecab_nouns:\n",
        "    if len(char)>1:\n",
        "        mecab_nouns_clean.append(char)\n",
        "\n",
        "mecab_nouns = [synonym(noun, synonym_dict) for noun in mecab_nouns_clean] #동의어 처리\n",
        "\n",
        "#단어 빈도수 계산\n",
        "mecab_12be = Counter(mecab_nouns)\n",
        "mecab_12be\n",
        "\n",
        "# 필요시\n",
        "# texts_without_mecab=[]\n",
        "# for text in texts_without_extracted_nouns:\n",
        "#     remaining_text = remove_stopwords(text,mecab_nouns)\n",
        "#     texts_without_mecab.append(remaining_text)"
      ],
      "metadata": {
        "id": "oWPBx2O_NDRX"
      },
      "execution_count": null,
      "outputs": []
    },
    {
      "cell_type": "markdown",
      "source": [
        "### 모두 합하기"
      ],
      "metadata": {
        "id": "NgD4NkxPNDRY"
      }
    },
    {
      "cell_type": "code",
      "source": [
        "word_all_12be = mecab_12be+soynlp_12be+NKterms_12be+PoliticalTerms_12be\n",
        "combined_all_12be = synonyms_freq(word_all_12be, synonym_dict)\n",
        "\n",
        "combined_all_12be"
      ],
      "metadata": {
        "id": "CuegRlNLNDRY"
      },
      "execution_count": null,
      "outputs": []
    },
    {
      "cell_type": "markdown",
      "source": [
        "### 결과 엑셀로 내보내기"
      ],
      "metadata": {
        "id": "p1UmZHA_NDRY"
      }
    },
    {
      "cell_type": "code",
      "source": [
        "doc_word_freq['12be'] = combined_all_12be"
      ],
      "metadata": {
        "id": "8BEMW5d_NDRZ"
      },
      "execution_count": null,
      "outputs": []
    },
    {
      "cell_type": "markdown",
      "source": [
        "### 단어 빈도 시각화"
      ],
      "metadata": {
        "id": "yxUYclp0NDRZ"
      }
    },
    {
      "cell_type": "code",
      "source": [
        "import matplotlib.font_manager as fm\n",
        "import matplotlib.pyplot as plt\n",
        "\n",
        "font_path = '/Users/kimsuyeon/Desktop/nanum-gothic/NanumGothic.ttf'\n",
        "fontprop = fm.FontProperties(fname=font_path)"
      ],
      "metadata": {
        "id": "lBpVGOXKNDRZ"
      },
      "execution_count": null,
      "outputs": []
    },
    {
      "cell_type": "markdown",
      "source": [
        "#### 상위 10개 단어(전문)"
      ],
      "metadata": {
        "id": "TnP4xTdHNDRa"
      }
    },
    {
      "cell_type": "code",
      "source": [
        "sorted_word_frequencies = Counter(combined_all_12be).most_common(10)\n",
        "words, frequencies = zip(*sorted_word_frequencies)\n",
        "\n",
        "plt.figure(figsize=(12, 8))\n",
        "plt.bar(words, frequencies, color='skyblue')\n",
        "plt.title(\"상위 10개의 명사\", fontproperties=fontprop)\n",
        "plt.ylabel(\"빈도\", fontproperties=fontprop)\n",
        "plt.xlabel(\"명사\", fontproperties=fontprop)\n",
        "plt.xticks(rotation=45, ha='right', fontproperties=fontprop)\n",
        "plt.tight_layout()\n",
        "plt.show()"
      ],
      "metadata": {
        "id": "vIsZ7HSZNDRa"
      },
      "execution_count": null,
      "outputs": []
    },
    {
      "cell_type": "markdown",
      "source": [
        "#### 상위 20개 단어(전문)"
      ],
      "metadata": {
        "id": "6Guog4SyNDRa"
      }
    },
    {
      "cell_type": "code",
      "source": [
        "sorted_word_frequencies = Counter(combined_all_12be).most_common(20)\n",
        "words, frequencies = zip(*sorted_word_frequencies)\n",
        "\n",
        "plt.figure(figsize=(12, 8))\n",
        "plt.bar(words, frequencies, color='skyblue')\n",
        "plt.title(\"상위 20개의 명사\", fontproperties=fontprop)\n",
        "plt.ylabel(\"빈도\", fontproperties=fontprop)\n",
        "plt.xlabel(\"명사\", fontproperties=fontprop)\n",
        "plt.xticks(rotation=45, ha='right', fontproperties=fontprop)\n",
        "plt.tight_layout()\n",
        "plt.show()"
      ],
      "metadata": {
        "id": "SKAUIPJHNDRa"
      },
      "execution_count": null,
      "outputs": []
    },
    {
      "cell_type": "markdown",
      "source": [
        "#### 상위 30개 단어(전문)"
      ],
      "metadata": {
        "id": "pIa2HW0uNDRb"
      }
    },
    {
      "cell_type": "code",
      "source": [
        "sorted_word_frequencies = Counter(combined_all_12be).most_common(30)\n",
        "words, frequencies = zip(*sorted_word_frequencies)\n",
        "\n",
        "plt.figure(figsize=(12, 8))\n",
        "plt.bar(words, frequencies, color='skyblue')\n",
        "plt.title(\"상위 30개의 명사\", fontproperties=fontprop)\n",
        "plt.ylabel(\"빈도\", fontproperties=fontprop)\n",
        "plt.xlabel(\"명사\", fontproperties=fontprop)\n",
        "plt.xticks(rotation=45, ha='right', fontproperties=fontprop)\n",
        "plt.tight_layout()\n",
        "plt.show()"
      ],
      "metadata": {
        "id": "tSCrXH86NDRb"
      },
      "execution_count": null,
      "outputs": []
    },
    {
      "cell_type": "markdown",
      "source": [
        "## 결과 엑셀로 내보내기"
      ],
      "metadata": {
        "id": "O8MFxw5SZwyn"
      }
    },
    {
      "cell_type": "code",
      "source": [
        "export_to_csv(doc_word_freq, file_path)"
      ],
      "metadata": {
        "id": "KVoMKxYrbGN6"
      },
      "execution_count": null,
      "outputs": []
    }
  ]
}
