{
 "cells": [
  {
   "cell_type": "markdown",
   "metadata": {},
   "source": [
    "## 데이터 불러오기"
   ]
  },
  {
   "cell_type": "code",
   "execution_count": null,
   "metadata": {},
   "outputs": [],
   "source": [
    "#데이터 불러오는 식 정의\n",
    "import pandas as pd\n",
    "def read_data(sheet_name,header):\n",
    "    return pd.read_excel(\"/Users/kimsuyeon/Desktop/Project2/신년사_통합_0812.xlsx\",sheet_name=sheet_name,header=header)"
   ]
  },
  {
   "cell_type": "markdown",
   "metadata": {},
   "source": [
    "## 권력구조와 정치형태 관련 단어 사용자 정의 사전\n",
    "명사 분류가 잘 안되는 근본적인 원인은 분류하려는 언어가 북한어이기 때문이다. 특히, 북한에는 권력구조와 정치형태를 나타내는 용어에는 한국과 다른점이 많다. 따라서, 북한정부포털에서 제공하는 권력구조와 정치형태에 대한 설명을 참고하여 사용자 정의 사전 리스트를 작성해보았다.\n",
    "\n",
    "참고한 사이트:https://nkinfo.unikorea.go.kr/nkp/pge/ps/jung.do"
   ]
  },
  {
   "cell_type": "code",
   "execution_count": null,
   "metadata": {},
   "outputs": [],
   "source": [
    "#직접 작성한 단어 리스트 (사용자 정의 사전)\n",
    "user_defined_nouns = ['사회주의','조선노동당','수령','장군','우리식','우리 식','우리당','우리 당','우리민족','우리 민족','우리 힘','우리힘',\"우리나라\",'우리','로동당','조국','건설경제력', '경제적', '경제제재', '자립경제','국가경제', \n",
    "                      '조직지도부','선전선동부','간부부','경공업부','경제부','과학교육부','국제부','군수공업부','군정지도부','규율조사부','근로단체부','농업부','당역사연구소','조선로동당',\n",
    "                      '문서정리실','문화예술부','민방위부','법무부','재정경리부','총무부','10국','39호실','경제정책실','경제발전','경제사업','사회경제','경제구조','지방경제','경제활성화',\n",
    "                      '최고인민회의','국무위원회','내각','사법검찰기관','중앙재판소', '중앙검찰소', '인민정권','전원회의','령도','조선민주주의인민공화국','조선인민군','수령','리익',\n",
    "                      '혁명사상','로동계급','근로인민대중','핵심부대','전위부대','수령체제','인민대중','근로대중','중앙집권제','상의하달','조직생활','사상생활','조직지도부','선전선동부',\n",
    "                      '유일지배','이념','당무','향도자','최고지도자','전권','조선로동당대회','당 대회','당대회','당 대표자회','당대표자회','최고참모부','참모부'\n",
    "                      '의사결정','노선','정책',\"전략전술\",'통일','정치국','정치노선', '조직노선','조선로동당 위원장동지','화학','전력','교육','건설','나라','６.１５',\n",
    "                      '중앙지도기관','당중앙지도기관','중앙기관','당중앙기관','중앙검사위원회','당 중앙검사위원회','당중앙검사위원회','당중앙위원회','당 중앙위원회','중앙위원회',\n",
    "                      '상무위원','최고수위','위원장','총비서','비서','당대표자회',\"당 대표자회\",'대표자회', '당규약','인민경제발전', '정세', '과업','국방','경제','병진정책','경제건설','월남문제',\n",
    "                      '당 중앙위원장제','당중앙위원장제','중앙위원장제','직제','수령','제1비서직','중앙군사위원회','당중앙군사위원회','당 중앙군사위원회','최고지도기관','대행', '후보위원',\n",
    "                      '내외',\"논의\",'의결','권력기구','안건','확대회의','정무국','비서제','군사노선',\"공화국\",'무력','지휘','군수공업','국방사업','국방력','현대화','조직비서',\n",
    "                      '내각총리','주권기관','헌납운동','조선소년단','헌납','투쟁','계획','국방과학발전','국제정세','국위','국익','북남관계','대미대적','반공화국','대미','핵',\n",
    "                      '미국','북남','대적사업','조선반도','선박공업','국방공업','민방위무력','함선공업','무인항공공업','무인무장장비','무인','정찰위성','우주과학','미싸일','무장장비','대사변',\n",
    "                      '핵무기생산계획','남조선','핵위기사태','안보','무기체계개발계획','군사','인민군대','9.19북남군사분야합의','로골화','유엔군사령부','사회주의강성국가건설','인민군장병','조국통일위업','인민경제'\n",
    "                      '괴뢰패당','괴뢰군부','괴뢰군무력','괴뢰정권','망동','내각부총리','침략전쟁기도','군사분계선지역','농업위원회','대한민국','국가예산','예산','대회','윤석열',\n",
    "                      '조국통일로선','대북','통일','흡수통일','문재인','자유민주주의','민주주의','화성-18형','신형','고체연료','엔진','중거리','탄도미사일','중대과업','당 지방조직','지방조직',\n",
    "                      '집권체제','조선혁명','혁명','당 위원회','상하','위계','여타','기관','사회단체','지배력','행사','도,시,군','성,도,시,군','도,시,군인민회','도 당 위원회', '시 당 위원회', '군 당 위원회', '초급당', '분초급당', '부문당', '당원','최하','기층조직',\n",
    "                      '당세포','관할지역','중앙당','하부','조직체계','시 도 당위원회','도,시','시,군','국가','인민','시 군 당위원회', '초급 당위원회', '당 세포조직','세포조직', '집행위원회','비서처', ' 정 ', ' 군 ',' 도 ',' 시 ',' 성 ',\n",
    "                      '정권기관','입법','집행','인사','직책','보임','겸직' ,'행정','지위,''군사노선', '토의','전반','군대','정치위원','인민군','총정치국','집행부서','외곽단체','사회주의애국청년동맹','조선직업총동맹',\n",
    "                      '조선농업근로자동맹','조선사회주의여성동맹','사상교양','전위대','영도','국무위원회','최고주권기관', '최고인민회의', '내각','중앙검찰소','중앙재판소','사법기관','국무위원장', \n",
    "                      '국무위원회','정령', '총리','부총리', '위원장','임명','해임','최고영도자','총사령관','특사권','국가방위위원회','국방위원회','추대','재추대','입법권','최고주권기관',\n",
    "                      '정기회의', \"임시회의\",'상임위원회','대의원','법령','대내외' ,'제의','제1부위원장', '위원','선출','위원장', '부위원장', '서기장',\"직위자\",'국가예산','심의','승인','조약','비준',\n",
    "                      '폐기권','거수가결','예산위원회', \"법제위원회\", '외교위원회','부문위원회','정책안','법안','휴회','상임위원회', '보충안','심의', '국회','국제의회기구','신임장',\"소환장\",'상무회의',\n",
    "                      '국가관리','국방','집행기관','관리기관','정무원','국가주석','검찰기관','검찰','검찰소','특별검찰소','하급검찰소','상급검찰소','중앙검찰소장','인민재판소','특별재판소','인민참심원',\n",
    "                      '배심원','최고재판기관','중핵','핵무장력 핵시험','핵위협','비핵화','핵무기','핵전쟁','핵무력','열핵무기','핵강국','핵반격','핵억제력','핵타격','핵탄두','조국통일','통일적','평화통일','통일방운',\n",
    "                      '남북통일','자주통일','통일운동','통일대회','통일대진군','남조선','남조선것들','리념','리상','경제부','농업부','최고회의','백두산','해외동포','애국헌신','력사적','력사','전투', '돌파전','지구관측위성','광명성-4','정지위성','운반로켓용','지상분출시험',\n",
    "                      '우주정복','과학연구','노농적위군','2·8비날론연합기업소','전민총돌격전','박근혜','아시아태평양지배전략','제국주의' ,'반동세력','북과 남','국방분야','과학교육','과학기술성과',\n",
    "                      '수소폭탄','수소탄','대륙간 탄도로켓','국방력','핵탄두','7·4공동성명','조국통일3대원칙','6.15공동선언','6.15공동','10.4선언',\"6·15공동선언\",'１０.４선언발표','１０.４선언발표','１０.４','６.１５공동선언', '10·4선언','통일헌장','통일대강','전당초급당위원장대회','초급당조직','아시아태평양지배전략','대아시아지배전략','반공화국전쟁책동',\n",
    "                      '남조선당국','북남당국','남조선호전광','청년동맹','정전협정','평화협정','어머니당','세계평화','로씨야','강성대국건설','령도','영도','어버이','김정은','어버이수령','어버이장군님','직맹', '농근맹', '여맹 조직','선린우호','친선협조관계','친선협조','통일대회합',\n",
    "                      '사대매국','동족대결','군인','사대매국책동','세계평화','평화번영','전성기','중국','미국','외세','미제침략군','백두산영웅청년발전소','청천강계단식발전소','과학기술전당','미래과학자거리','장천남새전문협동농장','사상관철전',\n",
    "                      '당정책옹위전','경제강국건설','협동농장','로농적위군','인공지구위성','반공화국제재','북침전쟁소동','위성과학자주책지구', '김책공업종합대학','연풍과학자휴양소','오중흡7연대 칭호쟁취운동', '근위부대운동','정치사상사업','정치사상강국','애국사업',\n",
    "                      '애국헌신','동포','동지','김일성-김정일주의자','김일성','김정일','조국통일','장병','국방력','군대',' 군 ','조국해방전쟁승리기념관', '은하과학자거리', '문수물놀이장', '마식령스키장',\"전략전술적방침\",\n",
    "                      '６.１２조미공동성명','조미수뇌상봉', '조미','판문점선언','９월평양공동선언','석탄','문명개화기','겨례','남녘','대조선','농기계','알곡고지','농장','과학기술중시기풍','현대과학기술','과학기술','전민과학기술인재화','문화예술','명작','공동선언','풍력','수력','지열','태양열','에네르기','자연에네르기',\n",
    "                      '현대적무장장비','현대과학기술','과학기술위성','전쟁도발책동','사회주의강성국가','천하제일강국','사회주의강국','경제강국','경제건설','실용위성','우주','민족경제','과학화','강성국가','군력','혁명적령군체계','인민군대','조선인민내무군','내무군', '군기','군풍','최정예혁명강군','백두산혁명강군','백두산훈련','전투동원태세','군인','문화후생시설', '공원','유원지',\n",
    "                      '근로단체조직','일꾼','근로인민대중','정치사상','경제관리방법','동족대결정책','애국주의','애국적열의','현신']"
   ]
  },
  {
   "cell_type": "code",
   "execution_count": null,
   "metadata": {},
   "outputs": [],
   "source": [
    "# 중복 제거\n",
    "user_defined_nouns = list(set(user_defined_nouns))"
   ]
  },
  {
   "cell_type": "code",
   "execution_count": null,
   "metadata": {},
   "outputs": [],
   "source": [
    "# 결과 출력\n",
    "print(user_defined_nouns)\n",
    "#단어 길이로 내림차순 정렬 (긴 단어부터 처리)\n",
    "user_defined_nouns.sort(key=lambda x: -len(x))"
   ]
  },
  {
   "cell_type": "markdown",
   "metadata": {},
   "source": [
    "## 불용어 사전 \n",
    "아래 사이트에서 구한 불용어 사전을 현재 주어진 데이터의 상태에 맞추어 수정하였다. 이때, 한 글자로 된 단어는 오분류될 가능성이 있으므로 두 글자 이상의 불용어만 사용하겠다. \n",
    "\n",
    "참고한 사이트: https://gist.github.com/spikeekips/40eea22ef4a89f629abd87eed535ac6a#file-stopwords-ko-txt"
   ]
  },
  {
   "cell_type": "code",
   "execution_count": null,
   "metadata": {},
   "outputs": [],
   "source": [
    "stopwords = []\n",
    "with open('/Users/kimsuyeon/Desktop/stopwords-ko.txt', 'r') as f:\n",
    "    list_file = f.readlines()\n",
    "for word in list_file:\n",
    "    stopword = word.split('\\n')[0]\n",
    "    if len(stopword) > 1:\n",
    "        stopwords.append(stopword) "
   ]
  },
  {
   "cell_type": "code",
   "execution_count": null,
   "metadata": {},
   "outputs": [],
   "source": [
    "#단어 길이로 내림차순 정렬 (긴 단어부터 처리)\n",
    "stopwords.sort(key=lambda x: -len(x))"
   ]
  },
  {
   "cell_type": "code",
   "execution_count": null,
   "metadata": {},
   "outputs": [],
   "source": [
    "#불용어 제거 식 정의\n",
    "def remove_stopwords(text,stopwords_list):\n",
    "    remove_stopwords_text = text # 처음엔 전체 텍스트를 남겨둠\n",
    "    for noun in stopwords_list:\n",
    "        if noun in remove_stopwords_text:  # 텍스트에서 단어를 분리\n",
    "                # 추출된 단어는 텍스트에서 제거하여 중복된 짧은 단어가 처리되지 않도록 함\n",
    "                remove_stopwords_text = remove_stopwords_text.replace(noun, \"  \")  #불용어를 제거\n",
    "    return remove_stopwords_text"
   ]
  },
  {
   "cell_type": "markdown",
   "metadata": {},
   "source": [
    "## 사전을 기준으로 명사 추출하는 식 정의"
   ]
  },
  {
   "cell_type": "code",
   "execution_count": null,
   "metadata": {},
   "outputs": [],
   "source": [
    "# 명사 추출 및 남은 텍스트 반환하는 함수\n",
    "def extract_user_defined_nouns(text, noun_list):\n",
    "    from collections import Counter\n",
    "    extracted_nouns = []\n",
    "    remaining_text = text  # 처음엔 전체 텍스트를 남겨둠\n",
    "\n",
    "    # 명사 추출\n",
    "    for noun in noun_list:\n",
    "        # 명사가 텍스트에서 몇 번 나오는지 확인\n",
    "        if noun in remaining_text:\n",
    "            count = remaining_text.count(noun)\n",
    "            extracted_nouns.append((noun,count))  # 명사와 빈도를 함께 저장\n",
    "            # 추출된 명사는 텍스트에서 제거하여 중복된 짧은 단어가 처리되지 않도록 함\n",
    "            remaining_text = remaining_text.replace(noun, \" \")  # 추출된 단어를 제거\n",
    "    return extracted_nouns, remaining_text"
   ]
  },
  {
   "cell_type": "code",
   "execution_count": null,
   "metadata": {},
   "outputs": [],
   "source": [
    "\n",
    "def merge_word_with_frequencies(data):\n",
    "    #단어와 빈도수저장\n",
    "    merged_dict = {}\n",
    "\n",
    "    for sublist in data:\n",
    "        for word, freq in sublist:\n",
    "            merged_dict[word] = merged_dict.get(word, 0) + freq\n",
    "    \n",
    "    return merged_dict\n"
   ]
  },
  {
   "cell_type": "markdown",
   "metadata": {},
   "source": [
    "## 북한 용어사전 활용\n",
    "1) 한 글자로 된 단어는 오분류율을 높이므로 두 글자로 된 단어만 사용하겠다.\n",
    "2) 동사도 포함되어 있으므로 '-다'로 끝나는 단어는 삭제하겠다.\n",
    "3) 문장도 포함되어 있이므로 그 부분은 삭제하겠다.\n",
    "참고 사이트:https://nkinfo.unikorea.go.kr/nkp/word/nkword.do"
   ]
  },
  {
   "cell_type": "code",
   "execution_count": null,
   "metadata": {},
   "outputs": [],
   "source": [
    "dict = pd.read_csv(\"/Users/kimsuyeon/Desktop/Project2/북한용어사전.csv\")"
   ]
  },
  {
   "cell_type": "code",
   "execution_count": null,
   "metadata": {},
   "outputs": [],
   "source": [
    "dict = dict[38:]['용어']"
   ]
  },
  {
   "cell_type": "code",
   "execution_count": null,
   "metadata": {},
   "outputs": [],
   "source": [
    "dict = [word for word in dict if ' ' not in word]"
   ]
  },
  {
   "cell_type": "code",
   "execution_count": null,
   "metadata": {},
   "outputs": [],
   "source": [
    "len(dict)"
   ]
  },
  {
   "cell_type": "code",
   "execution_count": null,
   "metadata": {},
   "outputs": [],
   "source": [
    "dict_da = []\n",
    "for word in dict:\n",
    "    if word[-1] != '다':\n",
    "        dict_da.append(word)"
   ]
  },
  {
   "cell_type": "code",
   "execution_count": null,
   "metadata": {},
   "outputs": [],
   "source": [
    "len(dict_da)"
   ]
  },
  {
   "cell_type": "code",
   "execution_count": null,
   "metadata": {},
   "outputs": [],
   "source": [
    "dict_site = []\n",
    "for word in dict_da:\n",
    "    if len(word) != 1 and word != '대한': #한 글자인 단어와 대한이라는 단어는 사용하지 않는다. (대한의 경우 앞서 사전에서 정의한 대한민국이라는 단어와 혼동할 수 있으므로)\n",
    "        dict_site.append(word)"
   ]
  },
  {
   "cell_type": "code",
   "execution_count": null,
   "metadata": {},
   "outputs": [],
   "source": [
    "#단어 길이로 내림차순 정렬 (긴 단어부터 처리)\n",
    "dict_site.sort(key=lambda x: -len(x))\n",
    "dict_site"
   ]
  },
  {
   "cell_type": "code",
   "execution_count": null,
   "metadata": {},
   "outputs": [],
   "source": [
    "def extract_site_defined_nouns(text, noun_list):\n",
    "    extracted_nouns = []\n",
    "    remaining_text = text  # 처음엔 전체 텍스트를 남겨둠\n",
    "    for noun in noun_list:\n",
    "        for char in remaining_text.split(' '):  # 남은 텍스트에서 단어를 분리\n",
    "            if noun in char:\n",
    "                extracted_nouns.append(noun)\n",
    "                # 추출된 단어는 텍스트에서 제거하여 중복된 짧은 단어가 처리되지 않도록 함\n",
    "                remaining_text = remaining_text.replace(noun, \" \")  # 추출된 단어를 제거\n",
    "    return extracted_nouns, remaining_text"
   ]
  },
  {
   "cell_type": "markdown",
   "metadata": {},
   "source": [
    "## text cleaning\n",
    "한 글자로된 단어, 스페이스 공간을 모두 = ' '로 변경"
   ]
  },
  {
   "cell_type": "code",
   "execution_count": null,
   "metadata": {},
   "outputs": [],
   "source": [
    "def clean_text(data):\n",
    "    remaining_text =[]\n",
    "    for sentence in data:\n",
    "        sentences = ''\n",
    "        for char in sentence.split(' '):\n",
    "            if len(char)>1:\n",
    "                sentences += char + ' '\n",
    "        remaining_text.append(sentences)\n",
    "    return remaining_text"
   ]
  },
  {
   "cell_type": "markdown",
   "metadata": {},
   "source": [
    "## 엑셀 파일"
   ]
  },
  {
   "cell_type": "code",
   "execution_count": null,
   "metadata": {},
   "outputs": [],
   "source": [
    "doc_word_freq = {}"
   ]
  },
  {
   "cell_type": "code",
   "execution_count": null,
   "metadata": {},
   "outputs": [],
   "source": [
    "#주어진 단어 빈도 딕셔너리를 문서-단어 행렬로 변환하고, 엑셀 파일로 저장하는 함수.\n",
    "def create_doc_term_matrix(doc_word_freq, file_path='doc_word_freq.xlsx'):\n",
    "    # Parameters) doc_word_freq: 각 문서의 단어 빈도 딕셔너리, file_path: 저장할 엑셀 파일 경로 및 이름\n",
    "    # Returns) doc_term_matrix: 문서-단어 행렬 (pandas DataFrame)\n",
    "    import pandas as pd\n",
    "    # 단어 리스트를 추출\n",
    "    words = list(set(word for doc in doc_word_freq.values() for word in doc))\n",
    "    \n",
    "    # 각 문서별 단어 빈도수를 데이터프레임으로 변환\n",
    "    doc_matrix = pd.DataFrame([{word: freq.get(word, 0) for word in words} for freq in doc_word_freq.values()])\n",
    "    \n",
    "    # 행은 문서, 열은 단어가 되는 문서-단어 행렬로 변환\n",
    "    doc_matrix.index = doc_word_freq.keys()\n",
    "\n",
    "    # Excel 파일로 내보내기\n",
    "    doc_matrix.to_excel(file_path, sheet_name='Word_Frequency')\n",
    "    \n",
    "    print(f\"Excel 파일이 '{file_path}'에 저장되었습니다.\")\n",
    "    \n",
    "    return doc_matrix\n"
   ]
  },
  {
   "cell_type": "code",
   "execution_count": null,
   "metadata": {},
   "outputs": [],
   "source": [
    "# 기존 엑셀 파일을 업데이트하는 함수\n",
    "def update_excel_with_new_doc(doc_word_freq, file_path):\n",
    "    import pandas as pd\n",
    "    import os\n",
    "    \n",
    "    # 파일 경로가 존재하는지 확인\n",
    "    if os.path.exists(file_path):\n",
    "        existing_data = pd.read_excel(file_path, sheet_name='Word_Frequency', index_col=0)\n",
    "    else:\n",
    "        existing_data = pd.DataFrame()\n",
    "\n",
    "    # 새로운 데이터를 데이터프레임으로 변환\n",
    "    words = list(set(word for doc in doc_word_freq.values() for word in doc))\n",
    "    new_data = pd.DataFrame([{word: freq.get(word, 0) for word in words} for freq in doc_word_freq.values()])\n",
    "    new_data.index = doc_word_freq.keys()\n",
    "\n",
    "    # 기존 데이터에 새로운 데이터를 추가\n",
    "    updated_data = pd.concat([existing_data, new_data], axis=0)\n",
    "    \n",
    "    # 중복된 문서가 있을 경우 마지막 추가된 것으로 업데이트\n",
    "    updated_data = updated_data[~updated_data.index.duplicated(keep='last')]\n",
    "\n",
    "    # 업데이트된 데이터를 다시 엑셀로 저장\n",
    "    updated_data.to_excel(file_path, sheet_name='Word_Frequency')\n",
    "    print(f\"Excel 파일이 '{file_path}'로 업데이트되었습니다.\")"
   ]
  },
  {
   "cell_type": "code",
   "execution_count": null,
   "metadata": {},
   "outputs": [],
   "source": [
    "file_path = \"/Users/kimsuyeon/Desktop/Project2/doc_word_freq(동의어X).xlsx\""
   ]
  },
  {
   "cell_type": "markdown",
   "metadata": {},
   "source": [
    "# sheet1: 2023.12.31"
   ]
  },
  {
   "cell_type": "code",
   "execution_count": null,
   "metadata": {},
   "outputs": [],
   "source": [
    "df_23end = read_data(0,1) #sheet1: 2023.12.31"
   ]
  },
  {
   "cell_type": "markdown",
   "metadata": {},
   "source": [
    "## 📌전문"
   ]
  },
  {
   "cell_type": "markdown",
   "metadata": {},
   "source": [
    "### 데이터 불러오기"
   ]
  },
  {
   "cell_type": "code",
   "execution_count": null,
   "metadata": {},
   "outputs": [],
   "source": [
    "all = df_23end['전문'][0]"
   ]
  },
  {
   "cell_type": "code",
   "execution_count": null,
   "metadata": {},
   "outputs": [],
   "source": [
    "all"
   ]
  },
  {
   "cell_type": "markdown",
   "metadata": {},
   "source": [
    "### 특수기호 일차적으로 제거"
   ]
  },
  {
   "cell_type": "code",
   "execution_count": null,
   "metadata": {},
   "outputs": [],
   "source": [
    "import re\n",
    "all = re.sub(r'[()《》!]', ' ', all) #특수기호 제거, 정규 표현식  "
   ]
  },
  {
   "cell_type": "markdown",
   "metadata": {},
   "source": [
    "### '\\n\\n'를 기준으로 문장 나누기"
   ]
  },
  {
   "cell_type": "code",
   "execution_count": null,
   "metadata": {},
   "outputs": [],
   "source": [
    "all = all.split('\\n\\n')"
   ]
  },
  {
   "cell_type": "markdown",
   "metadata": {},
   "source": [
    "### 특수기호 이차적으로 ('1. ','2. ','3. ', '4. ' ,'\\n' 등) 삭제"
   ]
  },
  {
   "cell_type": "code",
   "execution_count": null,
   "metadata": {},
   "outputs": [],
   "source": [
    "for idx,sent in enumerate(all):\n",
    "    if ('1. ' in sent) or ('2. ' in sent) or ('3. ' in sent) or ('4. ' in sent) or ('5. 'in sent) or ('6. 'in sent):\n",
    "        all[idx] = sent[3:]"
   ]
  },
  {
   "cell_type": "code",
   "execution_count": null,
   "metadata": {},
   "outputs": [],
   "source": [
    "all_23end = []\n",
    "for text in all:\n",
    "    all_23end.append(re.sub(r'[\\n]', ' ', text))"
   ]
  },
  {
   "cell_type": "markdown",
   "metadata": {},
   "source": [
    "### 이름 추출"
   ]
  },
  {
   "cell_type": "code",
   "execution_count": null,
   "metadata": {},
   "outputs": [],
   "source": [
    "find_name = []\n",
    "for sen in all_23end:\n",
    "    if '동지' in sen :\n",
    "        word = sen.split(' ')\n",
    "        for char in word:\n",
    "            if '동지' in char:\n",
    "                name = char.split('동지')\n",
    "                find_name.append(name[:-1])"
   ]
  },
  {
   "cell_type": "code",
   "execution_count": null,
   "metadata": {},
   "outputs": [],
   "source": [
    "find_name"
   ]
  },
  {
   "cell_type": "code",
   "execution_count": null,
   "metadata": {},
   "outputs": [],
   "source": [
    "name_23end = []\n",
    "for i in find_name:\n",
    "    for char in i:\n",
    "        name_23end.append(char[-3:])\n",
    "    "
   ]
  },
  {
   "cell_type": "code",
   "execution_count": null,
   "metadata": {},
   "outputs": [],
   "source": [
    "name_23end "
   ]
  },
  {
   "cell_type": "markdown",
   "metadata": {},
   "source": [
    "#### 이름 빈도 구하기"
   ]
  },
  {
   "cell_type": "code",
   "execution_count": null,
   "metadata": {},
   "outputs": [],
   "source": [
    "name_extracted_nouns,texts_without_name  = [],[]\n",
    "for text in all_23end:\n",
    "    extracted_nouns, remaining_text = extract_user_defined_nouns(text,name_23end)\n",
    "    name_extracted_nouns.append(extracted_nouns)\n",
    "    texts_without_name.append(remaining_text)"
   ]
  },
  {
   "cell_type": "code",
   "execution_count": null,
   "metadata": {},
   "outputs": [],
   "source": [
    "from collections import Counter\n",
    "word_frequencies_name_23end =  Counter(name_23end)"
   ]
  },
  {
   "cell_type": "markdown",
   "metadata": {},
   "source": [
    "### 권력구조와 정치형태 관련 단어 사용자 정의 사전을 사용하여 명사 추출"
   ]
  },
  {
   "cell_type": "code",
   "execution_count": null,
   "metadata": {},
   "outputs": [],
   "source": [
    "user_defined_extracted_nouns,texts_without_user_nouns  = [],[]\n",
    "for text in texts_without_name:\n",
    "    extracted_nouns, remaining_text = extract_user_defined_nouns(text,user_defined_nouns)\n",
    "    user_defined_extracted_nouns.append(extracted_nouns)\n",
    "    texts_without_user_nouns.append(remaining_text)"
   ]
  },
  {
   "cell_type": "code",
   "execution_count": null,
   "metadata": {},
   "outputs": [],
   "source": [
    "user_defined_extracted_nouns"
   ]
  },
  {
   "cell_type": "code",
   "execution_count": null,
   "metadata": {},
   "outputs": [],
   "source": [
    "word_frequencies_user_defined_nouns=merge_word_with_frequencies(user_defined_extracted_nouns)"
   ]
  },
  {
   "cell_type": "markdown",
   "metadata": {},
   "source": [
    "#### 빈도수 구하기"
   ]
  },
  {
   "cell_type": "code",
   "execution_count": null,
   "metadata": {},
   "outputs": [],
   "source": [
    "word_frequencies_user = Counter(word_frequencies_user_defined_nouns)"
   ]
  },
  {
   "cell_type": "code",
   "execution_count": null,
   "metadata": {},
   "outputs": [],
   "source": [
    "word_frequencies_user"
   ]
  },
  {
   "cell_type": "code",
   "execution_count": null,
   "metadata": {},
   "outputs": [],
   "source": [
    "texts_without_user_nouns"
   ]
  },
  {
   "cell_type": "markdown",
   "metadata": {},
   "source": [
    "### 불용어 제거"
   ]
  },
  {
   "cell_type": "code",
   "execution_count": null,
   "metadata": {},
   "outputs": [],
   "source": [
    "texts_without_stopwords=[]\n",
    "for text in texts_without_user_nouns:\n",
    "    remaining_text = remove_stopwords(text,stopwords)\n",
    "    texts_without_stopwords.append(remaining_text)"
   ]
  },
  {
   "cell_type": "code",
   "execution_count": null,
   "metadata": {},
   "outputs": [],
   "source": [
    "texts_without_stopwords"
   ]
  },
  {
   "cell_type": "markdown",
   "metadata": {},
   "source": [
    "#### '조선로동'이라는 단어는 단독으로 쓰인 단어가 아닌 '조선로동당 중앙위원회'와 같이 사용된 단어로 삭제한다.\n"
   ]
  },
  {
   "cell_type": "code",
   "execution_count": null,
   "metadata": {},
   "outputs": [],
   "source": [
    "sentences = []\n",
    "for sentence in texts_without_stopwords:\n",
    "    sentences.append(sentence.replace(\"조선로동\", \" \"))\n",
    "    "
   ]
  },
  {
   "cell_type": "code",
   "execution_count": null,
   "metadata": {},
   "outputs": [],
   "source": [
    "texts_without_stopwords = sentences"
   ]
  },
  {
   "cell_type": "code",
   "execution_count": null,
   "metadata": {},
   "outputs": [],
   "source": [
    "remaining_text = clean_text(texts_without_stopwords)"
   ]
  },
  {
   "cell_type": "code",
   "execution_count": null,
   "metadata": {},
   "outputs": [],
   "source": [
    "texts_without_stopwords = remaining_text"
   ]
  },
  {
   "cell_type": "code",
   "execution_count": null,
   "metadata": {},
   "outputs": [],
   "source": [
    "texts_without_stopwords "
   ]
  },
  {
   "cell_type": "markdown",
   "metadata": {},
   "source": [
    "### soynlp 명사 추출기 ( 이미 명사로 분류된 단어들은 제외)"
   ]
  },
  {
   "cell_type": "code",
   "execution_count": null,
   "metadata": {},
   "outputs": [],
   "source": [
    "from soynlp.noun import LRNounExtractor_v2\n",
    "noun_extractor = LRNounExtractor_v2(verbose=True, extract_compound=True)\n",
    "noun_extractor.train(texts_without_stopwords)\n",
    "soynlp_nouns = noun_extractor.extract()"
   ]
  },
  {
   "cell_type": "code",
   "execution_count": null,
   "metadata": {},
   "outputs": [],
   "source": [
    "#soynlp로 추출된 명사를 (명사,빈도수)로 저장\n",
    "extracted_soynlp_words = {word:score.frequency for word,score in soynlp_nouns.items() if len(word) >= 2}\n",
    "extracted_soynlp_words"
   ]
  },
  {
   "cell_type": "code",
   "execution_count": null,
   "metadata": {},
   "outputs": [],
   "source": [
    "word_frequencies_soynlp=Counter(extracted_soynlp_words)"
   ]
  },
  {
   "cell_type": "markdown",
   "metadata": {},
   "source": [
    "#### soynlp로 추출한 명사 데이터셋에서 삭제"
   ]
  },
  {
   "cell_type": "code",
   "execution_count": null,
   "metadata": {},
   "outputs": [],
   "source": [
    "#texts_without_stopwords에 삭제할 단어 저장\n",
    "remove_word_soynlp = [ word for word in soynlp_nouns if len(word) >= 2]"
   ]
  },
  {
   "cell_type": "code",
   "execution_count": null,
   "metadata": {},
   "outputs": [],
   "source": [
    "#soynlp로 추출된 명사들을 texts_without_stopwords에서 삭제한다.\n",
    "texts_without_soynlp=[]\n",
    "for text in texts_without_stopwords:\n",
    "    remaining_text = remove_stopwords(text,remove_word_soynlp)\n",
    "    texts_without_soynlp.append(remaining_text)"
   ]
  },
  {
   "cell_type": "code",
   "execution_count": null,
   "metadata": {},
   "outputs": [],
   "source": [
    "texts_without_soynlp"
   ]
  },
  {
   "cell_type": "code",
   "execution_count": null,
   "metadata": {},
   "outputs": [],
   "source": [
    "remaining_text =clean_text(texts_without_soynlp)\n",
    "    "
   ]
  },
  {
   "cell_type": "code",
   "execution_count": null,
   "metadata": {},
   "outputs": [],
   "source": [
    "remaining_text"
   ]
  },
  {
   "cell_type": "code",
   "execution_count": null,
   "metadata": {},
   "outputs": [],
   "source": [
    "texts_without_soynlp = remaining_text"
   ]
  },
  {
   "cell_type": "markdown",
   "metadata": {},
   "source": [
    "### 북한 용어사전을 활용하여 명사 추출"
   ]
  },
  {
   "cell_type": "code",
   "execution_count": null,
   "metadata": {},
   "outputs": [],
   "source": [
    "site_defined_extracted_nouns,texts_without_extracted_nouns = [],[]\n",
    "for text in texts_without_soynlp:\n",
    "    extracted_nouns, remaining_text = extract_site_defined_nouns(text,dict_site)\n",
    "    site_defined_extracted_nouns.append(extracted_nouns)\n",
    "    texts_without_extracted_nouns.append(remaining_text)"
   ]
  },
  {
   "cell_type": "code",
   "execution_count": null,
   "metadata": {},
   "outputs": [],
   "source": [
    "# 리스트 평탄화\n",
    "site_defined_extracted_nouns = [item for sublist in site_defined_extracted_nouns for item in sublist]\n",
    "\n",
    "print(site_defined_extracted_nouns)"
   ]
  },
  {
   "cell_type": "code",
   "execution_count": null,
   "metadata": {},
   "outputs": [],
   "source": [
    "word_frequencies_site = Counter(site_defined_extracted_nouns)"
   ]
  },
  {
   "cell_type": "code",
   "execution_count": null,
   "metadata": {},
   "outputs": [],
   "source": [
    "word_frequencies_site"
   ]
  },
  {
   "cell_type": "code",
   "execution_count": null,
   "metadata": {},
   "outputs": [],
   "source": [
    "remaining_text = clean_text(texts_without_extracted_nouns)"
   ]
  },
  {
   "cell_type": "code",
   "execution_count": null,
   "metadata": {},
   "outputs": [],
   "source": [
    "remaining_text"
   ]
  },
  {
   "cell_type": "code",
   "execution_count": null,
   "metadata": {},
   "outputs": [],
   "source": [
    "texts_without_extracted_nouns = remaining_text"
   ]
  },
  {
   "cell_type": "markdown",
   "metadata": {},
   "source": [
    "### Mecab 명사 추출기(이미 명사로 분류된 단어들은 제외)"
   ]
  },
  {
   "cell_type": "code",
   "execution_count": null,
   "metadata": {},
   "outputs": [],
   "source": [
    "from konlpy.tag import Mecab\n",
    "mecab = Mecab()\n",
    "mecab_nouns = []\n",
    "for text in texts_without_extracted_nouns:\n",
    "    mecab_nouns += mecab.nouns(text)"
   ]
  },
  {
   "cell_type": "code",
   "execution_count": null,
   "metadata": {},
   "outputs": [],
   "source": [
    "mecab_nouns"
   ]
  },
  {
   "cell_type": "code",
   "execution_count": null,
   "metadata": {},
   "outputs": [],
   "source": [
    "mecab_nouns_clean = []\n",
    "for char in mecab_nouns:\n",
    "    if len(char)>1:\n",
    "        mecab_nouns_clean.append(char)"
   ]
  },
  {
   "cell_type": "code",
   "execution_count": null,
   "metadata": {},
   "outputs": [],
   "source": [
    "texts_without_mecab=[]\n",
    "for text in texts_without_extracted_nouns:\n",
    "    remaining_text = remove_stopwords(text,mecab_nouns_clean)\n",
    "    texts_without_mecab.append(remaining_text)"
   ]
  },
  {
   "cell_type": "code",
   "execution_count": null,
   "metadata": {},
   "outputs": [],
   "source": [
    "texts_without_mecab"
   ]
  },
  {
   "cell_type": "code",
   "execution_count": null,
   "metadata": {},
   "outputs": [],
   "source": [
    "#단어 빈도수 계산\n",
    "from collections import Counter\n",
    "word_frequencies_mecab = Counter(mecab_nouns_clean)\n",
    "word_frequencies_mecab"
   ]
  },
  {
   "cell_type": "markdown",
   "metadata": {},
   "source": [
    "### 모두 합하기"
   ]
  },
  {
   "cell_type": "code",
   "execution_count": null,
   "metadata": {},
   "outputs": [],
   "source": [
    "word_frequencies_all_23end = word_frequencies_mecab+word_frequencies_soynlp+word_frequencies_name_23end+word_frequencies_site+word_frequencies_user"
   ]
  },
  {
   "cell_type": "markdown",
   "metadata": {},
   "source": [
    "### 엑셀로 내보내기 "
   ]
  },
  {
   "cell_type": "code",
   "execution_count": null,
   "metadata": {},
   "outputs": [],
   "source": [
    "doc_word_freq['23end'] = word_frequencies_all_23end "
   ]
  },
  {
   "cell_type": "code",
   "execution_count": null,
   "metadata": {},
   "outputs": [],
   "source": [
    "# 단어 리스트를 추출\n",
    "words = list(set(word for doc in doc_word_freq.values() for word in doc))\n",
    "\n",
    "# 각 문서별 단어 빈도수를 데이터프레임으로 변환\n",
    "doc_matrix = pd.DataFrame([{word: freq.get(word, 0) for word in words} for freq in doc_word_freq.values()])\n",
    "\n",
    "# 행은 문서, 열은 단어가 되는 문서-단어 행렬로 변환\n",
    "doc_matrix.index = doc_word_freq.keys()\n",
    "\n",
    "# Excel 파일로 내보내기\n",
    "doc_matrix.to_excel('doc_word_freq(동의어X).xlsx', sheet_name='Word_Frequency')\n"
   ]
  },
  {
   "cell_type": "markdown",
   "metadata": {},
   "source": [
    "# sheet2: 2023.1.1"
   ]
  },
  {
   "cell_type": "code",
   "execution_count": null,
   "metadata": {},
   "outputs": [],
   "source": [
    "df_23be = read_data(1,2) #sheet1: 2023.12.31"
   ]
  },
  {
   "cell_type": "code",
   "execution_count": null,
   "metadata": {},
   "outputs": [],
   "source": [
    "df_23be "
   ]
  },
  {
   "cell_type": "markdown",
   "metadata": {},
   "source": [
    "## 📌전문"
   ]
  },
  {
   "cell_type": "markdown",
   "metadata": {},
   "source": [
    "### 데이터 불러오기"
   ]
  },
  {
   "cell_type": "code",
   "execution_count": null,
   "metadata": {},
   "outputs": [],
   "source": [
    "all = df_23be['전문'][0]"
   ]
  },
  {
   "cell_type": "code",
   "execution_count": null,
   "metadata": {},
   "outputs": [],
   "source": [
    "all"
   ]
  },
  {
   "cell_type": "markdown",
   "metadata": {},
   "source": [
    "### 특수기호 일차적으로 제거"
   ]
  },
  {
   "cell_type": "code",
   "execution_count": null,
   "metadata": {},
   "outputs": [],
   "source": [
    "import re\n",
    "all = re.sub(r'[()《》!]', ' ', all) #특수기호 제거, 정규 표현식  "
   ]
  },
  {
   "cell_type": "markdown",
   "metadata": {},
   "source": [
    "### '\\n\\n'를 기준으로 문장 나누기"
   ]
  },
  {
   "cell_type": "code",
   "execution_count": null,
   "metadata": {},
   "outputs": [],
   "source": [
    "all = all.split('\\n\\n\\u3000\\u3000')"
   ]
  },
  {
   "cell_type": "markdown",
   "metadata": {},
   "source": [
    "### 특수기호 이차적으로 ('1. ','2. ','3. ', '4. ' ,'\\n' 등) 삭제"
   ]
  },
  {
   "cell_type": "code",
   "execution_count": null,
   "metadata": {},
   "outputs": [],
   "source": [
    "for idx,sent in enumerate(all):\n",
    "    if '1. ' in sent or '2. 'in sent or '3. ' in sent or '4. ' in sent or '5. 'in sent or '6. 'in sent:\n",
    "        all[idx] = sent[3:]"
   ]
  },
  {
   "cell_type": "code",
   "execution_count": null,
   "metadata": {},
   "outputs": [],
   "source": [
    "all_23be = []\n",
    "for text in all:\n",
    "    all_23be.append(re.sub(r'[\\n\\u3000]', ' ', text))"
   ]
  },
  {
   "cell_type": "markdown",
   "metadata": {},
   "source": [
    "### 이름 추출"
   ]
  },
  {
   "cell_type": "code",
   "execution_count": null,
   "metadata": {},
   "outputs": [],
   "source": [
    "find_name = []\n",
    "for sen in all_23be:\n",
    "    if '동지' in sen :\n",
    "        word = sen.split(' ')\n",
    "        for char in word:\n",
    "            if '동지' in char:\n",
    "                name = char.split('동지')\n",
    "                find_name.append(name[:-1])"
   ]
  },
  {
   "cell_type": "code",
   "execution_count": null,
   "metadata": {},
   "outputs": [],
   "source": [
    "find_name "
   ]
  },
  {
   "cell_type": "code",
   "execution_count": null,
   "metadata": {},
   "outputs": [],
   "source": [
    "name_23be = []\n",
    "for i in find_name:\n",
    "    for char in i:\n",
    "        name_23be.append(char[-3:])"
   ]
  },
  {
   "cell_type": "code",
   "execution_count": null,
   "metadata": {},
   "outputs": [],
   "source": [
    "name_23be"
   ]
  },
  {
   "cell_type": "markdown",
   "metadata": {},
   "source": [
    "#### 이름 빈도 구하기"
   ]
  },
  {
   "cell_type": "code",
   "execution_count": null,
   "metadata": {},
   "outputs": [],
   "source": [
    "name_extracted_nouns,texts_without_name  = [],[]\n",
    "for text in all_23be:\n",
    "    extracted_nouns, remaining_text = extract_user_defined_nouns(text,name_23be)\n",
    "    name_extracted_nouns.append(extracted_nouns)\n",
    "    texts_without_name.append(remaining_text)"
   ]
  },
  {
   "cell_type": "code",
   "execution_count": null,
   "metadata": {},
   "outputs": [],
   "source": [
    "word_frequencies_name = merge_word_with_frequencies(name_extracted_nouns)"
   ]
  },
  {
   "cell_type": "code",
   "execution_count": null,
   "metadata": {},
   "outputs": [],
   "source": [
    "from collections import Counter\n",
    "word_frequencies_name_23be =  Counter(word_frequencies_name)"
   ]
  },
  {
   "cell_type": "markdown",
   "metadata": {},
   "source": [
    "### 권력구조와 정치형태 관련 단어 사용자 정의 사전을 사용하여 명사 추출"
   ]
  },
  {
   "cell_type": "code",
   "execution_count": null,
   "metadata": {},
   "outputs": [],
   "source": [
    "user_defined_extracted_nouns,texts_without_user_nouns  = [],[]\n",
    "for text in texts_without_name:\n",
    "    extracted_nouns, remaining_text = extract_user_defined_nouns(text,user_defined_nouns)\n",
    "    user_defined_extracted_nouns.append(extracted_nouns)\n",
    "    texts_without_user_nouns.append(remaining_text)"
   ]
  },
  {
   "cell_type": "code",
   "execution_count": null,
   "metadata": {},
   "outputs": [],
   "source": [
    "user_defined_extracted_nouns"
   ]
  },
  {
   "cell_type": "code",
   "execution_count": null,
   "metadata": {},
   "outputs": [],
   "source": [
    "word_frequencies_user_defined_nouns=merge_word_with_frequencies(user_defined_extracted_nouns)"
   ]
  },
  {
   "cell_type": "markdown",
   "metadata": {},
   "source": [
    "#### 빈도수 구하기"
   ]
  },
  {
   "cell_type": "code",
   "execution_count": null,
   "metadata": {},
   "outputs": [],
   "source": [
    "word_frequencies_user = Counter(word_frequencies_user_defined_nouns)"
   ]
  },
  {
   "cell_type": "code",
   "execution_count": null,
   "metadata": {},
   "outputs": [],
   "source": [
    "texts_without_user_nouns"
   ]
  },
  {
   "cell_type": "markdown",
   "metadata": {},
   "source": [
    "### 불용어 제거"
   ]
  },
  {
   "cell_type": "code",
   "execution_count": null,
   "metadata": {},
   "outputs": [],
   "source": [
    "texts_without_stopwords=[]\n",
    "for text in texts_without_user_nouns:\n",
    "    remaining_text = remove_stopwords(text,stopwords)\n",
    "    texts_without_stopwords.append(remaining_text)"
   ]
  },
  {
   "cell_type": "code",
   "execution_count": null,
   "metadata": {},
   "outputs": [],
   "source": [
    "texts_without_stopwords"
   ]
  },
  {
   "cell_type": "markdown",
   "metadata": {},
   "source": [
    "#### '조선로동'이라는 단어는 단독으로 쓰인 단어가 아닌 '조선로동당 중앙위원회'와 같이 사용된 단어로 삭제한다.\n"
   ]
  },
  {
   "cell_type": "code",
   "execution_count": null,
   "metadata": {},
   "outputs": [],
   "source": [
    "sentences = []\n",
    "for sentence in texts_without_stopwords:\n",
    "    sentences.append(sentence.replace(\"조선로동\", \" \"))"
   ]
  },
  {
   "cell_type": "code",
   "execution_count": null,
   "metadata": {},
   "outputs": [],
   "source": [
    "texts_without_stopwords = sentences"
   ]
  },
  {
   "cell_type": "code",
   "execution_count": null,
   "metadata": {},
   "outputs": [],
   "source": [
    "remaining_text = clean_text(texts_without_stopwords)"
   ]
  },
  {
   "cell_type": "code",
   "execution_count": null,
   "metadata": {},
   "outputs": [],
   "source": [
    "texts_without_stopwords = remaining_text"
   ]
  },
  {
   "cell_type": "code",
   "execution_count": null,
   "metadata": {},
   "outputs": [],
   "source": [
    "texts_without_stopwords"
   ]
  },
  {
   "cell_type": "markdown",
   "metadata": {},
   "source": [
    "### soynlp 명사 추출기 ( 이미 명사로 분류된 단어들은 제외)"
   ]
  },
  {
   "cell_type": "code",
   "execution_count": null,
   "metadata": {},
   "outputs": [],
   "source": [
    "from soynlp.noun import LRNounExtractor_v2\n",
    "noun_extractor = LRNounExtractor_v2(verbose=True, extract_compound=True)\n",
    "noun_extractor.train(texts_without_stopwords)\n",
    "soynlp_nouns = noun_extractor.extract()"
   ]
  },
  {
   "cell_type": "code",
   "execution_count": null,
   "metadata": {},
   "outputs": [],
   "source": [
    "#soynlp로 추출된 명사를 (명사,빈도수)로 저장\n",
    "extracted_soynlp_words = {word:score.frequency for word,score in soynlp_nouns.items() if len(word) >= 2}\n",
    "extracted_soynlp_words"
   ]
  },
  {
   "cell_type": "code",
   "execution_count": null,
   "metadata": {},
   "outputs": [],
   "source": [
    "word_frequencies_soynlp=Counter(extracted_soynlp_words)"
   ]
  },
  {
   "cell_type": "markdown",
   "metadata": {},
   "source": [
    "#### soynlp로 추출한 명사 데이터셋에서 삭제"
   ]
  },
  {
   "cell_type": "code",
   "execution_count": null,
   "metadata": {},
   "outputs": [],
   "source": [
    "#texts_without_stopwords에 삭제할 단어 저장\n",
    "remove_word_soynlp = [ word for word in soynlp_nouns if len(word) >= 2]"
   ]
  },
  {
   "cell_type": "code",
   "execution_count": null,
   "metadata": {},
   "outputs": [],
   "source": [
    "#soynlp로 추출된 명사들을 texts_without_stopwords에서 삭제한다.\n",
    "texts_without_soynlp=[]\n",
    "for text in texts_without_stopwords:\n",
    "    remaining_text = remove_stopwords(text,remove_word_soynlp)\n",
    "    texts_without_soynlp.append(remaining_text)"
   ]
  },
  {
   "cell_type": "code",
   "execution_count": null,
   "metadata": {},
   "outputs": [],
   "source": [
    "texts_without_soynlp"
   ]
  },
  {
   "cell_type": "code",
   "execution_count": null,
   "metadata": {},
   "outputs": [],
   "source": [
    "remaining_text = clean_text(texts_without_soynlp)\n",
    "    "
   ]
  },
  {
   "cell_type": "code",
   "execution_count": null,
   "metadata": {},
   "outputs": [],
   "source": [
    "remaining_text"
   ]
  },
  {
   "cell_type": "code",
   "execution_count": null,
   "metadata": {},
   "outputs": [],
   "source": [
    "texts_without_soynlp = remaining_text"
   ]
  },
  {
   "cell_type": "markdown",
   "metadata": {},
   "source": [
    "### 북한 용어사전을 활용하여 명사 추출"
   ]
  },
  {
   "cell_type": "code",
   "execution_count": null,
   "metadata": {},
   "outputs": [],
   "source": [
    "site_defined_extracted_nouns,texts_without_extracted_nouns = [],[]\n",
    "for text in texts_without_soynlp:\n",
    "    extracted_nouns, remaining_text = extract_site_defined_nouns(text,dict_site)\n",
    "    site_defined_extracted_nouns.append(extracted_nouns)\n",
    "    texts_without_extracted_nouns.append(remaining_text)"
   ]
  },
  {
   "cell_type": "code",
   "execution_count": null,
   "metadata": {},
   "outputs": [],
   "source": [
    "# 리스트 평탄화\n",
    "site_defined_extracted_nouns = [item for sublist in site_defined_extracted_nouns for item in sublist]\n",
    "\n",
    "print(site_defined_extracted_nouns)"
   ]
  },
  {
   "cell_type": "code",
   "execution_count": null,
   "metadata": {},
   "outputs": [],
   "source": [
    "word_frequencies_site = Counter(site_defined_extracted_nouns)"
   ]
  },
  {
   "cell_type": "code",
   "execution_count": null,
   "metadata": {},
   "outputs": [],
   "source": [
    "word_frequencies_site"
   ]
  },
  {
   "cell_type": "code",
   "execution_count": null,
   "metadata": {},
   "outputs": [],
   "source": [
    "remaining_text = clean_text(texts_without_extracted_nouns)"
   ]
  },
  {
   "cell_type": "code",
   "execution_count": null,
   "metadata": {},
   "outputs": [],
   "source": [
    "remaining_text"
   ]
  },
  {
   "cell_type": "code",
   "execution_count": null,
   "metadata": {},
   "outputs": [],
   "source": [
    "texts_without_extracted_nouns = remaining_text"
   ]
  },
  {
   "cell_type": "markdown",
   "metadata": {},
   "source": [
    "### Mecab 명사 추출기(이미 명사로 분류된 단어들은 제외)"
   ]
  },
  {
   "cell_type": "code",
   "execution_count": null,
   "metadata": {},
   "outputs": [],
   "source": [
    "from konlpy.tag import Mecab\n",
    "mecab = Mecab()\n",
    "mecab_nouns = []\n",
    "for text in texts_without_extracted_nouns:\n",
    "    mecab_nouns += mecab.nouns(text)"
   ]
  },
  {
   "cell_type": "code",
   "execution_count": null,
   "metadata": {},
   "outputs": [],
   "source": [
    "mecab_nouns"
   ]
  },
  {
   "cell_type": "code",
   "execution_count": null,
   "metadata": {},
   "outputs": [],
   "source": [
    "mecab_nouns_clean = []\n",
    "for char in mecab_nouns:\n",
    "    if len(char)>1:\n",
    "        mecab_nouns_clean.append(char)"
   ]
  },
  {
   "cell_type": "code",
   "execution_count": null,
   "metadata": {},
   "outputs": [],
   "source": [
    "#단어 빈도수 계산\n",
    "from collections import Counter\n",
    "word_frequencies_mecab = Counter(mecab_nouns_clean)\n",
    "word_frequencies_mecab"
   ]
  },
  {
   "cell_type": "code",
   "execution_count": null,
   "metadata": {},
   "outputs": [],
   "source": [
    "texts_without_mecab=[]\n",
    "for text in texts_without_extracted_nouns:\n",
    "    remaining_text = remove_stopwords(text,mecab_nouns_clean)\n",
    "    texts_without_mecab.append(remaining_text)"
   ]
  },
  {
   "cell_type": "code",
   "execution_count": null,
   "metadata": {},
   "outputs": [],
   "source": [
    "texts_without_mecab"
   ]
  },
  {
   "cell_type": "markdown",
   "metadata": {},
   "source": [
    "### 모두 합하기"
   ]
  },
  {
   "cell_type": "code",
   "execution_count": null,
   "metadata": {},
   "outputs": [],
   "source": [
    "word_frequencies_all_23be = word_frequencies_mecab+word_frequencies_soynlp+word_frequencies_name_23be+word_frequencies_site+word_frequencies_user"
   ]
  },
  {
   "cell_type": "code",
   "execution_count": null,
   "metadata": {},
   "outputs": [],
   "source": [
    "doc_word_freq['23be'] = word_frequencies_all_23be\n",
    "update_excel_with_new_doc(doc_word_freq, file_path)"
   ]
  },
  {
   "cell_type": "markdown",
   "metadata": {},
   "source": [
    "# sheet3: 2022.1.1"
   ]
  },
  {
   "cell_type": "code",
   "execution_count": null,
   "metadata": {},
   "outputs": [],
   "source": [
    "df_22be = read_data(2,3)"
   ]
  },
  {
   "cell_type": "code",
   "execution_count": null,
   "metadata": {},
   "outputs": [],
   "source": [
    "df_22be "
   ]
  },
  {
   "cell_type": "markdown",
   "metadata": {},
   "source": [
    "## 📌전문"
   ]
  },
  {
   "cell_type": "markdown",
   "metadata": {},
   "source": [
    "### 데이터 불러오기"
   ]
  },
  {
   "cell_type": "code",
   "execution_count": null,
   "metadata": {},
   "outputs": [],
   "source": [
    "all = df_22be['전문'][0]"
   ]
  },
  {
   "cell_type": "code",
   "execution_count": null,
   "metadata": {},
   "outputs": [],
   "source": [
    "all"
   ]
  },
  {
   "cell_type": "markdown",
   "metadata": {},
   "source": [
    "### 특수기호 일차적으로 제거"
   ]
  },
  {
   "cell_type": "code",
   "execution_count": null,
   "metadata": {},
   "outputs": [],
   "source": [
    "import re\n",
    "all = re.sub(r'[()《》!]', ' ', all) #특수기호 제거, 정규 표현식  "
   ]
  },
  {
   "cell_type": "markdown",
   "metadata": {},
   "source": [
    "### '\\n\\n'를 기준으로 문장 나누기"
   ]
  },
  {
   "cell_type": "code",
   "execution_count": null,
   "metadata": {},
   "outputs": [],
   "source": [
    "all = all.split('\\n\\n')"
   ]
  },
  {
   "cell_type": "markdown",
   "metadata": {},
   "source": [
    "### 특수기호 이차적으로 ('1. ','2. ','3. ', '4. ' ,'\\n' 등) 삭제"
   ]
  },
  {
   "cell_type": "code",
   "execution_count": null,
   "metadata": {},
   "outputs": [],
   "source": [
    "for idx,sent in enumerate(all):\n",
    "    if ('1. ' in sent) or ('2. ' in sent) or ('3. ' in sent) or ('4. ' in sent) or ('5. 'in sent) or ('6. 'in sent):\n",
    "        all[idx] = sent[3:]"
   ]
  },
  {
   "cell_type": "code",
   "execution_count": null,
   "metadata": {},
   "outputs": [],
   "source": [
    "all_22be = []\n",
    "for text in all:\n",
    "    all_22be.append(re.sub(r'[\\n]', ' ', text))"
   ]
  },
  {
   "cell_type": "code",
   "execution_count": null,
   "metadata": {},
   "outputs": [],
   "source": [
    "all_22be "
   ]
  },
  {
   "cell_type": "markdown",
   "metadata": {},
   "source": [
    "### 이름 추출"
   ]
  },
  {
   "cell_type": "code",
   "execution_count": null,
   "metadata": {},
   "outputs": [],
   "source": [
    "find_name = []\n",
    "for sen in all_22be:\n",
    "    if '동지' in sen :\n",
    "        word = sen.split(' ')\n",
    "        for char in word:\n",
    "            if '동지' in char:\n",
    "                name = char.split('동지')\n",
    "                find_name.append(name[:-1])\n"
   ]
  },
  {
   "cell_type": "code",
   "execution_count": null,
   "metadata": {},
   "outputs": [],
   "source": [
    "find_name "
   ]
  },
  {
   "cell_type": "code",
   "execution_count": null,
   "metadata": {},
   "outputs": [],
   "source": [
    "name_22be = []\n",
    "for i in find_name:\n",
    "    for char in i:\n",
    "        name_22be.append(char[-3:])"
   ]
  },
  {
   "cell_type": "code",
   "execution_count": null,
   "metadata": {},
   "outputs": [],
   "source": [
    "name_extracted_nouns,texts_without_name  = [],[]\n",
    "for text in all_22be:\n",
    "    extracted_nouns, remaining_text = extract_user_defined_nouns(text,name_22be)\n",
    "    name_extracted_nouns.append(extracted_nouns)\n",
    "    texts_without_name.append(remaining_text)"
   ]
  },
  {
   "cell_type": "code",
   "execution_count": null,
   "metadata": {},
   "outputs": [],
   "source": [
    "name_22be"
   ]
  },
  {
   "cell_type": "code",
   "execution_count": null,
   "metadata": {},
   "outputs": [],
   "source": [
    "word_frequencies_name = Counter(name_22be)"
   ]
  },
  {
   "cell_type": "code",
   "execution_count": null,
   "metadata": {},
   "outputs": [],
   "source": [
    "word_frequencies_name"
   ]
  },
  {
   "cell_type": "code",
   "execution_count": null,
   "metadata": {},
   "outputs": [],
   "source": [
    "from collections import Counter\n",
    "word_frequencies_name_22be = Counter(word_frequencies_name)"
   ]
  },
  {
   "cell_type": "code",
   "execution_count": null,
   "metadata": {},
   "outputs": [],
   "source": [
    "word_frequencies_name_22be "
   ]
  },
  {
   "cell_type": "markdown",
   "metadata": {},
   "source": [
    "### 권력구조와 정치형태 관련 단어 사용자 정의 사전을 사용하여 명사 추출"
   ]
  },
  {
   "cell_type": "code",
   "execution_count": null,
   "metadata": {},
   "outputs": [],
   "source": [
    "user_defined_extracted_nouns,texts_without_user_nouns  = [],[]\n",
    "for text in texts_without_name:\n",
    "    extracted_nouns, remaining_text = extract_user_defined_nouns(text,user_defined_nouns)\n",
    "    user_defined_extracted_nouns.append(extracted_nouns)\n",
    "    texts_without_user_nouns.append(remaining_text)"
   ]
  },
  {
   "cell_type": "code",
   "execution_count": null,
   "metadata": {},
   "outputs": [],
   "source": [
    "user_defined_extracted_nouns"
   ]
  },
  {
   "cell_type": "code",
   "execution_count": null,
   "metadata": {},
   "outputs": [],
   "source": [
    "word_frequencies_user_defined_nouns=merge_word_with_frequencies(user_defined_extracted_nouns)"
   ]
  },
  {
   "cell_type": "markdown",
   "metadata": {},
   "source": [
    "#### 빈도수 구하기"
   ]
  },
  {
   "cell_type": "code",
   "execution_count": null,
   "metadata": {},
   "outputs": [],
   "source": [
    "word_frequencies_user = Counter(word_frequencies_user_defined_nouns)"
   ]
  },
  {
   "cell_type": "code",
   "execution_count": null,
   "metadata": {},
   "outputs": [],
   "source": [
    "texts_without_user_nouns"
   ]
  },
  {
   "cell_type": "markdown",
   "metadata": {},
   "source": [
    "### 불용어 제거"
   ]
  },
  {
   "cell_type": "code",
   "execution_count": null,
   "metadata": {},
   "outputs": [],
   "source": [
    "texts_without_stopwords=[]\n",
    "for text in texts_without_user_nouns:\n",
    "    remaining_text = remove_stopwords(text,stopwords)\n",
    "    texts_without_stopwords.append(remaining_text)"
   ]
  },
  {
   "cell_type": "code",
   "execution_count": null,
   "metadata": {},
   "outputs": [],
   "source": [
    "texts_without_stopwords"
   ]
  },
  {
   "cell_type": "markdown",
   "metadata": {},
   "source": [
    "#### '조선로동'이라는 단어는 단독으로 쓰인 단어가 아닌 '조선로동당 중앙위원회'와 같이 사용된 단어로 삭제한다.\n"
   ]
  },
  {
   "cell_type": "code",
   "execution_count": null,
   "metadata": {},
   "outputs": [],
   "source": [
    "sentences = []\n",
    "for sentence in texts_without_stopwords:\n",
    "    sentences.append(sentence.replace(\"조선로동\", \" \"))\n",
    "    "
   ]
  },
  {
   "cell_type": "code",
   "execution_count": null,
   "metadata": {},
   "outputs": [],
   "source": [
    "texts_without_stopwords = sentences"
   ]
  },
  {
   "cell_type": "code",
   "execution_count": null,
   "metadata": {},
   "outputs": [],
   "source": [
    "remaining_text = clean_text(texts_without_stopwords)"
   ]
  },
  {
   "cell_type": "code",
   "execution_count": null,
   "metadata": {},
   "outputs": [],
   "source": [
    "texts_without_stopwords = remaining_text"
   ]
  },
  {
   "cell_type": "markdown",
   "metadata": {},
   "source": [
    "### soynlp 명사 추출기 ( 이미 명사로 분류된 단어들은 제외)"
   ]
  },
  {
   "cell_type": "code",
   "execution_count": null,
   "metadata": {},
   "outputs": [],
   "source": [
    "from soynlp.noun import LRNounExtractor_v2\n",
    "noun_extractor = LRNounExtractor_v2(verbose=True, extract_compound=True)\n",
    "noun_extractor.train(texts_without_stopwords)\n",
    "soynlp_nouns = noun_extractor.extract()"
   ]
  },
  {
   "cell_type": "code",
   "execution_count": null,
   "metadata": {},
   "outputs": [],
   "source": [
    "#soynlp로 추출된 명사를 (명사,빈도수)로 저장\n",
    "extracted_soynlp_words = {word:score.frequency for word,score in soynlp_nouns.items() if len(word) >= 2}\n",
    "extracted_soynlp_words"
   ]
  },
  {
   "cell_type": "code",
   "execution_count": null,
   "metadata": {},
   "outputs": [],
   "source": [
    "word_frequencies_soynlp=Counter(extracted_soynlp_words)"
   ]
  },
  {
   "cell_type": "markdown",
   "metadata": {},
   "source": [
    "#### soynlp로 추출한 명사 데이터셋에서 삭제"
   ]
  },
  {
   "cell_type": "code",
   "execution_count": null,
   "metadata": {},
   "outputs": [],
   "source": [
    "#texts_without_stopwords에 삭제할 단어 저장\n",
    "remove_word_soynlp = [ word for word in soynlp_nouns if len(word) >= 2]"
   ]
  },
  {
   "cell_type": "code",
   "execution_count": null,
   "metadata": {},
   "outputs": [],
   "source": [
    "#soynlp로 추출된 명사들을 texts_without_stopwords에서 삭제한다.\n",
    "texts_without_soynlp=[]\n",
    "for text in texts_without_stopwords:\n",
    "    remaining_text = remove_stopwords(text,remove_word_soynlp)\n",
    "    texts_without_soynlp.append(remaining_text)"
   ]
  },
  {
   "cell_type": "code",
   "execution_count": null,
   "metadata": {},
   "outputs": [],
   "source": [
    "texts_without_soynlp"
   ]
  },
  {
   "cell_type": "code",
   "execution_count": null,
   "metadata": {},
   "outputs": [],
   "source": [
    "remaining_text = clean_text(texts_without_soynlp)"
   ]
  },
  {
   "cell_type": "code",
   "execution_count": null,
   "metadata": {},
   "outputs": [],
   "source": [
    "remaining_text"
   ]
  },
  {
   "cell_type": "code",
   "execution_count": null,
   "metadata": {},
   "outputs": [],
   "source": [
    "texts_without_soynlp = remaining_text"
   ]
  },
  {
   "cell_type": "markdown",
   "metadata": {},
   "source": [
    "### 북한 용어사전을 활용하여 명사 추출"
   ]
  },
  {
   "cell_type": "code",
   "execution_count": null,
   "metadata": {},
   "outputs": [],
   "source": [
    "site_defined_extracted_nouns,texts_without_extracted_nouns = [],[]\n",
    "for text in texts_without_soynlp:\n",
    "    extracted_nouns, remaining_text = extract_site_defined_nouns(text,dict_site)\n",
    "    site_defined_extracted_nouns.append(extracted_nouns)\n",
    "    texts_without_extracted_nouns.append(remaining_text)"
   ]
  },
  {
   "cell_type": "code",
   "execution_count": null,
   "metadata": {},
   "outputs": [],
   "source": [
    "# 리스트 평탄화\n",
    "site_defined_extracted_nouns = [item for sublist in site_defined_extracted_nouns for item in sublist]\n",
    "\n",
    "print(site_defined_extracted_nouns)"
   ]
  },
  {
   "cell_type": "code",
   "execution_count": null,
   "metadata": {},
   "outputs": [],
   "source": [
    "word_frequencies_site"
   ]
  },
  {
   "cell_type": "code",
   "execution_count": null,
   "metadata": {},
   "outputs": [],
   "source": [
    "word_frequencies_site = Counter(site_defined_extracted_nouns)"
   ]
  },
  {
   "cell_type": "code",
   "execution_count": null,
   "metadata": {},
   "outputs": [],
   "source": [
    "remaining_text = clean_text(texts_without_extracted_nouns)"
   ]
  },
  {
   "cell_type": "code",
   "execution_count": null,
   "metadata": {},
   "outputs": [],
   "source": [
    "remaining_text"
   ]
  },
  {
   "cell_type": "code",
   "execution_count": null,
   "metadata": {},
   "outputs": [],
   "source": [
    "texts_without_extracted_nouns = remaining_text"
   ]
  },
  {
   "cell_type": "markdown",
   "metadata": {},
   "source": [
    "### Mecab 명사 추출기(이미 명사로 분류된 단어들은 제외)"
   ]
  },
  {
   "cell_type": "code",
   "execution_count": null,
   "metadata": {},
   "outputs": [],
   "source": [
    "from konlpy.tag import Mecab\n",
    "mecab = Mecab()\n",
    "mecab_nouns = []\n",
    "for text in texts_without_extracted_nouns:\n",
    "    mecab_nouns += mecab.nouns(text)"
   ]
  },
  {
   "cell_type": "code",
   "execution_count": null,
   "metadata": {},
   "outputs": [],
   "source": [
    "mecab_nouns"
   ]
  },
  {
   "cell_type": "code",
   "execution_count": null,
   "metadata": {},
   "outputs": [],
   "source": [
    "mecab_nouns_clean = []\n",
    "for char in mecab_nouns:\n",
    "    if len(char)>1:\n",
    "        mecab_nouns_clean.append(char)"
   ]
  },
  {
   "cell_type": "code",
   "execution_count": null,
   "metadata": {},
   "outputs": [],
   "source": [
    "texts_without_mecab=[]\n",
    "for text in texts_without_extracted_nouns:\n",
    "    remaining_text = remove_stopwords(text,mecab_nouns_clean)\n",
    "    texts_without_mecab.append(remaining_text)\n",
    "texts_without_mecab"
   ]
  },
  {
   "cell_type": "code",
   "execution_count": null,
   "metadata": {},
   "outputs": [],
   "source": [
    "#단어 빈도수 계산\n",
    "from collections import Counter\n",
    "word_frequencies_mecab = Counter(mecab_nouns_clean)\n",
    "word_frequencies_mecab"
   ]
  },
  {
   "cell_type": "markdown",
   "metadata": {},
   "source": [
    "### 모두 합하기"
   ]
  },
  {
   "cell_type": "code",
   "execution_count": null,
   "metadata": {},
   "outputs": [],
   "source": [
    "word_frequencies_all_22be = word_frequencies_mecab+word_frequencies_soynlp+word_frequencies_name_22be+word_frequencies_site+word_frequencies_user"
   ]
  },
  {
   "cell_type": "code",
   "execution_count": null,
   "metadata": {},
   "outputs": [],
   "source": [
    "doc_word_freq['22be'] = word_frequencies_all_22be\n",
    "update_excel_with_new_doc(doc_word_freq, file_path)"
   ]
  },
  {
   "cell_type": "markdown",
   "metadata": {},
   "source": [
    "# Sheet4 2021.01.06"
   ]
  },
  {
   "cell_type": "code",
   "execution_count": null,
   "metadata": {},
   "outputs": [],
   "source": [
    "df_21be = read_data(3,3)"
   ]
  },
  {
   "cell_type": "code",
   "execution_count": null,
   "metadata": {},
   "outputs": [],
   "source": [
    "df_21be"
   ]
  },
  {
   "cell_type": "markdown",
   "metadata": {},
   "source": [
    "## 📌전문"
   ]
  },
  {
   "cell_type": "markdown",
   "metadata": {},
   "source": [
    "### 데이터 불러오기"
   ]
  },
  {
   "cell_type": "code",
   "execution_count": null,
   "metadata": {},
   "outputs": [],
   "source": [
    "all = df_21be['전문'][0]"
   ]
  },
  {
   "cell_type": "code",
   "execution_count": null,
   "metadata": {},
   "outputs": [],
   "source": [
    "all"
   ]
  },
  {
   "cell_type": "markdown",
   "metadata": {},
   "source": [
    "### 특수기호 일차적으로 제거"
   ]
  },
  {
   "cell_type": "code",
   "execution_count": null,
   "metadata": {},
   "outputs": [],
   "source": [
    "import re\n",
    "all = re.sub(r'[()《》!]', ' ', all) #특수기호 제거, 정규 표현식  "
   ]
  },
  {
   "cell_type": "markdown",
   "metadata": {},
   "source": [
    "### '\\n\\n'를 기준으로 문장 나누기"
   ]
  },
  {
   "cell_type": "code",
   "execution_count": null,
   "metadata": {},
   "outputs": [],
   "source": [
    "all = all.split('\\n\\n')"
   ]
  },
  {
   "cell_type": "markdown",
   "metadata": {},
   "source": [
    "### 특수기호 이차적으로 ('1. ','2. ','3. ', '4. ' ,'\\n' 등) 삭제"
   ]
  },
  {
   "cell_type": "code",
   "execution_count": null,
   "metadata": {},
   "outputs": [],
   "source": [
    "for idx,sent in enumerate(all):\n",
    "    if ('1. ' in sent) or ('2. ' in sent) or ('3. ' in sent) or ('4. ' in sent) or ('5. 'in sent) or ('6. 'in sent):\n",
    "        all[idx] = sent[3:]"
   ]
  },
  {
   "cell_type": "code",
   "execution_count": null,
   "metadata": {},
   "outputs": [],
   "source": [
    "all_21be = []\n",
    "for text in all:\n",
    "    all_21be.append(re.sub(r'[\\n]', ' ', text))"
   ]
  },
  {
   "cell_type": "markdown",
   "metadata": {},
   "source": [
    "### 이름 추출"
   ]
  },
  {
   "cell_type": "code",
   "execution_count": null,
   "metadata": {},
   "outputs": [],
   "source": [
    "find_name = []\n",
    "for sen in all_21be:\n",
    "    if '동지' in sen :\n",
    "        print(sen)"
   ]
  },
  {
   "cell_type": "code",
   "execution_count": null,
   "metadata": {},
   "outputs": [],
   "source": [
    "find_name = []\n",
    "for sen in all_21be:\n",
    "    if '동지' in sen :\n",
    "        word = sen.split(' ')\n",
    "        for char in word:\n",
    "            if '동지' in char:\n",
    "                name = char.split('동지')\n",
    "                find_name.append(name[:-1])"
   ]
  },
  {
   "cell_type": "code",
   "execution_count": null,
   "metadata": {},
   "outputs": [],
   "source": [
    "find_name"
   ]
  },
  {
   "cell_type": "code",
   "execution_count": null,
   "metadata": {},
   "outputs": [],
   "source": [
    "name = []\n",
    "for i in find_name:\n",
    "    for char in i:\n",
    "        name.append(char[-3:])\n",
    "    "
   ]
  },
  {
   "cell_type": "code",
   "execution_count": null,
   "metadata": {},
   "outputs": [],
   "source": [
    "name_21be,texts_without_name  = [],[]\n",
    "for text in all_21be:\n",
    "    extracted_nouns, remaining_text = extract_user_defined_nouns(text,name)\n",
    "    name_21be.append(extracted_nouns)\n",
    "    texts_without_name.append(remaining_text)"
   ]
  },
  {
   "cell_type": "code",
   "execution_count": null,
   "metadata": {},
   "outputs": [],
   "source": [
    "name_21be"
   ]
  },
  {
   "cell_type": "code",
   "execution_count": null,
   "metadata": {},
   "outputs": [],
   "source": [
    "word_frequencies_name_21be = Counter(name)"
   ]
  },
  {
   "cell_type": "code",
   "execution_count": null,
   "metadata": {},
   "outputs": [],
   "source": [
    "texts_without_name "
   ]
  },
  {
   "cell_type": "markdown",
   "metadata": {},
   "source": [
    "### 권력구조와 정치형태 관련 단어 사용자 정의 사전을 사용하여 명사 추출"
   ]
  },
  {
   "cell_type": "code",
   "execution_count": null,
   "metadata": {},
   "outputs": [],
   "source": [
    "user_defined_extracted_nouns,texts_without_user_nouns  = [],[]\n",
    "for text in texts_without_name:\n",
    "    extracted_nouns, remaining_text = extract_user_defined_nouns(text,user_defined_nouns)\n",
    "    user_defined_extracted_nouns.append(extracted_nouns)\n",
    "    texts_without_user_nouns.append(remaining_text)"
   ]
  },
  {
   "cell_type": "code",
   "execution_count": null,
   "metadata": {},
   "outputs": [],
   "source": [
    "user_defined_extracted_nouns"
   ]
  },
  {
   "cell_type": "code",
   "execution_count": null,
   "metadata": {},
   "outputs": [],
   "source": [
    "word_frequencies_user_defined_nouns=merge_word_with_frequencies(user_defined_extracted_nouns)"
   ]
  },
  {
   "cell_type": "markdown",
   "metadata": {},
   "source": [
    "#### 빈도수 구하기"
   ]
  },
  {
   "cell_type": "code",
   "execution_count": null,
   "metadata": {},
   "outputs": [],
   "source": [
    "word_frequencies_user = Counter(word_frequencies_user_defined_nouns)"
   ]
  },
  {
   "cell_type": "code",
   "execution_count": null,
   "metadata": {},
   "outputs": [],
   "source": [
    "texts_without_user_nouns"
   ]
  },
  {
   "cell_type": "markdown",
   "metadata": {},
   "source": [
    "### 불용어 제거"
   ]
  },
  {
   "cell_type": "code",
   "execution_count": null,
   "metadata": {},
   "outputs": [],
   "source": [
    "texts_without_stopwords=[]\n",
    "for text in texts_without_user_nouns:\n",
    "    remaining_text = remove_stopwords(text,stopwords)\n",
    "    texts_without_stopwords.append(remaining_text)"
   ]
  },
  {
   "cell_type": "code",
   "execution_count": null,
   "metadata": {},
   "outputs": [],
   "source": [
    "texts_without_stopwords"
   ]
  },
  {
   "cell_type": "markdown",
   "metadata": {},
   "source": [
    "#### '조선로동'이라는 단어는 단독으로 쓰인 단어가 아닌 '조선로동당 중앙위원회'와 같이 사용된 단어로 삭제한다.\n"
   ]
  },
  {
   "cell_type": "code",
   "execution_count": null,
   "metadata": {},
   "outputs": [],
   "source": [
    "sentences = []\n",
    "for sentence in texts_without_stopwords:\n",
    "    sentences.append(sentence.replace(\"조선로동\", \" \"))"
   ]
  },
  {
   "cell_type": "code",
   "execution_count": null,
   "metadata": {},
   "outputs": [],
   "source": [
    "texts_without_stopwords = sentences"
   ]
  },
  {
   "cell_type": "code",
   "execution_count": null,
   "metadata": {},
   "outputs": [],
   "source": [
    "remaining_text = clean_text(texts_without_stopwords)"
   ]
  },
  {
   "cell_type": "code",
   "execution_count": null,
   "metadata": {},
   "outputs": [],
   "source": [
    "texts_without_stopwords = remaining_text"
   ]
  },
  {
   "cell_type": "markdown",
   "metadata": {},
   "source": [
    "### soynlp 명사 추출기 ( 이미 명사로 분류된 단어들은 제외)"
   ]
  },
  {
   "cell_type": "code",
   "execution_count": null,
   "metadata": {},
   "outputs": [],
   "source": [
    "from soynlp.noun import LRNounExtractor_v2\n",
    "noun_extractor = LRNounExtractor_v2(verbose=True, extract_compound=True)\n",
    "noun_extractor.train(texts_without_stopwords)\n",
    "soynlp_nouns = noun_extractor.extract()"
   ]
  },
  {
   "cell_type": "code",
   "execution_count": null,
   "metadata": {},
   "outputs": [],
   "source": [
    "#soynlp로 추출된 명사를 (명사,빈도수)로 저장\n",
    "extracted_soynlp_words = {word:score.frequency for word,score in soynlp_nouns.items() if len(word) >= 2}\n",
    "extracted_soynlp_words"
   ]
  },
  {
   "cell_type": "code",
   "execution_count": null,
   "metadata": {},
   "outputs": [],
   "source": [
    "word_frequencies_soynlp=Counter(extracted_soynlp_words)"
   ]
  },
  {
   "cell_type": "markdown",
   "metadata": {},
   "source": [
    "#### soynlp로 추출한 명사 데이터셋에서 삭제"
   ]
  },
  {
   "cell_type": "code",
   "execution_count": null,
   "metadata": {},
   "outputs": [],
   "source": [
    "#texts_without_stopwords에 삭제할 단어 저장\n",
    "remove_word_soynlp = [ word for word in soynlp_nouns if len(word) >= 2]"
   ]
  },
  {
   "cell_type": "code",
   "execution_count": null,
   "metadata": {},
   "outputs": [],
   "source": [
    "#soynlp로 추출된 명사들을 texts_without_stopwords에서 삭제한다.\n",
    "texts_without_soynlp=[]\n",
    "for text in texts_without_stopwords:\n",
    "    remaining_text = remove_stopwords(text,remove_word_soynlp)\n",
    "    texts_without_soynlp.append(remaining_text)"
   ]
  },
  {
   "cell_type": "code",
   "execution_count": null,
   "metadata": {},
   "outputs": [],
   "source": [
    "texts_without_soynlp"
   ]
  },
  {
   "cell_type": "code",
   "execution_count": null,
   "metadata": {},
   "outputs": [],
   "source": [
    "remaining_text =[]\n",
    "for sentence in texts_without_soynlp:\n",
    "    sentences = ''\n",
    "    for char in sentence.split(' '):\n",
    "        if len(char)>1:\n",
    "            sentences += char + ' '\n",
    "    remaining_text.append(sentences)\n",
    "    "
   ]
  },
  {
   "cell_type": "code",
   "execution_count": null,
   "metadata": {},
   "outputs": [],
   "source": [
    "remaining_text"
   ]
  },
  {
   "cell_type": "code",
   "execution_count": null,
   "metadata": {},
   "outputs": [],
   "source": [
    "texts_without_soynlp = remaining_text"
   ]
  },
  {
   "cell_type": "markdown",
   "metadata": {},
   "source": [
    "### 북한 용어사전을 활용하여 명사 추출"
   ]
  },
  {
   "cell_type": "code",
   "execution_count": null,
   "metadata": {},
   "outputs": [],
   "source": [
    "site_defined_extracted_nouns,texts_without_extracted_nouns = [],[]\n",
    "for text in texts_without_soynlp:\n",
    "    extracted_nouns, remaining_text = extract_site_defined_nouns(text,dict_site)\n",
    "    site_defined_extracted_nouns.append(extracted_nouns)\n",
    "    texts_without_extracted_nouns.append(remaining_text)"
   ]
  },
  {
   "cell_type": "code",
   "execution_count": null,
   "metadata": {},
   "outputs": [],
   "source": [
    "# 리스트 평탄화\n",
    "site_defined_extracted_nouns = [item for sublist in site_defined_extracted_nouns for item in sublist]\n",
    "\n",
    "print(site_defined_extracted_nouns)"
   ]
  },
  {
   "cell_type": "code",
   "execution_count": null,
   "metadata": {},
   "outputs": [],
   "source": [
    "word_frequencies_site = Counter(site_defined_extracted_nouns)"
   ]
  },
  {
   "cell_type": "code",
   "execution_count": null,
   "metadata": {},
   "outputs": [],
   "source": [
    "word_frequencies_site"
   ]
  },
  {
   "cell_type": "code",
   "execution_count": null,
   "metadata": {},
   "outputs": [],
   "source": [
    "remaining_text = clean_text(texts_without_extracted_nouns)"
   ]
  },
  {
   "cell_type": "code",
   "execution_count": null,
   "metadata": {},
   "outputs": [],
   "source": [
    "remaining_text"
   ]
  },
  {
   "cell_type": "code",
   "execution_count": null,
   "metadata": {},
   "outputs": [],
   "source": [
    "texts_without_extracted_nouns = remaining_text"
   ]
  },
  {
   "cell_type": "markdown",
   "metadata": {},
   "source": [
    "### Mecab 명사 추출기(이미 명사로 분류된 단어들은 제외)"
   ]
  },
  {
   "cell_type": "code",
   "execution_count": null,
   "metadata": {},
   "outputs": [],
   "source": [
    "from konlpy.tag import Mecab\n",
    "mecab = Mecab()\n",
    "mecab_nouns = []\n",
    "for text in texts_without_extracted_nouns:\n",
    "    mecab_nouns += mecab.nouns(text)"
   ]
  },
  {
   "cell_type": "code",
   "execution_count": null,
   "metadata": {},
   "outputs": [],
   "source": [
    "mecab_nouns"
   ]
  },
  {
   "cell_type": "code",
   "execution_count": null,
   "metadata": {},
   "outputs": [],
   "source": [
    "mecab_nouns_clean = []\n",
    "for char in mecab_nouns:\n",
    "    if len(char)>1:\n",
    "        mecab_nouns_clean.append(char)"
   ]
  },
  {
   "cell_type": "code",
   "execution_count": null,
   "metadata": {},
   "outputs": [],
   "source": [
    "texts_without_mecab=[]\n",
    "for text in texts_without_extracted_nouns:\n",
    "    remaining_text = remove_stopwords(text,mecab_nouns_clean)\n",
    "    texts_without_mecab.append(remaining_text)\n",
    "texts_without_mecab"
   ]
  },
  {
   "cell_type": "code",
   "execution_count": null,
   "metadata": {},
   "outputs": [],
   "source": [
    "#단어 빈도수 계산\n",
    "from collections import Counter\n",
    "word_frequencies_mecab = Counter(mecab_nouns_clean)\n",
    "word_frequencies_mecab"
   ]
  },
  {
   "cell_type": "markdown",
   "metadata": {},
   "source": [
    "### 모두 합하기"
   ]
  },
  {
   "cell_type": "code",
   "execution_count": null,
   "metadata": {},
   "outputs": [],
   "source": [
    "word_frequencies_all_21be = word_frequencies_mecab+word_frequencies_soynlp+word_frequencies_name_21be+word_frequencies_site+word_frequencies_user"
   ]
  },
  {
   "cell_type": "code",
   "execution_count": null,
   "metadata": {},
   "outputs": [],
   "source": [
    "doc_word_freq['21be'] = word_frequencies_all_21be\n",
    "update_excel_with_new_doc(doc_word_freq, file_path)"
   ]
  },
  {
   "cell_type": "markdown",
   "metadata": {},
   "source": [
    "# Sheet5 2020.01.01"
   ]
  },
  {
   "cell_type": "code",
   "execution_count": null,
   "metadata": {},
   "outputs": [],
   "source": [
    "df_20be = read_data(4,2)"
   ]
  },
  {
   "cell_type": "code",
   "execution_count": null,
   "metadata": {},
   "outputs": [],
   "source": [
    "df_20be"
   ]
  },
  {
   "cell_type": "markdown",
   "metadata": {},
   "source": [
    "## 전문"
   ]
  },
  {
   "cell_type": "markdown",
   "metadata": {},
   "source": [
    "### 데이터 불러오기"
   ]
  },
  {
   "cell_type": "code",
   "execution_count": null,
   "metadata": {},
   "outputs": [],
   "source": [
    "all = df_20be['전문'][0]"
   ]
  },
  {
   "cell_type": "code",
   "execution_count": null,
   "metadata": {},
   "outputs": [],
   "source": [
    "all"
   ]
  },
  {
   "cell_type": "markdown",
   "metadata": {},
   "source": [
    "### 특수기호 일차적으로 제거"
   ]
  },
  {
   "cell_type": "code",
   "execution_count": null,
   "metadata": {},
   "outputs": [],
   "source": [
    "import re\n",
    "all = re.sub(r'[()《》!]', ' ', all) #특수기호 제거, 정규 표현식  "
   ]
  },
  {
   "cell_type": "markdown",
   "metadata": {},
   "source": [
    "### '\\n\\n'를 기준으로 문장 나누기"
   ]
  },
  {
   "cell_type": "code",
   "execution_count": null,
   "metadata": {},
   "outputs": [],
   "source": [
    "all = all.split('\\n\\n')"
   ]
  },
  {
   "cell_type": "markdown",
   "metadata": {},
   "source": [
    "### 특수기호 이차적으로 ('1. ','2. ','3. ', '4. ' ,'\\n' 등) 삭제"
   ]
  },
  {
   "cell_type": "code",
   "execution_count": null,
   "metadata": {},
   "outputs": [],
   "source": [
    "for idx,sent in enumerate(all):\n",
    "    if ('1. ' in sent) or ('2. ' in sent) or ('3. ' in sent) or ('4. ' in sent) or ('5. 'in sent) or ('6. 'in sent):\n",
    "        all[idx] = sent[3:]"
   ]
  },
  {
   "cell_type": "code",
   "execution_count": null,
   "metadata": {},
   "outputs": [],
   "source": [
    "all_20be = []\n",
    "for text in all:\n",
    "    all_20be.append(re.sub(r'[\\n]', ' ', text))"
   ]
  },
  {
   "cell_type": "markdown",
   "metadata": {},
   "source": [
    "### 이름 추출"
   ]
  },
  {
   "cell_type": "code",
   "execution_count": null,
   "metadata": {},
   "outputs": [],
   "source": [
    "for sen in all_20be:\n",
    "    if '동지' in sen :\n",
    "        print(sen)"
   ]
  },
  {
   "cell_type": "code",
   "execution_count": null,
   "metadata": {},
   "outputs": [],
   "source": [
    "find_name = []\n",
    "for sen in all_20be:\n",
    "    if '동지' in sen :\n",
    "        word = sen.split(' ')\n",
    "        for idx,char in enumerate(word):\n",
    "            if '동지' in char:\n",
    "                name = char.split('동지')\n",
    "                if name[0] == '':\n",
    "                    find_name.append(word[idx-1])\n",
    "                elif name[0] != '위원장':\n",
    "                    find_name.append(name[0])"
   ]
  },
  {
   "cell_type": "code",
   "execution_count": null,
   "metadata": {},
   "outputs": [],
   "source": [
    "find_name"
   ]
  },
  {
   "cell_type": "code",
   "execution_count": null,
   "metadata": {},
   "outputs": [],
   "source": [
    "name_20be, texts_without_name  = [],[]\n",
    "for text in all_20be:\n",
    "    extracted_nouns, remaining_text = extract_user_defined_nouns(text,list(set(find_name)))\n",
    "    name_20be.append(extracted_nouns)\n",
    "    texts_without_name.append(remaining_text)"
   ]
  },
  {
   "cell_type": "code",
   "execution_count": null,
   "metadata": {},
   "outputs": [],
   "source": [
    "name_20be"
   ]
  },
  {
   "cell_type": "markdown",
   "metadata": {},
   "source": [
    "#### 동의어 처리"
   ]
  },
  {
   "cell_type": "code",
   "execution_count": null,
   "metadata": {},
   "outputs": [],
   "source": [
    "word_frequencies_name = Counter(find_name)"
   ]
  },
  {
   "cell_type": "markdown",
   "metadata": {},
   "source": [
    "#### 이름 빈도 구하기"
   ]
  },
  {
   "cell_type": "code",
   "execution_count": null,
   "metadata": {},
   "outputs": [],
   "source": [
    "from collections import Counter\n",
    "word_frequencies_name_20be = Counter(word_frequencies_name)"
   ]
  },
  {
   "cell_type": "code",
   "execution_count": null,
   "metadata": {},
   "outputs": [],
   "source": [
    "word_frequencies_name_20be"
   ]
  },
  {
   "cell_type": "markdown",
   "metadata": {},
   "source": [
    "#### 추출한 이름 데이터셋에서 삭제"
   ]
  },
  {
   "cell_type": "code",
   "execution_count": null,
   "metadata": {},
   "outputs": [],
   "source": [
    "texts_without_name "
   ]
  },
  {
   "cell_type": "markdown",
   "metadata": {},
   "source": [
    "### 권력구조와 정치형태 관련 단어 사용자 정의 사전을 사용하여 명사 추출"
   ]
  },
  {
   "cell_type": "code",
   "execution_count": null,
   "metadata": {},
   "outputs": [],
   "source": [
    "user_defined_extracted_nouns,texts_without_user_nouns  = [],[]\n",
    "for text in texts_without_name:\n",
    "    extracted_nouns, remaining_text = extract_user_defined_nouns(text,user_defined_nouns)\n",
    "    user_defined_extracted_nouns.append(extracted_nouns)\n",
    "    texts_without_user_nouns.append(remaining_text)"
   ]
  },
  {
   "cell_type": "code",
   "execution_count": null,
   "metadata": {},
   "outputs": [],
   "source": [
    "user_defined_extracted_nouns"
   ]
  },
  {
   "cell_type": "code",
   "execution_count": null,
   "metadata": {},
   "outputs": [],
   "source": [
    "word_frequencies_user_defined_nouns=merge_word_with_frequencies(user_defined_extracted_nouns)"
   ]
  },
  {
   "cell_type": "markdown",
   "metadata": {},
   "source": [
    "#### 빈도수 구하기"
   ]
  },
  {
   "cell_type": "code",
   "execution_count": null,
   "metadata": {},
   "outputs": [],
   "source": [
    "word_frequencies_user = Counter(word_frequencies_user_defined_nouns)"
   ]
  },
  {
   "cell_type": "code",
   "execution_count": null,
   "metadata": {},
   "outputs": [],
   "source": [
    "texts_without_user_nouns"
   ]
  },
  {
   "cell_type": "markdown",
   "metadata": {},
   "source": [
    "### 불용어 제거"
   ]
  },
  {
   "cell_type": "code",
   "execution_count": null,
   "metadata": {},
   "outputs": [],
   "source": [
    "texts_without_stopwords=[]\n",
    "for text in texts_without_user_nouns:\n",
    "    remaining_text = remove_stopwords(text,stopwords)\n",
    "    texts_without_stopwords.append(remaining_text)"
   ]
  },
  {
   "cell_type": "code",
   "execution_count": null,
   "metadata": {},
   "outputs": [],
   "source": [
    "texts_without_stopwords"
   ]
  },
  {
   "cell_type": "markdown",
   "metadata": {},
   "source": [
    "#### '조선로동'이라는 단어는 단독으로 쓰인 단어가 아닌 '조선로동당 중앙위원회'와 같이 사용된 단어로 삭제한다.\n"
   ]
  },
  {
   "cell_type": "code",
   "execution_count": null,
   "metadata": {},
   "outputs": [],
   "source": [
    "sentences = []\n",
    "for sentence in texts_without_stopwords:\n",
    "    sentences.append(sentence.replace(\"조선로동\", \" \"))\n",
    "    "
   ]
  },
  {
   "cell_type": "code",
   "execution_count": null,
   "metadata": {},
   "outputs": [],
   "source": [
    "texts_without_stopwords = sentences"
   ]
  },
  {
   "cell_type": "code",
   "execution_count": null,
   "metadata": {},
   "outputs": [],
   "source": [
    "remaining_text = clean_text(texts_without_stopwords)"
   ]
  },
  {
   "cell_type": "code",
   "execution_count": null,
   "metadata": {},
   "outputs": [],
   "source": [
    "texts_without_stopwords = remaining_text"
   ]
  },
  {
   "cell_type": "markdown",
   "metadata": {},
   "source": [
    "### soynlp 명사 추출기 ( 이미 명사로 분류된 단어들은 제외)"
   ]
  },
  {
   "cell_type": "code",
   "execution_count": null,
   "metadata": {},
   "outputs": [],
   "source": [
    "from soynlp.noun import LRNounExtractor_v2\n",
    "noun_extractor = LRNounExtractor_v2(verbose=True, extract_compound=True)\n",
    "noun_extractor.train(texts_without_stopwords)\n",
    "soynlp_nouns = noun_extractor.extract()"
   ]
  },
  {
   "cell_type": "code",
   "execution_count": null,
   "metadata": {},
   "outputs": [],
   "source": [
    "#soynlp로 추출된 명사를 (명사,빈도수)로 저장\n",
    "extracted_soynlp_words = {word:score.frequency for word,score in soynlp_nouns.items() if len(word) >= 2}\n",
    "extracted_soynlp_words"
   ]
  },
  {
   "cell_type": "code",
   "execution_count": null,
   "metadata": {},
   "outputs": [],
   "source": [
    "word_frequencies_soynlp=Counter(extracted_soynlp_words)"
   ]
  },
  {
   "cell_type": "markdown",
   "metadata": {},
   "source": [
    "#### soynlp로 추출한 명사 데이터셋에서 삭제"
   ]
  },
  {
   "cell_type": "code",
   "execution_count": null,
   "metadata": {},
   "outputs": [],
   "source": [
    "#texts_without_stopwords에 삭제할 단어 저장\n",
    "remove_word_soynlp = [ word for word in soynlp_nouns if len(word) >= 2]"
   ]
  },
  {
   "cell_type": "code",
   "execution_count": null,
   "metadata": {},
   "outputs": [],
   "source": [
    "#soynlp로 추출된 명사들을 texts_without_stopwords에서 삭제한다.\n",
    "texts_without_soynlp=[]\n",
    "for text in texts_without_stopwords:\n",
    "    remaining_text = remove_stopwords(text,remove_word_soynlp)\n",
    "    texts_without_soynlp.append(remaining_text)"
   ]
  },
  {
   "cell_type": "code",
   "execution_count": null,
   "metadata": {},
   "outputs": [],
   "source": [
    "texts_without_soynlp"
   ]
  },
  {
   "cell_type": "code",
   "execution_count": null,
   "metadata": {},
   "outputs": [],
   "source": [
    "remaining_text = clean_text(texts_without_soynlp) "
   ]
  },
  {
   "cell_type": "code",
   "execution_count": null,
   "metadata": {},
   "outputs": [],
   "source": [
    "remaining_text"
   ]
  },
  {
   "cell_type": "code",
   "execution_count": null,
   "metadata": {},
   "outputs": [],
   "source": [
    "texts_without_soynlp = remaining_text"
   ]
  },
  {
   "cell_type": "markdown",
   "metadata": {},
   "source": [
    "### 북한 용어사전을 활용하여 명사 추출"
   ]
  },
  {
   "cell_type": "code",
   "execution_count": null,
   "metadata": {},
   "outputs": [],
   "source": [
    "site_defined_extracted_nouns,texts_without_extracted_nouns = [],[]\n",
    "for text in texts_without_soynlp:\n",
    "    extracted_nouns, remaining_text = extract_site_defined_nouns(text,dict_site)\n",
    "    site_defined_extracted_nouns.append(extracted_nouns)\n",
    "    texts_without_extracted_nouns.append(remaining_text)"
   ]
  },
  {
   "cell_type": "code",
   "execution_count": null,
   "metadata": {},
   "outputs": [],
   "source": [
    "# 리스트 평탄화\n",
    "site_defined_extracted_nouns = [item for sublist in site_defined_extracted_nouns for item in sublist]\n",
    "\n",
    "print(site_defined_extracted_nouns)"
   ]
  },
  {
   "cell_type": "code",
   "execution_count": null,
   "metadata": {},
   "outputs": [],
   "source": [
    "word_frequencies_site = Counter(site_defined_extracted_nouns)"
   ]
  },
  {
   "cell_type": "code",
   "execution_count": null,
   "metadata": {},
   "outputs": [],
   "source": [
    "word_frequencies_site"
   ]
  },
  {
   "cell_type": "code",
   "execution_count": null,
   "metadata": {},
   "outputs": [],
   "source": [
    "remaining_text = clean_text(texts_without_extracted_nouns)"
   ]
  },
  {
   "cell_type": "code",
   "execution_count": null,
   "metadata": {},
   "outputs": [],
   "source": [
    "remaining_text"
   ]
  },
  {
   "cell_type": "code",
   "execution_count": null,
   "metadata": {},
   "outputs": [],
   "source": [
    "texts_without_extracted_nouns = remaining_text"
   ]
  },
  {
   "cell_type": "markdown",
   "metadata": {},
   "source": [
    "### Mecab 명사 추출기(이미 명사로 분류된 단어들은 제외)"
   ]
  },
  {
   "cell_type": "code",
   "execution_count": null,
   "metadata": {},
   "outputs": [],
   "source": [
    "from konlpy.tag import Mecab\n",
    "mecab = Mecab()\n",
    "mecab_nouns = []\n",
    "for text in texts_without_extracted_nouns:\n",
    "    mecab_nouns += mecab.nouns(text)"
   ]
  },
  {
   "cell_type": "code",
   "execution_count": null,
   "metadata": {},
   "outputs": [],
   "source": [
    "mecab_nouns"
   ]
  },
  {
   "cell_type": "code",
   "execution_count": null,
   "metadata": {},
   "outputs": [],
   "source": [
    "mecab_nouns_clean = []\n",
    "for char in mecab_nouns:\n",
    "    if len(char)>1:\n",
    "        mecab_nouns_clean.append(char)"
   ]
  },
  {
   "cell_type": "code",
   "execution_count": null,
   "metadata": {},
   "outputs": [],
   "source": [
    "texts_without_mecab=[]\n",
    "for text in texts_without_extracted_nouns:\n",
    "    remaining_text = remove_stopwords(text,mecab_nouns_clean)\n",
    "    texts_without_mecab.append(remaining_text)\n",
    "texts_without_mecab"
   ]
  },
  {
   "cell_type": "code",
   "execution_count": null,
   "metadata": {},
   "outputs": [],
   "source": [
    "#단어 빈도수 계산\n",
    "from collections import Counter\n",
    "word_frequencies_mecab = Counter(mecab_nouns_clean)\n",
    "word_frequencies_mecab"
   ]
  },
  {
   "cell_type": "markdown",
   "metadata": {},
   "source": [
    "### 모두 합하기"
   ]
  },
  {
   "cell_type": "code",
   "execution_count": null,
   "metadata": {},
   "outputs": [],
   "source": [
    "word_frequencies_all_20be= word_frequencies_mecab+word_frequencies_soynlp+word_frequencies_name_20be+word_frequencies_site+word_frequencies_user"
   ]
  },
  {
   "cell_type": "code",
   "execution_count": null,
   "metadata": {},
   "outputs": [],
   "source": [
    "doc_word_freq['20be'] = word_frequencies_all_20be\n",
    "update_excel_with_new_doc(doc_word_freq, file_path)"
   ]
  },
  {
   "cell_type": "markdown",
   "metadata": {},
   "source": [
    "# Sheet6 2019.01.01"
   ]
  },
  {
   "cell_type": "code",
   "execution_count": null,
   "metadata": {},
   "outputs": [],
   "source": [
    "df_19be = read_data(5,3)"
   ]
  },
  {
   "cell_type": "code",
   "execution_count": null,
   "metadata": {},
   "outputs": [],
   "source": [
    "df_19be "
   ]
  },
  {
   "cell_type": "markdown",
   "metadata": {},
   "source": [
    "## 전문"
   ]
  },
  {
   "cell_type": "markdown",
   "metadata": {},
   "source": [
    "### 데이터 불러오기"
   ]
  },
  {
   "cell_type": "code",
   "execution_count": null,
   "metadata": {},
   "outputs": [],
   "source": [
    "all = df_19be['전문'][0]"
   ]
  },
  {
   "cell_type": "code",
   "execution_count": null,
   "metadata": {},
   "outputs": [],
   "source": [
    "all"
   ]
  },
  {
   "cell_type": "markdown",
   "metadata": {},
   "source": [
    "### 특수기호 일차적으로 제거"
   ]
  },
  {
   "cell_type": "code",
   "execution_count": null,
   "metadata": {},
   "outputs": [],
   "source": [
    "import re\n",
    "all = re.sub(r'[()《》!]', ' ', all) #특수기호 제거, 정규 표현식  "
   ]
  },
  {
   "cell_type": "markdown",
   "metadata": {},
   "source": [
    "### '\\n\\n'를 기준으로 문장 나누기"
   ]
  },
  {
   "cell_type": "code",
   "execution_count": null,
   "metadata": {},
   "outputs": [],
   "source": [
    "all = all.split('\\n\\n')"
   ]
  },
  {
   "cell_type": "markdown",
   "metadata": {},
   "source": [
    "### 특수기호 이차적으로 ('1. ','2. ','3. ', '4. ' ,'\\n' 등) 삭제"
   ]
  },
  {
   "cell_type": "code",
   "execution_count": null,
   "metadata": {},
   "outputs": [],
   "source": [
    "for idx,sent in enumerate(all):\n",
    "    if ('1. ' in sent) or ('2. ' in sent) or ('3. ' in sent) or ('4. ' in sent) or ('5. 'in sent) or ('6. 'in sent):\n",
    "        all[idx] = sent[3:]"
   ]
  },
  {
   "cell_type": "code",
   "execution_count": null,
   "metadata": {},
   "outputs": [],
   "source": [
    "all_19be = []\n",
    "for text in all:\n",
    "    all_19be.append(re.sub(r'[\\n]', ' ', text))"
   ]
  },
  {
   "cell_type": "code",
   "execution_count": null,
   "metadata": {},
   "outputs": [],
   "source": [
    "all_19be = all_19be[:-1]"
   ]
  },
  {
   "cell_type": "markdown",
   "metadata": {},
   "source": [
    "### 이름 추출\n",
    "이름 언급이 없었다."
   ]
  },
  {
   "cell_type": "code",
   "execution_count": null,
   "metadata": {},
   "outputs": [],
   "source": [
    "for sen in all_19be:\n",
    "    if '동지' in sen :\n",
    "        print(sen)"
   ]
  },
  {
   "cell_type": "markdown",
   "metadata": {},
   "source": [
    "### 권력구조와 정치형태 관련 단어 사용자 정의 사전을 사용하여 명사 추출"
   ]
  },
  {
   "cell_type": "code",
   "execution_count": null,
   "metadata": {},
   "outputs": [],
   "source": [
    "user_defined_extracted_nouns,texts_without_user_nouns  = [],[]\n",
    "for text in all_19be:\n",
    "    extracted_nouns, remaining_text = extract_user_defined_nouns(text,user_defined_nouns)\n",
    "    user_defined_extracted_nouns.append(extracted_nouns)\n",
    "    texts_without_user_nouns.append(remaining_text)"
   ]
  },
  {
   "cell_type": "code",
   "execution_count": null,
   "metadata": {},
   "outputs": [],
   "source": [
    "user_defined_extracted_nouns"
   ]
  },
  {
   "cell_type": "code",
   "execution_count": null,
   "metadata": {},
   "outputs": [],
   "source": [
    "word_frequencies_user_defined_nouns=merge_word_with_frequencies(user_defined_extracted_nouns)"
   ]
  },
  {
   "cell_type": "markdown",
   "metadata": {},
   "source": [
    "#### 빈도수 구하기"
   ]
  },
  {
   "cell_type": "code",
   "execution_count": null,
   "metadata": {},
   "outputs": [],
   "source": [
    "word_frequencies_user = Counter(word_frequencies_user_defined_nouns)"
   ]
  },
  {
   "cell_type": "code",
   "execution_count": null,
   "metadata": {},
   "outputs": [],
   "source": [
    "texts_without_user_nouns"
   ]
  },
  {
   "cell_type": "markdown",
   "metadata": {},
   "source": [
    "### 불용어 제거"
   ]
  },
  {
   "cell_type": "code",
   "execution_count": null,
   "metadata": {},
   "outputs": [],
   "source": [
    "texts_without_stopwords=[]\n",
    "for text in texts_without_user_nouns:\n",
    "    remaining_text = remove_stopwords(text,stopwords)\n",
    "    texts_without_stopwords.append(remaining_text)"
   ]
  },
  {
   "cell_type": "code",
   "execution_count": null,
   "metadata": {},
   "outputs": [],
   "source": [
    "texts_without_stopwords"
   ]
  },
  {
   "cell_type": "markdown",
   "metadata": {},
   "source": [
    "#### '조선로동'이라는 단어는 단독으로 쓰인 단어가 아닌 '조선로동당 중앙위원회'와 같이 사용된 단어로 삭제한다.\n"
   ]
  },
  {
   "cell_type": "code",
   "execution_count": null,
   "metadata": {},
   "outputs": [],
   "source": [
    "sentences = []\n",
    "for sentence in texts_without_stopwords:\n",
    "    sentences.append(sentence.replace(\"조선로동\", \" \"))\n",
    "    "
   ]
  },
  {
   "cell_type": "code",
   "execution_count": null,
   "metadata": {},
   "outputs": [],
   "source": [
    "texts_without_stopwords = sentences"
   ]
  },
  {
   "cell_type": "code",
   "execution_count": null,
   "metadata": {},
   "outputs": [],
   "source": [
    "remaining_text = clean_text(texts_without_stopwords)"
   ]
  },
  {
   "cell_type": "code",
   "execution_count": null,
   "metadata": {},
   "outputs": [],
   "source": [
    "texts_without_stopwords = remaining_text"
   ]
  },
  {
   "cell_type": "markdown",
   "metadata": {},
   "source": [
    "### soynlp 명사 추출기 ( 이미 명사로 분류된 단어들은 제외)"
   ]
  },
  {
   "cell_type": "code",
   "execution_count": null,
   "metadata": {},
   "outputs": [],
   "source": [
    "from soynlp.noun import LRNounExtractor_v2\n",
    "noun_extractor = LRNounExtractor_v2(verbose=True, extract_compound=True)\n",
    "noun_extractor.train(texts_without_stopwords)\n",
    "soynlp_nouns = noun_extractor.extract()"
   ]
  },
  {
   "cell_type": "code",
   "execution_count": null,
   "metadata": {},
   "outputs": [],
   "source": [
    "#soynlp로 추출된 명사를 (명사,빈도수)로 저장\n",
    "extracted_soynlp_words = {word:score.frequency for word,score in soynlp_nouns.items() if len(word) >= 2}\n",
    "extracted_soynlp_words"
   ]
  },
  {
   "cell_type": "code",
   "execution_count": null,
   "metadata": {},
   "outputs": [],
   "source": [
    "word_frequencies_soynlp=Counter(extracted_soynlp_words)"
   ]
  },
  {
   "cell_type": "markdown",
   "metadata": {},
   "source": [
    "#### soynlp로 추출한 명사 데이터셋에서 삭제"
   ]
  },
  {
   "cell_type": "code",
   "execution_count": null,
   "metadata": {},
   "outputs": [],
   "source": [
    "#texts_without_stopwords에 삭제할 단어 저장\n",
    "remove_word_soynlp = [ word for word in soynlp_nouns if len(word) >= 2]"
   ]
  },
  {
   "cell_type": "code",
   "execution_count": null,
   "metadata": {},
   "outputs": [],
   "source": [
    "#soynlp로 추출된 명사들을 texts_without_stopwords에서 삭제한다.\n",
    "texts_without_soynlp=[]\n",
    "for text in texts_without_stopwords:\n",
    "    remaining_text = remove_stopwords(text,remove_word_soynlp)\n",
    "    texts_without_soynlp.append(remaining_text)"
   ]
  },
  {
   "cell_type": "code",
   "execution_count": null,
   "metadata": {},
   "outputs": [],
   "source": [
    "texts_without_soynlp"
   ]
  },
  {
   "cell_type": "code",
   "execution_count": null,
   "metadata": {},
   "outputs": [],
   "source": [
    "remaining_text = clean_text(texts_without_soynlp) "
   ]
  },
  {
   "cell_type": "code",
   "execution_count": null,
   "metadata": {},
   "outputs": [],
   "source": [
    "remaining_text"
   ]
  },
  {
   "cell_type": "code",
   "execution_count": null,
   "metadata": {},
   "outputs": [],
   "source": [
    "texts_without_soynlp = remaining_text"
   ]
  },
  {
   "cell_type": "markdown",
   "metadata": {},
   "source": [
    "### 북한 용어사전을 활용하여 명사 추출"
   ]
  },
  {
   "cell_type": "code",
   "execution_count": null,
   "metadata": {},
   "outputs": [],
   "source": [
    "site_defined_extracted_nouns,texts_without_extracted_nouns = [],[]\n",
    "for text in texts_without_soynlp:\n",
    "    extracted_nouns, remaining_text = extract_site_defined_nouns(text,dict_site)\n",
    "    site_defined_extracted_nouns.append(extracted_nouns)\n",
    "    texts_without_extracted_nouns.append(remaining_text)"
   ]
  },
  {
   "cell_type": "code",
   "execution_count": null,
   "metadata": {},
   "outputs": [],
   "source": [
    "# 리스트 평탄화\n",
    "site_defined_extracted_nouns = [item for sublist in site_defined_extracted_nouns for item in sublist]\n",
    "\n",
    "print(site_defined_extracted_nouns)"
   ]
  },
  {
   "cell_type": "code",
   "execution_count": null,
   "metadata": {},
   "outputs": [],
   "source": [
    "word_frequencies_site = Counter(site_defined_extracted_nouns)"
   ]
  },
  {
   "cell_type": "code",
   "execution_count": null,
   "metadata": {},
   "outputs": [],
   "source": [
    "word_frequencies_site"
   ]
  },
  {
   "cell_type": "code",
   "execution_count": null,
   "metadata": {},
   "outputs": [],
   "source": [
    "remaining_text = clean_text(texts_without_extracted_nouns)"
   ]
  },
  {
   "cell_type": "code",
   "execution_count": null,
   "metadata": {},
   "outputs": [],
   "source": [
    "remaining_text"
   ]
  },
  {
   "cell_type": "code",
   "execution_count": null,
   "metadata": {},
   "outputs": [],
   "source": [
    "texts_without_extracted_nouns = remaining_text"
   ]
  },
  {
   "cell_type": "markdown",
   "metadata": {},
   "source": [
    "### Mecab 명사 추출기(이미 명사로 분류된 단어들은 제외)"
   ]
  },
  {
   "cell_type": "code",
   "execution_count": null,
   "metadata": {},
   "outputs": [],
   "source": [
    "from konlpy.tag import Mecab\n",
    "mecab = Mecab()\n",
    "mecab_nouns = []\n",
    "for text in texts_without_extracted_nouns:\n",
    "    mecab_nouns += mecab.nouns(text)"
   ]
  },
  {
   "cell_type": "code",
   "execution_count": null,
   "metadata": {},
   "outputs": [],
   "source": [
    "mecab_nouns"
   ]
  },
  {
   "cell_type": "code",
   "execution_count": null,
   "metadata": {},
   "outputs": [],
   "source": [
    "mecab_nouns_clean = []\n",
    "for char in mecab_nouns:\n",
    "    if len(char)>1:\n",
    "        mecab_nouns_clean.append(char)"
   ]
  },
  {
   "cell_type": "code",
   "execution_count": null,
   "metadata": {},
   "outputs": [],
   "source": [
    "texts_without_mecab=[]\n",
    "for text in texts_without_extracted_nouns:\n",
    "    remaining_text = remove_stopwords(text,mecab_nouns_clean)\n",
    "    texts_without_mecab.append(remaining_text)"
   ]
  },
  {
   "cell_type": "code",
   "execution_count": null,
   "metadata": {},
   "outputs": [],
   "source": [
    "texts_without_mecab"
   ]
  },
  {
   "cell_type": "code",
   "execution_count": null,
   "metadata": {},
   "outputs": [],
   "source": [
    "#단어 빈도수 계산\n",
    "from collections import Counter\n",
    "word_frequencies_mecab = Counter(mecab_nouns_clean)\n",
    "word_frequencies_mecab"
   ]
  },
  {
   "cell_type": "markdown",
   "metadata": {},
   "source": [
    "### 모두 합하기"
   ]
  },
  {
   "cell_type": "code",
   "execution_count": null,
   "metadata": {},
   "outputs": [],
   "source": [
    "word_frequencies_all_19be = word_frequencies_mecab+word_frequencies_soynlp+word_frequencies_site+word_frequencies_user"
   ]
  },
  {
   "cell_type": "code",
   "execution_count": null,
   "metadata": {},
   "outputs": [],
   "source": [
    "doc_word_freq['19be'] = word_frequencies_all_19be\n",
    "update_excel_with_new_doc(doc_word_freq, file_path)"
   ]
  },
  {
   "cell_type": "markdown",
   "metadata": {},
   "source": [
    "# Sheet7 2018.01.01"
   ]
  },
  {
   "cell_type": "code",
   "execution_count": null,
   "metadata": {},
   "outputs": [],
   "source": [
    "df_18be = read_data(6,3)"
   ]
  },
  {
   "cell_type": "code",
   "execution_count": null,
   "metadata": {},
   "outputs": [],
   "source": [
    "df_18be"
   ]
  },
  {
   "cell_type": "markdown",
   "metadata": {},
   "source": [
    "## 전문"
   ]
  },
  {
   "cell_type": "markdown",
   "metadata": {},
   "source": [
    "### 데이터 불러오기"
   ]
  },
  {
   "cell_type": "code",
   "execution_count": null,
   "metadata": {},
   "outputs": [],
   "source": [
    "all = df_18be['전문'][0]"
   ]
  },
  {
   "cell_type": "code",
   "execution_count": null,
   "metadata": {},
   "outputs": [],
   "source": [
    "all"
   ]
  },
  {
   "cell_type": "markdown",
   "metadata": {},
   "source": [
    "### 특수기호 일차적으로 제거"
   ]
  },
  {
   "cell_type": "code",
   "execution_count": null,
   "metadata": {},
   "outputs": [],
   "source": [
    "import re\n",
    "all = re.sub(r'[()《》!]', ' ', all) #특수기호 제거, 정규 표현식  "
   ]
  },
  {
   "cell_type": "markdown",
   "metadata": {},
   "source": [
    "### '\\n\\n'를 기준으로 문장 나누기"
   ]
  },
  {
   "cell_type": "code",
   "execution_count": null,
   "metadata": {},
   "outputs": [],
   "source": [
    "all = all.split('\\n\\n')"
   ]
  },
  {
   "cell_type": "markdown",
   "metadata": {},
   "source": [
    "### 특수기호 이차적으로 ('1. ','2. ','3. ', '4. ' ,'\\n' 등) 삭제"
   ]
  },
  {
   "cell_type": "code",
   "execution_count": null,
   "metadata": {},
   "outputs": [],
   "source": [
    "for idx,sent in enumerate(all):\n",
    "    if ('1. ' in sent) or ('2. ' in sent) or ('3. ' in sent) or ('4. ' in sent) or ('5. 'in sent) or ('6. 'in sent):\n",
    "        all[idx] = sent[3:]"
   ]
  },
  {
   "cell_type": "code",
   "execution_count": null,
   "metadata": {},
   "outputs": [],
   "source": [
    "all_18be = []\n",
    "for text in all:\n",
    "    all_18be.append(re.sub(r'[\\n]', ' ', text))"
   ]
  },
  {
   "cell_type": "code",
   "execution_count": null,
   "metadata": {},
   "outputs": [],
   "source": [
    "all_18be = all_18be[1:]"
   ]
  },
  {
   "cell_type": "code",
   "execution_count": null,
   "metadata": {},
   "outputs": [],
   "source": [
    "all_18be[-1] = all_18be[-1][:60]"
   ]
  },
  {
   "cell_type": "code",
   "execution_count": null,
   "metadata": {},
   "outputs": [],
   "source": [
    "all_18be "
   ]
  },
  {
   "cell_type": "markdown",
   "metadata": {},
   "source": [
    "### 이름 추출\n",
    "이름 언급 없다."
   ]
  },
  {
   "cell_type": "markdown",
   "metadata": {},
   "source": [
    "### 권력구조와 정치형태 관련 단어 사용자 정의 사전을 사용하여 명사 추출"
   ]
  },
  {
   "cell_type": "code",
   "execution_count": null,
   "metadata": {},
   "outputs": [],
   "source": [
    "user_defined_extracted_nouns,texts_without_user_nouns  = [],[]\n",
    "for text in all_18be:\n",
    "    extracted_nouns, remaining_text = extract_user_defined_nouns(text,user_defined_nouns)\n",
    "    user_defined_extracted_nouns.append(extracted_nouns)\n",
    "    texts_without_user_nouns.append(remaining_text)"
   ]
  },
  {
   "cell_type": "code",
   "execution_count": null,
   "metadata": {},
   "outputs": [],
   "source": [
    "user_defined_extracted_nouns"
   ]
  },
  {
   "cell_type": "code",
   "execution_count": null,
   "metadata": {},
   "outputs": [],
   "source": [
    "word_frequencies_user_defined_nouns=merge_word_with_frequencies(user_defined_extracted_nouns)"
   ]
  },
  {
   "cell_type": "markdown",
   "metadata": {},
   "source": [
    "#### 빈도수 구하기"
   ]
  },
  {
   "cell_type": "code",
   "execution_count": null,
   "metadata": {},
   "outputs": [],
   "source": [
    "word_frequencies_user = Counter(word_frequencies_user_defined_nouns)"
   ]
  },
  {
   "cell_type": "code",
   "execution_count": null,
   "metadata": {},
   "outputs": [],
   "source": [
    "texts_without_user_nouns"
   ]
  },
  {
   "cell_type": "markdown",
   "metadata": {},
   "source": [
    "### 불용어 제거"
   ]
  },
  {
   "cell_type": "code",
   "execution_count": null,
   "metadata": {},
   "outputs": [],
   "source": [
    "texts_without_stopwords=[]\n",
    "for text in texts_without_user_nouns:\n",
    "    remaining_text = remove_stopwords(text,stopwords)\n",
    "    texts_without_stopwords.append(remaining_text)"
   ]
  },
  {
   "cell_type": "code",
   "execution_count": null,
   "metadata": {},
   "outputs": [],
   "source": [
    "texts_without_stopwords"
   ]
  },
  {
   "cell_type": "markdown",
   "metadata": {},
   "source": [
    "#### '조선로동'이라는 단어는 단독으로 쓰인 단어가 아닌 '조선로동당 중앙위원회'와 같이 사용된 단어로 삭제한다.\n"
   ]
  },
  {
   "cell_type": "code",
   "execution_count": null,
   "metadata": {},
   "outputs": [],
   "source": [
    "sentences = []\n",
    "for sentence in texts_without_stopwords:\n",
    "    sentences.append(sentence.replace(\"조선로동\", \" \"))\n",
    "    "
   ]
  },
  {
   "cell_type": "code",
   "execution_count": null,
   "metadata": {},
   "outputs": [],
   "source": [
    "texts_without_stopwords = clean_text(sentences)"
   ]
  },
  {
   "cell_type": "markdown",
   "metadata": {},
   "source": [
    "### soynlp 명사 추출기 ( 이미 명사로 분류된 단어들은 제외)"
   ]
  },
  {
   "cell_type": "code",
   "execution_count": null,
   "metadata": {},
   "outputs": [],
   "source": [
    "from soynlp.noun import LRNounExtractor_v2\n",
    "noun_extractor = LRNounExtractor_v2(verbose=True, extract_compound=True)\n",
    "noun_extractor.train(texts_without_stopwords)\n",
    "soynlp_nouns = noun_extractor.extract()"
   ]
  },
  {
   "cell_type": "code",
   "execution_count": null,
   "metadata": {},
   "outputs": [],
   "source": [
    "#soynlp로 추출된 명사를 (명사,빈도수)로 저장\n",
    "extracted_soynlp_words = {word:score.frequency for word,score in soynlp_nouns.items() if len(word) >= 2}\n",
    "extracted_soynlp_words"
   ]
  },
  {
   "cell_type": "code",
   "execution_count": null,
   "metadata": {},
   "outputs": [],
   "source": [
    "word_frequencies_soynlp=Counter(extracted_soynlp_words)"
   ]
  },
  {
   "cell_type": "markdown",
   "metadata": {},
   "source": [
    "#### soynlp로 추출한 명사 데이터셋에서 삭제"
   ]
  },
  {
   "cell_type": "code",
   "execution_count": null,
   "metadata": {},
   "outputs": [],
   "source": [
    "#texts_without_stopwords에 삭제할 단어 저장\n",
    "remove_word_soynlp = [ word for word in soynlp_nouns if len(word) >= 2]"
   ]
  },
  {
   "cell_type": "code",
   "execution_count": null,
   "metadata": {},
   "outputs": [],
   "source": [
    "#soynlp로 추출된 명사들을 texts_without_stopwords에서 삭제한다.\n",
    "texts_without_soynlp=[]\n",
    "for text in texts_without_stopwords:\n",
    "    remaining_text = remove_stopwords(text,remove_word_soynlp)\n",
    "    texts_without_soynlp.append(remaining_text)"
   ]
  },
  {
   "cell_type": "code",
   "execution_count": null,
   "metadata": {},
   "outputs": [],
   "source": [
    "texts_without_soynlp"
   ]
  },
  {
   "cell_type": "code",
   "execution_count": null,
   "metadata": {},
   "outputs": [],
   "source": [
    "remaining_text = clean_text(texts_without_soynlp)"
   ]
  },
  {
   "cell_type": "code",
   "execution_count": null,
   "metadata": {},
   "outputs": [],
   "source": [
    "remaining_text"
   ]
  },
  {
   "cell_type": "code",
   "execution_count": null,
   "metadata": {},
   "outputs": [],
   "source": [
    "texts_without_soynlp = remaining_text"
   ]
  },
  {
   "cell_type": "markdown",
   "metadata": {},
   "source": [
    "### 북한 용어사전을 활용하여 명사 추출"
   ]
  },
  {
   "cell_type": "code",
   "execution_count": null,
   "metadata": {},
   "outputs": [],
   "source": [
    "site_defined_extracted_nouns,texts_without_extracted_nouns = [],[]\n",
    "for text in texts_without_soynlp:\n",
    "    extracted_nouns, remaining_text = extract_site_defined_nouns(text,dict_site)\n",
    "    site_defined_extracted_nouns.append(extracted_nouns)\n",
    "    texts_without_extracted_nouns.append(remaining_text)"
   ]
  },
  {
   "cell_type": "code",
   "execution_count": null,
   "metadata": {},
   "outputs": [],
   "source": [
    "# 리스트 평탄화\n",
    "site_defined_extracted_nouns = [item for sublist in site_defined_extracted_nouns for item in sublist]\n",
    "\n",
    "print(site_defined_extracted_nouns)"
   ]
  },
  {
   "cell_type": "code",
   "execution_count": null,
   "metadata": {},
   "outputs": [],
   "source": [
    "word_frequencies_site = Counter(site_defined_extracted_nouns)"
   ]
  },
  {
   "cell_type": "code",
   "execution_count": null,
   "metadata": {},
   "outputs": [],
   "source": [
    "word_frequencies_site"
   ]
  },
  {
   "cell_type": "code",
   "execution_count": null,
   "metadata": {},
   "outputs": [],
   "source": [
    "remaining_text = clean_text(texts_without_extracted_nouns)"
   ]
  },
  {
   "cell_type": "code",
   "execution_count": null,
   "metadata": {},
   "outputs": [],
   "source": [
    "remaining_text"
   ]
  },
  {
   "cell_type": "code",
   "execution_count": null,
   "metadata": {},
   "outputs": [],
   "source": [
    "texts_without_extracted_nouns = remaining_text"
   ]
  },
  {
   "cell_type": "markdown",
   "metadata": {},
   "source": [
    "### Mecab 명사 추출기(이미 명사로 분류된 단어들은 제외)"
   ]
  },
  {
   "cell_type": "code",
   "execution_count": null,
   "metadata": {},
   "outputs": [],
   "source": [
    "from konlpy.tag import Mecab\n",
    "mecab = Mecab()\n",
    "mecab_nouns = []\n",
    "for text in texts_without_extracted_nouns:\n",
    "    mecab_nouns += mecab.nouns(text)"
   ]
  },
  {
   "cell_type": "code",
   "execution_count": null,
   "metadata": {},
   "outputs": [],
   "source": [
    "mecab_nouns"
   ]
  },
  {
   "cell_type": "code",
   "execution_count": null,
   "metadata": {},
   "outputs": [],
   "source": [
    "mecab_nouns_clean = []\n",
    "for char in mecab_nouns:\n",
    "    if len(char)>1:\n",
    "        mecab_nouns_clean.append(char)"
   ]
  },
  {
   "cell_type": "code",
   "execution_count": null,
   "metadata": {},
   "outputs": [],
   "source": [
    "texts_without_mecab=[]\n",
    "for text in texts_without_extracted_nouns :\n",
    "    remaining_text = remove_stopwords(text,mecab_nouns_clean)\n",
    "    texts_without_mecab.append(remaining_text)"
   ]
  },
  {
   "cell_type": "code",
   "execution_count": null,
   "metadata": {},
   "outputs": [],
   "source": [
    "texts_without_mecab"
   ]
  },
  {
   "cell_type": "code",
   "execution_count": null,
   "metadata": {},
   "outputs": [],
   "source": [
    "#단어 빈도수 계산\n",
    "from collections import Counter\n",
    "word_frequencies_mecab = Counter(mecab_nouns_clean)\n",
    "word_frequencies_mecab"
   ]
  },
  {
   "cell_type": "markdown",
   "metadata": {},
   "source": [
    "### 모두 합하기"
   ]
  },
  {
   "cell_type": "code",
   "execution_count": null,
   "metadata": {},
   "outputs": [],
   "source": [
    "word_frequencies_all_18be = word_frequencies_mecab+word_frequencies_soynlp+word_frequencies_site+word_frequencies_user"
   ]
  },
  {
   "cell_type": "code",
   "execution_count": null,
   "metadata": {},
   "outputs": [],
   "source": [
    "doc_word_freq['18be'] = word_frequencies_all_18be\n",
    "update_excel_with_new_doc(doc_word_freq, file_path)"
   ]
  },
  {
   "cell_type": "markdown",
   "metadata": {},
   "source": [
    "# Sheet8 2017.01.01"
   ]
  },
  {
   "cell_type": "code",
   "execution_count": null,
   "metadata": {},
   "outputs": [],
   "source": [
    "df_17be = read_data(7,3)"
   ]
  },
  {
   "cell_type": "code",
   "execution_count": null,
   "metadata": {},
   "outputs": [],
   "source": [
    "df_17be"
   ]
  },
  {
   "cell_type": "markdown",
   "metadata": {},
   "source": [
    "### 데이터 불러오기"
   ]
  },
  {
   "cell_type": "code",
   "execution_count": null,
   "metadata": {},
   "outputs": [],
   "source": [
    "all = df_17be['전문'][0]"
   ]
  },
  {
   "cell_type": "code",
   "execution_count": null,
   "metadata": {},
   "outputs": [],
   "source": [
    "all"
   ]
  },
  {
   "cell_type": "markdown",
   "metadata": {},
   "source": [
    "### 특수기호 일차적으로 제거"
   ]
  },
  {
   "cell_type": "code",
   "execution_count": null,
   "metadata": {},
   "outputs": [],
   "source": [
    "import re\n",
    "all = re.sub(r'[()《》!]', ' ', all) #특수기호 제거, 정규 표현식  "
   ]
  },
  {
   "cell_type": "markdown",
   "metadata": {},
   "source": [
    "### '\\n\\n'를 기준으로 문장 나누기"
   ]
  },
  {
   "cell_type": "code",
   "execution_count": null,
   "metadata": {},
   "outputs": [],
   "source": [
    "all = all.split('\\n\\n')"
   ]
  },
  {
   "cell_type": "markdown",
   "metadata": {},
   "source": [
    "### 특수기호 이차적으로 ('1. ','2. ','3. ', '4. ' ,'\\n' 등) 삭제"
   ]
  },
  {
   "cell_type": "code",
   "execution_count": null,
   "metadata": {},
   "outputs": [],
   "source": [
    "for idx,sent in enumerate(all):\n",
    "    if ('1. ' in sent) or ('2. ' in sent) or ('3. ' in sent) or ('4. ' in sent) or ('5. 'in sent) or ('6. 'in sent):\n",
    "        all[idx] = sent[3:]"
   ]
  },
  {
   "cell_type": "code",
   "execution_count": null,
   "metadata": {},
   "outputs": [],
   "source": [
    "all_17be = []\n",
    "for text in all:\n",
    "    all_17be.append(re.sub(r'[\\n]', ' ', text))"
   ]
  },
  {
   "cell_type": "code",
   "execution_count": null,
   "metadata": {},
   "outputs": [],
   "source": [
    "all_17be"
   ]
  },
  {
   "cell_type": "markdown",
   "metadata": {},
   "source": [
    "### 이름 추출\n",
    "이름 언급 없다."
   ]
  },
  {
   "cell_type": "markdown",
   "metadata": {},
   "source": [
    "### 권력구조와 정치형태 관련 단어 사용자 정의 사전을 사용하여 명사 추출"
   ]
  },
  {
   "cell_type": "code",
   "execution_count": null,
   "metadata": {},
   "outputs": [],
   "source": [
    "user_defined_extracted_nouns,texts_without_user_nouns  = [],[]\n",
    "for text in all_17be:\n",
    "    extracted_nouns, remaining_text = extract_user_defined_nouns(text,user_defined_nouns)\n",
    "    user_defined_extracted_nouns.append(extracted_nouns)\n",
    "    texts_without_user_nouns.append(remaining_text)"
   ]
  },
  {
   "cell_type": "code",
   "execution_count": null,
   "metadata": {},
   "outputs": [],
   "source": [
    "user_defined_extracted_nouns"
   ]
  },
  {
   "cell_type": "markdown",
   "metadata": {},
   "source": [
    "#### 동의어 처리"
   ]
  },
  {
   "cell_type": "code",
   "execution_count": null,
   "metadata": {},
   "outputs": [],
   "source": [
    "word_frequencies_user_defined_nouns=merge_word_with_frequencies(user_defined_extracted_nouns)"
   ]
  },
  {
   "cell_type": "markdown",
   "metadata": {},
   "source": [
    "#### 빈도수 구하기"
   ]
  },
  {
   "cell_type": "code",
   "execution_count": null,
   "metadata": {},
   "outputs": [],
   "source": [
    "word_frequencies_user = Counter(word_frequencies_user_defined_nouns)"
   ]
  },
  {
   "cell_type": "code",
   "execution_count": null,
   "metadata": {},
   "outputs": [],
   "source": [
    "texts_without_user_nouns"
   ]
  },
  {
   "cell_type": "markdown",
   "metadata": {},
   "source": [
    "### 불용어 제거"
   ]
  },
  {
   "cell_type": "code",
   "execution_count": null,
   "metadata": {},
   "outputs": [],
   "source": [
    "texts_without_stopwords=[]\n",
    "for text in texts_without_user_nouns:\n",
    "    remaining_text = remove_stopwords(text,stopwords)\n",
    "    texts_without_stopwords.append(remaining_text)"
   ]
  },
  {
   "cell_type": "code",
   "execution_count": null,
   "metadata": {},
   "outputs": [],
   "source": [
    "texts_without_stopwords"
   ]
  },
  {
   "cell_type": "markdown",
   "metadata": {},
   "source": [
    "#### '조선로동'이라는 단어는 단독으로 쓰인 단어가 아닌 '조선로동당 중앙위원회'와 같이 사용된 단어로 삭제한다.\n"
   ]
  },
  {
   "cell_type": "code",
   "execution_count": null,
   "metadata": {},
   "outputs": [],
   "source": [
    "sentences = []\n",
    "for sentence in texts_without_stopwords:\n",
    "    sentences.append(sentence.replace(\"조선로동\", \" \"))"
   ]
  },
  {
   "cell_type": "code",
   "execution_count": null,
   "metadata": {},
   "outputs": [],
   "source": [
    "texts_without_stopwords = sentences"
   ]
  },
  {
   "cell_type": "code",
   "execution_count": null,
   "metadata": {},
   "outputs": [],
   "source": [
    "remaining_text = clean_text(texts_without_stopwords)"
   ]
  },
  {
   "cell_type": "code",
   "execution_count": null,
   "metadata": {},
   "outputs": [],
   "source": [
    "texts_without_stopwords = remaining_text"
   ]
  },
  {
   "cell_type": "markdown",
   "metadata": {},
   "source": [
    "### soynlp 명사 추출기 ( 이미 명사로 분류된 단어들은 제외)"
   ]
  },
  {
   "cell_type": "code",
   "execution_count": null,
   "metadata": {},
   "outputs": [],
   "source": [
    "from soynlp.noun import LRNounExtractor_v2\n",
    "noun_extractor = LRNounExtractor_v2(verbose=True, extract_compound=True)\n",
    "noun_extractor.train(texts_without_stopwords)\n",
    "soynlp_nouns = noun_extractor.extract()"
   ]
  },
  {
   "cell_type": "code",
   "execution_count": null,
   "metadata": {},
   "outputs": [],
   "source": [
    "#soynlp로 추출된 명사를 (명사,빈도수)로 저장\n",
    "extracted_soynlp_words = {word:score.frequency for word,score in soynlp_nouns.items() if len(word) >= 2}\n",
    "extracted_soynlp_words"
   ]
  },
  {
   "cell_type": "code",
   "execution_count": null,
   "metadata": {},
   "outputs": [],
   "source": [
    "word_frequencies_soynlp=Counter(extracted_soynlp_words)"
   ]
  },
  {
   "cell_type": "markdown",
   "metadata": {},
   "source": [
    "#### soynlp로 추출한 명사 데이터셋에서 삭제"
   ]
  },
  {
   "cell_type": "code",
   "execution_count": null,
   "metadata": {},
   "outputs": [],
   "source": [
    "#texts_without_stopwords에 삭제할 단어 저장\n",
    "remove_word_soynlp = [ word for word in soynlp_nouns if len(word) >= 2]"
   ]
  },
  {
   "cell_type": "code",
   "execution_count": null,
   "metadata": {},
   "outputs": [],
   "source": [
    "#soynlp로 추출된 명사들을 texts_without_stopwords에서 삭제한다.\n",
    "texts_without_soynlp=[]\n",
    "for text in texts_without_stopwords:\n",
    "    remaining_text = remove_stopwords(text,remove_word_soynlp)\n",
    "    texts_without_soynlp.append(remaining_text)"
   ]
  },
  {
   "cell_type": "code",
   "execution_count": null,
   "metadata": {},
   "outputs": [],
   "source": [
    "texts_without_soynlp"
   ]
  },
  {
   "cell_type": "code",
   "execution_count": null,
   "metadata": {},
   "outputs": [],
   "source": [
    "remaining_text = clean_text(texts_without_soynlp)"
   ]
  },
  {
   "cell_type": "code",
   "execution_count": null,
   "metadata": {},
   "outputs": [],
   "source": [
    "remaining_text"
   ]
  },
  {
   "cell_type": "code",
   "execution_count": null,
   "metadata": {},
   "outputs": [],
   "source": [
    "texts_without_soynlp = remaining_text"
   ]
  },
  {
   "cell_type": "markdown",
   "metadata": {},
   "source": [
    "### 북한 용어사전을 활용하여 명사 추출"
   ]
  },
  {
   "cell_type": "code",
   "execution_count": null,
   "metadata": {},
   "outputs": [],
   "source": [
    "site_defined_extracted_nouns,texts_without_extracted_nouns = [],[]\n",
    "for text in texts_without_soynlp:\n",
    "    extracted_nouns, remaining_text = extract_site_defined_nouns(text,dict_site)\n",
    "    site_defined_extracted_nouns.append(extracted_nouns)\n",
    "    texts_without_extracted_nouns.append(remaining_text)"
   ]
  },
  {
   "cell_type": "code",
   "execution_count": null,
   "metadata": {},
   "outputs": [],
   "source": [
    "# 리스트 평탄화\n",
    "site_defined_extracted_nouns = [item for sublist in site_defined_extracted_nouns for item in sublist]\n",
    "\n",
    "print(site_defined_extracted_nouns)"
   ]
  },
  {
   "cell_type": "code",
   "execution_count": null,
   "metadata": {},
   "outputs": [],
   "source": [
    "word_frequencies_site = Counter(site_defined_extracted_nouns)"
   ]
  },
  {
   "cell_type": "code",
   "execution_count": null,
   "metadata": {},
   "outputs": [],
   "source": [
    "word_frequencies_site"
   ]
  },
  {
   "cell_type": "code",
   "execution_count": null,
   "metadata": {},
   "outputs": [],
   "source": [
    "remaining_text = clean_text(texts_without_extracted_nouns)"
   ]
  },
  {
   "cell_type": "code",
   "execution_count": null,
   "metadata": {},
   "outputs": [],
   "source": [
    "remaining_text"
   ]
  },
  {
   "cell_type": "code",
   "execution_count": null,
   "metadata": {},
   "outputs": [],
   "source": [
    "texts_without_extracted_nouns = remaining_text"
   ]
  },
  {
   "cell_type": "markdown",
   "metadata": {},
   "source": [
    "### Mecab 명사 추출기(이미 명사로 분류된 단어들은 제외)"
   ]
  },
  {
   "cell_type": "code",
   "execution_count": null,
   "metadata": {},
   "outputs": [],
   "source": [
    "from konlpy.tag import Mecab\n",
    "mecab = Mecab()\n",
    "mecab_nouns = []\n",
    "for text in texts_without_extracted_nouns:\n",
    "    mecab_nouns += mecab.nouns(text)"
   ]
  },
  {
   "cell_type": "code",
   "execution_count": null,
   "metadata": {},
   "outputs": [],
   "source": [
    "mecab_nouns"
   ]
  },
  {
   "cell_type": "code",
   "execution_count": null,
   "metadata": {},
   "outputs": [],
   "source": [
    "mecab_nouns_clean = []\n",
    "for char in mecab_nouns:\n",
    "    if len(char)>1:\n",
    "        mecab_nouns_clean.append(char)"
   ]
  },
  {
   "cell_type": "code",
   "execution_count": null,
   "metadata": {},
   "outputs": [],
   "source": [
    "texts_without_mecab=[]\n",
    "for text in texts_without_extracted_nouns:\n",
    "    remaining_text = remove_stopwords(text,mecab_nouns_clean)\n",
    "    texts_without_mecab.append(remaining_text)"
   ]
  },
  {
   "cell_type": "code",
   "execution_count": null,
   "metadata": {},
   "outputs": [],
   "source": [
    "texts_without_mecab"
   ]
  },
  {
   "cell_type": "code",
   "execution_count": null,
   "metadata": {},
   "outputs": [],
   "source": [
    "#단어 빈도수 계산\n",
    "from collections import Counter\n",
    "word_frequencies_mecab = Counter(mecab_nouns_clean)\n",
    "word_frequencies_mecab"
   ]
  },
  {
   "cell_type": "markdown",
   "metadata": {},
   "source": [
    "### 모두 합하기"
   ]
  },
  {
   "cell_type": "code",
   "execution_count": null,
   "metadata": {},
   "outputs": [],
   "source": [
    "word_frequencies_all_17be = word_frequencies_mecab+word_frequencies_soynlp+word_frequencies_site+word_frequencies_user"
   ]
  },
  {
   "cell_type": "code",
   "execution_count": null,
   "metadata": {},
   "outputs": [],
   "source": [
    "doc_word_freq['17be'] = word_frequencies_all_17be \n",
    "update_excel_with_new_doc(doc_word_freq, file_path)"
   ]
  },
  {
   "cell_type": "markdown",
   "metadata": {},
   "source": [
    "# Sheet9 2016.01.01"
   ]
  },
  {
   "cell_type": "code",
   "execution_count": null,
   "metadata": {},
   "outputs": [],
   "source": [
    "df_16be = read_data(8,3)"
   ]
  },
  {
   "cell_type": "code",
   "execution_count": null,
   "metadata": {},
   "outputs": [],
   "source": [
    "df_16be"
   ]
  },
  {
   "cell_type": "markdown",
   "metadata": {},
   "source": [
    "## 📌전문"
   ]
  },
  {
   "cell_type": "markdown",
   "metadata": {},
   "source": [
    "### 데이터 불러오기"
   ]
  },
  {
   "cell_type": "code",
   "execution_count": null,
   "metadata": {},
   "outputs": [],
   "source": [
    "all = df_16be['전문'][0]"
   ]
  },
  {
   "cell_type": "code",
   "execution_count": null,
   "metadata": {},
   "outputs": [],
   "source": [
    "all"
   ]
  },
  {
   "cell_type": "markdown",
   "metadata": {},
   "source": [
    "### 특수기호 일차적으로 제거"
   ]
  },
  {
   "cell_type": "code",
   "execution_count": null,
   "metadata": {},
   "outputs": [],
   "source": [
    "import re\n",
    "all = re.sub(r'[()《》!]', ' ', all) #특수기호 제거, 정규 표현식  "
   ]
  },
  {
   "cell_type": "markdown",
   "metadata": {},
   "source": [
    "### '\\n\\n'를 기준으로 문장 나누기"
   ]
  },
  {
   "cell_type": "code",
   "execution_count": null,
   "metadata": {},
   "outputs": [],
   "source": [
    "all = all.split('\\n\\n')"
   ]
  },
  {
   "cell_type": "markdown",
   "metadata": {},
   "source": [
    "### 특수기호 이차적으로 ('1. ','2. ','3. ', '4. ' ,'\\n' 등) 삭제"
   ]
  },
  {
   "cell_type": "code",
   "execution_count": null,
   "metadata": {},
   "outputs": [],
   "source": [
    "for idx,sent in enumerate(all):\n",
    "    if ('1. ' in sent) or ('2. ' in sent) or ('3. ' in sent) or ('4. ' in sent) or ('5. 'in sent) or ('6. 'in sent):\n",
    "        all[idx] = sent[3:]"
   ]
  },
  {
   "cell_type": "code",
   "execution_count": null,
   "metadata": {},
   "outputs": [],
   "source": [
    "all_16be = []\n",
    "for text in all:\n",
    "    all_16be.append(re.sub(r'[\\n]', ' ', text))"
   ]
  },
  {
   "cell_type": "code",
   "execution_count": null,
   "metadata": {},
   "outputs": [],
   "source": [
    "all_16be"
   ]
  },
  {
   "cell_type": "markdown",
   "metadata": {},
   "source": [
    "### 이름 추출\n",
    "이름 언급 없다."
   ]
  },
  {
   "cell_type": "markdown",
   "metadata": {},
   "source": [
    "### 권력구조와 정치형태 관련 단어 사용자 정의 사전을 사용하여 명사 추출"
   ]
  },
  {
   "cell_type": "code",
   "execution_count": null,
   "metadata": {},
   "outputs": [],
   "source": [
    "user_defined_extracted_nouns,texts_without_user_nouns  = [],[]\n",
    "for text in all_16be:\n",
    "    extracted_nouns, remaining_text = extract_user_defined_nouns(text,user_defined_nouns)\n",
    "    user_defined_extracted_nouns.append(extracted_nouns)\n",
    "    texts_without_user_nouns.append(remaining_text)"
   ]
  },
  {
   "cell_type": "code",
   "execution_count": null,
   "metadata": {},
   "outputs": [],
   "source": [
    "user_defined_extracted_nouns"
   ]
  },
  {
   "cell_type": "code",
   "execution_count": null,
   "metadata": {},
   "outputs": [],
   "source": [
    "word_frequencies_user_defined_nouns=merge_word_with_frequencies(user_defined_extracted_nouns)"
   ]
  },
  {
   "cell_type": "markdown",
   "metadata": {},
   "source": [
    "#### 빈도수 구하기"
   ]
  },
  {
   "cell_type": "code",
   "execution_count": null,
   "metadata": {},
   "outputs": [],
   "source": [
    "word_frequencies_user = Counter(word_frequencies_user_defined_nouns)"
   ]
  },
  {
   "cell_type": "code",
   "execution_count": null,
   "metadata": {},
   "outputs": [],
   "source": [
    "texts_without_user_nouns"
   ]
  },
  {
   "cell_type": "code",
   "execution_count": null,
   "metadata": {},
   "outputs": [],
   "source": [
    "texts_without_user_nouns"
   ]
  },
  {
   "cell_type": "markdown",
   "metadata": {},
   "source": [
    "### 불용어 제거"
   ]
  },
  {
   "cell_type": "code",
   "execution_count": null,
   "metadata": {},
   "outputs": [],
   "source": [
    "texts_without_stopwords=[]\n",
    "for text in texts_without_user_nouns:\n",
    "    remaining_text = remove_stopwords(text,stopwords)\n",
    "    texts_without_stopwords.append(remaining_text)"
   ]
  },
  {
   "cell_type": "code",
   "execution_count": null,
   "metadata": {},
   "outputs": [],
   "source": [
    "texts_without_stopwords"
   ]
  },
  {
   "cell_type": "markdown",
   "metadata": {},
   "source": [
    "#### '조선로동'이라는 단어는 단독으로 쓰인 단어가 아닌 '조선로동당 중앙위원회'와 같이 사용된 단어로 삭제한다.\n"
   ]
  },
  {
   "cell_type": "code",
   "execution_count": null,
   "metadata": {},
   "outputs": [],
   "source": [
    "sentences = []\n",
    "for sentence in texts_without_stopwords:\n",
    "    sentences.append(sentence.replace(\"조선로동\", \" \"))\n",
    "    "
   ]
  },
  {
   "cell_type": "code",
   "execution_count": null,
   "metadata": {},
   "outputs": [],
   "source": [
    "texts_without_stopwords = sentences"
   ]
  },
  {
   "cell_type": "code",
   "execution_count": null,
   "metadata": {},
   "outputs": [],
   "source": [
    "remaining_text = clean_text(texts_without_stopwords)"
   ]
  },
  {
   "cell_type": "code",
   "execution_count": null,
   "metadata": {},
   "outputs": [],
   "source": [
    "texts_without_stopwords = remaining_text"
   ]
  },
  {
   "cell_type": "markdown",
   "metadata": {},
   "source": [
    "### soynlp 명사 추출기 ( 이미 명사로 분류된 단어들은 제외)"
   ]
  },
  {
   "cell_type": "code",
   "execution_count": null,
   "metadata": {},
   "outputs": [],
   "source": [
    "from soynlp.noun import LRNounExtractor_v2\n",
    "noun_extractor = LRNounExtractor_v2(verbose=True, extract_compound=True)\n",
    "noun_extractor.train(texts_without_stopwords)\n",
    "soynlp_nouns = noun_extractor.extract()"
   ]
  },
  {
   "cell_type": "code",
   "execution_count": null,
   "metadata": {},
   "outputs": [],
   "source": [
    "#soynlp로 추출된 명사를 (명사,빈도수)로 저장\n",
    "extracted_soynlp_words = {word:score.frequency for word,score in soynlp_nouns.items() if len(word) >= 2}\n",
    "extracted_soynlp_words"
   ]
  },
  {
   "cell_type": "code",
   "execution_count": null,
   "metadata": {},
   "outputs": [],
   "source": [
    "word_frequencies_soynlp=Counter(extracted_soynlp_words)"
   ]
  },
  {
   "cell_type": "markdown",
   "metadata": {},
   "source": [
    "#### soynlp로 추출한 명사 데이터셋에서 삭제"
   ]
  },
  {
   "cell_type": "code",
   "execution_count": null,
   "metadata": {},
   "outputs": [],
   "source": [
    "#texts_without_stopwords에 삭제할 단어 저장\n",
    "remove_word_soynlp = [ word for word in soynlp_nouns if len(word) >= 2]"
   ]
  },
  {
   "cell_type": "code",
   "execution_count": null,
   "metadata": {},
   "outputs": [],
   "source": [
    "#soynlp로 추출된 명사들을 texts_without_stopwords에서 삭제한다.\n",
    "texts_without_soynlp=[]\n",
    "for text in texts_without_stopwords:\n",
    "    remaining_text = remove_stopwords(text,remove_word_soynlp)\n",
    "    texts_without_soynlp.append(remaining_text)"
   ]
  },
  {
   "cell_type": "code",
   "execution_count": null,
   "metadata": {},
   "outputs": [],
   "source": [
    "texts_without_soynlp"
   ]
  },
  {
   "cell_type": "code",
   "execution_count": null,
   "metadata": {},
   "outputs": [],
   "source": [
    "remaining_text = clean_text(texts_without_soynlp)\n",
    "    "
   ]
  },
  {
   "cell_type": "code",
   "execution_count": null,
   "metadata": {},
   "outputs": [],
   "source": [
    "remaining_text"
   ]
  },
  {
   "cell_type": "code",
   "execution_count": null,
   "metadata": {},
   "outputs": [],
   "source": [
    "texts_without_soynlp = remaining_text"
   ]
  },
  {
   "cell_type": "markdown",
   "metadata": {},
   "source": [
    "### 북한 용어사전을 활용하여 명사 추출"
   ]
  },
  {
   "cell_type": "code",
   "execution_count": null,
   "metadata": {},
   "outputs": [],
   "source": [
    "site_defined_extracted_nouns,texts_without_extracted_nouns = [],[]\n",
    "for text in texts_without_soynlp:\n",
    "    extracted_nouns, remaining_text = extract_site_defined_nouns(text,dict_site)\n",
    "    site_defined_extracted_nouns.append(extracted_nouns)\n",
    "    texts_without_extracted_nouns.append(remaining_text)"
   ]
  },
  {
   "cell_type": "code",
   "execution_count": null,
   "metadata": {},
   "outputs": [],
   "source": [
    "# 리스트 평탄화\n",
    "site_defined_extracted_nouns = [item for sublist in site_defined_extracted_nouns for item in sublist]\n",
    "\n",
    "print(site_defined_extracted_nouns)"
   ]
  },
  {
   "cell_type": "code",
   "execution_count": null,
   "metadata": {},
   "outputs": [],
   "source": [
    "word_frequencies_site = Counter(site_defined_extracted_nouns)"
   ]
  },
  {
   "cell_type": "code",
   "execution_count": null,
   "metadata": {},
   "outputs": [],
   "source": [
    "word_frequencies_site"
   ]
  },
  {
   "cell_type": "code",
   "execution_count": null,
   "metadata": {},
   "outputs": [],
   "source": [
    "remaining_text = clean_text(texts_without_extracted_nouns)"
   ]
  },
  {
   "cell_type": "code",
   "execution_count": null,
   "metadata": {},
   "outputs": [],
   "source": [
    "remaining_text"
   ]
  },
  {
   "cell_type": "code",
   "execution_count": null,
   "metadata": {},
   "outputs": [],
   "source": [
    "texts_without_extracted_nouns = remaining_text"
   ]
  },
  {
   "cell_type": "markdown",
   "metadata": {},
   "source": [
    "### Mecab 명사 추출기(이미 명사로 분류된 단어들은 제외)"
   ]
  },
  {
   "cell_type": "code",
   "execution_count": null,
   "metadata": {},
   "outputs": [],
   "source": [
    "from konlpy.tag import Mecab\n",
    "mecab = Mecab()\n",
    "mecab_nouns = []\n",
    "for text in texts_without_extracted_nouns:\n",
    "    mecab_nouns += mecab.nouns(text)"
   ]
  },
  {
   "cell_type": "code",
   "execution_count": null,
   "metadata": {},
   "outputs": [],
   "source": [
    "mecab_nouns"
   ]
  },
  {
   "cell_type": "code",
   "execution_count": null,
   "metadata": {},
   "outputs": [],
   "source": [
    "mecab_nouns_clean = []\n",
    "for char in mecab_nouns:\n",
    "    if len(char)>1:\n",
    "        mecab_nouns_clean.append(char)"
   ]
  },
  {
   "cell_type": "code",
   "execution_count": null,
   "metadata": {},
   "outputs": [],
   "source": [
    "texts_without_mecab=[]\n",
    "for text in texts_without_extracted_nouns:\n",
    "    remaining_text = remove_stopwords(text,mecab_nouns_clean)\n",
    "    texts_without_mecab.append(remaining_text)\n",
    "texts_without_mecab"
   ]
  },
  {
   "cell_type": "code",
   "execution_count": null,
   "metadata": {},
   "outputs": [],
   "source": [
    "#단어 빈도수 계산\n",
    "from collections import Counter\n",
    "word_frequencies_mecab = Counter(mecab_nouns_clean)\n",
    "word_frequencies_mecab"
   ]
  },
  {
   "cell_type": "markdown",
   "metadata": {},
   "source": [
    "### 모두 합하기"
   ]
  },
  {
   "cell_type": "code",
   "execution_count": null,
   "metadata": {},
   "outputs": [],
   "source": [
    "word_frequencies_all_16be = word_frequencies_mecab+word_frequencies_soynlp+word_frequencies_site+word_frequencies_user"
   ]
  },
  {
   "cell_type": "code",
   "execution_count": null,
   "metadata": {},
   "outputs": [],
   "source": [
    "doc_word_freq['16be'] = word_frequencies_all_16be\n",
    "update_excel_with_new_doc(doc_word_freq, file_path)"
   ]
  },
  {
   "cell_type": "markdown",
   "metadata": {},
   "source": [
    "# Sheet10 2015.01.01 "
   ]
  },
  {
   "cell_type": "code",
   "execution_count": null,
   "metadata": {},
   "outputs": [],
   "source": [
    "df_15be = read_data(9,3)"
   ]
  },
  {
   "cell_type": "code",
   "execution_count": null,
   "metadata": {},
   "outputs": [],
   "source": [
    "df_15be"
   ]
  },
  {
   "cell_type": "markdown",
   "metadata": {},
   "source": [
    "## 📌전문"
   ]
  },
  {
   "cell_type": "markdown",
   "metadata": {},
   "source": [
    "### 데이터 불러오기"
   ]
  },
  {
   "cell_type": "code",
   "execution_count": null,
   "metadata": {},
   "outputs": [],
   "source": [
    "all = df_15be['전문'][0]"
   ]
  },
  {
   "cell_type": "code",
   "execution_count": null,
   "metadata": {},
   "outputs": [],
   "source": [
    "all"
   ]
  },
  {
   "cell_type": "markdown",
   "metadata": {},
   "source": [
    "### 특수기호 일차적으로 제거"
   ]
  },
  {
   "cell_type": "code",
   "execution_count": null,
   "metadata": {},
   "outputs": [],
   "source": [
    "import re\n",
    "all = re.sub(r'[()《》!]', ' ', all) #특수기호 제거, 정규 표현식  "
   ]
  },
  {
   "cell_type": "markdown",
   "metadata": {},
   "source": [
    "### '\\n\\n'를 기준으로 문장 나누기"
   ]
  },
  {
   "cell_type": "code",
   "execution_count": null,
   "metadata": {},
   "outputs": [],
   "source": [
    "all = all.split('\\n\\n')"
   ]
  },
  {
   "cell_type": "markdown",
   "metadata": {},
   "source": [
    "### 특수기호 이차적으로 ('1. ','2. ','3. ', '4. ' ,'\\n' 등) 삭제"
   ]
  },
  {
   "cell_type": "code",
   "execution_count": null,
   "metadata": {},
   "outputs": [],
   "source": [
    "for idx,sent in enumerate(all):\n",
    "    if ('1. ' in sent) or ('2. ' in sent) or ('3. ' in sent) or ('4. ' in sent) or ('5. 'in sent) or ('6. 'in sent):\n",
    "        all[idx] = sent[3:]"
   ]
  },
  {
   "cell_type": "code",
   "execution_count": null,
   "metadata": {},
   "outputs": [],
   "source": [
    "all_15be = []\n",
    "for text in all:\n",
    "    all_15be.append(re.sub(r'[\\n]', ' ', text))"
   ]
  },
  {
   "cell_type": "code",
   "execution_count": null,
   "metadata": {},
   "outputs": [],
   "source": [
    "all_15be = all_15be[2:]"
   ]
  },
  {
   "cell_type": "code",
   "execution_count": null,
   "metadata": {},
   "outputs": [],
   "source": [
    "all_15be = all_15be[:-1]"
   ]
  },
  {
   "cell_type": "code",
   "execution_count": null,
   "metadata": {},
   "outputs": [],
   "source": [
    "all_15be "
   ]
  },
  {
   "cell_type": "markdown",
   "metadata": {},
   "source": [
    "### 이름 추출\n",
    "이름 언급 없다."
   ]
  },
  {
   "cell_type": "markdown",
   "metadata": {},
   "source": [
    "### 권력구조와 정치형태 관련 단어 사용자 정의 사전을 사용하여 명사 추출"
   ]
  },
  {
   "cell_type": "code",
   "execution_count": null,
   "metadata": {},
   "outputs": [],
   "source": [
    "user_defined_extracted_nouns,texts_without_user_nouns  = [],[]\n",
    "for text in all_15be:\n",
    "    extracted_nouns, remaining_text = extract_user_defined_nouns(text,user_defined_nouns)\n",
    "    user_defined_extracted_nouns.append(extracted_nouns)\n",
    "    texts_without_user_nouns.append(remaining_text)"
   ]
  },
  {
   "cell_type": "code",
   "execution_count": null,
   "metadata": {},
   "outputs": [],
   "source": [
    "user_defined_extracted_nouns"
   ]
  },
  {
   "cell_type": "markdown",
   "metadata": {},
   "source": [
    "#### 동의어 처리"
   ]
  },
  {
   "cell_type": "code",
   "execution_count": null,
   "metadata": {},
   "outputs": [],
   "source": [
    "word_frequencies_user_defined_nouns=merge_word_with_frequencies(user_defined_extracted_nouns)"
   ]
  },
  {
   "cell_type": "markdown",
   "metadata": {},
   "source": [
    "#### 빈도수 구하기"
   ]
  },
  {
   "cell_type": "code",
   "execution_count": null,
   "metadata": {},
   "outputs": [],
   "source": [
    "word_frequencies_user = Counter(word_frequencies_user_defined_nouns)"
   ]
  },
  {
   "cell_type": "code",
   "execution_count": null,
   "metadata": {},
   "outputs": [],
   "source": [
    "texts_without_user_nouns"
   ]
  },
  {
   "cell_type": "markdown",
   "metadata": {},
   "source": [
    "### 불용어 제거"
   ]
  },
  {
   "cell_type": "code",
   "execution_count": null,
   "metadata": {},
   "outputs": [],
   "source": [
    "texts_without_stopwords=[]\n",
    "for text in texts_without_user_nouns:\n",
    "    remaining_text = remove_stopwords(text,stopwords)\n",
    "    texts_without_stopwords.append(remaining_text)"
   ]
  },
  {
   "cell_type": "code",
   "execution_count": null,
   "metadata": {},
   "outputs": [],
   "source": [
    "texts_without_stopwords"
   ]
  },
  {
   "cell_type": "markdown",
   "metadata": {},
   "source": [
    "#### '조선로동'이라는 단어는 단독으로 쓰인 단어가 아닌 '조선로동당 중앙위원회'와 같이 사용된 단어로 삭제한다.\n"
   ]
  },
  {
   "cell_type": "code",
   "execution_count": null,
   "metadata": {},
   "outputs": [],
   "source": [
    "sentences = []\n",
    "for sentence in texts_without_stopwords:\n",
    "    sentences.append(sentence.replace(\"조선로동\", \" \"))\n",
    "    "
   ]
  },
  {
   "cell_type": "code",
   "execution_count": null,
   "metadata": {},
   "outputs": [],
   "source": [
    "texts_without_stopwords = sentences"
   ]
  },
  {
   "cell_type": "code",
   "execution_count": null,
   "metadata": {},
   "outputs": [],
   "source": [
    "remaining_text = clean_text(texts_without_stopwords)"
   ]
  },
  {
   "cell_type": "code",
   "execution_count": null,
   "metadata": {},
   "outputs": [],
   "source": [
    "texts_without_stopwords = remaining_text"
   ]
  },
  {
   "cell_type": "markdown",
   "metadata": {},
   "source": [
    "### soynlp 명사 추출기 ( 이미 명사로 분류된 단어들은 제외)"
   ]
  },
  {
   "cell_type": "code",
   "execution_count": null,
   "metadata": {},
   "outputs": [],
   "source": [
    "from soynlp.noun import LRNounExtractor_v2\n",
    "noun_extractor = LRNounExtractor_v2(verbose=True, extract_compound=True)\n",
    "noun_extractor.train(texts_without_stopwords)\n",
    "soynlp_nouns = noun_extractor.extract()"
   ]
  },
  {
   "cell_type": "code",
   "execution_count": null,
   "metadata": {},
   "outputs": [],
   "source": [
    "#soynlp로 추출된 명사를 (명사,빈도수)로 저장\n",
    "extracted_soynlp_words = {word:score.frequency for word,score in soynlp_nouns.items() if len(word) >= 2}\n",
    "extracted_soynlp_words"
   ]
  },
  {
   "cell_type": "code",
   "execution_count": null,
   "metadata": {},
   "outputs": [],
   "source": [
    "word_frequencies_soynlp=Counter(extracted_soynlp_words)"
   ]
  },
  {
   "cell_type": "markdown",
   "metadata": {},
   "source": [
    "#### soynlp로 추출한 명사 데이터셋에서 삭제"
   ]
  },
  {
   "cell_type": "code",
   "execution_count": null,
   "metadata": {},
   "outputs": [],
   "source": [
    "#texts_without_stopwords에 삭제할 단어 저장\n",
    "remove_word_soynlp = [ word for word in soynlp_nouns if len(word) >= 2]"
   ]
  },
  {
   "cell_type": "code",
   "execution_count": null,
   "metadata": {},
   "outputs": [],
   "source": [
    "#soynlp로 추출된 명사들을 texts_without_stopwords에서 삭제한다.\n",
    "texts_without_soynlp=[]\n",
    "for text in texts_without_stopwords:\n",
    "    remaining_text = remove_stopwords(text,remove_word_soynlp)\n",
    "    texts_without_soynlp.append(remaining_text)"
   ]
  },
  {
   "cell_type": "code",
   "execution_count": null,
   "metadata": {},
   "outputs": [],
   "source": [
    "texts_without_soynlp"
   ]
  },
  {
   "cell_type": "code",
   "execution_count": null,
   "metadata": {},
   "outputs": [],
   "source": [
    "remaining_text = clean_text(texts_without_soynlp)"
   ]
  },
  {
   "cell_type": "code",
   "execution_count": null,
   "metadata": {},
   "outputs": [],
   "source": [
    "remaining_text"
   ]
  },
  {
   "cell_type": "code",
   "execution_count": null,
   "metadata": {},
   "outputs": [],
   "source": [
    "texts_without_soynlp = remaining_text"
   ]
  },
  {
   "cell_type": "markdown",
   "metadata": {},
   "source": [
    "### 북한 용어사전을 활용하여 명사 추출"
   ]
  },
  {
   "cell_type": "code",
   "execution_count": null,
   "metadata": {},
   "outputs": [],
   "source": [
    "site_defined_extracted_nouns,texts_without_extracted_nouns = [],[]\n",
    "for text in texts_without_soynlp:\n",
    "    extracted_nouns, remaining_text = extract_site_defined_nouns(text,dict_site)\n",
    "    site_defined_extracted_nouns.append(extracted_nouns)\n",
    "    texts_without_extracted_nouns.append(remaining_text)"
   ]
  },
  {
   "cell_type": "code",
   "execution_count": null,
   "metadata": {},
   "outputs": [],
   "source": [
    "# 리스트 평탄화\n",
    "site_defined_extracted_nouns = [item for sublist in site_defined_extracted_nouns for item in sublist]\n",
    "\n",
    "print(site_defined_extracted_nouns)"
   ]
  },
  {
   "cell_type": "code",
   "execution_count": null,
   "metadata": {},
   "outputs": [],
   "source": [
    "word_frequencies_site = Counter(site_defined_extracted_nouns)"
   ]
  },
  {
   "cell_type": "code",
   "execution_count": null,
   "metadata": {},
   "outputs": [],
   "source": [
    "word_frequencies_site"
   ]
  },
  {
   "cell_type": "code",
   "execution_count": null,
   "metadata": {},
   "outputs": [],
   "source": [
    "remaining_text = clean_text(texts_without_extracted_nouns)"
   ]
  },
  {
   "cell_type": "code",
   "execution_count": null,
   "metadata": {},
   "outputs": [],
   "source": [
    "remaining_text"
   ]
  },
  {
   "cell_type": "code",
   "execution_count": null,
   "metadata": {},
   "outputs": [],
   "source": [
    "texts_without_extracted_nouns = remaining_text"
   ]
  },
  {
   "cell_type": "markdown",
   "metadata": {},
   "source": [
    "### Mecab 명사 추출기(이미 명사로 분류된 단어들은 제외)"
   ]
  },
  {
   "cell_type": "code",
   "execution_count": null,
   "metadata": {},
   "outputs": [],
   "source": [
    "from konlpy.tag import Mecab\n",
    "mecab = Mecab()\n",
    "mecab_nouns = []\n",
    "for text in texts_without_extracted_nouns:\n",
    "    mecab_nouns += mecab.nouns(text)"
   ]
  },
  {
   "cell_type": "code",
   "execution_count": null,
   "metadata": {},
   "outputs": [],
   "source": [
    "mecab_nouns"
   ]
  },
  {
   "cell_type": "code",
   "execution_count": null,
   "metadata": {},
   "outputs": [],
   "source": [
    "mecab_nouns_clean = []\n",
    "for char in mecab_nouns:\n",
    "    if len(char)>1:\n",
    "        mecab_nouns_clean.append(char)"
   ]
  },
  {
   "cell_type": "code",
   "execution_count": null,
   "metadata": {},
   "outputs": [],
   "source": [
    "texts_without_mecab=[]\n",
    "for text in texts_without_extracted_nouns:\n",
    "    remaining_text = remove_stopwords(text,mecab_nouns_clean)\n",
    "    texts_without_mecab.append(remaining_text)\n",
    "\n"
   ]
  },
  {
   "cell_type": "code",
   "execution_count": null,
   "metadata": {},
   "outputs": [],
   "source": [
    "texts_without_mecab"
   ]
  },
  {
   "cell_type": "code",
   "execution_count": null,
   "metadata": {},
   "outputs": [],
   "source": [
    "#단어 빈도수 계산\n",
    "from collections import Counter\n",
    "word_frequencies_mecab = Counter(mecab_nouns_clean)\n",
    "word_frequencies_mecab"
   ]
  },
  {
   "cell_type": "markdown",
   "metadata": {},
   "source": [
    "### 모두 합하기"
   ]
  },
  {
   "cell_type": "code",
   "execution_count": null,
   "metadata": {},
   "outputs": [],
   "source": [
    "word_frequencies_all_15be = word_frequencies_mecab+word_frequencies_soynlp+word_frequencies_site+word_frequencies_user"
   ]
  },
  {
   "cell_type": "code",
   "execution_count": null,
   "metadata": {},
   "outputs": [],
   "source": [
    "combined_all_15be = merge_frequencies_with_synonyms(word_frequencies_all_15be , synonym_dict)\n",
    "combined_all_15be"
   ]
  },
  {
   "cell_type": "code",
   "execution_count": null,
   "metadata": {},
   "outputs": [],
   "source": [
    "doc_word_freq['15be'] = word_frequencies_all_15be\n",
    "update_excel_with_new_doc(doc_word_freq, file_path)"
   ]
  },
  {
   "cell_type": "markdown",
   "metadata": {},
   "source": [
    "# Sheet11 2014.01.01 "
   ]
  },
  {
   "cell_type": "code",
   "execution_count": null,
   "metadata": {},
   "outputs": [],
   "source": [
    "df_14be = read_data(10,2)"
   ]
  },
  {
   "cell_type": "code",
   "execution_count": null,
   "metadata": {},
   "outputs": [],
   "source": [
    "df_14be"
   ]
  },
  {
   "cell_type": "markdown",
   "metadata": {},
   "source": [
    "## 📌전문"
   ]
  },
  {
   "cell_type": "markdown",
   "metadata": {},
   "source": [
    "### 데이터 불러오기"
   ]
  },
  {
   "cell_type": "code",
   "execution_count": null,
   "metadata": {},
   "outputs": [],
   "source": [
    "all = df_14be['전문'][0]"
   ]
  },
  {
   "cell_type": "code",
   "execution_count": null,
   "metadata": {},
   "outputs": [],
   "source": [
    "all"
   ]
  },
  {
   "cell_type": "markdown",
   "metadata": {},
   "source": [
    "### 특수기호 일차적으로 제거"
   ]
  },
  {
   "cell_type": "code",
   "execution_count": null,
   "metadata": {},
   "outputs": [],
   "source": [
    "import re\n",
    "all = re.sub(r'[()《》!]', ' ', all) #특수기호 제거, 정규 표현식  "
   ]
  },
  {
   "cell_type": "markdown",
   "metadata": {},
   "source": [
    "### '\\n\\n'를 기준으로 문장 나누기"
   ]
  },
  {
   "cell_type": "code",
   "execution_count": null,
   "metadata": {},
   "outputs": [],
   "source": [
    "all = all.split('\\n\\n')"
   ]
  },
  {
   "cell_type": "markdown",
   "metadata": {},
   "source": [
    "### 특수기호 이차적으로 ('1. ','2. ','3. ', '4. ' ,'\\n' 등) 삭제"
   ]
  },
  {
   "cell_type": "code",
   "execution_count": null,
   "metadata": {},
   "outputs": [],
   "source": [
    "for idx,sent in enumerate(all):\n",
    "    if ('1. ' in sent) or ('2. ' in sent) or ('3. ' in sent) or ('4. ' in sent) or ('5. 'in sent) or ('6. 'in sent):\n",
    "        all[idx] = sent[3:]"
   ]
  },
  {
   "cell_type": "code",
   "execution_count": null,
   "metadata": {},
   "outputs": [],
   "source": [
    "all_14be = []\n",
    "for text in all:\n",
    "    all_14be.append(re.sub(r'[\\n]', ' ', text))"
   ]
  },
  {
   "cell_type": "code",
   "execution_count": null,
   "metadata": {},
   "outputs": [],
   "source": [
    "all_14be"
   ]
  },
  {
   "cell_type": "code",
   "execution_count": null,
   "metadata": {},
   "outputs": [],
   "source": [
    "all_14be[0] = all_14be[0].split(\".\")[2]"
   ]
  },
  {
   "cell_type": "code",
   "execution_count": null,
   "metadata": {},
   "outputs": [],
   "source": [
    "all_14be = all_14be[:-1]"
   ]
  },
  {
   "cell_type": "code",
   "execution_count": null,
   "metadata": {},
   "outputs": [],
   "source": [
    "all_14be"
   ]
  },
  {
   "cell_type": "markdown",
   "metadata": {},
   "source": [
    "### 이름 추출\n",
    "'김일성','김정은' 이름이 언급되지만, 두 이름 다 잘 추출되므로 이름을 따로 추출하는 단계는 생략하겠다."
   ]
  },
  {
   "cell_type": "markdown",
   "metadata": {},
   "source": [
    "### 권력구조와 정치형태 관련 단어 사용자 정의 사전을 사용하여 명사 추출"
   ]
  },
  {
   "cell_type": "code",
   "execution_count": null,
   "metadata": {},
   "outputs": [],
   "source": [
    "user_defined_extracted_nouns,texts_without_user_nouns  = [],[]\n",
    "for text in all_14be:\n",
    "    extracted_nouns, remaining_text = extract_user_defined_nouns(text,user_defined_nouns)\n",
    "    user_defined_extracted_nouns.append(extracted_nouns)\n",
    "    texts_without_user_nouns.append(remaining_text)"
   ]
  },
  {
   "cell_type": "code",
   "execution_count": null,
   "metadata": {},
   "outputs": [],
   "source": [
    "user_defined_extracted_nouns"
   ]
  },
  {
   "cell_type": "markdown",
   "metadata": {},
   "source": [
    "#### 동의어 처리"
   ]
  },
  {
   "cell_type": "code",
   "execution_count": null,
   "metadata": {},
   "outputs": [],
   "source": [
    "word_frequencies_user_defined_nouns=merge_word_with_frequencies(user_defined_extracted_nouns)"
   ]
  },
  {
   "cell_type": "markdown",
   "metadata": {},
   "source": [
    "#### 빈도수 구하기"
   ]
  },
  {
   "cell_type": "code",
   "execution_count": null,
   "metadata": {},
   "outputs": [],
   "source": [
    "word_frequencies_user = Counter(word_frequencies_user_defined_nouns)"
   ]
  },
  {
   "cell_type": "code",
   "execution_count": null,
   "metadata": {},
   "outputs": [],
   "source": [
    "texts_without_user_nouns"
   ]
  },
  {
   "cell_type": "markdown",
   "metadata": {},
   "source": [
    "### 불용어 제거"
   ]
  },
  {
   "cell_type": "code",
   "execution_count": null,
   "metadata": {},
   "outputs": [],
   "source": [
    "texts_without_stopwords=[]\n",
    "for text in texts_without_user_nouns:\n",
    "    remaining_text = remove_stopwords(text,stopwords)\n",
    "    texts_without_stopwords.append(remaining_text)"
   ]
  },
  {
   "cell_type": "code",
   "execution_count": null,
   "metadata": {},
   "outputs": [],
   "source": [
    "texts_without_stopwords"
   ]
  },
  {
   "cell_type": "markdown",
   "metadata": {},
   "source": [
    "#### '조선로동'이라는 단어는 단독으로 쓰인 단어가 아닌 '조선로동당 중앙위원회'와 같이 사용된 단어로 삭제한다.\n"
   ]
  },
  {
   "cell_type": "code",
   "execution_count": null,
   "metadata": {},
   "outputs": [],
   "source": [
    "sentences = []\n",
    "for sentence in texts_without_stopwords:\n",
    "    sentences.append(sentence.replace(\"조선로동\", \" \"))"
   ]
  },
  {
   "cell_type": "code",
   "execution_count": null,
   "metadata": {},
   "outputs": [],
   "source": [
    "texts_without_stopwords = sentences"
   ]
  },
  {
   "cell_type": "code",
   "execution_count": null,
   "metadata": {},
   "outputs": [],
   "source": [
    "remaining_text = clean_text(texts_without_stopwords)"
   ]
  },
  {
   "cell_type": "code",
   "execution_count": null,
   "metadata": {},
   "outputs": [],
   "source": [
    "texts_without_stopwords = remaining_text"
   ]
  },
  {
   "cell_type": "markdown",
   "metadata": {},
   "source": [
    "### soynlp 명사 추출기 ( 이미 명사로 분류된 단어들은 제외)"
   ]
  },
  {
   "cell_type": "code",
   "execution_count": null,
   "metadata": {},
   "outputs": [],
   "source": [
    "from soynlp.noun import LRNounExtractor_v2\n",
    "noun_extractor = LRNounExtractor_v2(verbose=True, extract_compound=True)\n",
    "noun_extractor.train(texts_without_stopwords)\n",
    "soynlp_nouns = noun_extractor.extract()"
   ]
  },
  {
   "cell_type": "code",
   "execution_count": null,
   "metadata": {},
   "outputs": [],
   "source": [
    "#soynlp로 추출된 명사를 (명사,빈도수)로 저장\n",
    "extracted_soynlp_words = {word:score.frequency for word,score in soynlp_nouns.items() if len(word) >= 2}\n",
    "extracted_soynlp_words"
   ]
  },
  {
   "cell_type": "code",
   "execution_count": null,
   "metadata": {},
   "outputs": [],
   "source": [
    "word_frequencies_soynlp=Counter(extracted_soynlp_words)"
   ]
  },
  {
   "cell_type": "markdown",
   "metadata": {},
   "source": [
    "#### soynlp로 추출한 명사 데이터셋에서 삭제"
   ]
  },
  {
   "cell_type": "code",
   "execution_count": null,
   "metadata": {},
   "outputs": [],
   "source": [
    "#texts_without_stopwords에 삭제할 단어 저장\n",
    "remove_word_soynlp = [ word for word in soynlp_nouns if len(word) >= 2]"
   ]
  },
  {
   "cell_type": "code",
   "execution_count": null,
   "metadata": {},
   "outputs": [],
   "source": [
    "#soynlp로 추출된 명사들을 texts_without_stopwords에서 삭제한다.\n",
    "texts_without_soynlp=[]\n",
    "for text in texts_without_stopwords:\n",
    "    remaining_text = remove_stopwords(text,remove_word_soynlp)\n",
    "    texts_without_soynlp.append(remaining_text)"
   ]
  },
  {
   "cell_type": "code",
   "execution_count": null,
   "metadata": {},
   "outputs": [],
   "source": [
    "texts_without_soynlp"
   ]
  },
  {
   "cell_type": "code",
   "execution_count": null,
   "metadata": {},
   "outputs": [],
   "source": [
    "remaining_text = clean_text(texts_without_soynlp)"
   ]
  },
  {
   "cell_type": "code",
   "execution_count": null,
   "metadata": {},
   "outputs": [],
   "source": [
    "remaining_text"
   ]
  },
  {
   "cell_type": "code",
   "execution_count": null,
   "metadata": {},
   "outputs": [],
   "source": [
    "texts_without_soynlp = remaining_text"
   ]
  },
  {
   "cell_type": "markdown",
   "metadata": {},
   "source": [
    "### 북한 용어사전을 활용하여 명사 추출"
   ]
  },
  {
   "cell_type": "code",
   "execution_count": null,
   "metadata": {},
   "outputs": [],
   "source": [
    "site_defined_extracted_nouns,texts_without_extracted_nouns = [],[]\n",
    "for text in texts_without_soynlp:\n",
    "    extracted_nouns, remaining_text = extract_site_defined_nouns(text,dict_site)\n",
    "    site_defined_extracted_nouns.append(extracted_nouns)\n",
    "    texts_without_extracted_nouns.append(remaining_text)"
   ]
  },
  {
   "cell_type": "code",
   "execution_count": null,
   "metadata": {},
   "outputs": [],
   "source": [
    "# 리스트 평탄화\n",
    "site_defined_extracted_nouns = [item for sublist in site_defined_extracted_nouns for item in sublist]\n",
    "\n",
    "print(site_defined_extracted_nouns)"
   ]
  },
  {
   "cell_type": "code",
   "execution_count": null,
   "metadata": {},
   "outputs": [],
   "source": [
    "word_frequencies_site = Counter(site_defined_extracted_nouns)"
   ]
  },
  {
   "cell_type": "code",
   "execution_count": null,
   "metadata": {},
   "outputs": [],
   "source": [
    "word_frequencies_site"
   ]
  },
  {
   "cell_type": "code",
   "execution_count": null,
   "metadata": {},
   "outputs": [],
   "source": [
    "remaining_text = clean_text(texts_without_extracted_nouns)"
   ]
  },
  {
   "cell_type": "code",
   "execution_count": null,
   "metadata": {},
   "outputs": [],
   "source": [
    "remaining_text"
   ]
  },
  {
   "cell_type": "code",
   "execution_count": null,
   "metadata": {},
   "outputs": [],
   "source": [
    "texts_without_extracted_nouns = remaining_text"
   ]
  },
  {
   "cell_type": "markdown",
   "metadata": {},
   "source": [
    "### Mecab 명사 추출기(이미 명사로 분류된 단어들은 제외)"
   ]
  },
  {
   "cell_type": "code",
   "execution_count": null,
   "metadata": {},
   "outputs": [],
   "source": [
    "from konlpy.tag import Mecab\n",
    "mecab = Mecab()\n",
    "mecab_nouns = []\n",
    "for text in texts_without_extracted_nouns:\n",
    "    mecab_nouns += mecab.nouns(text)"
   ]
  },
  {
   "cell_type": "code",
   "execution_count": null,
   "metadata": {},
   "outputs": [],
   "source": [
    "mecab_nouns"
   ]
  },
  {
   "cell_type": "code",
   "execution_count": null,
   "metadata": {},
   "outputs": [],
   "source": [
    "mecab_nouns_clean = []\n",
    "for char in mecab_nouns:\n",
    "    if len(char)>1:\n",
    "        mecab_nouns_clean.append(char)"
   ]
  },
  {
   "cell_type": "code",
   "execution_count": null,
   "metadata": {},
   "outputs": [],
   "source": [
    "texts_without_mecab=[]\n",
    "for text in texts_without_extracted_nouns:\n",
    "    remaining_text = remove_stopwords(text,mecab_nouns_clean)\n",
    "    texts_without_mecab.append(remaining_text)\n",
    "texts_without_mecab\n"
   ]
  },
  {
   "cell_type": "code",
   "execution_count": null,
   "metadata": {},
   "outputs": [],
   "source": [
    "#단어 빈도수 계산\n",
    "from collections import Counter\n",
    "word_frequencies_mecab = Counter(mecab_nouns_clean)\n",
    "word_frequencies_mecab"
   ]
  },
  {
   "cell_type": "markdown",
   "metadata": {},
   "source": [
    "### 모두 합하기"
   ]
  },
  {
   "cell_type": "code",
   "execution_count": null,
   "metadata": {},
   "outputs": [],
   "source": [
    "word_frequencies_all_14be = word_frequencies_mecab+word_frequencies_soynlp+word_frequencies_site+word_frequencies_user"
   ]
  },
  {
   "cell_type": "code",
   "execution_count": null,
   "metadata": {},
   "outputs": [],
   "source": [
    "doc_word_freq['14be'] = word_frequencies_all_14be\n",
    "update_excel_with_new_doc(doc_word_freq, file_path)"
   ]
  },
  {
   "cell_type": "markdown",
   "metadata": {},
   "source": [
    "# Sheet12 2013.01.01 "
   ]
  },
  {
   "cell_type": "code",
   "execution_count": null,
   "metadata": {},
   "outputs": [],
   "source": [
    "df_13be = read_data(11,3)"
   ]
  },
  {
   "cell_type": "code",
   "execution_count": null,
   "metadata": {},
   "outputs": [],
   "source": [
    "df_13be"
   ]
  },
  {
   "cell_type": "markdown",
   "metadata": {},
   "source": [
    "## 📌전문"
   ]
  },
  {
   "cell_type": "markdown",
   "metadata": {},
   "source": [
    "### 데이터 불러오기"
   ]
  },
  {
   "cell_type": "code",
   "execution_count": null,
   "metadata": {},
   "outputs": [],
   "source": [
    "all = df_13be['전문'][0]"
   ]
  },
  {
   "cell_type": "code",
   "execution_count": null,
   "metadata": {},
   "outputs": [],
   "source": [
    "all"
   ]
  },
  {
   "cell_type": "markdown",
   "metadata": {},
   "source": [
    "### 특수기호 일차적으로 제거"
   ]
  },
  {
   "cell_type": "code",
   "execution_count": null,
   "metadata": {},
   "outputs": [],
   "source": [
    "import re\n",
    "all = re.sub(r'[()《》!]', ' ', all) #특수기호 제거, 정규 표현식  "
   ]
  },
  {
   "cell_type": "markdown",
   "metadata": {},
   "source": [
    "### '\\n\\n'를 기준으로 문장 나누기"
   ]
  },
  {
   "cell_type": "code",
   "execution_count": null,
   "metadata": {},
   "outputs": [],
   "source": [
    "all = all.split('\\n\\n')"
   ]
  },
  {
   "cell_type": "markdown",
   "metadata": {},
   "source": [
    "### 특수기호 이차적으로 ('1. ','2. ','3. ', '4. ' ,'\\n' 등) 삭제"
   ]
  },
  {
   "cell_type": "code",
   "execution_count": null,
   "metadata": {},
   "outputs": [],
   "source": [
    "for idx,sent in enumerate(all):\n",
    "    if ('1. ' in sent) or ('2. ' in sent) or ('3. ' in sent) or ('4. ' in sent) or ('5. 'in sent) or ('6. 'in sent):\n",
    "        all[idx] = sent[3:]"
   ]
  },
  {
   "cell_type": "code",
   "execution_count": null,
   "metadata": {},
   "outputs": [],
   "source": [
    "all_13be = []\n",
    "for text in all:\n",
    "    all_13be.append(re.sub(r'[\\n]', ' ', text))"
   ]
  },
  {
   "cell_type": "code",
   "execution_count": null,
   "metadata": {},
   "outputs": [],
   "source": [
    "all_13be"
   ]
  },
  {
   "cell_type": "markdown",
   "metadata": {},
   "source": [
    "### 이름 추출\n",
    "'김일성','김정은' 이름이 언급되지만, 두 이름 모두 잘 추출되므로 따로 추출하지 않겠다."
   ]
  },
  {
   "cell_type": "markdown",
   "metadata": {},
   "source": [
    "### 권력구조와 정치형태 관련 단어 사용자 정의 사전을 사용하여 명사 추출"
   ]
  },
  {
   "cell_type": "code",
   "execution_count": null,
   "metadata": {},
   "outputs": [],
   "source": [
    "user_defined_extracted_nouns,texts_without_user_nouns  = [],[]\n",
    "for text in all_13be:\n",
    "    extracted_nouns, remaining_text = extract_user_defined_nouns(text,user_defined_nouns)\n",
    "    user_defined_extracted_nouns.append(extracted_nouns)\n",
    "    texts_without_user_nouns.append(remaining_text)"
   ]
  },
  {
   "cell_type": "code",
   "execution_count": null,
   "metadata": {},
   "outputs": [],
   "source": [
    "user_defined_extracted_nouns"
   ]
  },
  {
   "cell_type": "markdown",
   "metadata": {},
   "source": [
    "#### 동의어 처리"
   ]
  },
  {
   "cell_type": "code",
   "execution_count": null,
   "metadata": {},
   "outputs": [],
   "source": [
    "word_frequencies_user_defined_nouns=merge_word_with_frequencies(user_defined_extracted_nouns)"
   ]
  },
  {
   "cell_type": "markdown",
   "metadata": {},
   "source": [
    "#### 빈도수 구하기"
   ]
  },
  {
   "cell_type": "code",
   "execution_count": null,
   "metadata": {},
   "outputs": [],
   "source": [
    "word_frequencies_user = Counter(word_frequencies_user_defined_nouns)"
   ]
  },
  {
   "cell_type": "code",
   "execution_count": null,
   "metadata": {},
   "outputs": [],
   "source": [
    "texts_without_user_nouns"
   ]
  },
  {
   "cell_type": "markdown",
   "metadata": {},
   "source": [
    "### 불용어 제거"
   ]
  },
  {
   "cell_type": "code",
   "execution_count": null,
   "metadata": {},
   "outputs": [],
   "source": [
    "texts_without_stopwords=[]\n",
    "for text in texts_without_user_nouns:\n",
    "    remaining_text = remove_stopwords(text,stopwords)\n",
    "    texts_without_stopwords.append(remaining_text)"
   ]
  },
  {
   "cell_type": "code",
   "execution_count": null,
   "metadata": {},
   "outputs": [],
   "source": [
    "texts_without_stopwords"
   ]
  },
  {
   "cell_type": "markdown",
   "metadata": {},
   "source": [
    "#### '조선로동'이라는 단어는 단독으로 쓰인 단어가 아닌 '조선로동당 중앙위원회'와 같이 사용된 단어로 삭제한다.\n"
   ]
  },
  {
   "cell_type": "code",
   "execution_count": null,
   "metadata": {},
   "outputs": [],
   "source": [
    "sentences = []\n",
    "for sentence in texts_without_stopwords:\n",
    "    sentences.append(sentence.replace(\"조선로동\", \" \"))\n",
    "    "
   ]
  },
  {
   "cell_type": "code",
   "execution_count": null,
   "metadata": {},
   "outputs": [],
   "source": [
    "texts_without_stopwords = sentences"
   ]
  },
  {
   "cell_type": "code",
   "execution_count": null,
   "metadata": {},
   "outputs": [],
   "source": [
    "remaining_text = clean_text(texts_without_stopwords)"
   ]
  },
  {
   "cell_type": "code",
   "execution_count": null,
   "metadata": {},
   "outputs": [],
   "source": [
    "texts_without_stopwords = remaining_text"
   ]
  },
  {
   "cell_type": "markdown",
   "metadata": {},
   "source": [
    "### soynlp 명사 추출기 ( 이미 명사로 분류된 단어들은 제외)"
   ]
  },
  {
   "cell_type": "code",
   "execution_count": null,
   "metadata": {},
   "outputs": [],
   "source": [
    "from soynlp.noun import LRNounExtractor_v2\n",
    "noun_extractor = LRNounExtractor_v2(verbose=True, extract_compound=True)\n",
    "noun_extractor.train(texts_without_stopwords)\n",
    "soynlp_nouns = noun_extractor.extract()"
   ]
  },
  {
   "cell_type": "code",
   "execution_count": null,
   "metadata": {},
   "outputs": [],
   "source": [
    "#soynlp로 추출된 명사를 (명사,빈도수)로 저장\n",
    "extracted_soynlp_words = {word:score.frequency for word,score in soynlp_nouns.items() if len(word) >= 2}\n",
    "extracted_soynlp_words"
   ]
  },
  {
   "cell_type": "code",
   "execution_count": null,
   "metadata": {},
   "outputs": [],
   "source": [
    "extracted_soynlp_words"
   ]
  },
  {
   "cell_type": "code",
   "execution_count": null,
   "metadata": {},
   "outputs": [],
   "source": [
    "word_frequencies_soynlp=Counter(extracted_soynlp_words)"
   ]
  },
  {
   "cell_type": "markdown",
   "metadata": {},
   "source": [
    "#### soynlp로 추출한 명사 데이터셋에서 삭제"
   ]
  },
  {
   "cell_type": "code",
   "execution_count": null,
   "metadata": {},
   "outputs": [],
   "source": [
    "#texts_without_stopwords에 삭제할 단어 저장\n",
    "remove_word_soynlp = [ word for word in soynlp_nouns if len(word) >= 2]"
   ]
  },
  {
   "cell_type": "code",
   "execution_count": null,
   "metadata": {},
   "outputs": [],
   "source": [
    "#soynlp로 추출된 명사들을 texts_without_stopwords에서 삭제한다.\n",
    "texts_without_soynlp=[]\n",
    "for text in texts_without_stopwords:\n",
    "    remaining_text = remove_stopwords(text,remove_word_soynlp)\n",
    "    texts_without_soynlp.append(remaining_text)"
   ]
  },
  {
   "cell_type": "code",
   "execution_count": null,
   "metadata": {},
   "outputs": [],
   "source": [
    "texts_without_soynlp"
   ]
  },
  {
   "cell_type": "code",
   "execution_count": null,
   "metadata": {},
   "outputs": [],
   "source": [
    "remaining_text = clean_text(texts_without_soynlp)"
   ]
  },
  {
   "cell_type": "code",
   "execution_count": null,
   "metadata": {},
   "outputs": [],
   "source": [
    "remaining_text"
   ]
  },
  {
   "cell_type": "code",
   "execution_count": null,
   "metadata": {},
   "outputs": [],
   "source": [
    "texts_without_soynlp = remaining_text"
   ]
  },
  {
   "cell_type": "markdown",
   "metadata": {},
   "source": [
    "### 북한 용어사전을 활용하여 명사 추출"
   ]
  },
  {
   "cell_type": "code",
   "execution_count": null,
   "metadata": {},
   "outputs": [],
   "source": [
    "site_defined_extracted_nouns,texts_without_extracted_nouns = [],[]\n",
    "for text in texts_without_soynlp:\n",
    "    extracted_nouns, remaining_text = extract_site_defined_nouns(text,dict_site)\n",
    "    site_defined_extracted_nouns.append(extracted_nouns)\n",
    "    texts_without_extracted_nouns.append(remaining_text)"
   ]
  },
  {
   "cell_type": "code",
   "execution_count": null,
   "metadata": {},
   "outputs": [],
   "source": [
    "# 리스트 평탄화\n",
    "site_defined_extracted_nouns = [item for sublist in site_defined_extracted_nouns for item in sublist]\n",
    "\n",
    "print(site_defined_extracted_nouns)"
   ]
  },
  {
   "cell_type": "code",
   "execution_count": null,
   "metadata": {},
   "outputs": [],
   "source": [
    "word_frequencies_site = Counter(site_defined_extracted_nouns)"
   ]
  },
  {
   "cell_type": "code",
   "execution_count": null,
   "metadata": {},
   "outputs": [],
   "source": [
    "word_frequencies_site"
   ]
  },
  {
   "cell_type": "code",
   "execution_count": null,
   "metadata": {},
   "outputs": [],
   "source": [
    "remaining_text = clean_text(texts_without_extracted_nouns)"
   ]
  },
  {
   "cell_type": "code",
   "execution_count": null,
   "metadata": {},
   "outputs": [],
   "source": [
    "remaining_text"
   ]
  },
  {
   "cell_type": "code",
   "execution_count": null,
   "metadata": {},
   "outputs": [],
   "source": [
    "texts_without_extracted_nouns = remaining_text"
   ]
  },
  {
   "cell_type": "markdown",
   "metadata": {},
   "source": [
    "### Mecab 명사 추출기(이미 명사로 분류된 단어들은 제외)"
   ]
  },
  {
   "cell_type": "code",
   "execution_count": null,
   "metadata": {},
   "outputs": [],
   "source": [
    "from konlpy.tag import Mecab\n",
    "mecab = Mecab()\n",
    "mecab_nouns = []\n",
    "for text in texts_without_extracted_nouns:\n",
    "    mecab_nouns += mecab.nouns(text)"
   ]
  },
  {
   "cell_type": "code",
   "execution_count": null,
   "metadata": {},
   "outputs": [],
   "source": [
    "mecab_nouns"
   ]
  },
  {
   "cell_type": "code",
   "execution_count": null,
   "metadata": {},
   "outputs": [],
   "source": [
    "mecab_nouns_clean = []\n",
    "for char in mecab_nouns:\n",
    "    if len(char)>1:\n",
    "        mecab_nouns_clean.append(char)"
   ]
  },
  {
   "cell_type": "code",
   "execution_count": null,
   "metadata": {},
   "outputs": [],
   "source": [
    "#단어 빈도수 계산\n",
    "from collections import Counter\n",
    "word_frequencies_mecab = Counter(mecab_nouns_clean)\n",
    "word_frequencies_mecab"
   ]
  },
  {
   "cell_type": "code",
   "execution_count": null,
   "metadata": {},
   "outputs": [],
   "source": [
    "texts_without_mecab=[]\n",
    "for text in texts_without_extracted_nouns:\n",
    "    remaining_text = remove_stopwords(text,mecab_nouns_clean)\n",
    "    texts_without_mecab.append(remaining_text)\n",
    "texts_without_mecab"
   ]
  },
  {
   "cell_type": "markdown",
   "metadata": {},
   "source": [
    "### 모두 합하기"
   ]
  },
  {
   "cell_type": "code",
   "execution_count": null,
   "metadata": {},
   "outputs": [],
   "source": [
    "word_frequencies_all_13be = word_frequencies_mecab+word_frequencies_soynlp+word_frequencies_site+word_frequencies_user"
   ]
  },
  {
   "cell_type": "code",
   "execution_count": null,
   "metadata": {},
   "outputs": [],
   "source": [
    "doc_word_freq['13be'] = word_frequencies_all_13be\n",
    "update_excel_with_new_doc(doc_word_freq, file_path)"
   ]
  },
  {
   "cell_type": "markdown",
   "metadata": {},
   "source": [
    "# Sheet13 2012.01.01 "
   ]
  },
  {
   "cell_type": "code",
   "execution_count": null,
   "metadata": {},
   "outputs": [],
   "source": [
    "df_12be = read_data(12,3)"
   ]
  },
  {
   "cell_type": "code",
   "execution_count": null,
   "metadata": {},
   "outputs": [],
   "source": [
    "df_12be"
   ]
  },
  {
   "cell_type": "markdown",
   "metadata": {},
   "source": [
    "## 📌전문"
   ]
  },
  {
   "cell_type": "markdown",
   "metadata": {},
   "source": [
    "### 데이터 불러오기"
   ]
  },
  {
   "cell_type": "code",
   "execution_count": null,
   "metadata": {},
   "outputs": [],
   "source": [
    "all = df_12be['전문'][0]"
   ]
  },
  {
   "cell_type": "code",
   "execution_count": null,
   "metadata": {},
   "outputs": [],
   "source": [
    "all"
   ]
  },
  {
   "cell_type": "markdown",
   "metadata": {},
   "source": [
    "### 특수기호 일차적으로 제거"
   ]
  },
  {
   "cell_type": "code",
   "execution_count": null,
   "metadata": {},
   "outputs": [],
   "source": [
    "import re\n",
    "all = re.sub(r'[()《》!]', ' ', all) #특수기호 제거, 정규 표현식  "
   ]
  },
  {
   "cell_type": "markdown",
   "metadata": {},
   "source": [
    "### '\\n\\n'를 기준으로 문장 나누기"
   ]
  },
  {
   "cell_type": "code",
   "execution_count": null,
   "metadata": {},
   "outputs": [],
   "source": [
    "all = all.split('\\n\\n')"
   ]
  },
  {
   "cell_type": "markdown",
   "metadata": {},
   "source": [
    "### 특수기호 이차적으로 ('1. ','2. ','3. ', '4. ' ,'\\n' 등) 삭제"
   ]
  },
  {
   "cell_type": "code",
   "execution_count": null,
   "metadata": {},
   "outputs": [],
   "source": [
    "for idx,sent in enumerate(all):\n",
    "    if ('1. ' in sent) or ('2. ' in sent) or ('3. ' in sent) or ('4. ' in sent) or ('5. 'in sent) or ('6. 'in sent):\n",
    "        all[idx] = sent[3:]"
   ]
  },
  {
   "cell_type": "code",
   "execution_count": null,
   "metadata": {},
   "outputs": [],
   "source": [
    "all_12be = []\n",
    "for text in all:\n",
    "    all_12be.append(re.sub(r'[\\n]', ' ', text))"
   ]
  },
  {
   "cell_type": "code",
   "execution_count": null,
   "metadata": {},
   "outputs": [],
   "source": [
    "all_12be"
   ]
  },
  {
   "cell_type": "markdown",
   "metadata": {},
   "source": [
    "### 이름 추출\n",
    "'김정일','김일성','김정은' 이름이 언급되었지만, 잘 추출되는 이름들이므로 따로 추출하지 않겠다."
   ]
  },
  {
   "cell_type": "markdown",
   "metadata": {},
   "source": [
    "### 권력구조와 정치형태 관련 단어 사용자 정의 사전을 사용하여 명사 추출"
   ]
  },
  {
   "cell_type": "code",
   "execution_count": null,
   "metadata": {},
   "outputs": [],
   "source": [
    "user_defined_extracted_nouns,texts_without_user_nouns  = [],[]\n",
    "for text in all_12be:\n",
    "    extracted_nouns, remaining_text = extract_user_defined_nouns(text,user_defined_nouns)\n",
    "    user_defined_extracted_nouns.append(extracted_nouns)\n",
    "    texts_without_user_nouns.append(remaining_text)"
   ]
  },
  {
   "cell_type": "code",
   "execution_count": null,
   "metadata": {},
   "outputs": [],
   "source": [
    "user_defined_extracted_nouns"
   ]
  },
  {
   "cell_type": "code",
   "execution_count": null,
   "metadata": {},
   "outputs": [],
   "source": [
    "word_frequencies_user_defined_nouns=merge_word_with_frequencies(user_defined_extracted_nouns)"
   ]
  },
  {
   "cell_type": "markdown",
   "metadata": {},
   "source": [
    "#### 빈도수 구하기"
   ]
  },
  {
   "cell_type": "code",
   "execution_count": null,
   "metadata": {},
   "outputs": [],
   "source": [
    "word_frequencies_user = Counter(word_frequencies_user_defined_nouns)"
   ]
  },
  {
   "cell_type": "code",
   "execution_count": null,
   "metadata": {},
   "outputs": [],
   "source": [
    "texts_without_user_nouns"
   ]
  },
  {
   "cell_type": "markdown",
   "metadata": {},
   "source": [
    "### 불용어 제거"
   ]
  },
  {
   "cell_type": "code",
   "execution_count": null,
   "metadata": {},
   "outputs": [],
   "source": [
    "texts_without_stopwords=[]\n",
    "for text in texts_without_user_nouns:\n",
    "    remaining_text = remove_stopwords(text,stopwords)\n",
    "    texts_without_stopwords.append(remaining_text)"
   ]
  },
  {
   "cell_type": "code",
   "execution_count": null,
   "metadata": {},
   "outputs": [],
   "source": [
    "texts_without_stopwords"
   ]
  },
  {
   "cell_type": "markdown",
   "metadata": {},
   "source": [
    "#### '조선로동'이라는 단어는 단독으로 쓰인 단어가 아닌 '조선로동당 중앙위원회'와 같이 사용된 단어로 삭제한다.\n"
   ]
  },
  {
   "cell_type": "code",
   "execution_count": null,
   "metadata": {},
   "outputs": [],
   "source": [
    "sentences = []\n",
    "for sentence in texts_without_stopwords:\n",
    "    sentences.append(sentence.replace(\"조선로동\", \" \"))\n",
    "    "
   ]
  },
  {
   "cell_type": "code",
   "execution_count": null,
   "metadata": {},
   "outputs": [],
   "source": [
    "texts_without_stopwords = sentences"
   ]
  },
  {
   "cell_type": "code",
   "execution_count": null,
   "metadata": {},
   "outputs": [],
   "source": [
    "remaining_text = clean_text(texts_without_stopwords)"
   ]
  },
  {
   "cell_type": "code",
   "execution_count": null,
   "metadata": {},
   "outputs": [],
   "source": [
    "texts_without_stopwords = remaining_text"
   ]
  },
  {
   "cell_type": "markdown",
   "metadata": {},
   "source": [
    "### soynlp 명사 추출기 ( 이미 명사로 분류된 단어들은 제외)"
   ]
  },
  {
   "cell_type": "code",
   "execution_count": null,
   "metadata": {},
   "outputs": [],
   "source": [
    "from soynlp.noun import LRNounExtractor_v2\n",
    "noun_extractor = LRNounExtractor_v2(verbose=True, extract_compound=True)\n",
    "noun_extractor.train(texts_without_stopwords)\n",
    "soynlp_nouns = noun_extractor.extract()"
   ]
  },
  {
   "cell_type": "code",
   "execution_count": null,
   "metadata": {},
   "outputs": [],
   "source": [
    "#soynlp로 추출된 명사를 (명사,빈도수)로 저장\n",
    "extracted_soynlp_words = {word:score.frequency for word,score in soynlp_nouns.items() if len(word) >= 2}\n",
    "extracted_soynlp_words"
   ]
  },
  {
   "cell_type": "code",
   "execution_count": null,
   "metadata": {},
   "outputs": [],
   "source": [
    "extracted_soynlp_words"
   ]
  },
  {
   "cell_type": "code",
   "execution_count": null,
   "metadata": {},
   "outputs": [],
   "source": [
    "word_frequencies_soynlp=Counter(extracted_soynlp_words)"
   ]
  },
  {
   "cell_type": "markdown",
   "metadata": {},
   "source": [
    "#### soynlp로 추출한 명사 데이터셋에서 삭제"
   ]
  },
  {
   "cell_type": "code",
   "execution_count": null,
   "metadata": {},
   "outputs": [],
   "source": [
    "#texts_without_stopwords에 삭제할 단어 저장\n",
    "remove_word_soynlp = [ word for word in soynlp_nouns if len(word) >= 2]"
   ]
  },
  {
   "cell_type": "code",
   "execution_count": null,
   "metadata": {},
   "outputs": [],
   "source": [
    "#soynlp로 추출된 명사들을 texts_without_stopwords에서 삭제한다.\n",
    "texts_without_soynlp=[]\n",
    "for text in texts_without_stopwords:\n",
    "    remaining_text = remove_stopwords(text,remove_word_soynlp)\n",
    "    texts_without_soynlp.append(remaining_text)"
   ]
  },
  {
   "cell_type": "code",
   "execution_count": null,
   "metadata": {},
   "outputs": [],
   "source": [
    "texts_without_soynlp"
   ]
  },
  {
   "cell_type": "code",
   "execution_count": null,
   "metadata": {},
   "outputs": [],
   "source": [
    "remaining_text = clean_text(texts_without_soynlp)"
   ]
  },
  {
   "cell_type": "code",
   "execution_count": null,
   "metadata": {},
   "outputs": [],
   "source": [
    "remaining_text"
   ]
  },
  {
   "cell_type": "code",
   "execution_count": null,
   "metadata": {},
   "outputs": [],
   "source": [
    "texts_without_soynlp = remaining_text"
   ]
  },
  {
   "cell_type": "markdown",
   "metadata": {},
   "source": [
    "### 북한 용어사전을 활용하여 명사 추출"
   ]
  },
  {
   "cell_type": "code",
   "execution_count": null,
   "metadata": {},
   "outputs": [],
   "source": [
    "site_defined_extracted_nouns,texts_without_extracted_nouns = [],[]\n",
    "for text in texts_without_soynlp:\n",
    "    extracted_nouns, remaining_text = extract_site_defined_nouns(text,dict_site)\n",
    "    site_defined_extracted_nouns.append(extracted_nouns)\n",
    "    texts_without_extracted_nouns.append(remaining_text)"
   ]
  },
  {
   "cell_type": "code",
   "execution_count": null,
   "metadata": {},
   "outputs": [],
   "source": [
    "# 리스트 평탄화\n",
    "site_defined_extracted_nouns = [item for sublist in site_defined_extracted_nouns for item in sublist]\n",
    "\n",
    "print(site_defined_extracted_nouns)"
   ]
  },
  {
   "cell_type": "code",
   "execution_count": null,
   "metadata": {},
   "outputs": [],
   "source": [
    "word_frequencies_site = Counter(site_defined_extracted_nouns)"
   ]
  },
  {
   "cell_type": "code",
   "execution_count": null,
   "metadata": {},
   "outputs": [],
   "source": [
    "word_frequencies_site"
   ]
  },
  {
   "cell_type": "code",
   "execution_count": null,
   "metadata": {},
   "outputs": [],
   "source": [
    "remaining_text = clean_text(texts_without_extracted_nouns)"
   ]
  },
  {
   "cell_type": "code",
   "execution_count": null,
   "metadata": {},
   "outputs": [],
   "source": [
    "remaining_text"
   ]
  },
  {
   "cell_type": "code",
   "execution_count": null,
   "metadata": {},
   "outputs": [],
   "source": [
    "texts_without_extracted_nouns = remaining_text"
   ]
  },
  {
   "cell_type": "markdown",
   "metadata": {},
   "source": [
    "### Mecab 명사 추출기(이미 명사로 분류된 단어들은 제외)"
   ]
  },
  {
   "cell_type": "code",
   "execution_count": null,
   "metadata": {},
   "outputs": [],
   "source": [
    "from konlpy.tag import Mecab\n",
    "mecab = Mecab()\n",
    "mecab_nouns = []\n",
    "for text in texts_without_extracted_nouns:\n",
    "    mecab_nouns += mecab.nouns(text)"
   ]
  },
  {
   "cell_type": "code",
   "execution_count": null,
   "metadata": {},
   "outputs": [],
   "source": [
    "mecab_nouns"
   ]
  },
  {
   "cell_type": "code",
   "execution_count": null,
   "metadata": {},
   "outputs": [],
   "source": [
    "mecab_nouns_clean = []\n",
    "for char in mecab_nouns:\n",
    "    if len(char)>1:\n",
    "        mecab_nouns_clean.append(char)"
   ]
  },
  {
   "cell_type": "code",
   "execution_count": null,
   "metadata": {},
   "outputs": [],
   "source": [
    "texts_without_mecab=[]\n",
    "for text in texts_without_extracted_nouns:\n",
    "    remaining_text = remove_stopwords(text,mecab_nouns_clean)\n",
    "    texts_without_mecab.append(remaining_text)\n",
    "texts_without_mecab"
   ]
  },
  {
   "cell_type": "code",
   "execution_count": null,
   "metadata": {},
   "outputs": [],
   "source": [
    "#단어 빈도수 계산\n",
    "from collections import Counter\n",
    "word_frequencies_mecab = Counter(mecab_nouns)\n",
    "word_frequencies_mecab"
   ]
  },
  {
   "cell_type": "markdown",
   "metadata": {},
   "source": [
    "### 모두 합하기"
   ]
  },
  {
   "cell_type": "code",
   "execution_count": null,
   "metadata": {},
   "outputs": [],
   "source": [
    "word_frequencies_all_12be = word_frequencies_mecab+word_frequencies_soynlp+word_frequencies_site+word_frequencies_user"
   ]
  },
  {
   "cell_type": "code",
   "execution_count": null,
   "metadata": {},
   "outputs": [],
   "source": [
    "doc_word_freq['12be'] = word_frequencies_all_12be\n",
    "update_excel_with_new_doc(doc_word_freq, file_path)"
   ]
  },
  {
   "cell_type": "markdown",
   "metadata": {},
   "source": [
    "# Topic Modeling \n",
    "단순히 LDA모형에 데이터셋을 적용하였을 때, 응집도가 -8이 나오고 7가지의 주제에 대한 키워드들이 그 주제를 나타내지 못 하였다. 따라서, 단어를 조합하여 몇 번 이상이 나오면 토큰화된 단어들과 함께 토픽모델링에 사용하는 방법인 n-gram을 도입하였지만, 키워드의 명확성이 나아지지 않았고 그에 대한 대안으로 TfidfModel을 도입하였다.  \n",
    "\n",
    "이때 Tfidfmodel이란 tf(한 문서 내에서 특정 단어가 등장하는 빈도)*idf(단어의 일반적인 희소성으로 여러 문서에서 자주 등장하지 않는 단어일수록 더 중요한 단어로 취급)을 계산하여 특정 문서에서 중요도가 높은 단어를 찾는 데 사용한다. \n",
    "-> 중요도가 낮은 일반적인 단어들의 가중치를 낮추고, 특정 문서에서 중요한 단어들의 가중치를 높이는 방식\n",
    "\n",
    "위의 방법들을 단어빈도그래프에서 사용한 데이터셋인 동의어 처리를 한 데이터셋에 적용하였다. 응집도는 0.3~0.8까지 올라갔지만 여전히 7가지의 주제에 대한 키워드들이 그 주제를 나타내지 못 하였다. 이에 대한 대안으로 현재 파일에서는 동일어를 처리하지 않은 데이터셋에 위의 방법들을 적용하였다.  "
   ]
  },
  {
   "cell_type": "markdown",
   "metadata": {},
   "source": [
    "## [참고] 아래의 값들을 변경하면 다양한 결과를 확인할 수 있다.\n",
    "\n",
    "### LdaModel의 하이퍼파라미터)\n",
    "\n",
    " passes: 반복 학습 횟수\n",
    "\n",
    " alpha : 문서의 주제 분포를 조정하여 각 문서가 다룰 수 있는 주제의 수를 결정한다.  작은 값은 적은 주제를, 큰 값은 많은 주제를 포함한다.\n",
    "\n",
    " eta:주제의 단어 분포를 조정하여 각 주제가 얼마나 많은 단어를 포함할지를 결정한다. 작은 값은 주제별로 차별화된 단어들을, 큰 값은 일반적인 단어들을 포함할 가능성을 높인다.\n",
    " \n",
    "\n",
    "#### Phrases의 하이퍼파라미터)\n",
    "\n",
    " min_count : 최소 몇 번이상 등장하는 단어 조합을 사용할 것인지\n",
    "\n",
    " threshold : 단어 조합이 나올 확률을 조정하는 기준이다. (= 두 단어가 얼마나 강하게 연결되어 있는지)작은 값은 더 많은 단어 조합이 n-그램으로 생성될 수 있. 즉, 단어들이 자주 함께 등장하지  않더라도 조합을 만들어낼 수 있다. ( 불필요한 조합이 포함될 위험이 있다.) 반면,높은 값(ex. 5에서 20 사이의 값) 은 단어들이 자주 함께 등장해야만 n-그램으로 생성되므로 빈도가 낮은 조합은 제외되고, 더 강한 상관관계를 가진 조합만 남게 된다. \n",
    "\n",
    "\n",
    "#### 빈도 필터링 dictionary.filter_extremes(no_below, no_above)\n",
    "\n",
    " no_below: 빈도가 입력한 숫자 미만이면 필터링\n",
    "\n",
    " no_above: 단어의 빈도가 문서의 입력한 숫자%를 차지하면 필터링"
   ]
  },
  {
   "cell_type": "code",
   "execution_count": null,
   "metadata": {},
   "outputs": [],
   "source": [
    "import sys\n",
    "!{sys.executable} -m pip install nltk\n"
   ]
  },
  {
   "cell_type": "markdown",
   "metadata": {},
   "source": [
    "## TF-IDF 적용"
   ]
  },
  {
   "cell_type": "code",
   "execution_count": 760,
   "metadata": {},
   "outputs": [
    {
     "name": "stderr",
     "output_type": "stream",
     "text": [
      "/Library/Frameworks/Python.framework/Versions/3.10/lib/python3.10/site-packages/gensim/models/ldamodel.py:850: RuntimeWarning: overflow encountered in exp2\n",
      "  perwordbound, np.exp2(-perwordbound), len(chunk), corpus_words\n"
     ]
    },
    {
     "name": "stdout",
     "output_type": "stream",
     "text": [
      "Overall Coherence Score (TF-IDF): 0.413619858849582\n"
     ]
    },
    {
     "data": {
      "text/html": [
       "\n",
       "<link rel=\"stylesheet\" type=\"text/css\" href=\"https://cdn.jsdelivr.net/gh/bmabey/pyLDAvis@3.4.0/pyLDAvis/js/ldavis.v1.0.0.css\">\n",
       "\n",
       "\n",
       "<div id=\"ldavis_el9002050654647846470717277\" style=\"background-color:white;\"></div>\n",
       "<script type=\"text/javascript\">\n",
       "\n",
       "var ldavis_el9002050654647846470717277_data = {\"mdsDat\": {\"x\": [0.328247164516241, -0.03668851115682517, -0.11197383153124311, -0.1119738315312431, -0.20154494455049446, 0.33564880328317875, -0.20171484902961312], \"y\": [-0.05971310990107167, 0.44402534456686754, -0.07673446775154584, -0.0767344677515459, -0.06950830527597515, -0.05181952344492775, -0.10951547044180196], \"topics\": [1, 2, 3, 4, 5, 6, 7], \"cluster\": [1, 1, 1, 1, 1, 1, 1], \"Freq\": [37.21201503954607, 14.572559300422345, 9.643085132006316, 9.643085132006316, 9.643085132006316, 9.643085132006316, 9.643085132006316]}, \"tinfo\": {\"Term\": [\"\\uc870\\uad6d_\\ud601\\uc2e0\", \"\\uc0ac\\uc0c1\", \"\\uc560\\uad6d\", \"\\ub300\\ucc45_\\uc815\\uce58\", \"\\ub2f9\\uc911\\uc559\\uc704\\uc6d0\\ud68c_\\ucd94\\uc774\", \"\\ud6c4\\uc190\", \"\\uc911\\uc559\\ub2f9\", \"\\uc55e\\uae38\", \"\\ucd5c\\uace0\\ud68c\\uc758\", \"\\ub300\\ud45c\\uc790\", \"\\ub300\\uc678_\\uc2e4\\ucc9c\", \"\\uc7a5\\uae30_\\ubc29\\ud5a5\", \"\\ucd1d\\ub828\", \"\\uad6d\\uc801\", \"\\uc804\\ud22c_\\ud575\", \"\\ucc3d\\uac74\\uc790\", \"\\uc6b0\\ub9ac \\ub2f9\", \"\\ub85c\\ub3d9\\uc790\", \"\\uc815\\ud615\", \"\\ud589\\uc815\", \"\\ub0b4\\ubd80\", \"\\uc911\\ub300\", \"\\uc815\\uce58\\uad6d\", \"\\uc911\\uc559\\uc704\\uc6d0\\ud68c\", \"\\uc608\\ubc29\", \"\\uc0b4\\uc218\", \"\\ucc38\\uac00\", \"\\uc801\\uc9c0\", \"\\ud601\\uba85_\\uc874\\uc5c4\", \"\\ud544\\uc2b9\\ubd88\\ud328\", \"\\uac74\\uac15_\\uacf5\\uc5c5\", \"\\uc120\\ub3d9\", \"\\uc9c4\\uad70_\\uad70\\ub300\", \"\\uc870\\uad6d\\ud1b5\\uc77c3\\ub300\\uc6d0\\uce59\", \"\\ub3d9\\uc791\", \"\\uc77c\\ucd09\\uc989\\ubc1c\", \"\\uad00\\uacc4\\uac1c\\uc120\", \"\\uc6a9\\ub0a9\", \"\\ub0b4\\ubd80\\uc608\\ube44\", \"\\uac15\\uc131\\uad6d\\uac00\", \"\\ud601\\uba85_\\uc874\\uc5c4\", \"\\ud544\\uc2b9\\ubd88\\ud328\", \"\\uc639\\uc704\", \"\\uccad\\ud0c1\", \"\\ub2e8\\uacc4_\\uc804\\uac1c\", \"\\ub18d\\ubc95\", \"\\uac15\\uc790\", \"\\uc778\\uc0ac\", \"\\ucd94\\uad6c\", \"\\uccad\\ucc9c\\uac15\\uacc4\\ub2e8\\uc2dd\\ubc1c\\uc804\\uc18c\", \"\\ud604\\ub300\\ud654_\\uc804\\ub2f9\", \"\\uc544\\ub984\", \"\\uc81c\\ud488_\\uc9c0\\uc5ed_\\uc804\\ud22c_\\ud575\", \"\\uc900\\ube44_\\ub300\\ud68c\", \"\\uc790\\uc704_\\uc120\\ud589\", \"\\uc601\\uad70\", \"\\uc815\\ucc45_\\ub2e8\\ud569\", \"\\uc0b0\\ub9bc_\\uc2e4\\uc99d\", \"\\uc0b0\\uacfc\\uc218\", \"\\ud655\\ub300_\\uae30\\uc220\", \"\\ubc1c\\ub3d9_\\uc6b0\\ub9ac \\ub2f9\", \"\\uc81c\\uad6d\\uc8fc\\uc758_\\uc601\\uc608\", \"\\uc870\\uad6d_\\ud601\\uc2e0\", \"\\uc0ac\\uc0c1\", \"\\uc560\\uad6d\", \"\\ub2f9\\uc911\\uc559\\uc704\\uc6d0\\ud68c_\\ucd94\\uc774\", \"\\ub300\\ucc45_\\uc815\\uce58\", \"\\uc55e\\uae38\", \"\\uc911\\uc559\\ub2f9\", \"\\ud6c4\\uc190\", \"\\ucd5c\\uace0\\ud68c\\uc758\", \"\\ub300\\ud45c\\uc790\", \"\\ub300\\uc678_\\uc2e4\\ucc9c\", \"\\uc7a5\\uae30_\\ubc29\\ud5a5\", \"\\ucd1d\\ub828\", \"\\uad6d\\uc801\", \"\\uc804\\ud22c_\\ud575\", \"\\ucc3d\\uac74\\uc790\", \"\\uc6b0\\ub9ac \\ub2f9\", \"\\ub85c\\ub3d9\\uc790\", \"\\uc815\\ud615\", \"\\ud589\\uc815\", \"\\ub0b4\\ubd80\", \"\\uc911\\ub300\", \"\\uc815\\uce58\\uad6d\", \"\\uc911\\uc559\\uc704\\uc6d0\\ud68c\", \"\\uc608\\ubc29\", \"\\uc0b4\\uc218\", \"\\ucc38\\uac00\", \"\\uc801\\uc9c0\", \"\\uce5c\\uc560\", \"\\uc2b9\\ub9ac\", \"\\ubd80\\ud569\", \"\\uc0ac\\uc5c5\\ubc1c\\uc804\", \"\\uc7a0\\uc218\\ud568\", \"\\uacfc\\ud559\\uc5f0\\uad6c\", \"\\uc77c\\uc2e0\", \"\\uc790\\ub825\\uac31\\uc0dd\", \"\\ub18d\\ucd0c\\uc0b4\\ub9bc\\uc9d1\", \"\\uae61\\ud328\", \"\\ucda9\\uacac\", \"\\ud655\\ucda9\", \"\\uc218\\uace0\", \"\\uc720\\ubc1c\", \"\\uacf5\\uac1c\", \"\\uc804\\uc9c4\\ubc1c\\uc804\", \"\\uc220\\ud0c4\", \"\\uc0b0\\uc18c\\ubd84\\ub9ac\\uae30\", \"\\ubd81\\ub0a8\\uad00\\uacc4_\\ub300\\ud559\", \"\\uc815\\ub2f9\\uc131\", \"\\uac15\\uc2b5\\ud68c\", \"\\ucc9c\\uc740\", \"\\ud611\\uace1\", \"\\uc131\\uc7a5\", \"\\uc720\\uc0c9\\uae08\\uc18d\", \"\\ud604\\ub300\\ud654\", \"\\uadf9\\uba85\", \"\\uc801\\uace0\\uc9c0\", \"\\ube44\\uae38\\uc218\", \"\\ub0a8\\uc870\\uc120\\uac83\\ub4e4\", \"\\ub9ac\\uc0c1\\ub3c4\", \"\\uc9c0\\uc778\", \"9.19\\ubd81\\ub0a8\\uad70\\uc0ac\\ubd84\\uc57c\\ud569\\uc758\", \"\\uac00\\uacf5\", \"\\uac00\\uae08\", \"\\uac00\\ub3d9\", \"\\uac00\\ubc29\", \"\\uac00\\uc18d\", \"\\uac01\\uae09\", \"\\uac01\\uc624\", \"\\uac01\\uc77c\", \"\\uac01\\uc9c0\", \"\\uac04\\ubd80\", \"\\uac04\\uc11d\\uc9c0_\\uc694\\uc778\", \"\\uac10\\ub3c5\", \"\\uac10\\ud589_\\uac74\\uc124\", \"\\uac15\\uacbd\", \"\\uac15\\uad6d\", \"\\uac15\\ub300\", \"\\uac15\\ub839\", \"\\uac15\\uc21c\\ub0a8\", \"\\uac15\\uc870_\\uc801\\uc9c0\", \"\\uac15\\ud589\", \"\\uac1c\\uac04\", \"\\uac1c\\uac74\", \"\\uac1c\\ub150\", \"\\uac1c\\ubc1c_\\uc545\\ud654\", \"\\uac1c\\ucc9c\", \"\\uac1c\\ud3b8\", \"\\uac1d\\uad00\", \"\\uac70\\ud589\", \"\\ubd80\\ud569\", \"\\uc0ac\\uc5c5\\ubc1c\\uc804\", \"\\uc7a0\\uc218\\ud568\", \"\\uacfc\\ud559\\uc5f0\\uad6c\", \"\\uc77c\\uc2e0\", \"\\uc790\\ub825\\uac31\\uc0dd\", \"\\ub18d\\ucd0c\\uc0b4\\ub9bc\\uc9d1\", \"\\uae61\\ud328\", \"\\ucda9\\uacac\", \"\\ud655\\ucda9\", \"\\uc218\\uace0\", \"\\uc720\\ubc1c\", \"\\uacf5\\uac1c\", \"\\uc804\\uc9c4\\ubc1c\\uc804\", \"\\uc220\\ud0c4\", \"\\uc0b0\\uc18c\\ubd84\\ub9ac\\uae30\", \"\\ubd81\\ub0a8\\uad00\\uacc4_\\ub300\\ud559\", \"\\uc815\\ub2f9\\uc131\", \"\\uac15\\uc2b5\\ud68c\", \"\\ucc9c\\uc740\", \"\\ud611\\uace1\", \"\\uc131\\uc7a5\", \"\\uc720\\uc0c9\\uae08\\uc18d\", \"\\ud604\\ub300\\ud654\", \"\\uadf9\\uba85\", \"\\uc801\\uace0\\uc9c0\", \"\\ube44\\uae38\\uc218\", \"\\ub0a8\\uc870\\uc120\\uac83\\ub4e4\", \"\\ub9ac\\uc0c1\\ub3c4\", \"\\uc9c0\\uc778\", \"9.19\\ubd81\\ub0a8\\uad70\\uc0ac\\ubd84\\uc57c\\ud569\\uc758\", \"\\uac00\\uacf5\", \"\\uac00\\uae08\", \"\\uac00\\ub3d9\", \"\\uac00\\ubc29\", \"\\uac00\\uc18d\", \"\\uac01\\uae09\", \"\\uac01\\uc624\", \"\\uac01\\uc77c\", \"\\uac01\\uc9c0\", \"\\uac04\\ubd80\", \"\\uac04\\uc11d\\uc9c0_\\uc694\\uc778\", \"\\uac10\\ub3c5\", \"\\uac10\\ud589_\\uac74\\uc124\", \"\\uac15\\uacbd\", \"\\uac15\\uad6d\", \"\\uac15\\ub300\", \"\\uac15\\ub839\", \"\\uac15\\uc21c\\ub0a8\", \"\\uac15\\uc870_\\uc801\\uc9c0\", \"\\uac15\\ud589\", \"\\uac1c\\uac04\", \"\\uac1c\\uac74\", \"\\uac1c\\ub150\", \"\\uac1c\\ubc1c_\\uc545\\ud654\", \"\\uac1c\\ucc9c\", \"\\uac1c\\ud3b8\", \"\\uac1d\\uad00\", \"\\uac70\\ud589\", \"\\uacac\\uc778_\\uc6b0\\ub9ac\", \"\\ub85c\\uc120_\\uc790\\uccb4\", \"\\uc870\\uc120\\ubbfc\\uc8fc\\uc8fc\\uc758\\uc778\\ubbfc\\uacf5\\ud654\\uad6d_\\uc758\\uc758\", \"\\uacfc\\ud559_\\uac74\\uc124\", \"\\uac15\\uc138\", \"\\uc904\\uae30\", \"\\uacbd\\uc81c\\ubc1c\\uc804\", \"\\uc54c\\uc9c0\", \"\\ub300\\ubbf8\", \"\\ubc30\\uce58_\\ucc3d\\uac74\", \"\\uc120\\uac70\", \"\\uacf5\\ud654\\uad6d\", \"\\uac15\\uc870_\\uc801\\uc9c0\", \"\\uad6d\\uac00\\uad00\\ub9ac_\\uc6b0\\ub9ac \\ub2f9\", \"\\ubc29\\uba74\", \"\\uacf5\\ud3ec\", \"\\uc5b5\\uc81c\", \"\\ubcf8\\ubd80\", \"\\ub300\\uc870\\uc120_\\uadfc\\ub85c\\ub2e8\\uccb4\\uc870\\uc9c1\", \"\\ubc1c\\uc0ac_\\ubcf4\\uac74\", \"\\uc81c\\uad6d\\uc8fc\\uc758\", \"\\uae30\\ub150\", \"\\uc804\\uba74_\\uad6c\\ucd95\", \"\\uacac\\uc9c0_\\ud601\\uba85\", \"\\uc804\\ub2f9\", \"\\uc0dd\\uc874\", \"\\ucc2c\\ud0c8\", \"\\ud48d\\ud1a0\", \"\\uc560\\uad6d\\uc6b4\\ub3d9\", \"\\ub2f9\\ucc45\", \"\\ucc38\\ubaa8\", \"\\ud601\\uc2e0\", \"\\uc704\\uc784_\\ub2f9 \\uc911\\uc559\\uc704\\uc6d0\\ud68c\", \"\\uad6d\\uac00_\\uc7a5\\uae30\", \"\\uc9c0\\uac8c_\\ub3c4\\uc804\", \"\\uc811\\ucd09\\ub3c4\", \"\\uc704\\ud6c8_\\ub2f9\\uc911\\uc559\\uc704\\uc6d0\\ud68c\", \"\\uc55e\\uae38_\\uce5c\\uc560\", \"\\uc2dd\\ub8cc\\ud488\", \"\\uc704\\ud5d8\\ucc9c\\ub9cc\", \"\\ud654\\uace0\", \"\\uc218\\uc785\\ubcd1\", \"\\ub300\\ubcc0\", \"\\uc778\\uc7ac\", \"\\uc5b4\\ub9b0\\uc774\", \"\\ub300\\ucd95\\uc804\\uc7a5\", \"\\uc9d5\\ubc8c\", \"\\ud56d\\uc804\", \"\\uc218\\ud638\\uc804\", \"\\uc815\\uce58\\uc0ac\\uc0c1\\uac15\\uad6d\", \"\\uace0\\uc815\\uaca9\\uc2dd\", \"\\uc815\\uce58\\ud6c8\\ub828\", \"\\ud1b5\\uc77c\\ud5cc\\uc7a5\", \"\\ubd84\\uc5f4\", \"\\ubc1c\\uae38\", \"\\uccb4\\uc721\\uac15\\uad6d\", \"\\ub2f5\\uc0ac\", \"\\ucc38\\uadf9\", \"\\uc7a5\\uad70_\\uc57c\\ud569\", \"\\uc7a5\\ubcf8\\uc778\", \"\\ud608\\ub9e5\", \"\\uc704\\uc131\\uacfc\\ud559\\uc790\\uc8fc\\ucc45\\uc9c0\\uad6c\", \"\\ub450\\ub9d0\", \"\\uc560\\uad6d\\uc0ac\\uc5c5\", \"\\uc874\\uc911_\\uc815\\uce58\\uc0ac\\uc0c1\\uc0ac\\uc5c5\", \"\\ud654\\ub825\", \"\\uacbd\\uc7c1\\ub825\", \"\\ud3c9\\ud654_\\uc790\\uc704\", \"\\ud654\\uc801\", \"\\ucd08\\uc18c\", \"\\ucc9c\\ud558\\uc81c\\uc77c\\uac15\\uad6d\", \"\\ub7b5\\uc790\", \"\\uc2e4\\uc6a9\\uc704\\uc131\", \"\\uc81c\\uc791\", \"\\uc8fc\\uc758\\uae30\\uce58\", \"\\ud604\\ub300\\uc801\\ubb34\\uc7a5\\uc7a5\\ube44\", \"\\uadfc\\ub85c\\uc778\\ubbfc\\ub300\\uc911\", \"\\uae34\\uc7a5_\\uae30\\ub2a5\", \"\\ub3d9\\uc0c1\", \"\\uc874\\uc5c4_\\ub300\\uc6d0\", \"\\ub9bd\\uc7a5_\\ub825\\uc0ac\\uc801\", \"\\ubc31\\ub450\\uc0b0\\ud6c8\\ub828\", \"\\ud6c8\\ub828\", \"\\uacf5\\uc6d0\", \"\\ub18d\\uc0ac_\\ubc1c\\uc0ac\", \"\\ub3c4\\uac15\", \"\\uad6d\\uc81c\", \"\\ubbfc\\uc871\\uacbd\\uc81c\", \"\\ud601\\uba85\\uc801\\ub839\\uad70\\uccb4\\uacc4\", \"\\uc720\\uc6d0\\uc9c0\", \"\\ucd1d\\ub3cc\\uaca9\\uc804\", \"\\uacfc\\ud559\\uae30\\uc220\\uc704\\uc131\", \"\\uc120\\ucc28\", \"\\ub7b5\\uc0ac\", \"\\uad11\\uba85\\uc131\", \"\\ub3d9\\uc871\\ub300\\uacb0\\uc815\\ucc45\", \"\\ub96d\\uc131\", \"\\uc218\\ub839_\\uc99d\\uc9c4\"], \"Freq\": [1.0, 1.0, 1.0, 1.0, 1.0, 1.0, 1.0, 1.0, 1.0, 1.0, 1.0, 1.0, 1.0, 1.0, 1.0, 1.0, 1.0, 1.0, 1.0, 1.0, 1.0, 1.0, 1.0, 1.0, 1.0, 1.0, 1.0, 1.0, 1.0, 1.0, 1.3704385801644627, 1.3704327937506475, 1.3704289658153546, 1.3704076896168647, 1.3704060872253467, 1.3704029714640615, 1.3703980752677565, 1.3703938022237083, 1.37038151722207, 1.3703775112432748, 1.592506720868285, 1.5922581721394844, 1.5914694394255968, 1.707529054686887, 1.5433611949660004, 1.5424200570143953, 1.6219711400152979, 1.6219319704448565, 1.540411904355267, 1.6219102491376118, 1.6218705454366644, 1.283661601634637, 1.6218174884730665, 1.2355658202201811, 1.3618508298886938, 1.3616211537711058, 1.5890172462724648, 1.5886773612271348, 1.3614778287519906, 1.6216567151907548, 1.3610470524988867, 1.3606932800604001, 1.0842979944994984, 1.084296669754244, 1.0842966000308094, 1.084294787221514, 1.084294787221514, 1.0842947174980795, 1.0842947174980795, 1.0842947174980795, 1.0842943688809072, 1.084293671646563, 1.0842932533059562, 1.0842919285607018, 1.084290673538882, 1.084290534092013, 1.0842885818358488, 1.0842883726655455, 1.084287675431201, 1.0842873268140287, 1.0842862112390776, 1.0842858626219054, 1.0842844681532167, 1.084283073684528, 1.0842807030877568, 1.084280075576847, 1.084277914150379, 1.0842774958097725, 1.0842689895507707, 1.0842631327822776, 0.20229114525008424, 0.11125989805712681, 0.008089535982363387, 0.008089535982363387, 0.008089535982363387, 0.008089535982363387, 0.008089535982363387, 0.008089535982363387, 0.008089535982363387, 0.008089535982363387, 0.008089535982363387, 0.008089535982363387, 0.008089535982363387, 0.008089535982363387, 0.008089535982363387, 0.008089535982363387, 0.008089535982363387, 0.008089535982363387, 0.008089535982363387, 0.008089535982363387, 0.008089535982363387, 0.008089535982363387, 0.008089535982363387, 0.008089535982363387, 0.008089535982363387, 0.008089535982363387, 0.008089535982363387, 0.008089535982363387, 0.008089535982363387, 0.008089535982363387, 0.008089535982363387, 0.008089535982363387, 0.008089535982363387, 0.008089535982363387, 0.008089535982363387, 0.008089535982363387, 0.008089535982363387, 0.008089535982363387, 0.008089535982363387, 0.008089535982363387, 0.008089535982363387, 0.008089535982363387, 0.008089535982363387, 0.008089535982363387, 0.008089535982363387, 0.008089535982363387, 0.008089535982363387, 0.008089535982363387, 0.008089535982363387, 0.008089535982363387, 0.008089535982363387, 0.008089535982363387, 0.008089535982363387, 0.008089535982363387, 0.008089535982363387, 0.008089535982363387, 0.008089535982363387, 0.008089535982363387, 0.008089535982363387, 0.008089535982363387, 0.008089535982363387, 0.008089535982363387, 0.008089535982363387, 0.008089535982363387, 0.008089535982363387, 0.008089535982363387, 0.008089535982363387, 0.008089535982363387, 0.008089535982363387, 0.008089535982363387, 0.008089535982363387, 0.008089535982363387, 0.008089535982363387, 0.008089535982363387, 0.008089535982363387, 0.008089535982363387, 0.008089535982363387, 0.008089535982363387, 0.008089535982363387, 0.008089535982363387, 0.008089535982363387, 0.008089535982363387, 0.008089535982363387, 0.008089535982363387, 0.008089535982363387, 0.008089535982363387, 0.008089535982363387, 0.008089535982363387, 0.008089535982363387, 0.008089535982363387, 0.008089535982363387, 0.008089535982363387, 0.008089535982363387, 0.008089535982363387, 0.008089535982363387, 0.008089535982363387, 0.008089535982363387, 0.008089535982363387, 0.008089535982363387, 0.008089535982363387, 0.008089535982363387, 0.008089535982363387, 0.008089535982363387, 0.008089535982363387, 0.008089535982363387, 0.008089535982363387, 0.008089535982363387, 0.008089535982363387, 0.008089535982363387, 0.008089535982363387, 0.008089535982363387, 0.008089535982363387, 0.008089535982363387, 0.008089535982363387, 0.008089535982363387, 0.008089535982363387, 0.008089535982363387, 0.008089535982363387, 0.008089535982363387, 0.008089535982363387, 0.05760328755388392, 0.057597520301542096, 0.05759129166901293, 0.05759019012381564, 0.05758301566190241, 0.05758285417883684, 0.05758055304515245, 0.05757865561913199, 0.05757405911901556, 0.05756892626443133, 0.047387147919313845, 0.04705156304004775, 0.04698938629255053, 0.04686353331194724, 0.0465010268987495, 0.04617356231078069, 0.045928494457019534, 0.04549418286853991, 0.04873101575824883, 0.04708015130990617, 0.046228991373037966, 0.03991191802920535, 0.040500872721978665, 0.03852605017509103, 0.03848685016092365, 0.03734480731769083, 0.025143588077943188, 0.025141886738502348, 0.025141748324446146, 0.0251401565627998, 0.0377700037638442, 0.03587880637591303, 0.03572277048017879, 0.03492964640362636, 0.13912909168363818, 0.1330508344920282, 0.13278950875391543, 0.13198317766950024, 0.13114517283522373, 0.12853624089335247, 0.12570705758454692, 0.12533613098293012, 0.12416387927193082, 0.12191272459633698, 0.12174979971768043, 0.12018399070687502, 0.11953853135928268, 0.11887402854445762, 0.11812001797328746, 0.11789221150578538, 0.1173022331257214, 0.11647759678237324, 0.11545401330224149, 0.11411533022316182, 0.11369633934052825, 0.11311446971725687, 0.11171043213463963, 0.11110022223336052, 0.10978643061538816, 0.10947400702152683, 0.1085762649874937, 0.10606211207060799, 0.10541285787097472, 0.10524120137227265, 0.11809166616077504, 0.11109356682415805, 0.11554669304737462, 0.07217442938032675, 0.07217299333449365, 0.07215743905492775, 0.05742423743767963, 0.0574192141608899, 0.05741549428312943, 0.057410684394676344, 0.05740791611355227, 0.05740772002697265, 0.05740724711228062, 0.0574071894397572, 0.05740273712094931, 0.057401710550032466, 0.057400908901956954, 0.05739936327832934, 0.057398457819711673, 0.05739773691316895, 0.05739767924064553, 0.05739729860199097, 0.05739543577948456, 0.05739521662389557, 0.05739425349275448, 0.05739306543877207, 0.05739111034022819, 0.05738951857858185, 0.057382303745902224, 0.057381167597190884, 0.05738089076907848, 0.05738084463105974, 0.05737657686432679, 0.05895747877451077], \"Total\": [1.0, 1.0, 1.0, 1.0, 1.0, 1.0, 1.0, 1.0, 1.0, 1.0, 1.0, 1.0, 1.0, 1.0, 1.0, 1.0, 1.0, 1.0, 1.0, 1.0, 1.0, 1.0, 1.0, 1.0, 1.0, 1.0, 1.0, 1.0, 1.0, 1.0, 1.386619162655871, 1.3866133762420558, 1.3866095483067629, 1.386588272108273, 1.386586669716755, 1.3865835539554698, 1.3865786577591648, 1.3865743847151166, 1.3865620997134782, 1.386558093734683, 1.6114388191463738, 1.6112878708905403, 1.6107889622515328, 1.7613289567103347, 1.6046090502991526, 1.604258180351815, 1.6871446860944612, 1.690061129538663, 1.6055898429831577, 1.690833703060196, 1.6937446294678684, 1.341992569920221, 1.697028164441362, 1.2945804454328556, 1.4293669300585643, 1.4314752922730998, 1.6709362992154821, 1.670852434757017, 1.4325495091976241, 1.7066207780002172, 1.436330222829119, 1.4392974361428872, 1.100478579619432, 1.1004772548741777, 1.100477185150743, 1.1004753723414478, 1.1004753723414478, 1.1004753026180132, 1.1004753026180132, 1.1004753026180132, 1.100474954000841, 1.1004742567664967, 1.1004738384258899, 1.1004725136806355, 1.1004712586588157, 1.1004711192119467, 1.1004691669557825, 1.1004689577854792, 1.1004682605511347, 1.1004679119339624, 1.1004667963590113, 1.100466447741839, 1.1004650532731504, 1.1004636588044616, 1.1004612882076905, 1.1004606606967806, 1.1004584992703128, 1.1004580809297062, 1.1004495746707044, 1.1004437179022113, 0.22320807380503915, 0.13259586327228076, 0.026633599299319563, 0.026645498239910137, 0.026668669302017098, 0.02668183638303472, 0.026711518433929438, 0.026727978175704804, 0.026733736568582595, 0.0267423863984525, 0.02674615268426087, 0.02674689938340592, 0.026747583725170634, 0.02675401023086122, 0.02675895723860123, 0.02676676815274652, 0.02678460659450394, 0.026792562392956423, 0.026795004513809204, 0.02679548682876819, 0.026799579435338304, 0.026805520661188145, 0.026807280462989854, 0.02680798584957554, 0.026809457060312833, 0.026815401438323946, 0.026816636214059, 0.026820250704344323, 0.026821086136226153, 0.026822702950007233, 0.02682654076086636, 0.026831221490284485, 0.02729054581334146, 0.03806795640134629, 0.02709929157127313, 0.03752861544483875, 0.03704924282760927, 0.026996112222827905, 0.04899133907762438, 0.10769120818875064, 0.02712804304562237, 0.026970252466272288, 0.05576016648176484, 0.03762799681754933, 0.026918206536221338, 0.03522165501265757, 0.042047472083434914, 0.02710347092206851, 0.043966910443580996, 0.04263265107509631, 0.02686403418827663, 0.06473020982470917, 0.02726969779047607, 0.055779886257771485, 0.03744044440524331, 0.02726189324374574, 0.026928048988302006, 0.027144783340728132, 0.02711275658142332, 0.03689767917245305, 0.027051260121592438, 0.026633599299319563, 0.026645498239910137, 0.026668669302017098, 0.02668183638303472, 0.026711518433929438, 0.026727978175704804, 0.026733736568582595, 0.0267423863984525, 0.02674615268426087, 0.02674689938340592, 0.026747583725170634, 0.02675401023086122, 0.02675895723860123, 0.02676676815274652, 0.02678460659450394, 0.026792562392956423, 0.026795004513809204, 0.02679548682876819, 0.026799579435338304, 0.026805520661188145, 0.026807280462989854, 0.02680798584957554, 0.026809457060312833, 0.026815401438323946, 0.026816636214059, 0.026820250704344323, 0.026821086136226153, 0.026822702950007233, 0.02682654076086636, 0.026831221490284485, 0.02729054581334146, 0.03806795640134629, 0.02709929157127313, 0.03752861544483875, 0.03704924282760927, 0.026996112222827905, 0.04899133907762438, 0.10769120818875064, 0.02712804304562237, 0.026970252466272288, 0.05576016648176484, 0.03762799681754933, 0.026918206536221338, 0.03522165501265757, 0.042047472083434914, 0.02710347092206851, 0.043966910443580996, 0.04263265107509631, 0.02686403418827663, 0.06473020982470917, 0.02726969779047607, 0.055779886257771485, 0.03744044440524331, 0.02726189324374574, 0.026928048988302006, 0.027144783340728132, 0.02711275658142332, 0.03689767917245305, 0.027051260121592438, 0.0737838683338438, 0.07377810108150198, 0.07377187244897282, 0.07377077090377553, 0.0737635964418623, 0.07376343495879673, 0.07376113382511233, 0.07375923639909188, 0.07375463989897545, 0.07374950704439122, 0.0649609570701443, 0.06476572281865907, 0.06473020982470917, 0.06466044960439275, 0.06444495251666219, 0.06423895032808115, 0.0641013380565987, 0.06383617200031089, 0.06851383305833986, 0.06721337598585474, 0.06652857507413497, 0.06297531760105222, 0.06392672109965435, 0.06206892047373655, 0.06256797086591809, 0.060919379520551646, 0.04132416885790308, 0.04132246751846224, 0.04132232910440604, 0.04132073734275969, 0.06208437138316099, 0.06079398868897191, 0.060687886230025856, 0.06014611925983511, 0.17188278721599198, 0.1658881353582225, 0.1656370846775263, 0.16484323750272445, 0.1640140263482892, 0.16144256004490654, 0.15865081038239778, 0.1582859775978301, 0.15713347758783464, 0.1549170427860969, 0.1547525043882034, 0.15321367314084652, 0.15257262732475313, 0.15192126912784962, 0.15117557930846853, 0.15095275666805777, 0.15037291563988925, 0.1495574081989135, 0.14854661881355874, 0.14723136375560633, 0.1468191552176273, 0.14624644927084982, 0.14486017291852257, 0.14425759802335683, 0.1429609528292066, 0.14265755520631807, 0.1417786927383219, 0.13929638039803324, 0.13866094543427834, 0.13849026261097788, 0.1628961317608266, 0.15595646373770938, 0.962169932270242, 0.0883550040064914, 0.0883535679606583, 0.0883380136810924, 0.07360481206384428, 0.07359978878705455, 0.07359606890929407, 0.07359125902084099, 0.0735884907397169, 0.07358829465313729, 0.07358782173844526, 0.07358776406592185, 0.07358331174711395, 0.07358228517619711, 0.0735814835281216, 0.07357993790449399, 0.07357903244587632, 0.07357831153933359, 0.07357825386681018, 0.07357787322815562, 0.0735760104056492, 0.07357579125006022, 0.07357482811891913, 0.07357364006493672, 0.07357168496639283, 0.0735700932047465, 0.07356287837206688, 0.07356174222335553, 0.07356146539524312, 0.07356141925722438, 0.07355715149049144, 0.07744802505481535], \"Category\": [\"Default\", \"Default\", \"Default\", \"Default\", \"Default\", \"Default\", \"Default\", \"Default\", \"Default\", \"Default\", \"Default\", \"Default\", \"Default\", \"Default\", \"Default\", \"Default\", \"Default\", \"Default\", \"Default\", \"Default\", \"Default\", \"Default\", \"Default\", \"Default\", \"Default\", \"Default\", \"Default\", \"Default\", \"Default\", \"Default\", \"Topic1\", \"Topic1\", \"Topic1\", \"Topic1\", \"Topic1\", \"Topic1\", \"Topic1\", \"Topic1\", \"Topic1\", \"Topic1\", \"Topic1\", \"Topic1\", \"Topic1\", \"Topic1\", \"Topic1\", \"Topic1\", \"Topic1\", \"Topic1\", \"Topic1\", \"Topic1\", \"Topic1\", \"Topic1\", \"Topic1\", \"Topic1\", \"Topic1\", \"Topic1\", \"Topic1\", \"Topic1\", \"Topic1\", \"Topic1\", \"Topic1\", \"Topic1\", \"Topic2\", \"Topic2\", \"Topic2\", \"Topic2\", \"Topic2\", \"Topic2\", \"Topic2\", \"Topic2\", \"Topic2\", \"Topic2\", \"Topic2\", \"Topic2\", \"Topic2\", \"Topic2\", \"Topic2\", \"Topic2\", \"Topic2\", \"Topic2\", \"Topic2\", \"Topic2\", \"Topic2\", \"Topic2\", \"Topic2\", \"Topic2\", \"Topic2\", \"Topic2\", \"Topic2\", \"Topic2\", \"Topic2\", \"Topic2\", \"Topic3\", \"Topic3\", \"Topic3\", \"Topic3\", \"Topic3\", \"Topic3\", \"Topic3\", \"Topic3\", \"Topic3\", \"Topic3\", \"Topic3\", \"Topic3\", \"Topic3\", \"Topic3\", \"Topic3\", \"Topic3\", \"Topic3\", \"Topic3\", \"Topic3\", \"Topic3\", \"Topic3\", \"Topic3\", \"Topic3\", \"Topic3\", \"Topic3\", \"Topic3\", \"Topic3\", \"Topic3\", \"Topic3\", \"Topic3\", \"Topic3\", \"Topic3\", \"Topic3\", \"Topic3\", \"Topic3\", \"Topic3\", \"Topic3\", \"Topic3\", \"Topic3\", \"Topic3\", \"Topic3\", \"Topic3\", \"Topic3\", \"Topic3\", \"Topic3\", \"Topic3\", \"Topic3\", \"Topic3\", \"Topic3\", \"Topic3\", \"Topic3\", \"Topic3\", \"Topic3\", \"Topic3\", \"Topic3\", \"Topic3\", \"Topic3\", \"Topic3\", \"Topic3\", \"Topic4\", \"Topic4\", \"Topic4\", \"Topic4\", \"Topic4\", \"Topic4\", \"Topic4\", \"Topic4\", \"Topic4\", \"Topic4\", \"Topic4\", \"Topic4\", \"Topic4\", \"Topic4\", \"Topic4\", \"Topic4\", \"Topic4\", \"Topic4\", \"Topic4\", \"Topic4\", \"Topic4\", \"Topic4\", \"Topic4\", \"Topic4\", \"Topic4\", \"Topic4\", \"Topic4\", \"Topic4\", \"Topic4\", \"Topic4\", \"Topic4\", \"Topic4\", \"Topic4\", \"Topic4\", \"Topic4\", \"Topic4\", \"Topic4\", \"Topic4\", \"Topic4\", \"Topic4\", \"Topic4\", \"Topic4\", \"Topic4\", \"Topic4\", \"Topic4\", \"Topic4\", \"Topic4\", \"Topic4\", \"Topic4\", \"Topic4\", \"Topic4\", \"Topic4\", \"Topic4\", \"Topic4\", \"Topic4\", \"Topic4\", \"Topic4\", \"Topic4\", \"Topic4\", \"Topic5\", \"Topic5\", \"Topic5\", \"Topic5\", \"Topic5\", \"Topic5\", \"Topic5\", \"Topic5\", \"Topic5\", \"Topic5\", \"Topic5\", \"Topic5\", \"Topic5\", \"Topic5\", \"Topic5\", \"Topic5\", \"Topic5\", \"Topic5\", \"Topic5\", \"Topic5\", \"Topic5\", \"Topic5\", \"Topic5\", \"Topic5\", \"Topic5\", \"Topic5\", \"Topic5\", \"Topic5\", \"Topic5\", \"Topic5\", \"Topic5\", \"Topic5\", \"Topic5\", \"Topic5\", \"Topic6\", \"Topic6\", \"Topic6\", \"Topic6\", \"Topic6\", \"Topic6\", \"Topic6\", \"Topic6\", \"Topic6\", \"Topic6\", \"Topic6\", \"Topic6\", \"Topic6\", \"Topic6\", \"Topic6\", \"Topic6\", \"Topic6\", \"Topic6\", \"Topic6\", \"Topic6\", \"Topic6\", \"Topic6\", \"Topic6\", \"Topic6\", \"Topic6\", \"Topic6\", \"Topic6\", \"Topic6\", \"Topic6\", \"Topic6\", \"Topic6\", \"Topic6\", \"Topic6\", \"Topic7\", \"Topic7\", \"Topic7\", \"Topic7\", \"Topic7\", \"Topic7\", \"Topic7\", \"Topic7\", \"Topic7\", \"Topic7\", \"Topic7\", \"Topic7\", \"Topic7\", \"Topic7\", \"Topic7\", \"Topic7\", \"Topic7\", \"Topic7\", \"Topic7\", \"Topic7\", \"Topic7\", \"Topic7\", \"Topic7\", \"Topic7\", \"Topic7\", \"Topic7\", \"Topic7\", \"Topic7\", \"Topic7\", \"Topic7\", \"Topic7\"], \"logprob\": [30.0, 29.0, 28.0, 27.0, 26.0, 25.0, 24.0, 23.0, 22.0, 21.0, 20.0, 19.0, 18.0, 17.0, 16.0, 15.0, 14.0, 13.0, 12.0, 11.0, 10.0, 9.0, 8.0, 7.0, 6.0, 5.0, 4.0, 3.0, 2.0, 1.0, -4.2449, -4.2449, -4.2449, -4.2449, -4.2449, -4.2449, -4.2449, -4.2449, -4.2449, -4.2449, -4.0947, -4.0949, -4.0954, -4.025, -4.1261, -4.1267, -4.0764, -4.0764, -4.128, -4.0764, -4.0765, -4.3103, -4.0765, -4.3485, -4.2512, -4.2514, -4.0969, -4.0971, -4.2515, -4.0766, -4.2518, -4.252, -3.5416, -3.5416, -3.5416, -3.5416, -3.5416, -3.5416, -3.5416, -3.5416, -3.5416, -3.5416, -3.5416, -3.5416, -3.5416, -3.5416, -3.5416, -3.5416, -3.5416, -3.5416, -3.5416, -3.5416, -3.5416, -3.5416, -3.5416, -3.5416, -3.5416, -3.5416, -3.5416, -3.5416, -5.2206, -5.8184, -8.0268, -8.0268, -8.0268, -8.0268, -8.0268, -8.0268, -8.0268, -8.0268, -8.0268, -8.0268, -8.0268, -8.0268, -8.0268, -8.0268, -8.0268, -8.0268, -8.0268, -8.0268, -8.0268, -8.0268, -8.0268, -8.0268, -8.0268, -8.0268, -8.0268, -8.0268, -8.0268, -8.0268, -8.0268, -8.0268, -8.0268, -8.0268, -8.0268, -8.0268, -8.0268, -8.0268, -8.0268, -8.0268, -8.0268, -8.0268, -8.0268, -8.0268, -8.0268, -8.0268, -8.0268, -8.0268, -8.0268, -8.0268, -8.0268, -8.0268, -8.0268, -8.0268, -8.0268, -8.0268, -8.0268, -8.0268, -8.0268, -8.0268, -8.0268, -8.0268, -8.0268, -8.0268, -8.0268, -8.0268, -8.0268, -8.0268, -8.0268, -8.0268, -8.0268, -8.0268, -8.0268, -8.0268, -8.0268, -8.0268, -8.0268, -8.0268, -8.0268, -8.0268, -8.0268, -8.0268, -8.0268, -8.0268, -8.0268, -8.0268, -8.0268, -8.0268, -8.0268, -8.0268, -8.0268, -8.0268, -8.0268, -8.0268, -8.0268, -8.0268, -8.0268, -8.0268, -8.0268, -8.0268, -8.0268, -8.0268, -8.0268, -8.0268, -8.0268, -8.0268, -8.0268, -8.0268, -8.0268, -8.0268, -8.0268, -8.0268, -8.0268, -8.0268, -8.0268, -8.0268, -8.0268, -8.0268, -8.0268, -8.0268, -6.0638, -6.0639, -6.064, -6.064, -6.0642, -6.0642, -6.0642, -6.0642, -6.0643, -6.0644, -6.259, -6.2662, -6.2675, -6.2702, -6.2779, -6.285, -6.2903, -6.2998, -6.2311, -6.2655, -6.2838, -6.4307, -6.4161, -6.4661, -6.4671, -6.4972, -6.8928, -6.8929, -6.8929, -6.8929, -6.4859, -6.5372, -6.5416, -6.5641, -5.182, -5.2267, -5.2286, -5.2347, -5.2411, -5.2612, -5.2834, -5.2864, -5.2958, -5.3141, -5.3154, -5.3284, -5.3338, -5.3393, -5.3457, -5.3476, -5.3526, -5.3597, -5.3685, -5.3802, -5.3839, -5.389, -5.4015, -5.407, -5.4189, -5.4217, -5.4299, -5.4534, -5.4595, -5.4611, -5.3459, -5.407, -5.3677, -5.8383, -5.8383, -5.8385, -6.0669, -6.067, -6.0671, -6.0672, -6.0672, -6.0672, -6.0672, -6.0672, -6.0673, -6.0673, -6.0673, -6.0674, -6.0674, -6.0674, -6.0674, -6.0674, -6.0674, -6.0674, -6.0675, -6.0675, -6.0675, -6.0675, -6.0677, -6.0677, -6.0677, -6.0677, -6.0678, -6.0406], \"loglift\": [30.0, 29.0, 28.0, 27.0, 26.0, 25.0, 24.0, 23.0, 22.0, 21.0, 20.0, 19.0, 18.0, 17.0, 16.0, 15.0, 14.0, 13.0, 12.0, 11.0, 10.0, 9.0, 8.0, 7.0, 6.0, 5.0, 4.0, 3.0, 2.0, 1.0, 0.9768, 0.9768, 0.9768, 0.9768, 0.9768, 0.9768, 0.9768, 0.9768, 0.9768, 0.9768, 0.9767, 0.9767, 0.9765, 0.9575, 0.9496, 0.9492, 0.9491, 0.9474, 0.9471, 0.9469, 0.9452, 0.9441, 0.9432, 0.9419, 0.9402, 0.9385, 0.9383, 0.9381, 0.9377, 0.9375, 0.9347, 0.9324, 1.9112, 1.9112, 1.9112, 1.9112, 1.9112, 1.9112, 1.9112, 1.9112, 1.9112, 1.9112, 1.9112, 1.9112, 1.9112, 1.9112, 1.9112, 1.9112, 1.9112, 1.9112, 1.9112, 1.9112, 1.9112, 1.9112, 1.9112, 1.9112, 1.9112, 1.9112, 1.9112, 1.9112, 1.8276, 1.7506, 1.1473, 1.1469, 1.146, 1.1455, 1.1444, 1.1438, 1.1436, 1.1433, 1.1431, 1.1431, 1.1431, 1.1428, 1.1426, 1.1423, 1.1417, 1.1414, 1.1413, 1.1413, 1.1411, 1.1409, 1.1408, 1.1408, 1.1407, 1.1405, 1.1405, 1.1403, 1.1403, 1.1403, 1.1401, 1.1399, 1.123, 0.7901, 1.13, 0.8044, 0.8173, 1.1338, 0.5379, -0.2498, 1.1289, 1.1348, 0.4084, 0.8018, 1.1367, 0.8678, 0.6907, 1.1298, 0.6461, 0.6769, 1.1387, 0.2593, 1.1237, 0.4081, 0.8067, 1.124, 1.1363, 1.1283, 1.1295, 0.8214, 1.1318, 1.1473, 1.1469, 1.146, 1.1455, 1.1444, 1.1438, 1.1436, 1.1433, 1.1431, 1.1431, 1.1431, 1.1428, 1.1426, 1.1423, 1.1417, 1.1414, 1.1413, 1.1413, 1.1411, 1.1409, 1.1408, 1.1408, 1.1407, 1.1405, 1.1405, 1.1403, 1.1403, 1.1403, 1.1401, 1.1399, 1.123, 0.7901, 1.13, 0.8044, 0.8173, 1.1338, 0.5379, -0.2498, 1.1289, 1.1348, 0.4084, 0.8018, 1.1367, 0.8678, 0.6907, 1.1298, 0.6461, 0.6769, 1.1387, 0.2593, 1.1237, 0.4081, 0.8067, 1.124, 1.1363, 1.1283, 1.1295, 0.8214, 1.1318, 2.0914, 2.0913, 2.0913, 2.0913, 2.0913, 2.0913, 2.0913, 2.0913, 2.0913, 2.0912, 2.0235, 2.0194, 2.0186, 2.017, 2.0126, 2.0087, 2.0055, 2.0002, 1.9982, 1.9829, 1.9749, 1.8829, 1.8825, 1.862, 1.853, 1.8496, 1.8421, 1.8421, 1.8421, 1.842, 1.842, 1.8116, 1.809, 1.7955, 2.1275, 2.1183, 2.1179, 2.1166, 2.1153, 2.111, 2.1062, 2.1055, 2.1034, 2.0993, 2.0991, 2.0961, 2.0949, 2.0936, 2.0922, 2.0917, 2.0906, 2.0889, 2.0869, 2.0841, 2.0833, 2.082, 2.0791, 2.0778, 2.0749, 2.0742, 2.0721, 2.0664, 2.0648, 2.0644, 2.0173, 1.9997, 0.2194, 2.1367, 2.1366, 2.1366, 2.0907, 2.0907, 2.0907, 2.0906, 2.0906, 2.0906, 2.0906, 2.0906, 2.0906, 2.0906, 2.0906, 2.0906, 2.0906, 2.0906, 2.0906, 2.0906, 2.0906, 2.0906, 2.0906, 2.0906, 2.0906, 2.0906, 2.0905, 2.0905, 2.0905, 2.0905, 2.0905, 2.0661]}, \"token.table\": {\"Topic\": [1, 1, 1, 1, 1, 2, 2, 1, 1, 1, 2, 2, 2, 2, 1, 2, 1, 2, 1, 1, 2, 1, 1, 2, 2, 1, 2, 1, 1, 2, 1, 1, 1, 2, 2, 2, 1, 2, 2, 1, 1, 2, 1, 1, 2, 2, 2, 1, 2, 2, 1, 1, 2, 2, 1, 1, 2, 1, 1, 1, 2], \"Freq\": [0.7212103153258498, 1.1854347860525, 0.7211785520723966, 1.0393174495075916, 0.721199619223975, 0.9087017210557106, 0.9087067299644511, 0.7212082316447578, 1.2466821266645487, 1.246409522386237, 0.9086982090951573, 0.9086994757007518, 0.9086982090951573, 0.9086991302625121, 0.7211954519974398, 0.9087043694373604, 0.6962187274945133, 0.908696654629481, 0.6980561534380082, 1.196993796936262, 0.9087124873990333, 0.721181561590124, 0.7451606084968474, 0.9086982666680624, 0.9086967122021892, 0.6985799932404407, 0.908712141950901, 1.2416275793226412, 0.7212018417644852, 0.9087040815690419, 1.1833891479096625, 0.7211970725798145, 0.699610421208659, 0.908700569590243, 0.9087243479442199, 0.9087033331122676, 1.1969337196989591, 0.9087098389700643, 0.9087052906172051, 0.6947834234179268, 1.1785308234164587, 0.9086955607494154, 0.7211946185579119, 0.7724510311644947, 0.908707881445531, 0.9086982666680624, 0.9087103571397348, 0.7211835525156557, 0.908719511568022, 0.9087035058329522, 1.1828484352897934, 1.1355062280560215, 0.9087016059090324, 0.9086985545326967, 1.2456481390565073, 1.2412431298788484, 0.9087055784862895, 1.2411268589517153, 1.1808155522408057, 1.171906510093917, 0.9086982666680624], \"Term\": [\"\\uac15\\uc131\\uad6d\\uac00\", \"\\uac15\\uc790\", \"\\uac74\\uac15_\\uacf5\\uc5c5\", \"\\uacbd\\uc7c1\\ub825\", \"\\uad00\\uacc4\\uac1c\\uc120\", \"\\uad6d\\uc801\", \"\\ub0b4\\ubd80\", \"\\ub0b4\\ubd80\\uc608\\ube44\", \"\\ub18d\\ubc95\", \"\\ub2e8\\uacc4_\\uc804\\uac1c\", \"\\ub2f9\\uc911\\uc559\\uc704\\uc6d0\\ud68c_\\ucd94\\uc774\", \"\\ub300\\uc678_\\uc2e4\\ucc9c\", \"\\ub300\\ucc45_\\uc815\\uce58\", \"\\ub300\\ud45c\\uc790\", \"\\ub3d9\\uc791\", \"\\ub85c\\ub3d9\\uc790\", \"\\ubc1c\\ub3d9_\\uc6b0\\ub9ac \\ub2f9\", \"\\uc0ac\\uc0c1\", \"\\uc0b0\\uacfc\\uc218\", \"\\uc0b0\\ub9bc_\\uc2e4\\uc99d\", \"\\uc0b4\\uc218\", \"\\uc120\\ub3d9\", \"\\uc544\\ub984\", \"\\uc55e\\uae38\", \"\\uc560\\uad6d\", \"\\uc601\\uad70\", \"\\uc608\\ubc29\", \"\\uc639\\uc704\", \"\\uc6a9\\ub0a9\", \"\\uc6b0\\ub9ac \\ub2f9\", \"\\uc778\\uc0ac\", \"\\uc77c\\ucd09\\uc989\\ubc1c\", \"\\uc790\\uc704_\\uc120\\ud589\", \"\\uc7a5\\uae30_\\ubc29\\ud5a5\", \"\\uc801\\uc9c0\", \"\\uc804\\ud22c_\\ud575\", \"\\uc815\\ucc45_\\ub2e8\\ud569\", \"\\uc815\\uce58\\uad6d\", \"\\uc815\\ud615\", \"\\uc81c\\uad6d\\uc8fc\\uc758_\\uc601\\uc608\", \"\\uc81c\\ud488_\\uc9c0\\uc5ed_\\uc804\\ud22c_\\ud575\", \"\\uc870\\uad6d_\\ud601\\uc2e0\", \"\\uc870\\uad6d\\ud1b5\\uc77c3\\ub300\\uc6d0\\uce59\", \"\\uc900\\ube44_\\ub300\\ud68c\", \"\\uc911\\ub300\", \"\\uc911\\uc559\\ub2f9\", \"\\uc911\\uc559\\uc704\\uc6d0\\ud68c\", \"\\uc9c4\\uad70_\\uad70\\ub300\", \"\\ucc38\\uac00\", \"\\ucc3d\\uac74\\uc790\", \"\\uccad\\ucc9c\\uac15\\uacc4\\ub2e8\\uc2dd\\ubc1c\\uc804\\uc18c\", \"\\uccad\\ud0c1\", \"\\ucd1d\\ub828\", \"\\ucd5c\\uace0\\ud68c\\uc758\", \"\\ucd94\\uad6c\", \"\\ud544\\uc2b9\\ubd88\\ud328\", \"\\ud589\\uc815\", \"\\ud601\\uba85_\\uc874\\uc5c4\", \"\\ud604\\ub300\\ud654_\\uc804\\ub2f9\", \"\\ud655\\ub300_\\uae30\\uc220\", \"\\ud6c4\\uc190\"]}, \"R\": 30, \"lambda.step\": 0.01, \"plot.opts\": {\"xlab\": \"PC1\", \"ylab\": \"PC2\"}, \"topic.order\": [2, 6, 1, 3, 4, 5, 7]};\n",
       "\n",
       "function LDAvis_load_lib(url, callback){\n",
       "  var s = document.createElement('script');\n",
       "  s.src = url;\n",
       "  s.async = true;\n",
       "  s.onreadystatechange = s.onload = callback;\n",
       "  s.onerror = function(){console.warn(\"failed to load library \" + url);};\n",
       "  document.getElementsByTagName(\"head\")[0].appendChild(s);\n",
       "}\n",
       "\n",
       "if(typeof(LDAvis) !== \"undefined\"){\n",
       "   // already loaded: just create the visualization\n",
       "   !function(LDAvis){\n",
       "       new LDAvis(\"#\" + \"ldavis_el9002050654647846470717277\", ldavis_el9002050654647846470717277_data);\n",
       "   }(LDAvis);\n",
       "}else if(typeof define === \"function\" && define.amd){\n",
       "   // require.js is available: use it to load d3/LDAvis\n",
       "   require.config({paths: {d3: \"https://d3js.org/d3.v5\"}});\n",
       "   require([\"d3\"], function(d3){\n",
       "      window.d3 = d3;\n",
       "      LDAvis_load_lib(\"https://cdn.jsdelivr.net/gh/bmabey/pyLDAvis@3.4.0/pyLDAvis/js/ldavis.v3.0.0.js\", function(){\n",
       "        new LDAvis(\"#\" + \"ldavis_el9002050654647846470717277\", ldavis_el9002050654647846470717277_data);\n",
       "      });\n",
       "    });\n",
       "}else{\n",
       "    // require.js not available: dynamically load d3 & LDAvis\n",
       "    LDAvis_load_lib(\"https://d3js.org/d3.v5.js\", function(){\n",
       "         LDAvis_load_lib(\"https://cdn.jsdelivr.net/gh/bmabey/pyLDAvis@3.4.0/pyLDAvis/js/ldavis.v3.0.0.js\", function(){\n",
       "                 new LDAvis(\"#\" + \"ldavis_el9002050654647846470717277\", ldavis_el9002050654647846470717277_data);\n",
       "            })\n",
       "         });\n",
       "}\n",
       "</script>"
      ],
      "text/plain": [
       "<IPython.core.display.HTML object>"
      ]
     },
     "execution_count": 760,
     "metadata": {},
     "output_type": "execute_result"
    }
   ],
   "source": [
    "from gensim.models import Phrases\n",
    "from gensim.models.phrases import Phraser\n",
    "from striprtf.striprtf import rtf_to_text\n",
    "import pandas as pd\n",
    "from gensim import corpora\n",
    "from gensim.models.ldamodel import LdaModel\n",
    "from gensim.models import CoherenceModel\n",
    "from gensim.models.tfidfmodel import TfidfModel\n",
    "import pyLDAvis.gensim_models as gensimvis\n",
    "import pyLDAvis\n",
    "\n",
    "# 문서-단어 행렬 불러오기\n",
    "file_path = '/Users/Desktop/Project2/doc_word_freq(동의어X).xlsx'  # 엑셀 파일 경로를 지정하세요\n",
    "doc_term_matrix = pd.read_excel(file_path, index_col=0)\n",
    "\n",
    "# Gensim의 Dictionary 및 Corpus로 변환\n",
    "terms = list(doc_term_matrix.columns)\n",
    "\n",
    "# RTF 파일에서 텍스트 추출\n",
    "with open('remove_words.rtf', 'r', encoding='utf-8') as f:\n",
    "    rtf_content = f.read()\n",
    "plain_text = rtf_to_text(rtf_content)  # 텍스트만 추출\n",
    "remove_words = set([word.strip() for word in plain_text.splitlines() if word.strip()])  # 지울 단어 리스트 생성\n",
    "\n",
    "# documents에서 제거할 단어들 처리\n",
    "documents = [[(terms[i], int(freq)) for i, freq in enumerate(doc) if freq > 0 and terms[i].strip() not in remove_words] \n",
    "             for doc in doc_term_matrix.values]\n",
    "\n",
    "# 토큰화된 단어들 불러오기\n",
    "documents_words = [[term for term, freq in doc] for doc in documents]\n",
    "\n",
    "# 단어묶음들(1)-2개의 조합으로 최소 2번 이상 등장하는 단어 조합만 사용\n",
    "bigram = Phrases(documents_words, min_count=2, threshold=6)  \n",
    "bigram_mod = Phraser(bigram)\n",
    "\n",
    "# 단어묶음들(2)-3개의 조합으로 최소 2번 이상 등장하는 단어 조합만 사용\n",
    "trigram = Phrases(bigram[documents_words], min_count=2, threshold=6)\n",
    "trigram_mod = Phraser(trigram)\n",
    "\n",
    "# bi-gram과 tri-gram을 적용한 문서 생성\n",
    "documents_bigrams = [bigram_mod[doc] for doc in documents_words]  # bi-gram 적용\n",
    "documents_trigrams = [trigram_mod[bigram_mod[doc]] for doc in documents_words]  # bi-gram에 이어 tri-gram 적용\n",
    "\n",
    "# Gensim의 Dictionary 생성\n",
    "dictionary = corpora.Dictionary(documents_trigrams)\n",
    "# 빈도 필터링\n",
    "dictionary.filter_extremes(no_below=1, no_above=0.95)\n",
    "# Bag-of-Words 생성\n",
    "corpus = [dictionary.doc2bow(doc) for doc in documents_trigrams]\n",
    "\n",
    "# TF-IDF 모델 적용\n",
    "tfidf_model = TfidfModel(corpus)\n",
    "corpus_tfidf = tfidf_model[corpus]\n",
    "\n",
    "# LDA 모델 (TF-IDF 적용)\n",
    "num_topics = 7  # 토픽 수\n",
    "lda_model_tfidf = LdaModel(\n",
    "    corpus=corpus_tfidf,\n",
    "    id2word=dictionary,\n",
    "    num_topics=num_topics,\n",
    "    random_state=42,\n",
    "    passes=8,\n",
    "    alpha=0.01, \n",
    "    eta=0.000000001\n",
    ")\n",
    "\n",
    "# 전체 문서에 대한 Coherence Score\n",
    "coherence_model_tfidf = CoherenceModel(\n",
    "    model=lda_model_tfidf, \n",
    "    texts=documents_trigrams,  # documents_trigrams로 수정\n",
    "    dictionary=dictionary, \n",
    "    coherence='c_v'\n",
    ")\n",
    "overall_coherence_tfidf = coherence_model_tfidf.get_coherence()\n",
    "print(f\"Overall Coherence Score (TF-IDF): {overall_coherence_tfidf}\")\n",
    "\n",
    "# 각 문서별 토픽 분포 저장\n",
    "doc_topic_distributions = []\n",
    "for i, doc_bow in enumerate(corpus_tfidf):\n",
    "    doc_topics = lda_model_tfidf.get_document_topics(doc_bow, minimum_probability=0)\n",
    "    doc_topic_distributions.append([topic_prob for _, topic_prob in doc_topics])\n",
    "\n",
    "# 각 문서별 토픽 분포를 DataFrame에 저장\n",
    "df = pd.DataFrame(doc_topic_distributions, columns=[f\"Topic {i}\" for i in range(num_topics)])\n",
    "df['Document'] = doc_term_matrix.index\n",
    "\n",
    "# DataFrame을 Excel로 저장\n",
    "df.to_excel('doc_topic_distributions.xlsx', index=False)\n",
    "\n",
    "# LDA 모델 시각화\n",
    "lda_vis_tfidf = gensimvis.prepare(lda_model_tfidf, corpus_tfidf, dictionary)\n",
    "pyLDAvis.save_html(lda_vis_tfidf, 'lda_visualization_tfidf.html')\n",
    "pyLDAvis.display(lda_vis_tfidf)\n"
   ]
  },
  {
   "cell_type": "markdown",
   "metadata": {},
   "source": [
    "## TF-IDF 적용 X\n",
    "-> TF-IDF 적용한 것에 비해 결과가 좋지 않다."
   ]
  },
  {
   "cell_type": "code",
   "execution_count": 761,
   "metadata": {},
   "outputs": [
    {
     "name": "stdout",
     "output_type": "stream",
     "text": [
      "Overall Coherence Score: 0.3739851995951227\n"
     ]
    },
    {
     "data": {
      "text/html": [
       "\n",
       "<link rel=\"stylesheet\" type=\"text/css\" href=\"https://cdn.jsdelivr.net/gh/bmabey/pyLDAvis@3.4.0/pyLDAvis/js/ldavis.v1.0.0.css\">\n",
       "\n",
       "\n",
       "<div id=\"ldavis_el9002050654647841322182964\" style=\"background-color:white;\"></div>\n",
       "<script type=\"text/javascript\">\n",
       "\n",
       "var ldavis_el9002050654647841322182964_data = {\"mdsDat\": {\"x\": [0.328247164516241, -0.03668851115682517, -0.11197383153124311, -0.1119738315312431, -0.20154494455049446, 0.33564880328317875, -0.20171484902961312], \"y\": [-0.05971310990107167, 0.44402534456686754, -0.07673446775154584, -0.0767344677515459, -0.06950830527597515, -0.05181952344492775, -0.10951547044180196], \"topics\": [1, 2, 3, 4, 5, 6, 7], \"cluster\": [1, 1, 1, 1, 1, 1, 1], \"Freq\": [37.21201503954607, 14.572559300422345, 9.643085132006316, 9.643085132006316, 9.643085132006316, 9.643085132006316, 9.643085132006316]}, \"tinfo\": {\"Term\": [\"\\uc870\\uad6d_\\ud601\\uc2e0\", \"\\uc0ac\\uc0c1\", \"\\uc560\\uad6d\", \"\\ub300\\ucc45_\\uc815\\uce58\", \"\\ub2f9\\uc911\\uc559\\uc704\\uc6d0\\ud68c_\\ucd94\\uc774\", \"\\ud6c4\\uc190\", \"\\uc911\\uc559\\ub2f9\", \"\\uc55e\\uae38\", \"\\ucd5c\\uace0\\ud68c\\uc758\", \"\\ub300\\ud45c\\uc790\", \"\\ub300\\uc678_\\uc2e4\\ucc9c\", \"\\uc7a5\\uae30_\\ubc29\\ud5a5\", \"\\ucd1d\\ub828\", \"\\uad6d\\uc801\", \"\\uc804\\ud22c_\\ud575\", \"\\ucc3d\\uac74\\uc790\", \"\\uc6b0\\ub9ac \\ub2f9\", \"\\ub85c\\ub3d9\\uc790\", \"\\uc815\\ud615\", \"\\ud589\\uc815\", \"\\ub0b4\\ubd80\", \"\\uc911\\ub300\", \"\\uc815\\uce58\\uad6d\", \"\\uc911\\uc559\\uc704\\uc6d0\\ud68c\", \"\\uc608\\ubc29\", \"\\uc0b4\\uc218\", \"\\ucc38\\uac00\", \"\\uc801\\uc9c0\", \"\\ud601\\uba85_\\uc874\\uc5c4\", \"\\ud544\\uc2b9\\ubd88\\ud328\", \"\\uac74\\uac15_\\uacf5\\uc5c5\", \"\\uc120\\ub3d9\", \"\\uc9c4\\uad70_\\uad70\\ub300\", \"\\uc870\\uad6d\\ud1b5\\uc77c3\\ub300\\uc6d0\\uce59\", \"\\ub3d9\\uc791\", \"\\uc77c\\ucd09\\uc989\\ubc1c\", \"\\uad00\\uacc4\\uac1c\\uc120\", \"\\uc6a9\\ub0a9\", \"\\ub0b4\\ubd80\\uc608\\ube44\", \"\\uac15\\uc131\\uad6d\\uac00\", \"\\ud601\\uba85_\\uc874\\uc5c4\", \"\\ud544\\uc2b9\\ubd88\\ud328\", \"\\uc639\\uc704\", \"\\uccad\\ud0c1\", \"\\ub2e8\\uacc4_\\uc804\\uac1c\", \"\\ub18d\\ubc95\", \"\\uac15\\uc790\", \"\\uc778\\uc0ac\", \"\\ucd94\\uad6c\", \"\\uccad\\ucc9c\\uac15\\uacc4\\ub2e8\\uc2dd\\ubc1c\\uc804\\uc18c\", \"\\ud604\\ub300\\ud654_\\uc804\\ub2f9\", \"\\uc544\\ub984\", \"\\uc81c\\ud488_\\uc9c0\\uc5ed_\\uc804\\ud22c_\\ud575\", \"\\uc900\\ube44_\\ub300\\ud68c\", \"\\uc790\\uc704_\\uc120\\ud589\", \"\\uc601\\uad70\", \"\\uc815\\ucc45_\\ub2e8\\ud569\", \"\\uc0b0\\ub9bc_\\uc2e4\\uc99d\", \"\\uc0b0\\uacfc\\uc218\", \"\\ud655\\ub300_\\uae30\\uc220\", \"\\ubc1c\\ub3d9_\\uc6b0\\ub9ac \\ub2f9\", \"\\uc81c\\uad6d\\uc8fc\\uc758_\\uc601\\uc608\", \"\\uc870\\uad6d_\\ud601\\uc2e0\", \"\\uc0ac\\uc0c1\", \"\\uc560\\uad6d\", \"\\ub2f9\\uc911\\uc559\\uc704\\uc6d0\\ud68c_\\ucd94\\uc774\", \"\\ub300\\ucc45_\\uc815\\uce58\", \"\\uc55e\\uae38\", \"\\uc911\\uc559\\ub2f9\", \"\\ud6c4\\uc190\", \"\\ucd5c\\uace0\\ud68c\\uc758\", \"\\ub300\\ud45c\\uc790\", \"\\ub300\\uc678_\\uc2e4\\ucc9c\", \"\\uc7a5\\uae30_\\ubc29\\ud5a5\", \"\\ucd1d\\ub828\", \"\\uad6d\\uc801\", \"\\uc804\\ud22c_\\ud575\", \"\\ucc3d\\uac74\\uc790\", \"\\uc6b0\\ub9ac \\ub2f9\", \"\\ub85c\\ub3d9\\uc790\", \"\\uc815\\ud615\", \"\\ud589\\uc815\", \"\\ub0b4\\ubd80\", \"\\uc911\\ub300\", \"\\uc815\\uce58\\uad6d\", \"\\uc911\\uc559\\uc704\\uc6d0\\ud68c\", \"\\uc608\\ubc29\", \"\\uc0b4\\uc218\", \"\\ucc38\\uac00\", \"\\uc801\\uc9c0\", \"\\uce5c\\uc560\", \"\\uc2b9\\ub9ac\", \"\\ubd80\\ud569\", \"\\uc0ac\\uc5c5\\ubc1c\\uc804\", \"\\uc7a0\\uc218\\ud568\", \"\\uacfc\\ud559\\uc5f0\\uad6c\", \"\\uc77c\\uc2e0\", \"\\uc790\\ub825\\uac31\\uc0dd\", \"\\ub18d\\ucd0c\\uc0b4\\ub9bc\\uc9d1\", \"\\uae61\\ud328\", \"\\ucda9\\uacac\", \"\\ud655\\ucda9\", \"\\uc218\\uace0\", \"\\uc720\\ubc1c\", \"\\uacf5\\uac1c\", \"\\uc804\\uc9c4\\ubc1c\\uc804\", \"\\uc220\\ud0c4\", \"\\uc0b0\\uc18c\\ubd84\\ub9ac\\uae30\", \"\\ubd81\\ub0a8\\uad00\\uacc4_\\ub300\\ud559\", \"\\uc815\\ub2f9\\uc131\", \"\\uac15\\uc2b5\\ud68c\", \"\\ucc9c\\uc740\", \"\\ud611\\uace1\", \"\\uc131\\uc7a5\", \"\\uc720\\uc0c9\\uae08\\uc18d\", \"\\ud604\\ub300\\ud654\", \"\\uadf9\\uba85\", \"\\uc801\\uace0\\uc9c0\", \"\\ube44\\uae38\\uc218\", \"\\ub0a8\\uc870\\uc120\\uac83\\ub4e4\", \"\\ub9ac\\uc0c1\\ub3c4\", \"\\uc9c0\\uc778\", \"9.19\\ubd81\\ub0a8\\uad70\\uc0ac\\ubd84\\uc57c\\ud569\\uc758\", \"\\uac00\\uacf5\", \"\\uac00\\uae08\", \"\\uac00\\ub3d9\", \"\\uac00\\ubc29\", \"\\uac00\\uc18d\", \"\\uac01\\uae09\", \"\\uac01\\uc624\", \"\\uac01\\uc77c\", \"\\uac01\\uc9c0\", \"\\uac04\\ubd80\", \"\\uac04\\uc11d\\uc9c0_\\uc694\\uc778\", \"\\uac10\\ub3c5\", \"\\uac10\\ud589_\\uac74\\uc124\", \"\\uac15\\uacbd\", \"\\uac15\\uad6d\", \"\\uac15\\ub300\", \"\\uac15\\ub839\", \"\\uac15\\uc21c\\ub0a8\", \"\\uac15\\uc870_\\uc801\\uc9c0\", \"\\uac15\\ud589\", \"\\uac1c\\uac04\", \"\\uac1c\\uac74\", \"\\uac1c\\ub150\", \"\\uac1c\\ubc1c_\\uc545\\ud654\", \"\\uac1c\\ucc9c\", \"\\uac1c\\ud3b8\", \"\\uac1d\\uad00\", \"\\uac70\\ud589\", \"\\ubd80\\ud569\", \"\\uc0ac\\uc5c5\\ubc1c\\uc804\", \"\\uc7a0\\uc218\\ud568\", \"\\uacfc\\ud559\\uc5f0\\uad6c\", \"\\uc77c\\uc2e0\", \"\\uc790\\ub825\\uac31\\uc0dd\", \"\\ub18d\\ucd0c\\uc0b4\\ub9bc\\uc9d1\", \"\\uae61\\ud328\", \"\\ucda9\\uacac\", \"\\ud655\\ucda9\", \"\\uc218\\uace0\", \"\\uc720\\ubc1c\", \"\\uacf5\\uac1c\", \"\\uc804\\uc9c4\\ubc1c\\uc804\", \"\\uc220\\ud0c4\", \"\\uc0b0\\uc18c\\ubd84\\ub9ac\\uae30\", \"\\ubd81\\ub0a8\\uad00\\uacc4_\\ub300\\ud559\", \"\\uc815\\ub2f9\\uc131\", \"\\uac15\\uc2b5\\ud68c\", \"\\ucc9c\\uc740\", \"\\ud611\\uace1\", \"\\uc131\\uc7a5\", \"\\uc720\\uc0c9\\uae08\\uc18d\", \"\\ud604\\ub300\\ud654\", \"\\uadf9\\uba85\", \"\\uc801\\uace0\\uc9c0\", \"\\ube44\\uae38\\uc218\", \"\\ub0a8\\uc870\\uc120\\uac83\\ub4e4\", \"\\ub9ac\\uc0c1\\ub3c4\", \"\\uc9c0\\uc778\", \"9.19\\ubd81\\ub0a8\\uad70\\uc0ac\\ubd84\\uc57c\\ud569\\uc758\", \"\\uac00\\uacf5\", \"\\uac00\\uae08\", \"\\uac00\\ub3d9\", \"\\uac00\\ubc29\", \"\\uac00\\uc18d\", \"\\uac01\\uae09\", \"\\uac01\\uc624\", \"\\uac01\\uc77c\", \"\\uac01\\uc9c0\", \"\\uac04\\ubd80\", \"\\uac04\\uc11d\\uc9c0_\\uc694\\uc778\", \"\\uac10\\ub3c5\", \"\\uac10\\ud589_\\uac74\\uc124\", \"\\uac15\\uacbd\", \"\\uac15\\uad6d\", \"\\uac15\\ub300\", \"\\uac15\\ub839\", \"\\uac15\\uc21c\\ub0a8\", \"\\uac15\\uc870_\\uc801\\uc9c0\", \"\\uac15\\ud589\", \"\\uac1c\\uac04\", \"\\uac1c\\uac74\", \"\\uac1c\\ub150\", \"\\uac1c\\ubc1c_\\uc545\\ud654\", \"\\uac1c\\ucc9c\", \"\\uac1c\\ud3b8\", \"\\uac1d\\uad00\", \"\\uac70\\ud589\", \"\\uacac\\uc778_\\uc6b0\\ub9ac\", \"\\ub85c\\uc120_\\uc790\\uccb4\", \"\\uc870\\uc120\\ubbfc\\uc8fc\\uc8fc\\uc758\\uc778\\ubbfc\\uacf5\\ud654\\uad6d_\\uc758\\uc758\", \"\\uacfc\\ud559_\\uac74\\uc124\", \"\\uac15\\uc138\", \"\\uc904\\uae30\", \"\\uacbd\\uc81c\\ubc1c\\uc804\", \"\\uc54c\\uc9c0\", \"\\ub300\\ubbf8\", \"\\ubc30\\uce58_\\ucc3d\\uac74\", \"\\uc120\\uac70\", \"\\uacf5\\ud654\\uad6d\", \"\\uac15\\uc870_\\uc801\\uc9c0\", \"\\uad6d\\uac00\\uad00\\ub9ac_\\uc6b0\\ub9ac \\ub2f9\", \"\\ubc29\\uba74\", \"\\uacf5\\ud3ec\", \"\\uc5b5\\uc81c\", \"\\ubcf8\\ubd80\", \"\\ub300\\uc870\\uc120_\\uadfc\\ub85c\\ub2e8\\uccb4\\uc870\\uc9c1\", \"\\ubc1c\\uc0ac_\\ubcf4\\uac74\", \"\\uc81c\\uad6d\\uc8fc\\uc758\", \"\\uae30\\ub150\", \"\\uc804\\uba74_\\uad6c\\ucd95\", \"\\uacac\\uc9c0_\\ud601\\uba85\", \"\\uc804\\ub2f9\", \"\\uc0dd\\uc874\", \"\\ucc2c\\ud0c8\", \"\\ud48d\\ud1a0\", \"\\uc560\\uad6d\\uc6b4\\ub3d9\", \"\\ub2f9\\ucc45\", \"\\ucc38\\ubaa8\", \"\\ud601\\uc2e0\", \"\\uc704\\uc784_\\ub2f9 \\uc911\\uc559\\uc704\\uc6d0\\ud68c\", \"\\uad6d\\uac00_\\uc7a5\\uae30\", \"\\uc9c0\\uac8c_\\ub3c4\\uc804\", \"\\uc811\\ucd09\\ub3c4\", \"\\uc704\\ud6c8_\\ub2f9\\uc911\\uc559\\uc704\\uc6d0\\ud68c\", \"\\uc55e\\uae38_\\uce5c\\uc560\", \"\\uc2dd\\ub8cc\\ud488\", \"\\uc704\\ud5d8\\ucc9c\\ub9cc\", \"\\ud654\\uace0\", \"\\uc218\\uc785\\ubcd1\", \"\\ub300\\ubcc0\", \"\\uc778\\uc7ac\", \"\\uc5b4\\ub9b0\\uc774\", \"\\ub300\\ucd95\\uc804\\uc7a5\", \"\\uc9d5\\ubc8c\", \"\\ud56d\\uc804\", \"\\uc218\\ud638\\uc804\", \"\\uc815\\uce58\\uc0ac\\uc0c1\\uac15\\uad6d\", \"\\uace0\\uc815\\uaca9\\uc2dd\", \"\\uc815\\uce58\\ud6c8\\ub828\", \"\\ud1b5\\uc77c\\ud5cc\\uc7a5\", \"\\ubd84\\uc5f4\", \"\\ubc1c\\uae38\", \"\\uccb4\\uc721\\uac15\\uad6d\", \"\\ub2f5\\uc0ac\", \"\\ucc38\\uadf9\", \"\\uc7a5\\uad70_\\uc57c\\ud569\", \"\\uc7a5\\ubcf8\\uc778\", \"\\ud608\\ub9e5\", \"\\uc704\\uc131\\uacfc\\ud559\\uc790\\uc8fc\\ucc45\\uc9c0\\uad6c\", \"\\ub450\\ub9d0\", \"\\uc560\\uad6d\\uc0ac\\uc5c5\", \"\\uc874\\uc911_\\uc815\\uce58\\uc0ac\\uc0c1\\uc0ac\\uc5c5\", \"\\ud654\\ub825\", \"\\uacbd\\uc7c1\\ub825\", \"\\ud3c9\\ud654_\\uc790\\uc704\", \"\\ud654\\uc801\", \"\\ucd08\\uc18c\", \"\\ucc9c\\ud558\\uc81c\\uc77c\\uac15\\uad6d\", \"\\ub7b5\\uc790\", \"\\uc2e4\\uc6a9\\uc704\\uc131\", \"\\uc81c\\uc791\", \"\\uc8fc\\uc758\\uae30\\uce58\", \"\\ud604\\ub300\\uc801\\ubb34\\uc7a5\\uc7a5\\ube44\", \"\\uadfc\\ub85c\\uc778\\ubbfc\\ub300\\uc911\", \"\\uae34\\uc7a5_\\uae30\\ub2a5\", \"\\ub3d9\\uc0c1\", \"\\uc874\\uc5c4_\\ub300\\uc6d0\", \"\\ub9bd\\uc7a5_\\ub825\\uc0ac\\uc801\", \"\\ubc31\\ub450\\uc0b0\\ud6c8\\ub828\", \"\\ud6c8\\ub828\", \"\\uacf5\\uc6d0\", \"\\ub18d\\uc0ac_\\ubc1c\\uc0ac\", \"\\ub3c4\\uac15\", \"\\uad6d\\uc81c\", \"\\ubbfc\\uc871\\uacbd\\uc81c\", \"\\ud601\\uba85\\uc801\\ub839\\uad70\\uccb4\\uacc4\", \"\\uc720\\uc6d0\\uc9c0\", \"\\ucd1d\\ub3cc\\uaca9\\uc804\", \"\\uacfc\\ud559\\uae30\\uc220\\uc704\\uc131\", \"\\uc120\\ucc28\", \"\\ub7b5\\uc0ac\", \"\\uad11\\uba85\\uc131\", \"\\ub3d9\\uc871\\ub300\\uacb0\\uc815\\ucc45\", \"\\ub96d\\uc131\", \"\\uc218\\ub839_\\uc99d\\uc9c4\"], \"Freq\": [1.0, 1.0, 1.0, 1.0, 1.0, 1.0, 1.0, 1.0, 1.0, 1.0, 1.0, 1.0, 1.0, 1.0, 1.0, 1.0, 1.0, 1.0, 1.0, 1.0, 1.0, 1.0, 1.0, 1.0, 1.0, 1.0, 1.0, 1.0, 1.0, 1.0, 1.3704385801644627, 1.3704327937506475, 1.3704289658153546, 1.3704076896168647, 1.3704060872253467, 1.3704029714640615, 1.3703980752677565, 1.3703938022237083, 1.37038151722207, 1.3703775112432748, 1.592506720868285, 1.5922581721394844, 1.5914694394255968, 1.707529054686887, 1.5433611949660004, 1.5424200570143953, 1.6219711400152979, 1.6219319704448565, 1.540411904355267, 1.6219102491376118, 1.6218705454366644, 1.283661601634637, 1.6218174884730665, 1.2355658202201811, 1.3618508298886938, 1.3616211537711058, 1.5890172462724648, 1.5886773612271348, 1.3614778287519906, 1.6216567151907548, 1.3610470524988867, 1.3606932800604001, 1.0842979944994984, 1.084296669754244, 1.0842966000308094, 1.084294787221514, 1.084294787221514, 1.0842947174980795, 1.0842947174980795, 1.0842947174980795, 1.0842943688809072, 1.084293671646563, 1.0842932533059562, 1.0842919285607018, 1.084290673538882, 1.084290534092013, 1.0842885818358488, 1.0842883726655455, 1.084287675431201, 1.0842873268140287, 1.0842862112390776, 1.0842858626219054, 1.0842844681532167, 1.084283073684528, 1.0842807030877568, 1.084280075576847, 1.084277914150379, 1.0842774958097725, 1.0842689895507707, 1.0842631327822776, 0.20229114525008424, 0.11125989805712681, 0.008089535982363387, 0.008089535982363387, 0.008089535982363387, 0.008089535982363387, 0.008089535982363387, 0.008089535982363387, 0.008089535982363387, 0.008089535982363387, 0.008089535982363387, 0.008089535982363387, 0.008089535982363387, 0.008089535982363387, 0.008089535982363387, 0.008089535982363387, 0.008089535982363387, 0.008089535982363387, 0.008089535982363387, 0.008089535982363387, 0.008089535982363387, 0.008089535982363387, 0.008089535982363387, 0.008089535982363387, 0.008089535982363387, 0.008089535982363387, 0.008089535982363387, 0.008089535982363387, 0.008089535982363387, 0.008089535982363387, 0.008089535982363387, 0.008089535982363387, 0.008089535982363387, 0.008089535982363387, 0.008089535982363387, 0.008089535982363387, 0.008089535982363387, 0.008089535982363387, 0.008089535982363387, 0.008089535982363387, 0.008089535982363387, 0.008089535982363387, 0.008089535982363387, 0.008089535982363387, 0.008089535982363387, 0.008089535982363387, 0.008089535982363387, 0.008089535982363387, 0.008089535982363387, 0.008089535982363387, 0.008089535982363387, 0.008089535982363387, 0.008089535982363387, 0.008089535982363387, 0.008089535982363387, 0.008089535982363387, 0.008089535982363387, 0.008089535982363387, 0.008089535982363387, 0.008089535982363387, 0.008089535982363387, 0.008089535982363387, 0.008089535982363387, 0.008089535982363387, 0.008089535982363387, 0.008089535982363387, 0.008089535982363387, 0.008089535982363387, 0.008089535982363387, 0.008089535982363387, 0.008089535982363387, 0.008089535982363387, 0.008089535982363387, 0.008089535982363387, 0.008089535982363387, 0.008089535982363387, 0.008089535982363387, 0.008089535982363387, 0.008089535982363387, 0.008089535982363387, 0.008089535982363387, 0.008089535982363387, 0.008089535982363387, 0.008089535982363387, 0.008089535982363387, 0.008089535982363387, 0.008089535982363387, 0.008089535982363387, 0.008089535982363387, 0.008089535982363387, 0.008089535982363387, 0.008089535982363387, 0.008089535982363387, 0.008089535982363387, 0.008089535982363387, 0.008089535982363387, 0.008089535982363387, 0.008089535982363387, 0.008089535982363387, 0.008089535982363387, 0.008089535982363387, 0.008089535982363387, 0.008089535982363387, 0.008089535982363387, 0.008089535982363387, 0.008089535982363387, 0.008089535982363387, 0.008089535982363387, 0.008089535982363387, 0.008089535982363387, 0.008089535982363387, 0.008089535982363387, 0.008089535982363387, 0.008089535982363387, 0.008089535982363387, 0.008089535982363387, 0.008089535982363387, 0.008089535982363387, 0.008089535982363387, 0.008089535982363387, 0.05760328755388392, 0.057597520301542096, 0.05759129166901293, 0.05759019012381564, 0.05758301566190241, 0.05758285417883684, 0.05758055304515245, 0.05757865561913199, 0.05757405911901556, 0.05756892626443133, 0.047387147919313845, 0.04705156304004775, 0.04698938629255053, 0.04686353331194724, 0.0465010268987495, 0.04617356231078069, 0.045928494457019534, 0.04549418286853991, 0.04873101575824883, 0.04708015130990617, 0.046228991373037966, 0.03991191802920535, 0.040500872721978665, 0.03852605017509103, 0.03848685016092365, 0.03734480731769083, 0.025143588077943188, 0.025141886738502348, 0.025141748324446146, 0.0251401565627998, 0.0377700037638442, 0.03587880637591303, 0.03572277048017879, 0.03492964640362636, 0.13912909168363818, 0.1330508344920282, 0.13278950875391543, 0.13198317766950024, 0.13114517283522373, 0.12853624089335247, 0.12570705758454692, 0.12533613098293012, 0.12416387927193082, 0.12191272459633698, 0.12174979971768043, 0.12018399070687502, 0.11953853135928268, 0.11887402854445762, 0.11812001797328746, 0.11789221150578538, 0.1173022331257214, 0.11647759678237324, 0.11545401330224149, 0.11411533022316182, 0.11369633934052825, 0.11311446971725687, 0.11171043213463963, 0.11110022223336052, 0.10978643061538816, 0.10947400702152683, 0.1085762649874937, 0.10606211207060799, 0.10541285787097472, 0.10524120137227265, 0.11809166616077504, 0.11109356682415805, 0.11554669304737462, 0.07217442938032675, 0.07217299333449365, 0.07215743905492775, 0.05742423743767963, 0.0574192141608899, 0.05741549428312943, 0.057410684394676344, 0.05740791611355227, 0.05740772002697265, 0.05740724711228062, 0.0574071894397572, 0.05740273712094931, 0.057401710550032466, 0.057400908901956954, 0.05739936327832934, 0.057398457819711673, 0.05739773691316895, 0.05739767924064553, 0.05739729860199097, 0.05739543577948456, 0.05739521662389557, 0.05739425349275448, 0.05739306543877207, 0.05739111034022819, 0.05738951857858185, 0.057382303745902224, 0.057381167597190884, 0.05738089076907848, 0.05738084463105974, 0.05737657686432679, 0.05895747877451077], \"Total\": [1.0, 1.0, 1.0, 1.0, 1.0, 1.0, 1.0, 1.0, 1.0, 1.0, 1.0, 1.0, 1.0, 1.0, 1.0, 1.0, 1.0, 1.0, 1.0, 1.0, 1.0, 1.0, 1.0, 1.0, 1.0, 1.0, 1.0, 1.0, 1.0, 1.0, 1.386619162655871, 1.3866133762420558, 1.3866095483067629, 1.386588272108273, 1.386586669716755, 1.3865835539554698, 1.3865786577591648, 1.3865743847151166, 1.3865620997134782, 1.386558093734683, 1.6114388191463738, 1.6112878708905403, 1.6107889622515328, 1.7613289567103347, 1.6046090502991526, 1.604258180351815, 1.6871446860944612, 1.690061129538663, 1.6055898429831577, 1.690833703060196, 1.6937446294678684, 1.341992569920221, 1.697028164441362, 1.2945804454328556, 1.4293669300585643, 1.4314752922730998, 1.6709362992154821, 1.670852434757017, 1.4325495091976241, 1.7066207780002172, 1.436330222829119, 1.4392974361428872, 1.100478579619432, 1.1004772548741777, 1.100477185150743, 1.1004753723414478, 1.1004753723414478, 1.1004753026180132, 1.1004753026180132, 1.1004753026180132, 1.100474954000841, 1.1004742567664967, 1.1004738384258899, 1.1004725136806355, 1.1004712586588157, 1.1004711192119467, 1.1004691669557825, 1.1004689577854792, 1.1004682605511347, 1.1004679119339624, 1.1004667963590113, 1.100466447741839, 1.1004650532731504, 1.1004636588044616, 1.1004612882076905, 1.1004606606967806, 1.1004584992703128, 1.1004580809297062, 1.1004495746707044, 1.1004437179022113, 0.22320807380503915, 0.13259586327228076, 0.026633599299319563, 0.026645498239910137, 0.026668669302017098, 0.02668183638303472, 0.026711518433929438, 0.026727978175704804, 0.026733736568582595, 0.0267423863984525, 0.02674615268426087, 0.02674689938340592, 0.026747583725170634, 0.02675401023086122, 0.02675895723860123, 0.02676676815274652, 0.02678460659450394, 0.026792562392956423, 0.026795004513809204, 0.02679548682876819, 0.026799579435338304, 0.026805520661188145, 0.026807280462989854, 0.02680798584957554, 0.026809457060312833, 0.026815401438323946, 0.026816636214059, 0.026820250704344323, 0.026821086136226153, 0.026822702950007233, 0.02682654076086636, 0.026831221490284485, 0.02729054581334146, 0.03806795640134629, 0.02709929157127313, 0.03752861544483875, 0.03704924282760927, 0.026996112222827905, 0.04899133907762438, 0.10769120818875064, 0.02712804304562237, 0.026970252466272288, 0.05576016648176484, 0.03762799681754933, 0.026918206536221338, 0.03522165501265757, 0.042047472083434914, 0.02710347092206851, 0.043966910443580996, 0.04263265107509631, 0.02686403418827663, 0.06473020982470917, 0.02726969779047607, 0.055779886257771485, 0.03744044440524331, 0.02726189324374574, 0.026928048988302006, 0.027144783340728132, 0.02711275658142332, 0.03689767917245305, 0.027051260121592438, 0.026633599299319563, 0.026645498239910137, 0.026668669302017098, 0.02668183638303472, 0.026711518433929438, 0.026727978175704804, 0.026733736568582595, 0.0267423863984525, 0.02674615268426087, 0.02674689938340592, 0.026747583725170634, 0.02675401023086122, 0.02675895723860123, 0.02676676815274652, 0.02678460659450394, 0.026792562392956423, 0.026795004513809204, 0.02679548682876819, 0.026799579435338304, 0.026805520661188145, 0.026807280462989854, 0.02680798584957554, 0.026809457060312833, 0.026815401438323946, 0.026816636214059, 0.026820250704344323, 0.026821086136226153, 0.026822702950007233, 0.02682654076086636, 0.026831221490284485, 0.02729054581334146, 0.03806795640134629, 0.02709929157127313, 0.03752861544483875, 0.03704924282760927, 0.026996112222827905, 0.04899133907762438, 0.10769120818875064, 0.02712804304562237, 0.026970252466272288, 0.05576016648176484, 0.03762799681754933, 0.026918206536221338, 0.03522165501265757, 0.042047472083434914, 0.02710347092206851, 0.043966910443580996, 0.04263265107509631, 0.02686403418827663, 0.06473020982470917, 0.02726969779047607, 0.055779886257771485, 0.03744044440524331, 0.02726189324374574, 0.026928048988302006, 0.027144783340728132, 0.02711275658142332, 0.03689767917245305, 0.027051260121592438, 0.0737838683338438, 0.07377810108150198, 0.07377187244897282, 0.07377077090377553, 0.0737635964418623, 0.07376343495879673, 0.07376113382511233, 0.07375923639909188, 0.07375463989897545, 0.07374950704439122, 0.0649609570701443, 0.06476572281865907, 0.06473020982470917, 0.06466044960439275, 0.06444495251666219, 0.06423895032808115, 0.0641013380565987, 0.06383617200031089, 0.06851383305833986, 0.06721337598585474, 0.06652857507413497, 0.06297531760105222, 0.06392672109965435, 0.06206892047373655, 0.06256797086591809, 0.060919379520551646, 0.04132416885790308, 0.04132246751846224, 0.04132232910440604, 0.04132073734275969, 0.06208437138316099, 0.06079398868897191, 0.060687886230025856, 0.06014611925983511, 0.17188278721599198, 0.1658881353582225, 0.1656370846775263, 0.16484323750272445, 0.1640140263482892, 0.16144256004490654, 0.15865081038239778, 0.1582859775978301, 0.15713347758783464, 0.1549170427860969, 0.1547525043882034, 0.15321367314084652, 0.15257262732475313, 0.15192126912784962, 0.15117557930846853, 0.15095275666805777, 0.15037291563988925, 0.1495574081989135, 0.14854661881355874, 0.14723136375560633, 0.1468191552176273, 0.14624644927084982, 0.14486017291852257, 0.14425759802335683, 0.1429609528292066, 0.14265755520631807, 0.1417786927383219, 0.13929638039803324, 0.13866094543427834, 0.13849026261097788, 0.1628961317608266, 0.15595646373770938, 0.962169932270242, 0.0883550040064914, 0.0883535679606583, 0.0883380136810924, 0.07360481206384428, 0.07359978878705455, 0.07359606890929407, 0.07359125902084099, 0.0735884907397169, 0.07358829465313729, 0.07358782173844526, 0.07358776406592185, 0.07358331174711395, 0.07358228517619711, 0.0735814835281216, 0.07357993790449399, 0.07357903244587632, 0.07357831153933359, 0.07357825386681018, 0.07357787322815562, 0.0735760104056492, 0.07357579125006022, 0.07357482811891913, 0.07357364006493672, 0.07357168496639283, 0.0735700932047465, 0.07356287837206688, 0.07356174222335553, 0.07356146539524312, 0.07356141925722438, 0.07355715149049144, 0.07744802505481535], \"Category\": [\"Default\", \"Default\", \"Default\", \"Default\", \"Default\", \"Default\", \"Default\", \"Default\", \"Default\", \"Default\", \"Default\", \"Default\", \"Default\", \"Default\", \"Default\", \"Default\", \"Default\", \"Default\", \"Default\", \"Default\", \"Default\", \"Default\", \"Default\", \"Default\", \"Default\", \"Default\", \"Default\", \"Default\", \"Default\", \"Default\", \"Topic1\", \"Topic1\", \"Topic1\", \"Topic1\", \"Topic1\", \"Topic1\", \"Topic1\", \"Topic1\", \"Topic1\", \"Topic1\", \"Topic1\", \"Topic1\", \"Topic1\", \"Topic1\", \"Topic1\", \"Topic1\", \"Topic1\", \"Topic1\", \"Topic1\", \"Topic1\", \"Topic1\", \"Topic1\", \"Topic1\", \"Topic1\", \"Topic1\", \"Topic1\", \"Topic1\", \"Topic1\", \"Topic1\", \"Topic1\", \"Topic1\", \"Topic1\", \"Topic2\", \"Topic2\", \"Topic2\", \"Topic2\", \"Topic2\", \"Topic2\", \"Topic2\", \"Topic2\", \"Topic2\", \"Topic2\", \"Topic2\", \"Topic2\", \"Topic2\", \"Topic2\", \"Topic2\", \"Topic2\", \"Topic2\", \"Topic2\", \"Topic2\", \"Topic2\", \"Topic2\", \"Topic2\", \"Topic2\", \"Topic2\", \"Topic2\", \"Topic2\", \"Topic2\", \"Topic2\", \"Topic2\", \"Topic2\", \"Topic3\", \"Topic3\", \"Topic3\", \"Topic3\", \"Topic3\", \"Topic3\", \"Topic3\", \"Topic3\", \"Topic3\", \"Topic3\", \"Topic3\", \"Topic3\", \"Topic3\", \"Topic3\", \"Topic3\", \"Topic3\", \"Topic3\", \"Topic3\", \"Topic3\", \"Topic3\", \"Topic3\", \"Topic3\", \"Topic3\", \"Topic3\", \"Topic3\", \"Topic3\", \"Topic3\", \"Topic3\", \"Topic3\", \"Topic3\", \"Topic3\", \"Topic3\", \"Topic3\", \"Topic3\", \"Topic3\", \"Topic3\", \"Topic3\", \"Topic3\", \"Topic3\", \"Topic3\", \"Topic3\", \"Topic3\", \"Topic3\", \"Topic3\", \"Topic3\", \"Topic3\", \"Topic3\", \"Topic3\", \"Topic3\", \"Topic3\", \"Topic3\", \"Topic3\", \"Topic3\", \"Topic3\", \"Topic3\", \"Topic3\", \"Topic3\", \"Topic3\", \"Topic3\", \"Topic4\", \"Topic4\", \"Topic4\", \"Topic4\", \"Topic4\", \"Topic4\", \"Topic4\", \"Topic4\", \"Topic4\", \"Topic4\", \"Topic4\", \"Topic4\", \"Topic4\", \"Topic4\", \"Topic4\", \"Topic4\", \"Topic4\", \"Topic4\", \"Topic4\", \"Topic4\", \"Topic4\", \"Topic4\", \"Topic4\", \"Topic4\", \"Topic4\", \"Topic4\", \"Topic4\", \"Topic4\", \"Topic4\", \"Topic4\", \"Topic4\", \"Topic4\", \"Topic4\", \"Topic4\", \"Topic4\", \"Topic4\", \"Topic4\", \"Topic4\", \"Topic4\", \"Topic4\", \"Topic4\", \"Topic4\", \"Topic4\", \"Topic4\", \"Topic4\", \"Topic4\", \"Topic4\", \"Topic4\", \"Topic4\", \"Topic4\", \"Topic4\", \"Topic4\", \"Topic4\", \"Topic4\", \"Topic4\", \"Topic4\", \"Topic4\", \"Topic4\", \"Topic4\", \"Topic5\", \"Topic5\", \"Topic5\", \"Topic5\", \"Topic5\", \"Topic5\", \"Topic5\", \"Topic5\", \"Topic5\", \"Topic5\", \"Topic5\", \"Topic5\", \"Topic5\", \"Topic5\", \"Topic5\", \"Topic5\", \"Topic5\", \"Topic5\", \"Topic5\", \"Topic5\", \"Topic5\", \"Topic5\", \"Topic5\", \"Topic5\", \"Topic5\", \"Topic5\", \"Topic5\", \"Topic5\", \"Topic5\", \"Topic5\", \"Topic5\", \"Topic5\", \"Topic5\", \"Topic5\", \"Topic6\", \"Topic6\", \"Topic6\", \"Topic6\", \"Topic6\", \"Topic6\", \"Topic6\", \"Topic6\", \"Topic6\", \"Topic6\", \"Topic6\", \"Topic6\", \"Topic6\", \"Topic6\", \"Topic6\", \"Topic6\", \"Topic6\", \"Topic6\", \"Topic6\", \"Topic6\", \"Topic6\", \"Topic6\", \"Topic6\", \"Topic6\", \"Topic6\", \"Topic6\", \"Topic6\", \"Topic6\", \"Topic6\", \"Topic6\", \"Topic6\", \"Topic6\", \"Topic6\", \"Topic7\", \"Topic7\", \"Topic7\", \"Topic7\", \"Topic7\", \"Topic7\", \"Topic7\", \"Topic7\", \"Topic7\", \"Topic7\", \"Topic7\", \"Topic7\", \"Topic7\", \"Topic7\", \"Topic7\", \"Topic7\", \"Topic7\", \"Topic7\", \"Topic7\", \"Topic7\", \"Topic7\", \"Topic7\", \"Topic7\", \"Topic7\", \"Topic7\", \"Topic7\", \"Topic7\", \"Topic7\", \"Topic7\", \"Topic7\", \"Topic7\"], \"logprob\": [30.0, 29.0, 28.0, 27.0, 26.0, 25.0, 24.0, 23.0, 22.0, 21.0, 20.0, 19.0, 18.0, 17.0, 16.0, 15.0, 14.0, 13.0, 12.0, 11.0, 10.0, 9.0, 8.0, 7.0, 6.0, 5.0, 4.0, 3.0, 2.0, 1.0, -4.2449, -4.2449, -4.2449, -4.2449, -4.2449, -4.2449, -4.2449, -4.2449, -4.2449, -4.2449, -4.0947, -4.0949, -4.0954, -4.025, -4.1261, -4.1267, -4.0764, -4.0764, -4.128, -4.0764, -4.0765, -4.3103, -4.0765, -4.3485, -4.2512, -4.2514, -4.0969, -4.0971, -4.2515, -4.0766, -4.2518, -4.252, -3.5416, -3.5416, -3.5416, -3.5416, -3.5416, -3.5416, -3.5416, -3.5416, -3.5416, -3.5416, -3.5416, -3.5416, -3.5416, -3.5416, -3.5416, -3.5416, -3.5416, -3.5416, -3.5416, -3.5416, -3.5416, -3.5416, -3.5416, -3.5416, -3.5416, -3.5416, -3.5416, -3.5416, -5.2206, -5.8184, -8.0268, -8.0268, -8.0268, -8.0268, -8.0268, -8.0268, -8.0268, -8.0268, -8.0268, -8.0268, -8.0268, -8.0268, -8.0268, -8.0268, -8.0268, -8.0268, -8.0268, -8.0268, -8.0268, -8.0268, -8.0268, -8.0268, -8.0268, -8.0268, -8.0268, -8.0268, -8.0268, -8.0268, -8.0268, -8.0268, -8.0268, -8.0268, -8.0268, -8.0268, -8.0268, -8.0268, -8.0268, -8.0268, -8.0268, -8.0268, -8.0268, -8.0268, -8.0268, -8.0268, -8.0268, -8.0268, -8.0268, -8.0268, -8.0268, -8.0268, -8.0268, -8.0268, -8.0268, -8.0268, -8.0268, -8.0268, -8.0268, -8.0268, -8.0268, -8.0268, -8.0268, -8.0268, -8.0268, -8.0268, -8.0268, -8.0268, -8.0268, -8.0268, -8.0268, -8.0268, -8.0268, -8.0268, -8.0268, -8.0268, -8.0268, -8.0268, -8.0268, -8.0268, -8.0268, -8.0268, -8.0268, -8.0268, -8.0268, -8.0268, -8.0268, -8.0268, -8.0268, -8.0268, -8.0268, -8.0268, -8.0268, -8.0268, -8.0268, -8.0268, -8.0268, -8.0268, -8.0268, -8.0268, -8.0268, -8.0268, -8.0268, -8.0268, -8.0268, -8.0268, -8.0268, -8.0268, -8.0268, -8.0268, -8.0268, -8.0268, -8.0268, -8.0268, -8.0268, -8.0268, -8.0268, -8.0268, -8.0268, -8.0268, -6.0638, -6.0639, -6.064, -6.064, -6.0642, -6.0642, -6.0642, -6.0642, -6.0643, -6.0644, -6.259, -6.2662, -6.2675, -6.2702, -6.2779, -6.285, -6.2903, -6.2998, -6.2311, -6.2655, -6.2838, -6.4307, -6.4161, -6.4661, -6.4671, -6.4972, -6.8928, -6.8929, -6.8929, -6.8929, -6.4859, -6.5372, -6.5416, -6.5641, -5.182, -5.2267, -5.2286, -5.2347, -5.2411, -5.2612, -5.2834, -5.2864, -5.2958, -5.3141, -5.3154, -5.3284, -5.3338, -5.3393, -5.3457, -5.3476, -5.3526, -5.3597, -5.3685, -5.3802, -5.3839, -5.389, -5.4015, -5.407, -5.4189, -5.4217, -5.4299, -5.4534, -5.4595, -5.4611, -5.3459, -5.407, -5.3677, -5.8383, -5.8383, -5.8385, -6.0669, -6.067, -6.0671, -6.0672, -6.0672, -6.0672, -6.0672, -6.0672, -6.0673, -6.0673, -6.0673, -6.0674, -6.0674, -6.0674, -6.0674, -6.0674, -6.0674, -6.0674, -6.0675, -6.0675, -6.0675, -6.0675, -6.0677, -6.0677, -6.0677, -6.0677, -6.0678, -6.0406], \"loglift\": [30.0, 29.0, 28.0, 27.0, 26.0, 25.0, 24.0, 23.0, 22.0, 21.0, 20.0, 19.0, 18.0, 17.0, 16.0, 15.0, 14.0, 13.0, 12.0, 11.0, 10.0, 9.0, 8.0, 7.0, 6.0, 5.0, 4.0, 3.0, 2.0, 1.0, 0.9768, 0.9768, 0.9768, 0.9768, 0.9768, 0.9768, 0.9768, 0.9768, 0.9768, 0.9768, 0.9767, 0.9767, 0.9765, 0.9575, 0.9496, 0.9492, 0.9491, 0.9474, 0.9471, 0.9469, 0.9452, 0.9441, 0.9432, 0.9419, 0.9402, 0.9385, 0.9383, 0.9381, 0.9377, 0.9375, 0.9347, 0.9324, 1.9112, 1.9112, 1.9112, 1.9112, 1.9112, 1.9112, 1.9112, 1.9112, 1.9112, 1.9112, 1.9112, 1.9112, 1.9112, 1.9112, 1.9112, 1.9112, 1.9112, 1.9112, 1.9112, 1.9112, 1.9112, 1.9112, 1.9112, 1.9112, 1.9112, 1.9112, 1.9112, 1.9112, 1.8276, 1.7506, 1.1473, 1.1469, 1.146, 1.1455, 1.1444, 1.1438, 1.1436, 1.1433, 1.1431, 1.1431, 1.1431, 1.1428, 1.1426, 1.1423, 1.1417, 1.1414, 1.1413, 1.1413, 1.1411, 1.1409, 1.1408, 1.1408, 1.1407, 1.1405, 1.1405, 1.1403, 1.1403, 1.1403, 1.1401, 1.1399, 1.123, 0.7901, 1.13, 0.8044, 0.8173, 1.1338, 0.5379, -0.2498, 1.1289, 1.1348, 0.4084, 0.8018, 1.1367, 0.8678, 0.6907, 1.1298, 0.6461, 0.6769, 1.1387, 0.2593, 1.1237, 0.4081, 0.8067, 1.124, 1.1363, 1.1283, 1.1295, 0.8214, 1.1318, 1.1473, 1.1469, 1.146, 1.1455, 1.1444, 1.1438, 1.1436, 1.1433, 1.1431, 1.1431, 1.1431, 1.1428, 1.1426, 1.1423, 1.1417, 1.1414, 1.1413, 1.1413, 1.1411, 1.1409, 1.1408, 1.1408, 1.1407, 1.1405, 1.1405, 1.1403, 1.1403, 1.1403, 1.1401, 1.1399, 1.123, 0.7901, 1.13, 0.8044, 0.8173, 1.1338, 0.5379, -0.2498, 1.1289, 1.1348, 0.4084, 0.8018, 1.1367, 0.8678, 0.6907, 1.1298, 0.6461, 0.6769, 1.1387, 0.2593, 1.1237, 0.4081, 0.8067, 1.124, 1.1363, 1.1283, 1.1295, 0.8214, 1.1318, 2.0914, 2.0913, 2.0913, 2.0913, 2.0913, 2.0913, 2.0913, 2.0913, 2.0913, 2.0912, 2.0235, 2.0194, 2.0186, 2.017, 2.0126, 2.0087, 2.0055, 2.0002, 1.9982, 1.9829, 1.9749, 1.8829, 1.8825, 1.862, 1.853, 1.8496, 1.8421, 1.8421, 1.8421, 1.842, 1.842, 1.8116, 1.809, 1.7955, 2.1275, 2.1183, 2.1179, 2.1166, 2.1153, 2.111, 2.1062, 2.1055, 2.1034, 2.0993, 2.0991, 2.0961, 2.0949, 2.0936, 2.0922, 2.0917, 2.0906, 2.0889, 2.0869, 2.0841, 2.0833, 2.082, 2.0791, 2.0778, 2.0749, 2.0742, 2.0721, 2.0664, 2.0648, 2.0644, 2.0173, 1.9997, 0.2194, 2.1367, 2.1366, 2.1366, 2.0907, 2.0907, 2.0907, 2.0906, 2.0906, 2.0906, 2.0906, 2.0906, 2.0906, 2.0906, 2.0906, 2.0906, 2.0906, 2.0906, 2.0906, 2.0906, 2.0906, 2.0906, 2.0906, 2.0906, 2.0906, 2.0906, 2.0905, 2.0905, 2.0905, 2.0905, 2.0905, 2.0661]}, \"token.table\": {\"Topic\": [1, 1, 1, 1, 1, 2, 2, 1, 1, 1, 2, 2, 2, 2, 1, 2, 1, 2, 1, 1, 2, 1, 1, 2, 2, 1, 2, 1, 1, 2, 1, 1, 1, 2, 2, 2, 1, 2, 2, 1, 1, 2, 1, 1, 2, 2, 2, 1, 2, 2, 1, 1, 2, 2, 1, 1, 2, 1, 1, 1, 2], \"Freq\": [0.7212103153258498, 1.1854347860525, 0.7211785520723966, 1.0393174495075916, 0.721199619223975, 0.9087017210557106, 0.9087067299644511, 0.7212082316447578, 1.2466821266645487, 1.246409522386237, 0.9086982090951573, 0.9086994757007518, 0.9086982090951573, 0.9086991302625121, 0.7211954519974398, 0.9087043694373604, 0.6962187274945133, 0.908696654629481, 0.6980561534380082, 1.196993796936262, 0.9087124873990333, 0.721181561590124, 0.7451606084968474, 0.9086982666680624, 0.9086967122021892, 0.6985799932404407, 0.908712141950901, 1.2416275793226412, 0.7212018417644852, 0.9087040815690419, 1.1833891479096625, 0.7211970725798145, 0.699610421208659, 0.908700569590243, 0.9087243479442199, 0.9087033331122676, 1.1969337196989591, 0.9087098389700643, 0.9087052906172051, 0.6947834234179268, 1.1785308234164587, 0.9086955607494154, 0.7211946185579119, 0.7724510311644947, 0.908707881445531, 0.9086982666680624, 0.9087103571397348, 0.7211835525156557, 0.908719511568022, 0.9087035058329522, 1.1828484352897934, 1.1355062280560215, 0.9087016059090324, 0.9086985545326967, 1.2456481390565073, 1.2412431298788484, 0.9087055784862895, 1.2411268589517153, 1.1808155522408057, 1.171906510093917, 0.9086982666680624], \"Term\": [\"\\uac15\\uc131\\uad6d\\uac00\", \"\\uac15\\uc790\", \"\\uac74\\uac15_\\uacf5\\uc5c5\", \"\\uacbd\\uc7c1\\ub825\", \"\\uad00\\uacc4\\uac1c\\uc120\", \"\\uad6d\\uc801\", \"\\ub0b4\\ubd80\", \"\\ub0b4\\ubd80\\uc608\\ube44\", \"\\ub18d\\ubc95\", \"\\ub2e8\\uacc4_\\uc804\\uac1c\", \"\\ub2f9\\uc911\\uc559\\uc704\\uc6d0\\ud68c_\\ucd94\\uc774\", \"\\ub300\\uc678_\\uc2e4\\ucc9c\", \"\\ub300\\ucc45_\\uc815\\uce58\", \"\\ub300\\ud45c\\uc790\", \"\\ub3d9\\uc791\", \"\\ub85c\\ub3d9\\uc790\", \"\\ubc1c\\ub3d9_\\uc6b0\\ub9ac \\ub2f9\", \"\\uc0ac\\uc0c1\", \"\\uc0b0\\uacfc\\uc218\", \"\\uc0b0\\ub9bc_\\uc2e4\\uc99d\", \"\\uc0b4\\uc218\", \"\\uc120\\ub3d9\", \"\\uc544\\ub984\", \"\\uc55e\\uae38\", \"\\uc560\\uad6d\", \"\\uc601\\uad70\", \"\\uc608\\ubc29\", \"\\uc639\\uc704\", \"\\uc6a9\\ub0a9\", \"\\uc6b0\\ub9ac \\ub2f9\", \"\\uc778\\uc0ac\", \"\\uc77c\\ucd09\\uc989\\ubc1c\", \"\\uc790\\uc704_\\uc120\\ud589\", \"\\uc7a5\\uae30_\\ubc29\\ud5a5\", \"\\uc801\\uc9c0\", \"\\uc804\\ud22c_\\ud575\", \"\\uc815\\ucc45_\\ub2e8\\ud569\", \"\\uc815\\uce58\\uad6d\", \"\\uc815\\ud615\", \"\\uc81c\\uad6d\\uc8fc\\uc758_\\uc601\\uc608\", \"\\uc81c\\ud488_\\uc9c0\\uc5ed_\\uc804\\ud22c_\\ud575\", \"\\uc870\\uad6d_\\ud601\\uc2e0\", \"\\uc870\\uad6d\\ud1b5\\uc77c3\\ub300\\uc6d0\\uce59\", \"\\uc900\\ube44_\\ub300\\ud68c\", \"\\uc911\\ub300\", \"\\uc911\\uc559\\ub2f9\", \"\\uc911\\uc559\\uc704\\uc6d0\\ud68c\", \"\\uc9c4\\uad70_\\uad70\\ub300\", \"\\ucc38\\uac00\", \"\\ucc3d\\uac74\\uc790\", \"\\uccad\\ucc9c\\uac15\\uacc4\\ub2e8\\uc2dd\\ubc1c\\uc804\\uc18c\", \"\\uccad\\ud0c1\", \"\\ucd1d\\ub828\", \"\\ucd5c\\uace0\\ud68c\\uc758\", \"\\ucd94\\uad6c\", \"\\ud544\\uc2b9\\ubd88\\ud328\", \"\\ud589\\uc815\", \"\\ud601\\uba85_\\uc874\\uc5c4\", \"\\ud604\\ub300\\ud654_\\uc804\\ub2f9\", \"\\ud655\\ub300_\\uae30\\uc220\", \"\\ud6c4\\uc190\"]}, \"R\": 30, \"lambda.step\": 0.01, \"plot.opts\": {\"xlab\": \"PC1\", \"ylab\": \"PC2\"}, \"topic.order\": [2, 6, 1, 3, 4, 5, 7]};\n",
       "\n",
       "function LDAvis_load_lib(url, callback){\n",
       "  var s = document.createElement('script');\n",
       "  s.src = url;\n",
       "  s.async = true;\n",
       "  s.onreadystatechange = s.onload = callback;\n",
       "  s.onerror = function(){console.warn(\"failed to load library \" + url);};\n",
       "  document.getElementsByTagName(\"head\")[0].appendChild(s);\n",
       "}\n",
       "\n",
       "if(typeof(LDAvis) !== \"undefined\"){\n",
       "   // already loaded: just create the visualization\n",
       "   !function(LDAvis){\n",
       "       new LDAvis(\"#\" + \"ldavis_el9002050654647841322182964\", ldavis_el9002050654647841322182964_data);\n",
       "   }(LDAvis);\n",
       "}else if(typeof define === \"function\" && define.amd){\n",
       "   // require.js is available: use it to load d3/LDAvis\n",
       "   require.config({paths: {d3: \"https://d3js.org/d3.v5\"}});\n",
       "   require([\"d3\"], function(d3){\n",
       "      window.d3 = d3;\n",
       "      LDAvis_load_lib(\"https://cdn.jsdelivr.net/gh/bmabey/pyLDAvis@3.4.0/pyLDAvis/js/ldavis.v3.0.0.js\", function(){\n",
       "        new LDAvis(\"#\" + \"ldavis_el9002050654647841322182964\", ldavis_el9002050654647841322182964_data);\n",
       "      });\n",
       "    });\n",
       "}else{\n",
       "    // require.js not available: dynamically load d3 & LDAvis\n",
       "    LDAvis_load_lib(\"https://d3js.org/d3.v5.js\", function(){\n",
       "         LDAvis_load_lib(\"https://cdn.jsdelivr.net/gh/bmabey/pyLDAvis@3.4.0/pyLDAvis/js/ldavis.v3.0.0.js\", function(){\n",
       "                 new LDAvis(\"#\" + \"ldavis_el9002050654647841322182964\", ldavis_el9002050654647841322182964_data);\n",
       "            })\n",
       "         });\n",
       "}\n",
       "</script>"
      ],
      "text/plain": [
       "<IPython.core.display.HTML object>"
      ]
     },
     "execution_count": 761,
     "metadata": {},
     "output_type": "execute_result"
    }
   ],
   "source": [
    "# 필요한 패키지 불러오기\n",
    "from gensim.models import Phrases\n",
    "from gensim.models.phrases import Phraser\n",
    "from striprtf.striprtf import rtf_to_text\n",
    "import pandas as pd\n",
    "from gensim import corpora\n",
    "from gensim.models.ldamodel import LdaModel\n",
    "from gensim.models import CoherenceModel\n",
    "import pyLDAvis.gensim_models as gensimvis\n",
    "import pyLDAvis\n",
    "\n",
    "# 문서-단어 행렬 불러오기\n",
    "file_path = '/Users/kimsuyeon/Desktop/Project2/doc_word_freq(동의어X).xlsx'  # 엑셀 파일 경로를 지정하세요\n",
    "doc_term_matrix = pd.read_excel(file_path, index_col=0)\n",
    "\n",
    "# Gensim의 Dictionary 및 Corpus로 변환\n",
    "terms = list(doc_term_matrix.columns)\n",
    "\n",
    "# RTF 파일에서 텍스트 추출\n",
    "with open('remove_words.rtf', 'r', encoding='utf-8') as f:\n",
    "    rtf_content = f.read()\n",
    "plain_text = rtf_to_text(rtf_content) # 텍스트만 추출\n",
    "remove_words = set([word.strip() for word in plain_text.splitlines() if word.strip()]) # 지울 단어 리스트 생성\n",
    "\n",
    "# documents에서 제거할 단어들 처리\n",
    "documents = [[(terms[i], int(freq)) for i, freq in enumerate(doc) if freq > 0 and terms[i].strip() not in remove_words] \n",
    "             for doc in doc_term_matrix.values]\n",
    "\n",
    "# 토큰화된 단어들 불러오기\n",
    "documents_words = [[term for term, freq in doc] for doc in documents]\n",
    "\n",
    "# 단어묶음들(1)-2개의 조합으로 최소 2번 이상 등장하는 단어 조합만 사용\n",
    "bigram = Phrases(documents_words, min_count=2, threshold=10)  \n",
    "bigram_mod = Phraser(bigram)\n",
    "\n",
    "# 단어묶음들(2)-3개의 조합으로 최소 2번 이상 등장하는 단어 조합만 사용\n",
    "trigram = Phrases(bigram[documents_words], min_count=2, threshold=10)\n",
    "trigram_mod = Phraser(trigram)\n",
    "\n",
    "# bi-gram과 tri-gram을 적용한 문서 생성\n",
    "documents_bigrams = [bigram_mod[doc] for doc in documents_words]  # bi-gram 적용\n",
    "documents_trigrams = [trigram_mod[bigram_mod[doc]] for doc in documents_words]  # bi-gram에 이어 tri-gram 적용\n",
    "\n",
    "# 빈 문서 제거\n",
    "documents_trigrams = [doc for doc in documents_trigrams if len(doc) > 0]\n",
    "\n",
    "# Gensim의 Dictionary 생성\n",
    "dictionary = corpora.Dictionary(documents_trigrams)\n",
    "# 빈도 필터링\n",
    "dictionary.filter_extremes(no_below=1, no_above=0.98) # 최소 한 번 이상, 문서의 98%를 차지하지 않는 단어 추출\n",
    "# Bag-of-Words 생성\n",
    "corpus = [dictionary.doc2bow(doc) for doc in documents_trigrams]\n",
    "\n",
    "# LDA 모델\n",
    "num_topics = 7  # 토픽 수\n",
    "lda_model= LdaModel(\n",
    "    corpus=corpus,\n",
    "    id2word=dictionary,\n",
    "    num_topics=num_topics,\n",
    "    random_state=42,\n",
    "    passes=7,\n",
    "    alpha=0.001, \n",
    "    eta=0.0000001\n",
    ")\n",
    "\n",
    "# 전체 문서에 대한 Coherence Score\n",
    "coherence_model = CoherenceModel(model=lda_model, texts=documents_trigrams, dictionary=dictionary, coherence='c_v')\n",
    "overall_coherence = coherence_model.get_coherence()\n",
    "print(f\"Overall Coherence Score: {overall_coherence}\")\n",
    "\n",
    "# 각 문서별 토픽 분포 저장\n",
    "doc_topic_distributions = []\n",
    "for i, doc_bow in enumerate(corpus):\n",
    "    doc_topics = lda_model.get_document_topics(doc_bow, minimum_probability=0)\n",
    "    doc_topic_distributions.append([topic_prob for _, topic_prob in doc_topics])\n",
    "\n",
    "# 각 문서별 토픽 분포를 DataFrame에 저장\n",
    "df = pd.DataFrame(doc_topic_distributions, columns=[f\"Topic {i}\" for i in range(num_topics)])\n",
    "df['Document'] = doc_term_matrix.index\n",
    "\n",
    "# DataFrame을 Excel로 저장\n",
    "df.to_excel('doc_topic_distributions.xlsx', index=False)\n",
    "\n",
    "# LDA 모델 시각화\n",
    "lda_vis = gensimvis.prepare(lda_model, corpus, dictionary)\n",
    "pyLDAvis.save_html(lda_vis, 'lda_visualization.html')\n",
    "pyLDAvis.display(lda_vis)"
   ]
  },
  {
   "cell_type": "code",
   "execution_count": null,
   "metadata": {},
   "outputs": [],
   "source": []
  }
 ],
 "metadata": {
  "kernelspec": {
   "display_name": "Python 3",
   "language": "python",
   "name": "python3"
  },
  "language_info": {
   "codemirror_mode": {
    "name": "ipython",
    "version": 3
   },
   "file_extension": ".py",
   "mimetype": "text/x-python",
   "name": "python",
   "nbconvert_exporter": "python",
   "pygments_lexer": "ipython3",
   "version": "3.10.2"
  }
 },
 "nbformat": 4,
 "nbformat_minor": 2
}
